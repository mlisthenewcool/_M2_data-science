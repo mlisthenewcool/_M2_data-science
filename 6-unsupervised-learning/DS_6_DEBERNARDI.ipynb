{
  "nbformat": 4,
  "nbformat_minor": 0,
  "metadata": {
    "kernelspec": {
      "name": "python2",
      "display_name": "Python 2"
    },
    "colab": {
      "name": "DS_6_DEBERNARDI.ipynb",
      "provenance": [],
      "collapsed_sections": [],
      "machine_shape": "hm"
    },
    "accelerator": "GPU"
  },
  "cells": [
    {
      "cell_type": "code",
      "metadata": {
        "id": "lJKyBK7Tm2Kd",
        "colab_type": "code",
        "colab": {}
      },
      "source": [
        "from google.colab import drive\n",
        "import os\n",
        "import sys\n",
        "\n",
        "import pickle\n",
        "import logging\n",
        "\n",
        "import time\n",
        "import math\n",
        "\n",
        "import numpy as np\n",
        "from sklearn import preprocessing\n",
        "from sklearn.cluster import KMeans\n",
        "from sklearn.metrics.cluster import adjusted_rand_score\n",
        "from sklearn.metrics.pairwise import cosine_similarity\n",
        "import matplotlib\n",
        "import matplotlib.pyplot as plt\n",
        "from yellowbrick.cluster import KElbowVisualizer"
      ],
      "execution_count": 0,
      "outputs": []
    },
    {
      "cell_type": "code",
      "metadata": {
        "id": "sakcjfZw35FG",
        "colab_type": "code",
        "outputId": "532fdb0e-0f80-427f-f148-fd7506647699",
        "colab": {
          "base_uri": "https://localhost:8080/",
          "height": 54
        }
      },
      "source": [
        "drive.mount('drive')"
      ],
      "execution_count": 2,
      "outputs": [
        {
          "output_type": "stream",
          "text": [
            "Drive already mounted at drive; to attempt to forcibly remount, call drive.mount(\"drive\", force_remount=True).\n"
          ],
          "name": "stdout"
        }
      ]
    },
    {
      "cell_type": "code",
      "metadata": {
        "id": "BQJ7j1tt38UR",
        "colab_type": "code",
        "colab": {}
      },
      "source": [
        "# ---\n",
        "# change path if needed\n",
        "# ---\n",
        "path_to_ptm = 'drive/My Drive/univ/master-2/data-science/6'\n",
        "os.chdir(path_to_ptm)\n",
        "sys.path.append(path_to_ptm)\n",
        "os.environ['PYTHONPATH'] += \":\" + path_to_ptm\n",
        "\n",
        "# ---\n",
        "# import topic models from https://github.com/arongdari/python-topic-model/\n",
        "# credits to Dongwoo Kim\n",
        "# ---\n",
        "from ptm import AuthorTopicModel, GibbsLDA\n",
        "from ptm.utils import convert_cnt_to_list, get_top_words\n",
        "from tfidf_transform import tf_idf_transform\n",
        "\n",
        "logger = logging.getLogger('AuthorTopicModel')\n",
        "logger.propagate = False\n",
        "\n",
        "%matplotlib inline"
      ],
      "execution_count": 0,
      "outputs": []
    },
    {
      "cell_type": "markdown",
      "metadata": {
        "id": "gjixrlFXLxBu",
        "colab_type": "text"
      },
      "source": [
        "# Clustering"
      ]
    },
    {
      "cell_type": "markdown",
      "metadata": {
        "id": "aFFzIjrgLxB1",
        "colab_type": "text"
      },
      "source": [
        "## Dataset CORA"
      ]
    },
    {
      "cell_type": "markdown",
      "metadata": {
        "id": "rW3-xsUxLxB1",
        "colab_type": "text"
      },
      "source": [
        "Dataset originel disponible à : https://people.cs.umass.edu/~mccallum/data.html"
      ]
    },
    {
      "cell_type": "code",
      "metadata": {
        "id": "lO3CRgKILxB2",
        "colab_type": "code",
        "colab": {}
      },
      "source": [
        "PATH_to_Data_Cora=\"./\"\n",
        "doc_ids = pickle.load(open(PATH_to_Data_Cora + 'cora/doc_ids.pkl', 'rb'))\n",
        "doc_cnt = pickle.load(open(PATH_to_Data_Cora + 'cora/doc_cnt.pkl', 'rb'))\n",
        "doc_author = pickle.load(open(PATH_to_Data_Cora + 'cora/doc_authorid.pkl', 'rb'))\n",
        "author_name = pickle.load(open(PATH_to_Data_Cora + 'cora/authorid_authorname.pkl', 'rb'))\n",
        "voca = pickle.load(open(PATH_to_Data_Cora + 'cora/voca.pkl', 'rb'))"
      ],
      "execution_count": 0,
      "outputs": []
    },
    {
      "cell_type": "markdown",
      "metadata": {
        "id": "SP-mSiBXLxB4",
        "colab_type": "text"
      },
      "source": [
        "### Contenu des structures de données\n",
        "- voca : \n",
        "C'est une liste des mots du vocabulaire de l'ensemble des documents. Les autres structures de données font référence aux indices des ots dans cette liste. \n",
        "- author_name : \n",
        "C'est une liste des auteurs de l'ensemble des documents. Les autres structures de données font référence aux indices des auteurs dans cette liste. \n",
        "- doc_author : \n",
        "C'est une liste de listes (une par document). La liste d'un document contient les indices des auteurs du document \n",
        "- doc_ids : \n",
        "C'est une liste de listes (une par document). La liste d'un document contient les indices des mots apparaissant dans le document \n",
        "- doc_cnt :\n",
        "C'est une liste de listes (une par document). La liste d'un document contient le nombre de fois qu'apparait chaque mot du document tel que spédicifié dans la liste correspondante dans doc_ids \n"
      ]
    },
    {
      "cell_type": "code",
      "metadata": {
        "id": "ByNpON5wLxB5",
        "colab_type": "code",
        "outputId": "1beb1583-f064-46fc-a4a5-67bdcd3280e8",
        "colab": {
          "base_uri": "https://localhost:8080/",
          "height": 224
        }
      },
      "source": [
        "print len(doc_ids)\n",
        "print len(doc_cnt)\n",
        "print len(doc_author)\n",
        "print len(author_name)\n",
        "print len(voca)\n",
        "print len(doc_ids[1])\n",
        "print doc_ids[1]\n",
        "print doc_cnt[1]\n",
        "print doc_author[1]\n",
        "print voca[1]\n",
        "print author_name[1]"
      ],
      "execution_count": 5,
      "outputs": [
        {
          "output_type": "stream",
          "text": [
            "13147\n",
            "13147\n",
            "13147\n",
            "24486\n",
            "17059\n",
            "88\n",
            "[13910, 4518, 10249, 16914, 4627, 15383, 15903, 8736, 10786, 14970, 551, 7720, 2613, 1033, 15419, 5692, 3645, 10816, 14913, 10819, 16452, 12872, 14412, 16982, 2135, 5307, 13414, 9845, 17014, 5753, 7290, 4226, 7815, 7826, 10388, 13978, 11419, 9887, 8870, 1710, 2226, 6329, 2235, 10432, 14542, 6362, 16091, 16092, 6778, 9467, 5379, 9990, 3335, 16137, 7441, 3352, 16666, 15132, 7453, 11553, 14630, 647, 2348, 15166, 15684, 8518, 14667, 11622, 3434, 1389, 16756, 13689, 2440, 13713, 12189, 9638, 13234, 6072, 7839, 15811, 7625, 13771, 2519, 4058, 10715, 4579, 4069, 7167]\n",
            "[1, 1, 1, 1, 2, 1, 1, 1, 1, 7, 1, 1, 1, 1, 1, 4, 1, 1, 3, 1, 1, 3, 3, 1, 1, 2, 1, 1, 1, 1, 1, 3, 1, 2, 3, 1, 2, 1, 4, 1, 3, 1, 2, 1, 1, 3, 1, 1, 2, 2, 1, 1, 1, 1, 1, 1, 1, 1, 1, 1, 2, 2, 2, 1, 3, 1, 9, 1, 1, 1, 1, 1, 1, 1, 3, 1, 1, 1, 1, 1, 1, 1, 3, 1, 2, 1, 9, 1]\n",
            "[1174, 18535, 9596]\n",
            "homomorphism\n",
            "R Bello\n"
          ],
          "name": "stdout"
        }
      ]
    },
    {
      "cell_type": "code",
      "metadata": {
        "id": "a1PTzqgbLxB9",
        "colab_type": "code",
        "outputId": "c6282ba8-933e-4e62-915a-fec3bcfdb282",
        "colab": {
          "base_uri": "https://localhost:8080/",
          "height": 68
        }
      },
      "source": [
        "corpus = convert_cnt_to_list(doc_ids, doc_cnt)\n",
        "n_doc = len(corpus)\n",
        "n_author = len(author_name)\n",
        "n_voca = len(voca)\n",
        "\n",
        "print n_doc\n",
        "print n_author\n",
        "print n_voca"
      ],
      "execution_count": 6,
      "outputs": [
        {
          "output_type": "stream",
          "text": [
            "13147\n",
            "24486\n",
            "17059\n"
          ],
          "name": "stdout"
        }
      ]
    },
    {
      "cell_type": "markdown",
      "metadata": {
        "id": "_gG49It7LxB_",
        "colab_type": "text"
      },
      "source": [
        "La fonction convert_cnt_to_list crée une structure de type liste de listes (une par document). La  liste d'un document contient l'ensemble des mots (des indices de mots) du document, éventuellement avec répétitions. "
      ]
    },
    {
      "cell_type": "code",
      "metadata": {
        "id": "QfTI6RB8LxCA",
        "colab_type": "code",
        "outputId": "01471dbd-d636-4920-fd50-19d9c55cf37e",
        "colab": {
          "base_uri": "https://localhost:8080/",
          "height": 71
        }
      },
      "source": [
        "print corpus[1]\n",
        "print np.sum(doc_cnt[1])"
      ],
      "execution_count": 7,
      "outputs": [
        {
          "output_type": "stream",
          "text": [
            "[13910, 4518, 10249, 16914, 4627, 4627, 15383, 15903, 8736, 10786, 14970, 14970, 14970, 14970, 14970, 14970, 14970, 551, 7720, 2613, 1033, 15419, 5692, 5692, 5692, 5692, 3645, 10816, 14913, 14913, 14913, 10819, 16452, 12872, 12872, 12872, 14412, 14412, 14412, 16982, 2135, 5307, 5307, 13414, 9845, 17014, 5753, 7290, 4226, 4226, 4226, 7815, 7826, 7826, 10388, 10388, 10388, 13978, 11419, 11419, 9887, 8870, 8870, 8870, 8870, 1710, 2226, 2226, 2226, 6329, 2235, 2235, 10432, 14542, 6362, 6362, 6362, 16091, 16092, 6778, 6778, 9467, 9467, 5379, 9990, 3335, 16137, 7441, 3352, 16666, 15132, 7453, 11553, 14630, 14630, 647, 647, 2348, 2348, 15166, 15684, 15684, 15684, 8518, 14667, 14667, 14667, 14667, 14667, 14667, 14667, 14667, 14667, 11622, 3434, 1389, 16756, 13689, 2440, 13713, 12189, 12189, 12189, 9638, 13234, 6072, 7839, 15811, 7625, 13771, 2519, 2519, 2519, 4058, 10715, 10715, 4579, 4069, 4069, 4069, 4069, 4069, 4069, 4069, 4069, 4069, 7167]\n",
            "147\n"
          ],
          "name": "stdout"
        }
      ]
    },
    {
      "cell_type": "markdown",
      "metadata": {
        "id": "yUA5AjNoKJwq",
        "colab_type": "text"
      },
      "source": [
        "### TF-IDF & normalisation"
      ]
    },
    {
      "cell_type": "code",
      "metadata": {
        "id": "wAqmE7hSKF9S",
        "colab_type": "code",
        "outputId": "c586ab84-304a-4c74-a20b-0dde584b98bf",
        "colab": {
          "base_uri": "https://localhost:8080/",
          "height": 51
        }
      },
      "source": [
        "data_tf_idf = tf_idf_transform(corpus, doc_ids, n_doc, n_voca)\n",
        "# ---\n",
        "# standardization, mean removal and variance scaling\n",
        "# ---\n",
        "data_tf_idf_scaled = preprocessing.scale(data_tf_idf)"
      ],
      "execution_count": 8,
      "outputs": [
        {
          "output_type": "stream",
          "text": [
            "1.47375488281\n",
            "2.153673172\n"
          ],
          "name": "stdout"
        }
      ]
    },
    {
      "cell_type": "markdown",
      "metadata": {
        "id": "DxOj0vGaLxCF",
        "colab_type": "text"
      },
      "source": [
        "## Clustering avec K-means et bag-of-words\n",
        "\n"
      ]
    },
    {
      "cell_type": "markdown",
      "metadata": {
        "id": "T3a5zP1ChwRD",
        "colab_type": "text"
      },
      "source": [
        "En utilisant KMeans vous pouvez clusteriser les documents, en suposant qu'ils vont être rassemblés selon le facteur le plus important dans la similarité entre documents, le sujet dont ils parlent. \n",
        "\n",
        "Après apprentissage du KMeans vous pouvez identifier les termes les plus populaires dans les documents associés à un cluster et ainsi deviner de quel topic il s'agit."
      ]
    },
    {
      "cell_type": "markdown",
      "metadata": {
        "id": "QX9894zMleIz",
        "colab_type": "text"
      },
      "source": [
        "# Rechercher le meilleur nombre de clusters pour le KMeans"
      ]
    },
    {
      "cell_type": "code",
      "metadata": {
        "id": "enh8DyRwEsse",
        "colab_type": "code",
        "outputId": "b05686b6-b6d3-4dca-b40d-cb373a765929",
        "colab": {
          "base_uri": "https://localhost:8080/",
          "height": 54
        }
      },
      "source": [
        "\"\"\"\n",
        "# https://www.scikit-yb.org/en/latest/api/cluster/elbow.html\n",
        "model_km = KMeans()\n",
        "\n",
        "visualizer = KElbowVisualizer(\n",
        "    model_km, k=(8, 12), metric='calinski_harabaz', timings=False\n",
        ")\n",
        "visualizer.fit(data_tf_idf)\n",
        "visualizer.show()\n",
        "\"\"\""
      ],
      "execution_count": 9,
      "outputs": [
        {
          "output_type": "execute_result",
          "data": {
            "text/plain": [
              "\"\\n# https://www.scikit-yb.org/en/latest/api/cluster/elbow.html\\nmodel_km = KMeans()\\n\\nvisualizer = KElbowVisualizer(\\n    model_km, k=(8, 12), metric='calinski_harabaz', timings=False\\n)\\nvisualizer.fit(data_tf_idf)\\nvisualizer.show()\\n\""
            ]
          },
          "metadata": {
            "tags": []
          },
          "execution_count": 9
        }
      ]
    },
    {
      "cell_type": "markdown",
      "metadata": {
        "collapsed": true,
        "id": "AGtcC3j4LxCX",
        "colab_type": "text"
      },
      "source": [
        "## Travail à faire\n",
        "\n",
        "    1. Caractériser les solutions trouvées par les méthodes proposées (KMeans, LDA, Author-Topic model):\n",
        "    - Définir une mesure de similarité entre topics. \n",
        "    - Calculer le degré de similarité minimmum, maximum et moyen entre deux topics en fonction du nombre d'itérations d'apprentissage de LDA et de AuthorTopic.\n",
        "    - Tracer les courbes de ces statistiques des similarités pour plusieurs nombres de topics en fonction du nombre d'itérations. \n",
        "    2. Faire une figure situant les différents modèles testés en termes de vraisemblance des données (abscisse) et similarité moyenne (ordonnée).\n",
        "    3. Il est possible d'utiliser les modèles AuthorTopic appris pour déterminer pour un document donné quels mots ont été écrits par quel auteur. Ecrivez le code correspondant en vous inspirant des codes de LDA et AuthorTopic pour calculer les probabilités nécessaires. "
      ]
    },
    {
      "cell_type": "markdown",
      "metadata": {
        "colab_type": "text",
        "id": "1awwOjhBp8bT"
      },
      "source": [
        "# Q1 & Q2. Apprentissage de modèles et affichage des performances\n",
        "\n",
        "Apprenez plusieurs modèles avec KMeans en variant le nombre de clusters et éventuellement la nature de la représentation.\n",
        "\n",
        "Voir fin du notebook pour le travail à faire.\n",
        " "
      ]
    },
    {
      "cell_type": "code",
      "metadata": {
        "id": "uDGFN0ChAQsL",
        "colab_type": "code",
        "colab": {}
      },
      "source": [
        "n_topic = 10\n",
        "max_iter = 50\n",
        "n_top_words = 10"
      ],
      "execution_count": 0,
      "outputs": []
    },
    {
      "cell_type": "markdown",
      "metadata": {
        "id": "XFnv3Ma59Glt",
        "colab_type": "text"
      },
      "source": [
        "#### Modèle TF-IDF"
      ]
    },
    {
      "cell_type": "code",
      "metadata": {
        "id": "iR6ANiyEy7-M",
        "colab_type": "code",
        "colab": {
          "base_uri": "https://localhost:8080/",
          "height": 68
        },
        "outputId": "043c2e67-e5dc-43df-bab5-43327a575523"
      },
      "source": [
        "model1 = KMeans(n_clusters=n_topic)\n",
        "model1.fit(data_tf_idf)"
      ],
      "execution_count": 11,
      "outputs": [
        {
          "output_type": "execute_result",
          "data": {
            "text/plain": [
              "KMeans(algorithm='auto', copy_x=True, init='k-means++', max_iter=300,\n",
              "    n_clusters=10, n_init=10, n_jobs=None, precompute_distances='auto',\n",
              "    random_state=None, tol=0.0001, verbose=0)"
            ]
          },
          "metadata": {
            "tags": []
          },
          "execution_count": 11
        }
      ]
    },
    {
      "cell_type": "code",
      "metadata": {
        "id": "ps2gN9cBp9G3",
        "colab_type": "code",
        "outputId": "dab245cd-327a-4b8c-8435-d1a6dd12d96e",
        "colab": {
          "base_uri": "https://localhost:8080/",
          "height": 207
        }
      },
      "source": [
        "for ti in range(n_topic):\n",
        "    top_words = get_top_words(model1.cluster_centers_, voca, ti, n_words=n_top_words)\n",
        "    print('Topic', ti ,': ', ','.join(top_words))"
      ],
      "execution_count": 12,
      "outputs": [
        {
          "output_type": "stream",
          "text": [
            "('Topic', 0, ': ', u'help,rangemax,agentoriented,changed,roadmaps,mint,bonus,clique,economy,ksat')\n",
            "('Topic', 1, ': ', u'supervisory,lzw,ucberl,constraint,bruce,cfgs,profilebased,anaphoric,struc,multivalued')\n",
            "('Topic', 2, ': ', u'experienced,backwards,idl,school,constraint,spacebased,sensorimotor,supervisory,congestion,specitc')\n",
            "('Topic', 3, ': ', u'sliding,mixed,depending,posterior,ellipsoid,judicial,generalist,ithaca,hypergraph,programpointspecific')\n",
            "('Topic', 4, ': ', u'squashing,triton,readonce,failurefree,provable,incorporating,dance,formfactors,hinder,thermal')\n",
            "('Topic', 5, ': ', u'compatible,fulltext,identifier,neural,faultdetection,wagner,proportionalshare,picosecond,autocorrelation,pervasive')\n",
            "('Topic', 6, ': ', u'penalize,tense,animat,gaas,dba,peano,migration,prospero,hiddenunit,prune')\n",
            "('Topic', 7, ': ', u'commits,rectangular,jpeg,shape,swamping,japan,multiplying,payment,afsc,tcpips')\n",
            "('Topic', 8, ': ', u'yao,appear,neumann,eraser,leg,singlethreaded,test,unchanged,extensibility,matterenhanced')\n",
            "('Topic', 9, ': ', u'backwards,indexical,constraint,synthesizing,accessible,homologous,tense,body,like,school')\n"
          ],
          "name": "stdout"
        }
      ]
    },
    {
      "cell_type": "markdown",
      "metadata": {
        "id": "G_ZeXDIW-n4j",
        "colab_type": "text"
      },
      "source": [
        "#### Modèle TF-IDF + données centrées réduites"
      ]
    },
    {
      "cell_type": "code",
      "metadata": {
        "id": "wIxtCSdA10WE",
        "colab_type": "code",
        "outputId": "64b00155-7843-4e6c-c5b7-7ce9a3c38fe5",
        "colab": {
          "base_uri": "https://localhost:8080/",
          "height": 68
        }
      },
      "source": [
        "model2 = KMeans(n_clusters=n_topic)\n",
        "model2.fit(data_tf_idf_scaled)"
      ],
      "execution_count": 13,
      "outputs": [
        {
          "output_type": "execute_result",
          "data": {
            "text/plain": [
              "KMeans(algorithm='auto', copy_x=True, init='k-means++', max_iter=300,\n",
              "    n_clusters=10, n_init=10, n_jobs=None, precompute_distances='auto',\n",
              "    random_state=None, tol=0.0001, verbose=0)"
            ]
          },
          "metadata": {
            "tags": []
          },
          "execution_count": 13
        }
      ]
    },
    {
      "cell_type": "code",
      "metadata": {
        "id": "ErHSEzPn13ni",
        "colab_type": "code",
        "colab": {
          "base_uri": "https://localhost:8080/",
          "height": 207
        },
        "outputId": "1b305dcb-5b5d-4077-b7c5-a7d301026fd6"
      },
      "source": [
        "for ti in range(n_topic):\n",
        "    top_words = get_top_words(model2.cluster_centers_, voca, ti, n_words=n_top_words)\n",
        "    print('Topic', ti ,': ', ','.join(top_words))"
      ],
      "execution_count": 14,
      "outputs": [
        {
          "output_type": "stream",
          "text": [
            "('Topic', 0, ': ', u'volumetric,ibstree,undesirable,metaheuristic,correct,ptime,intersects,matroids,restricting,unsymmetric')\n",
            "('Topic', 1, ': ', u'issue,indicates,pseudoinverse,edinburgh,theoremproving,selectable,reality,multidestination,axon,recovering')\n",
            "('Topic', 2, ': ', u'following,positively,discretize,rescheduling,average,tmsc,projection,ibms,reserve,acme')\n",
            "('Topic', 3, ': ', u'referencing,virtually,infinitestate,cellcentered,respecting,xbased,endoscopy,titanium,grammar,euclidean')\n",
            "('Topic', 4, ': ', u'splib,quadtree,prefixfree,suggest,controversy,unfavorable,highquality,whole,smt,frequency')\n",
            "('Topic', 5, ': ', u'planspace,risksensitive,uppsala,dga,weekly,unobservable,vitro,contributes,unanticipated,differentiated')\n",
            "('Topic', 6, ': ', u'false,dcws,eager,externally,wideissue,speciflc,tenth,syntactical,cop,linkedstore')\n",
            "('Topic', 7, ': ', u'ising,ond,zpl,autonomic,benefiting,laxity,currying,dissemination,geographic,broadway')\n",
            "('Topic', 8, ': ', u'denial,forte,networkaware,stereo,journal,weakens,cryptosystems,pebble,landscape,asn')\n",
            "('Topic', 9, ': ', u'quasibayesian,variablearity,singlechannel,remainder,notoriously,parameterize,partialsum,proach,baird,quantifiable')\n"
          ],
          "name": "stdout"
        }
      ]
    },
    {
      "cell_type": "markdown",
      "metadata": {
        "collapsed": true,
        "id": "rMZlVOweLxCE",
        "colab_type": "text"
      },
      "source": [
        "### Analyse des resultats\n",
        "\n",
        "Pour identifer les topics appris (cad. les clusters): \n",
        "  - afficher les mots les plus fréquents et discriminants (maximums des descripteurs)\n",
        "  - afficher la population de chaque cluster\n",
        "  - calculer une matrice de similarité entre les différents clusters\n",
        "\n",
        "#### Utile:\n",
        "\n",
        "- Vous pouvez utilser une représentation bag-of-words à partir des descripteurs initiaux ou bien utiliser une représentation tf-idf\n",
        "- Vous utiliserez sklearn.cluster.KMeans pour apprendre le modèle k-means\n",
        "- Vous pouvez ou pas normaliser vos données (centrées réduites, norme L2 etc)"
      ]
    },
    {
      "cell_type": "code",
      "metadata": {
        "id": "jkA_26Y63PMV",
        "colab_type": "code",
        "colab": {
          "base_uri": "https://localhost:8080/",
          "height": 187
        },
        "outputId": "ee7a3450-c482-42d1-d617-8d3d6369e058"
      },
      "source": [
        "docs_per_topic_model1 = np.zeros(n_topic)\n",
        "\n",
        "for idx_doc in range(len(model1.labels_)):\n",
        "    docs_per_topic_model1[model1.labels_[idx_doc]] += 1\n",
        "\n",
        "for idx_topic in range(n_topic):\n",
        "    n_docs = int(docs_per_topic_model1[idx_topic])\n",
        "    print('topic', idx_topic, 'has', n_docs, 'docs')"
      ],
      "execution_count": 15,
      "outputs": [
        {
          "output_type": "stream",
          "text": [
            "('topic', 0, 'has', 89, 'docs')\n",
            "('topic', 1, 'has', 66, 'docs')\n",
            "('topic', 2, 'has', 598, 'docs')\n",
            "('topic', 3, 'has', 1, 'docs')\n",
            "('topic', 4, 'has', 1, 'docs')\n",
            "('topic', 5, 'has', 1, 'docs')\n",
            "('topic', 6, 'has', 1, 'docs')\n",
            "('topic', 7, 'has', 1, 'docs')\n",
            "('topic', 8, 'has', 1, 'docs')\n",
            "('topic', 9, 'has', 16300, 'docs')\n"
          ],
          "name": "stdout"
        }
      ]
    },
    {
      "cell_type": "code",
      "metadata": {
        "id": "N148FJRN6H4D",
        "colab_type": "code",
        "colab": {
          "base_uri": "https://localhost:8080/",
          "height": 187
        },
        "outputId": "647588e6-0c43-4479-86a6-a5f90ad5e627"
      },
      "source": [
        "docs_per_topic_model2 = np.zeros(n_topic)\n",
        "\n",
        "for idx_doc in range(len(model2.labels_)):\n",
        "    docs_per_topic_model2[model2.labels_[idx_doc]] += 1\n",
        "\n",
        "for idx_topic in range(n_topic):\n",
        "    n_docs = int(docs_per_topic_model2[idx_topic])\n",
        "    print('topic', idx_topic, 'has', n_docs, 'docs')"
      ],
      "execution_count": 16,
      "outputs": [
        {
          "output_type": "stream",
          "text": [
            "('topic', 0, 'has', 1, 'docs')\n",
            "('topic', 1, 'has', 1, 'docs')\n",
            "('topic', 2, 'has', 1, 'docs')\n",
            "('topic', 3, 'has', 133, 'docs')\n",
            "('topic', 4, 'has', 1, 'docs')\n",
            "('topic', 5, 'has', 16918, 'docs')\n",
            "('topic', 6, 'has', 1, 'docs')\n",
            "('topic', 7, 'has', 1, 'docs')\n",
            "('topic', 8, 'has', 1, 'docs')\n",
            "('topic', 9, 'has', 1, 'docs')\n"
          ],
          "name": "stdout"
        }
      ]
    },
    {
      "cell_type": "markdown",
      "metadata": {
        "id": "ogtFQpZuCbN4",
        "colab_type": "text"
      },
      "source": [
        "## Représentation en 2D des centroïds du KMeans"
      ]
    },
    {
      "cell_type": "code",
      "metadata": {
        "id": "_MvT9KMBCgQh",
        "colab_type": "code",
        "colab": {
          "base_uri": "https://localhost:8080/",
          "height": 513
        },
        "outputId": "1a9b56df-18bc-42b6-c7bd-c049cdd5f11e"
      },
      "source": [
        "somme = np.sum(model1.cluster_centers_, axis=1)\n",
        "plt.scatter(range(n_topic),\n",
        "            somme, #s=docs_per_topic_model1,\n",
        "            label='2D representation of centroids for model1')\n",
        "plt.legend()\n",
        "plt.show()\n",
        "\n",
        "somme = np.sum(model2.cluster_centers_, axis=1)\n",
        "plt.scatter(range(n_topic),\n",
        "            somme, #s=docs_per_topic_model2,\n",
        "            label='2D representation of centroids for model2')\n",
        "plt.legend()\n",
        "plt.show()"
      ],
      "execution_count": 17,
      "outputs": [
        {
          "output_type": "display_data",
          "data": {
            "image/png": "[encoded data removed]",
            "text/plain": [
              "<Figure size 432x288 with 1 Axes>"
            ]
          },
          "metadata": {
            "tags": []
          }
        },
        {
          "output_type": "display_data",
          "data": {
            "image/png": "[encoded data removed]",
            "text/plain": [
              "<Figure size 432x288 with 1 Axes>"
            ]
          },
          "metadata": {
            "tags": []
          }
        }
      ]
    },
    {
      "cell_type": "markdown",
      "metadata": {
        "id": "negV5pOh7XUg",
        "colab_type": "text"
      },
      "source": [
        "# **Conclusions KMeans**\n",
        "\n",
        "* aucun résultat intéressant : les clusters sont complètement déséquilibrés\n",
        "\n",
        "* l'affichage en 2D montre la "
      ]
    },
    {
      "cell_type": "markdown",
      "metadata": {
        "id": "1NPy1EWHLxCG",
        "colab_type": "text"
      },
      "source": [
        "## LDA\n",
        "\n",
        "Vous pouvez utiliser le package *ptm* qui implémente de nombreux modèles à variables latentes, en utilisant le code des cellules suivantes. "
      ]
    },
    {
      "cell_type": "code",
      "metadata": {
        "id": "Qu95bUWULxCI",
        "colab_type": "code",
        "outputId": "a8d9bd30-94a0-42c9-c4c2-ebde04e6a756",
        "colab": {
          "base_uri": "https://localhost:8080/",
          "height": 887
        }
      },
      "source": [
        "modelLDA = GibbsLDA(n_doc, len(voca), n_topic)\n",
        "modelLDA.fit(corpus, max_iter=max_iter)"
      ],
      "execution_count": 18,
      "outputs": [
        {
          "output_type": "stream",
          "text": [
            "2019-11-17 13:44:41 INFO:GibbsLDA:[ITER] 0,\telapsed time:11.76,\tlog_likelihood:-10865727.94\n",
            "2019-11-17 13:44:53 INFO:GibbsLDA:[ITER] 1,\telapsed time:11.74,\tlog_likelihood:-10531310.62\n",
            "2019-11-17 13:45:05 INFO:GibbsLDA:[ITER] 2,\telapsed time:11.71,\tlog_likelihood:-10282580.23\n",
            "2019-11-17 13:45:17 INFO:GibbsLDA:[ITER] 3,\telapsed time:11.66,\tlog_likelihood:-10094103.79\n",
            "2019-11-17 13:45:29 INFO:GibbsLDA:[ITER] 4,\telapsed time:11.80,\tlog_likelihood:-9942644.17\n",
            "2019-11-17 13:45:41 INFO:GibbsLDA:[ITER] 5,\telapsed time:11.72,\tlog_likelihood:-9814131.60\n",
            "2019-11-17 13:45:52 INFO:GibbsLDA:[ITER] 6,\telapsed time:11.73,\tlog_likelihood:-9696594.08\n",
            "2019-11-17 13:46:04 INFO:GibbsLDA:[ITER] 7,\telapsed time:11.75,\tlog_likelihood:-9588532.08\n",
            "2019-11-17 13:46:16 INFO:GibbsLDA:[ITER] 8,\telapsed time:11.59,\tlog_likelihood:-9489646.04\n",
            "2019-11-17 13:46:28 INFO:GibbsLDA:[ITER] 9,\telapsed time:11.75,\tlog_likelihood:-9406976.17\n",
            "2019-11-17 13:46:40 INFO:GibbsLDA:[ITER] 10,\telapsed time:11.66,\tlog_likelihood:-9332250.29\n",
            "2019-11-17 13:46:51 INFO:GibbsLDA:[ITER] 11,\telapsed time:11.65,\tlog_likelihood:-9268043.53\n",
            "2019-11-17 13:47:03 INFO:GibbsLDA:[ITER] 12,\telapsed time:11.86,\tlog_likelihood:-9216422.52\n",
            "2019-11-17 13:47:15 INFO:GibbsLDA:[ITER] 13,\telapsed time:11.65,\tlog_likelihood:-9167615.04\n",
            "2019-11-17 13:47:27 INFO:GibbsLDA:[ITER] 14,\telapsed time:11.82,\tlog_likelihood:-9126043.77\n",
            "2019-11-17 13:47:39 INFO:GibbsLDA:[ITER] 15,\telapsed time:11.70,\tlog_likelihood:-9086028.75\n",
            "2019-11-17 13:47:51 INFO:GibbsLDA:[ITER] 16,\telapsed time:11.88,\tlog_likelihood:-9052845.53\n",
            "2019-11-17 13:48:03 INFO:GibbsLDA:[ITER] 17,\telapsed time:11.93,\tlog_likelihood:-9020020.08\n",
            "2019-11-17 13:48:15 INFO:GibbsLDA:[ITER] 18,\telapsed time:11.85,\tlog_likelihood:-8989620.78\n",
            "2019-11-17 13:48:27 INFO:GibbsLDA:[ITER] 19,\telapsed time:11.77,\tlog_likelihood:-8963601.81\n",
            "2019-11-17 13:48:38 INFO:GibbsLDA:[ITER] 20,\telapsed time:11.75,\tlog_likelihood:-8939105.86\n",
            "2019-11-17 13:48:50 INFO:GibbsLDA:[ITER] 21,\telapsed time:11.82,\tlog_likelihood:-8918526.66\n",
            "2019-11-17 13:49:02 INFO:GibbsLDA:[ITER] 22,\telapsed time:11.94,\tlog_likelihood:-8895961.79\n",
            "2019-11-17 13:49:14 INFO:GibbsLDA:[ITER] 23,\telapsed time:11.92,\tlog_likelihood:-8876006.04\n",
            "2019-11-17 13:49:26 INFO:GibbsLDA:[ITER] 24,\telapsed time:11.94,\tlog_likelihood:-8858331.10\n",
            "2019-11-17 13:49:38 INFO:GibbsLDA:[ITER] 25,\telapsed time:11.78,\tlog_likelihood:-8843094.34\n",
            "2019-11-17 13:49:50 INFO:GibbsLDA:[ITER] 26,\telapsed time:11.89,\tlog_likelihood:-8826096.90\n",
            "2019-11-17 13:50:02 INFO:GibbsLDA:[ITER] 27,\telapsed time:11.86,\tlog_likelihood:-8813866.02\n",
            "2019-11-17 13:50:14 INFO:GibbsLDA:[ITER] 28,\telapsed time:11.89,\tlog_likelihood:-8801679.07\n",
            "2019-11-17 13:50:26 INFO:GibbsLDA:[ITER] 29,\telapsed time:11.74,\tlog_likelihood:-8791324.44\n",
            "2019-11-17 13:50:38 INFO:GibbsLDA:[ITER] 30,\telapsed time:11.97,\tlog_likelihood:-8779365.09\n",
            "2019-11-17 13:50:50 INFO:GibbsLDA:[ITER] 31,\telapsed time:11.99,\tlog_likelihood:-8768028.61\n",
            "2019-11-17 13:51:02 INFO:GibbsLDA:[ITER] 32,\telapsed time:11.82,\tlog_likelihood:-8758448.83\n",
            "2019-11-17 13:51:14 INFO:GibbsLDA:[ITER] 33,\telapsed time:11.80,\tlog_likelihood:-8749360.62\n",
            "2019-11-17 13:51:26 INFO:GibbsLDA:[ITER] 34,\telapsed time:11.86,\tlog_likelihood:-8739328.37\n",
            "2019-11-17 13:51:38 INFO:GibbsLDA:[ITER] 35,\telapsed time:11.78,\tlog_likelihood:-8729889.88\n",
            "2019-11-17 13:51:50 INFO:GibbsLDA:[ITER] 36,\telapsed time:11.78,\tlog_likelihood:-8723462.45\n",
            "2019-11-17 13:52:02 INFO:GibbsLDA:[ITER] 37,\telapsed time:11.74,\tlog_likelihood:-8717625.75\n",
            "2019-11-17 13:52:14 INFO:GibbsLDA:[ITER] 38,\telapsed time:11.97,\tlog_likelihood:-8711339.35\n",
            "2019-11-17 13:52:26 INFO:GibbsLDA:[ITER] 39,\telapsed time:11.83,\tlog_likelihood:-8704047.02\n",
            "2019-11-17 13:52:38 INFO:GibbsLDA:[ITER] 40,\telapsed time:11.79,\tlog_likelihood:-8697030.94\n",
            "2019-11-17 13:52:50 INFO:GibbsLDA:[ITER] 41,\telapsed time:11.84,\tlog_likelihood:-8690305.14\n",
            "2019-11-17 13:53:01 INFO:GibbsLDA:[ITER] 42,\telapsed time:11.78,\tlog_likelihood:-8683804.99\n",
            "2019-11-17 13:53:13 INFO:GibbsLDA:[ITER] 43,\telapsed time:11.94,\tlog_likelihood:-8681233.56\n",
            "2019-11-17 13:53:25 INFO:GibbsLDA:[ITER] 44,\telapsed time:11.77,\tlog_likelihood:-8677062.81\n",
            "2019-11-17 13:53:37 INFO:GibbsLDA:[ITER] 45,\telapsed time:11.78,\tlog_likelihood:-8671342.27\n",
            "2019-11-17 13:53:49 INFO:GibbsLDA:[ITER] 46,\telapsed time:11.77,\tlog_likelihood:-8666903.30\n",
            "2019-11-17 13:54:01 INFO:GibbsLDA:[ITER] 47,\telapsed time:11.77,\tlog_likelihood:-8662334.34\n",
            "2019-11-17 13:54:13 INFO:GibbsLDA:[ITER] 48,\telapsed time:11.86,\tlog_likelihood:-8657016.55\n",
            "2019-11-17 13:54:25 INFO:GibbsLDA:[ITER] 49,\telapsed time:11.71,\tlog_likelihood:-8652423.20\n"
          ],
          "name": "stderr"
        }
      ]
    },
    {
      "cell_type": "markdown",
      "metadata": {
        "id": "qT-MaiIrLxCK",
        "colab_type": "text"
      },
      "source": [
        "### Analyse des résultats\n",
        "\n",
        "Identifiez les 10 mots les plus probables pour chaque topic appris."
      ]
    },
    {
      "cell_type": "code",
      "metadata": {
        "id": "HqFqxDiWLxCK",
        "colab_type": "code",
        "outputId": "072418e9-fa0e-4631-dd2e-88fea1f9a025",
        "colab": {
          "base_uri": "https://localhost:8080/",
          "height": 207
        }
      },
      "source": [
        "for ti in range(n_topic):\n",
        "    top_words = get_top_words(modelLDA.TW, voca, ti, n_words=n_top_words)\n",
        "    print('Topic', ti ,': ', ','.join(top_words))"
      ],
      "execution_count": 19,
      "outputs": [
        {
          "output_type": "stream",
          "text": [
            "('Topic', 0, ': ', u'system,information,data,language,object,database,user,model,query,tool')\n",
            "('Topic', 1, ': ', u'program,language,constraint,problem,logic,system,type,analysis,paper,programming')\n",
            "('Topic', 2, ': ', u'research,science,part,computer,grant,supported,report,work,university,paper')\n",
            "('Topic', 3, ': ', u'system,design,protocol,process,software,model,paper,message,security,present')\n",
            "('Topic', 4, ': ', u'algorithm,data,problem,query,method,tree,search,result,set,learning')\n",
            "('Topic', 5, ': ', u'network,performance,algorithm,traffic,routing,protocol,time,packet,control,simulation')\n",
            "('Topic', 6, ': ', u'parallel,performance,memory,program,data,processor,application,code,system,machine')\n",
            "('Topic', 7, ': ', u'algorithm,problem,method,time,function,image,model,bound,result,graph')\n",
            "('Topic', 8, ': ', u'system,application,distributed,service,support,server,resource,paper,user,network')\n",
            "('Topic', 9, ': ', u'learning,agent,system,model,network,task,problem,knowledge,approach,paper')\n"
          ],
          "name": "stdout"
        }
      ]
    },
    {
      "cell_type": "markdown",
      "metadata": {
        "id": "WB1QS-hfLxCM",
        "colab_type": "text"
      },
      "source": [
        "##  Modèle author-topic\n",
        "\n",
        "* \"The Author-Topic Model for Authors and Documents\" by Rosen-Zvi, et al. (UAI 2004)"
      ]
    },
    {
      "cell_type": "code",
      "metadata": {
        "id": "FqyFAlj1LxCN",
        "colab_type": "code",
        "outputId": "5e30837f-b2d0-4d17-f764-3977287f2945",
        "colab": {
          "base_uri": "https://localhost:8080/",
          "height": 887
        }
      },
      "source": [
        "modelAT = AuthorTopicModel(n_doc, n_voca, n_topic, n_author)\n",
        "modelAT.fit(corpus, doc_author, max_iter=max_iter)"
      ],
      "execution_count": 20,
      "outputs": [
        {
          "output_type": "stream",
          "text": [
            "2019-11-17 13:55:16 INFO:AuthorTopicModel:[INIT] 0\telapsed_time:30.10\tlog_likelihood:-10863423.25\n",
            "2019-11-17 13:55:46 INFO:AuthorTopicModel:[INIT] 1\telapsed_time:30.24\tlog_likelihood:-10650591.08\n",
            "2019-11-17 13:56:16 INFO:AuthorTopicModel:[INIT] 2\telapsed_time:30.46\tlog_likelihood:-10493923.28\n",
            "2019-11-17 13:56:47 INFO:AuthorTopicModel:[INIT] 3\telapsed_time:30.60\tlog_likelihood:-10355770.03\n",
            "2019-11-17 13:57:17 INFO:AuthorTopicModel:[INIT] 4\telapsed_time:30.37\tlog_likelihood:-10222276.16\n",
            "2019-11-17 13:57:48 INFO:AuthorTopicModel:[INIT] 5\telapsed_time:30.36\tlog_likelihood:-10078288.14\n",
            "2019-11-17 13:58:18 INFO:AuthorTopicModel:[INIT] 6\telapsed_time:30.41\tlog_likelihood:-9917225.69\n",
            "2019-11-17 13:58:49 INFO:AuthorTopicModel:[INIT] 7\telapsed_time:30.49\tlog_likelihood:-9751661.91\n",
            "2019-11-17 13:59:19 INFO:AuthorTopicModel:[INIT] 8\telapsed_time:30.33\tlog_likelihood:-9599492.51\n",
            "2019-11-17 13:59:49 INFO:AuthorTopicModel:[INIT] 9\telapsed_time:30.11\tlog_likelihood:-9473467.34\n",
            "2019-11-17 14:00:20 INFO:AuthorTopicModel:[INIT] 10\telapsed_time:30.39\tlog_likelihood:-9371250.12\n",
            "2019-11-17 14:00:50 INFO:AuthorTopicModel:[INIT] 11\telapsed_time:30.30\tlog_likelihood:-9287099.26\n",
            "2019-11-17 14:01:20 INFO:AuthorTopicModel:[INIT] 12\telapsed_time:30.54\tlog_likelihood:-9213170.89\n",
            "2019-11-17 14:01:51 INFO:AuthorTopicModel:[INIT] 13\telapsed_time:30.20\tlog_likelihood:-9154363.51\n",
            "2019-11-17 14:02:21 INFO:AuthorTopicModel:[INIT] 14\telapsed_time:30.11\tlog_likelihood:-9106724.29\n",
            "2019-11-17 14:02:51 INFO:AuthorTopicModel:[INIT] 15\telapsed_time:30.57\tlog_likelihood:-9067218.57\n",
            "2019-11-17 14:03:22 INFO:AuthorTopicModel:[INIT] 16\telapsed_time:30.39\tlog_likelihood:-9029670.82\n",
            "2019-11-17 14:03:52 INFO:AuthorTopicModel:[INIT] 17\telapsed_time:30.33\tlog_likelihood:-8998056.33\n",
            "2019-11-17 14:04:22 INFO:AuthorTopicModel:[INIT] 18\telapsed_time:30.21\tlog_likelihood:-8970536.70\n",
            "2019-11-17 14:04:53 INFO:AuthorTopicModel:[INIT] 19\telapsed_time:30.42\tlog_likelihood:-8947331.73\n",
            "2019-11-17 14:05:23 INFO:AuthorTopicModel:[INIT] 20\telapsed_time:30.32\tlog_likelihood:-8923746.10\n",
            "2019-11-17 14:05:53 INFO:AuthorTopicModel:[INIT] 21\telapsed_time:30.32\tlog_likelihood:-8906023.15\n",
            "2019-11-17 14:06:24 INFO:AuthorTopicModel:[INIT] 22\telapsed_time:30.46\tlog_likelihood:-8888546.11\n",
            "2019-11-17 14:06:54 INFO:AuthorTopicModel:[INIT] 23\telapsed_time:30.53\tlog_likelihood:-8874180.04\n",
            "2019-11-17 14:07:25 INFO:AuthorTopicModel:[INIT] 24\telapsed_time:30.40\tlog_likelihood:-8860485.34\n",
            "2019-11-17 14:07:55 INFO:AuthorTopicModel:[INIT] 25\telapsed_time:30.42\tlog_likelihood:-8848717.00\n",
            "2019-11-17 14:08:26 INFO:AuthorTopicModel:[INIT] 26\telapsed_time:30.60\tlog_likelihood:-8837964.61\n",
            "2019-11-17 14:08:56 INFO:AuthorTopicModel:[INIT] 27\telapsed_time:30.29\tlog_likelihood:-8825422.34\n",
            "2019-11-17 14:09:27 INFO:AuthorTopicModel:[INIT] 28\telapsed_time:30.57\tlog_likelihood:-8816028.70\n",
            "2019-11-17 14:09:57 INFO:AuthorTopicModel:[INIT] 29\telapsed_time:30.32\tlog_likelihood:-8807202.04\n",
            "2019-11-17 14:10:27 INFO:AuthorTopicModel:[INIT] 30\telapsed_time:30.36\tlog_likelihood:-8797000.50\n",
            "2019-11-17 14:10:58 INFO:AuthorTopicModel:[INIT] 31\telapsed_time:30.39\tlog_likelihood:-8789848.50\n",
            "2019-11-17 14:11:28 INFO:AuthorTopicModel:[INIT] 32\telapsed_time:30.62\tlog_likelihood:-8782575.22\n",
            "2019-11-17 14:11:59 INFO:AuthorTopicModel:[INIT] 33\telapsed_time:30.26\tlog_likelihood:-8779733.29\n",
            "2019-11-17 14:12:29 INFO:AuthorTopicModel:[INIT] 34\telapsed_time:30.41\tlog_likelihood:-8773820.68\n",
            "2019-11-17 14:12:59 INFO:AuthorTopicModel:[INIT] 35\telapsed_time:30.40\tlog_likelihood:-8765591.25\n",
            "2019-11-17 14:13:30 INFO:AuthorTopicModel:[INIT] 36\telapsed_time:30.52\tlog_likelihood:-8760017.15\n",
            "2019-11-17 14:14:00 INFO:AuthorTopicModel:[INIT] 37\telapsed_time:30.18\tlog_likelihood:-8755034.67\n",
            "2019-11-17 14:14:30 INFO:AuthorTopicModel:[INIT] 38\telapsed_time:30.41\tlog_likelihood:-8748250.97\n",
            "2019-11-17 14:15:01 INFO:AuthorTopicModel:[INIT] 39\telapsed_time:30.53\tlog_likelihood:-8743868.30\n",
            "2019-11-17 14:15:31 INFO:AuthorTopicModel:[INIT] 40\telapsed_time:30.49\tlog_likelihood:-8742812.46\n",
            "2019-11-17 14:16:02 INFO:AuthorTopicModel:[INIT] 41\telapsed_time:30.12\tlog_likelihood:-8740683.94\n",
            "2019-11-17 14:16:32 INFO:AuthorTopicModel:[INIT] 42\telapsed_time:30.53\tlog_likelihood:-8736074.18\n",
            "2019-11-17 14:17:03 INFO:AuthorTopicModel:[INIT] 43\telapsed_time:30.41\tlog_likelihood:-8731552.49\n",
            "2019-11-17 14:17:33 INFO:AuthorTopicModel:[INIT] 44\telapsed_time:30.46\tlog_likelihood:-8727833.12\n",
            "2019-11-17 14:18:03 INFO:AuthorTopicModel:[INIT] 45\telapsed_time:30.24\tlog_likelihood:-8723151.89\n",
            "2019-11-17 14:18:34 INFO:AuthorTopicModel:[INIT] 46\telapsed_time:30.27\tlog_likelihood:-8721992.44\n",
            "2019-11-17 14:19:04 INFO:AuthorTopicModel:[INIT] 47\telapsed_time:30.47\tlog_likelihood:-8719015.18\n",
            "2019-11-17 14:19:34 INFO:AuthorTopicModel:[INIT] 48\telapsed_time:30.25\tlog_likelihood:-8718800.98\n",
            "2019-11-17 14:20:04 INFO:AuthorTopicModel:[INIT] 49\telapsed_time:30.14\tlog_likelihood:-8715401.54\n"
          ],
          "name": "stderr"
        }
      ]
    },
    {
      "cell_type": "markdown",
      "metadata": {
        "id": "V3stJPg2LxCP",
        "colab_type": "text"
      },
      "source": [
        "### Analyse: Les 10 mots les plus probables pour chaque topic"
      ]
    },
    {
      "cell_type": "code",
      "metadata": {
        "id": "bRqAQ63nLxCQ",
        "colab_type": "code",
        "outputId": "ea15523d-5569-489e-800f-0e634376b244",
        "colab": {
          "base_uri": "https://localhost:8080/",
          "height": 207
        }
      },
      "source": [
        "for k in range(n_topic):\n",
        "    top_words = get_top_words(modelAT.TW, voca, k, n_words=n_top_words)\n",
        "    print('topic ', k , ','.join(top_words))"
      ],
      "execution_count": 21,
      "outputs": [
        {
          "output_type": "stream",
          "text": [
            "('topic ', 0, u'method,problem,algorithm,matrix,function,linear,model,constraint,paper,system')\n",
            "('topic ', 1, u'parallel,performance,memory,data,application,system,processor,communication,algorithm,implementation')\n",
            "('topic ', 2, u'program,analysis,code,language,programming,compiler,technique,paper,optimization,execution')\n",
            "('topic ', 3, u'network,protocol,service,application,performance,server,system,communication,paper,file')\n",
            "('topic ', 4, u'research,part,science,model,grant,proof,logic,supported,formal,specification')\n",
            "('topic ', 5, u'data,query,database,language,information,rule,object,constraint,system,view')\n",
            "('topic ', 6, u'algorithm,problem,time,result,show,bound,graph,function,tree,number')\n",
            "('topic ', 7, u'model,network,image,learning,using,method,algorithm,data,neural,feature')\n",
            "('topic ', 8, u'learning,agent,problem,knowledge,planning,paper,approach,domain,task,information')\n",
            "('topic ', 9, u'system,design,environment,application,software,model,distributed,user,paper,architecture')\n"
          ],
          "name": "stdout"
        }
      ]
    },
    {
      "cell_type": "markdown",
      "metadata": {
        "id": "vzGGH4VDLxCS",
        "colab_type": "text"
      },
      "source": [
        "### Afficher la distribution sur les topics pour quelques auteurs particuliers"
      ]
    },
    {
      "cell_type": "code",
      "metadata": {
        "id": "_rqGyIidLxCS",
        "colab_type": "code",
        "outputId": "dc98496e-45b3-40cb-9648-66cc2e5206df",
        "colab": {
          "base_uri": "https://localhost:8080/",
          "height": 510
        }
      },
      "source": [
        "author_id = 7\n",
        "fig = plt.figure(figsize=(12,6))\n",
        "plt.bar(range(n_topic), modelAT.AT[author_id]/np.sum(modelAT.AT[author_id]))\n",
        "plt.title(author_name[author_id])\n",
        "plt.xticks(np.arange(n_topic)+0.5, ['\\n'.join(get_top_words(modelAT.TW, voca, k, n_top_words)) for k in range(n_topic)])\n",
        "plt.show()\n",
        "modelAT"
      ],
      "execution_count": 22,
      "outputs": [
        {
          "output_type": "display_data",
          "data": {
            "image/png": "[encoded data removed]",
            "text/plain": [
              "<Figure size 864x432 with 1 Axes>"
            ]
          },
          "metadata": {
            "tags": []
          }
        },
        {
          "output_type": "execute_result",
          "data": {
            "text/plain": [
              "<ptm.at_model.AuthorTopicModel at 0x7fefe38a4090>"
            ]
          },
          "metadata": {
            "tags": []
          },
          "execution_count": 22
        }
      ]
    },
    {
      "cell_type": "code",
      "metadata": {
        "id": "KLFOHUvbLxCU",
        "colab_type": "code",
        "outputId": "2b6044b8-4ebe-4dab-d218-338cedc2a6cb",
        "colab": {
          "base_uri": "https://localhost:8080/",
          "height": 493
        }
      },
      "source": [
        "author_id = 32\n",
        "fig = plt.figure(figsize=(12,6))\n",
        "plt.bar(range(n_topic), modelAT.AT[author_id]/np.sum(modelAT.AT[author_id]))\n",
        "plt.title(author_name[author_id])\n",
        "plt.xticks(np.arange(n_topic)+0.5, ['\\n'.join(get_top_words(modelAT.TW, voca, k, n_top_words)) for k in range(n_topic)])\n",
        "plt.show()"
      ],
      "execution_count": 23,
      "outputs": [
        {
          "output_type": "display_data",
          "data": {
            "image/png": "[encoded data removed]",
            "text/plain": [
              "<Figure size 864x432 with 1 Axes>"
            ]
          },
          "metadata": {
            "tags": []
          }
        }
      ]
    },
    {
      "cell_type": "markdown",
      "metadata": {
        "id": "c8CqCWjFIjxp",
        "colab_type": "text"
      },
      "source": [
        "## Mesure de similarité entre topics"
      ]
    },
    {
      "cell_type": "markdown",
      "metadata": {
        "id": "z4-hNbPIQOKh",
        "colab_type": "text"
      },
      "source": [
        "### adjusted rand index\n",
        "https://en.wikipedia.org/wiki/Rand_index#Adjusted_Rand_index"
      ]
    },
    {
      "cell_type": "code",
      "metadata": {
        "id": "YV68CdC9IFUD",
        "colab_type": "code",
        "outputId": "82f66d18-5ee5-40ec-cd78-7eae536b0402",
        "colab": {
          "base_uri": "https://localhost:8080/",
          "height": 357
        }
      },
      "source": [
        "for k in range(n_topic):\n",
        "    score = adjusted_rand_score(model1.cluster_centers_[k][:n_top_words],\n",
        "                                model2.cluster_centers_[k][:n_top_words])\n",
        "    print 'score between kmeans model 1 and 2 for topic', k, 'is :', score\n",
        "\n",
        "for k in range(n_topic):\n",
        "    adjusted_rand_score(modelAT.TW[k][:n_top_words],\n",
        "                        modelLDA.TW[k][:n_top_words])\n",
        "    print 'score between ATM and LDA for topic', k, 'is :', score"
      ],
      "execution_count": 24,
      "outputs": [
        {
          "output_type": "stream",
          "text": [
            "score between kmeans model 1 and 2 for topic 0 is : 1.0\n",
            "score between kmeans model 1 and 2 for topic 1 is : 1.0\n",
            "score between kmeans model 1 and 2 for topic 2 is : 1.0\n",
            "score between kmeans model 1 and 2 for topic 3 is : 0.0\n",
            "score between kmeans model 1 and 2 for topic 4 is : 0.0\n",
            "score between kmeans model 1 and 2 for topic 5 is : 0.0\n",
            "score between kmeans model 1 and 2 for topic 6 is : 0.0\n",
            "score between kmeans model 1 and 2 for topic 7 is : 0.0\n",
            "score between kmeans model 1 and 2 for topic 8 is : 0.0\n",
            "score between kmeans model 1 and 2 for topic 9 is : 1.0\n",
            "score between ATM and LDA for topic 0 is : 1.0\n",
            "score between ATM and LDA for topic 1 is : 1.0\n",
            "score between ATM and LDA for topic 2 is : 1.0\n",
            "score between ATM and LDA for topic 3 is : 1.0\n",
            "score between ATM and LDA for topic 4 is : 1.0\n",
            "score between ATM and LDA for topic 5 is : 1.0\n",
            "score between ATM and LDA for topic 6 is : 1.0\n",
            "score between ATM and LDA for topic 7 is : 1.0\n",
            "score between ATM and LDA for topic 8 is : 1.0\n",
            "score between ATM and LDA for topic 9 is : 1.0\n"
          ],
          "name": "stdout"
        }
      ]
    },
    {
      "cell_type": "markdown",
      "metadata": {
        "id": "7EJpVyqeP8NL",
        "colab_type": "text"
      },
      "source": [
        "* **Conclusion** : ne convient pas"
      ]
    },
    {
      "cell_type": "markdown",
      "metadata": {
        "id": "bA1gDC2FP-xr",
        "colab_type": "text"
      },
      "source": [
        "### Cosine similarity\n",
        "https://en.wikipedia.org/wiki/https://en.wikipedia.org/wiki/Cosine_similarity"
      ]
    },
    {
      "cell_type": "code",
      "metadata": {
        "id": "wOlHZ1k_AAzl",
        "colab_type": "code",
        "colab": {
          "base_uri": "https://localhost:8080/",
          "height": 1000
        },
        "outputId": "fa60d0dc-31a2-4104-f2df-56f443c457ae"
      },
      "source": [
        "n_topic = 10\n",
        "n_iter = range(1, 10)\n",
        "\n",
        "results_LDA = {\n",
        "    'mean': [],\n",
        "    'min': [],\n",
        "    'max': []\n",
        "}\n",
        "results_AT = {\n",
        "    'mean': [],\n",
        "    'min': [],\n",
        "    'max': []\n",
        "}\n",
        "\n",
        "for iter_idx in n_iter:\n",
        "    #LDA\n",
        "    modelLDA = GibbsLDA(n_doc, len(voca), n_topic)\n",
        "    modelLDA.fit(corpus, max_iter=iter_idx)\n",
        "    print('fit LDA model with n_iter=', iter_idx)\n",
        "    cos_lda = cosine_similarity(modelLDA.TW, Y=None, dense_output=True)\n",
        "    results_LDA['mean'].append(np.mean(cos_lda))\n",
        "    results_LDA['min'].append(np.min(cos_lda))\n",
        "    results_LDA['max'].append(np.max(cos_lda))\n",
        "\n",
        "    #AT\n",
        "    modelAT = AuthorTopicModel(n_doc, n_voca, n_topic, n_author)\n",
        "    modelAT.fit(corpus, doc_author, max_iter=iter_idx)\n",
        "    print('fit AT model with n_iter=', iter_idx)\n",
        "    cos_at = cosine_similarity(modelAT.TW, Y=None, dense_output=True)\n",
        "    results_AT['mean'].append(np.mean(cos_at))\n",
        "    results_AT['min'].append(np.min(cos_at))\n",
        "    results_AT['max'].append(np.max(cos_at))"
      ],
      "execution_count": 27,
      "outputs": [
        {
          "output_type": "stream",
          "text": [
            "2019-11-17 15:38:07 INFO:GibbsLDA:[ITER] 0,\telapsed time:11.90,\tlog_likelihood:-10866602.86\n"
          ],
          "name": "stderr"
        },
        {
          "output_type": "stream",
          "text": [
            "('fit LDA model with n_iter=', 1)\n"
          ],
          "name": "stdout"
        },
        {
          "output_type": "stream",
          "text": [
            "2019-11-17 15:38:58 INFO:AuthorTopicModel:[INIT] 0\telapsed_time:30.51\tlog_likelihood:-10862678.78\n"
          ],
          "name": "stderr"
        },
        {
          "output_type": "stream",
          "text": [
            "('fit AT model with n_iter=', 1)\n"
          ],
          "name": "stdout"
        },
        {
          "output_type": "stream",
          "text": [
            "2019-11-17 15:39:13 INFO:GibbsLDA:[ITER] 0,\telapsed time:12.06,\tlog_likelihood:-10866853.00\n",
            "2019-11-17 15:39:25 INFO:GibbsLDA:[ITER] 1,\telapsed time:12.20,\tlog_likelihood:-10531785.34\n"
          ],
          "name": "stderr"
        },
        {
          "output_type": "stream",
          "text": [
            "('fit LDA model with n_iter=', 2)\n"
          ],
          "name": "stdout"
        },
        {
          "output_type": "stream",
          "text": [
            "2019-11-17 15:40:16 INFO:AuthorTopicModel:[INIT] 0\telapsed_time:30.14\tlog_likelihood:-10863978.41\n",
            "2019-11-17 15:40:46 INFO:AuthorTopicModel:[INIT] 1\telapsed_time:30.35\tlog_likelihood:-10646619.18\n"
          ],
          "name": "stderr"
        },
        {
          "output_type": "stream",
          "text": [
            "('fit AT model with n_iter=', 2)\n"
          ],
          "name": "stdout"
        },
        {
          "output_type": "stream",
          "text": [
            "2019-11-17 15:41:00 INFO:GibbsLDA:[ITER] 0,\telapsed time:11.73,\tlog_likelihood:-10864840.03\n",
            "2019-11-17 15:41:12 INFO:GibbsLDA:[ITER] 1,\telapsed time:11.93,\tlog_likelihood:-10530770.05\n",
            "2019-11-17 15:41:24 INFO:GibbsLDA:[ITER] 2,\telapsed time:11.75,\tlog_likelihood:-10285499.33\n"
          ],
          "name": "stderr"
        },
        {
          "output_type": "stream",
          "text": [
            "('fit LDA model with n_iter=', 3)\n"
          ],
          "name": "stdout"
        },
        {
          "output_type": "stream",
          "text": [
            "2019-11-17 15:42:16 INFO:AuthorTopicModel:[INIT] 0\telapsed_time:30.75\tlog_likelihood:-10864101.45\n",
            "2019-11-17 15:42:47 INFO:AuthorTopicModel:[INIT] 1\telapsed_time:30.37\tlog_likelihood:-10648618.39\n",
            "2019-11-17 15:43:17 INFO:AuthorTopicModel:[INIT] 2\telapsed_time:30.53\tlog_likelihood:-10492020.38\n"
          ],
          "name": "stderr"
        },
        {
          "output_type": "stream",
          "text": [
            "('fit AT model with n_iter=', 3)\n"
          ],
          "name": "stdout"
        },
        {
          "output_type": "stream",
          "text": [
            "2019-11-17 15:43:31 INFO:GibbsLDA:[ITER] 0,\telapsed time:11.78,\tlog_likelihood:-10866140.17\n",
            "2019-11-17 15:43:43 INFO:GibbsLDA:[ITER] 1,\telapsed time:11.94,\tlog_likelihood:-10530495.90\n",
            "2019-11-17 15:43:55 INFO:GibbsLDA:[ITER] 2,\telapsed time:11.86,\tlog_likelihood:-10280456.17\n",
            "2019-11-17 15:44:07 INFO:GibbsLDA:[ITER] 3,\telapsed time:11.92,\tlog_likelihood:-10087238.39\n"
          ],
          "name": "stderr"
        },
        {
          "output_type": "stream",
          "text": [
            "('fit LDA model with n_iter=', 4)\n"
          ],
          "name": "stdout"
        },
        {
          "output_type": "stream",
          "text": [
            "2019-11-17 15:44:59 INFO:AuthorTopicModel:[INIT] 0\telapsed_time:30.33\tlog_likelihood:-10863827.27\n",
            "2019-11-17 15:45:29 INFO:AuthorTopicModel:[INIT] 1\telapsed_time:30.28\tlog_likelihood:-10648223.99\n",
            "2019-11-17 15:45:59 INFO:AuthorTopicModel:[INIT] 2\telapsed_time:30.43\tlog_likelihood:-10490389.16\n",
            "2019-11-17 15:46:30 INFO:AuthorTopicModel:[INIT] 3\telapsed_time:30.28\tlog_likelihood:-10351202.01\n"
          ],
          "name": "stderr"
        },
        {
          "output_type": "stream",
          "text": [
            "('fit AT model with n_iter=', 4)\n"
          ],
          "name": "stdout"
        },
        {
          "output_type": "stream",
          "text": [
            "2019-11-17 15:46:44 INFO:GibbsLDA:[ITER] 0,\telapsed time:11.89,\tlog_likelihood:-10867764.71\n",
            "2019-11-17 15:46:56 INFO:GibbsLDA:[ITER] 1,\telapsed time:11.89,\tlog_likelihood:-10530035.79\n",
            "2019-11-17 15:47:08 INFO:GibbsLDA:[ITER] 2,\telapsed time:12.03,\tlog_likelihood:-10284341.21\n",
            "2019-11-17 15:47:20 INFO:GibbsLDA:[ITER] 3,\telapsed time:12.09,\tlog_likelihood:-10093847.62\n",
            "2019-11-17 15:47:32 INFO:GibbsLDA:[ITER] 4,\telapsed time:11.84,\tlog_likelihood:-9938915.51\n"
          ],
          "name": "stderr"
        },
        {
          "output_type": "stream",
          "text": [
            "('fit LDA model with n_iter=', 5)\n"
          ],
          "name": "stdout"
        },
        {
          "output_type": "stream",
          "text": [
            "2019-11-17 15:48:23 INFO:AuthorTopicModel:[INIT] 0\telapsed_time:30.31\tlog_likelihood:-10864960.66\n",
            "2019-11-17 15:48:53 INFO:AuthorTopicModel:[INIT] 1\telapsed_time:30.30\tlog_likelihood:-10646926.36\n",
            "2019-11-17 15:49:24 INFO:AuthorTopicModel:[INIT] 2\telapsed_time:30.44\tlog_likelihood:-10487962.83\n",
            "2019-11-17 15:49:55 INFO:AuthorTopicModel:[INIT] 3\telapsed_time:30.62\tlog_likelihood:-10352439.31\n",
            "2019-11-17 15:50:25 INFO:AuthorTopicModel:[INIT] 4\telapsed_time:30.40\tlog_likelihood:-10219771.50\n"
          ],
          "name": "stderr"
        },
        {
          "output_type": "stream",
          "text": [
            "('fit AT model with n_iter=', 5)\n"
          ],
          "name": "stdout"
        },
        {
          "output_type": "stream",
          "text": [
            "2019-11-17 15:50:39 INFO:GibbsLDA:[ITER] 0,\telapsed time:11.93,\tlog_likelihood:-10867585.21\n",
            "2019-11-17 15:50:51 INFO:GibbsLDA:[ITER] 1,\telapsed time:11.88,\tlog_likelihood:-10531352.26\n",
            "2019-11-17 15:51:03 INFO:GibbsLDA:[ITER] 2,\telapsed time:11.96,\tlog_likelihood:-10281490.86\n",
            "2019-11-17 15:51:15 INFO:GibbsLDA:[ITER] 3,\telapsed time:12.05,\tlog_likelihood:-10092074.77\n",
            "2019-11-17 15:51:27 INFO:GibbsLDA:[ITER] 4,\telapsed time:12.14,\tlog_likelihood:-9937697.48\n",
            "2019-11-17 15:51:40 INFO:GibbsLDA:[ITER] 5,\telapsed time:11.99,\tlog_likelihood:-9802902.90\n"
          ],
          "name": "stderr"
        },
        {
          "output_type": "stream",
          "text": [
            "('fit LDA model with n_iter=', 6)\n"
          ],
          "name": "stdout"
        },
        {
          "output_type": "stream",
          "text": [
            "2019-11-17 15:52:31 INFO:AuthorTopicModel:[INIT] 0\telapsed_time:30.42\tlog_likelihood:-10865859.46\n",
            "2019-11-17 15:53:01 INFO:AuthorTopicModel:[INIT] 1\telapsed_time:30.24\tlog_likelihood:-10649800.92\n",
            "2019-11-17 15:53:31 INFO:AuthorTopicModel:[INIT] 2\telapsed_time:30.41\tlog_likelihood:-10488049.50\n",
            "2019-11-17 15:54:02 INFO:AuthorTopicModel:[INIT] 3\telapsed_time:30.51\tlog_likelihood:-10351955.88\n",
            "2019-11-17 15:54:32 INFO:AuthorTopicModel:[INIT] 4\telapsed_time:30.31\tlog_likelihood:-10215309.22\n",
            "2019-11-17 15:55:03 INFO:AuthorTopicModel:[INIT] 5\telapsed_time:30.78\tlog_likelihood:-10069306.38\n"
          ],
          "name": "stderr"
        },
        {
          "output_type": "stream",
          "text": [
            "('fit AT model with n_iter=', 6)\n"
          ],
          "name": "stdout"
        },
        {
          "output_type": "stream",
          "text": [
            "2019-11-17 15:55:17 INFO:GibbsLDA:[ITER] 0,\telapsed time:12.09,\tlog_likelihood:-10865704.71\n",
            "2019-11-17 15:55:30 INFO:GibbsLDA:[ITER] 1,\telapsed time:12.15,\tlog_likelihood:-10530623.67\n",
            "2019-11-17 15:55:42 INFO:GibbsLDA:[ITER] 2,\telapsed time:12.09,\tlog_likelihood:-10281698.50\n",
            "2019-11-17 15:55:54 INFO:GibbsLDA:[ITER] 3,\telapsed time:12.06,\tlog_likelihood:-10089858.75\n",
            "2019-11-17 15:56:06 INFO:GibbsLDA:[ITER] 4,\telapsed time:12.08,\tlog_likelihood:-9934732.16\n",
            "2019-11-17 15:56:18 INFO:GibbsLDA:[ITER] 5,\telapsed time:12.13,\tlog_likelihood:-9798259.58\n",
            "2019-11-17 15:56:31 INFO:GibbsLDA:[ITER] 6,\telapsed time:12.16,\tlog_likelihood:-9670145.38\n"
          ],
          "name": "stderr"
        },
        {
          "output_type": "stream",
          "text": [
            "('fit LDA model with n_iter=', 7)\n"
          ],
          "name": "stdout"
        },
        {
          "output_type": "stream",
          "text": [
            "2019-11-17 15:57:23 INFO:AuthorTopicModel:[INIT] 0\telapsed_time:30.69\tlog_likelihood:-10863134.74\n",
            "2019-11-17 15:57:53 INFO:AuthorTopicModel:[INIT] 1\telapsed_time:30.30\tlog_likelihood:-10648964.42\n",
            "2019-11-17 15:58:23 INFO:AuthorTopicModel:[INIT] 2\telapsed_time:30.35\tlog_likelihood:-10492311.27\n",
            "2019-11-17 15:58:54 INFO:AuthorTopicModel:[INIT] 3\telapsed_time:30.26\tlog_likelihood:-10358613.47\n",
            "2019-11-17 15:59:24 INFO:AuthorTopicModel:[INIT] 4\telapsed_time:30.40\tlog_likelihood:-10227087.69\n",
            "2019-11-17 15:59:54 INFO:AuthorTopicModel:[INIT] 5\telapsed_time:30.47\tlog_likelihood:-10087274.24\n",
            "2019-11-17 16:00:25 INFO:AuthorTopicModel:[INIT] 6\telapsed_time:30.33\tlog_likelihood:-9929410.93\n"
          ],
          "name": "stderr"
        },
        {
          "output_type": "stream",
          "text": [
            "('fit AT model with n_iter=', 7)\n"
          ],
          "name": "stdout"
        },
        {
          "output_type": "stream",
          "text": [
            "2019-11-17 16:00:39 INFO:GibbsLDA:[ITER] 0,\telapsed time:11.90,\tlog_likelihood:-10866309.53\n",
            "2019-11-17 16:00:51 INFO:GibbsLDA:[ITER] 1,\telapsed time:11.87,\tlog_likelihood:-10530053.41\n",
            "2019-11-17 16:01:03 INFO:GibbsLDA:[ITER] 2,\telapsed time:11.87,\tlog_likelihood:-10279418.95\n",
            "2019-11-17 16:01:15 INFO:GibbsLDA:[ITER] 3,\telapsed time:11.99,\tlog_likelihood:-10087467.00\n",
            "2019-11-17 16:01:27 INFO:GibbsLDA:[ITER] 4,\telapsed time:11.81,\tlog_likelihood:-9926942.04\n",
            "2019-11-17 16:01:39 INFO:GibbsLDA:[ITER] 5,\telapsed time:11.86,\tlog_likelihood:-9783061.21\n",
            "2019-11-17 16:01:51 INFO:GibbsLDA:[ITER] 6,\telapsed time:11.89,\tlog_likelihood:-9651388.47\n",
            "2019-11-17 16:02:03 INFO:GibbsLDA:[ITER] 7,\telapsed time:11.94,\tlog_likelihood:-9528948.70\n"
          ],
          "name": "stderr"
        },
        {
          "output_type": "stream",
          "text": [
            "('fit LDA model with n_iter=', 8)\n"
          ],
          "name": "stdout"
        },
        {
          "output_type": "stream",
          "text": [
            "2019-11-17 16:02:54 INFO:AuthorTopicModel:[INIT] 0\telapsed_time:30.26\tlog_likelihood:-10864627.23\n",
            "2019-11-17 16:03:25 INFO:AuthorTopicModel:[INIT] 1\telapsed_time:30.48\tlog_likelihood:-10646986.70\n",
            "2019-11-17 16:03:55 INFO:AuthorTopicModel:[INIT] 2\telapsed_time:30.32\tlog_likelihood:-10490714.40\n",
            "2019-11-17 16:04:25 INFO:AuthorTopicModel:[INIT] 3\telapsed_time:30.29\tlog_likelihood:-10356811.11\n",
            "2019-11-17 16:04:55 INFO:AuthorTopicModel:[INIT] 4\telapsed_time:30.25\tlog_likelihood:-10228127.32\n",
            "2019-11-17 16:05:26 INFO:AuthorTopicModel:[INIT] 5\telapsed_time:30.30\tlog_likelihood:-10092890.89\n",
            "2019-11-17 16:05:56 INFO:AuthorTopicModel:[INIT] 6\telapsed_time:30.50\tlog_likelihood:-9941141.31\n",
            "2019-11-17 16:06:27 INFO:AuthorTopicModel:[INIT] 7\telapsed_time:30.37\tlog_likelihood:-9772309.89\n"
          ],
          "name": "stderr"
        },
        {
          "output_type": "stream",
          "text": [
            "('fit AT model with n_iter=', 8)\n"
          ],
          "name": "stdout"
        },
        {
          "output_type": "stream",
          "text": [
            "2019-11-17 16:06:41 INFO:GibbsLDA:[ITER] 0,\telapsed time:11.80,\tlog_likelihood:-10865585.39\n",
            "2019-11-17 16:06:53 INFO:GibbsLDA:[ITER] 1,\telapsed time:11.81,\tlog_likelihood:-10533805.31\n",
            "2019-11-17 16:07:04 INFO:GibbsLDA:[ITER] 2,\telapsed time:11.75,\tlog_likelihood:-10283915.32\n",
            "2019-11-17 16:07:16 INFO:GibbsLDA:[ITER] 3,\telapsed time:11.88,\tlog_likelihood:-10096369.86\n",
            "2019-11-17 16:07:28 INFO:GibbsLDA:[ITER] 4,\telapsed time:11.77,\tlog_likelihood:-9944606.28\n",
            "2019-11-17 16:07:40 INFO:GibbsLDA:[ITER] 5,\telapsed time:11.90,\tlog_likelihood:-9817944.39\n",
            "2019-11-17 16:07:52 INFO:GibbsLDA:[ITER] 6,\telapsed time:11.75,\tlog_likelihood:-9704204.67\n",
            "2019-11-17 16:08:04 INFO:GibbsLDA:[ITER] 7,\telapsed time:11.65,\tlog_likelihood:-9602334.49\n",
            "2019-11-17 16:08:16 INFO:GibbsLDA:[ITER] 8,\telapsed time:11.77,\tlog_likelihood:-9504717.80\n"
          ],
          "name": "stderr"
        },
        {
          "output_type": "stream",
          "text": [
            "('fit LDA model with n_iter=', 9)\n"
          ],
          "name": "stdout"
        },
        {
          "output_type": "stream",
          "text": [
            "2019-11-17 16:09:07 INFO:AuthorTopicModel:[INIT] 0\telapsed_time:30.54\tlog_likelihood:-10864253.31\n",
            "2019-11-17 16:09:38 INFO:AuthorTopicModel:[INIT] 1\telapsed_time:30.47\tlog_likelihood:-10648687.57\n",
            "2019-11-17 16:10:09 INFO:AuthorTopicModel:[INIT] 2\telapsed_time:30.66\tlog_likelihood:-10491752.53\n",
            "2019-11-17 16:10:39 INFO:AuthorTopicModel:[INIT] 3\telapsed_time:30.34\tlog_likelihood:-10354922.50\n",
            "2019-11-17 16:11:09 INFO:AuthorTopicModel:[INIT] 4\telapsed_time:30.15\tlog_likelihood:-10223870.30\n",
            "2019-11-17 16:11:40 INFO:AuthorTopicModel:[INIT] 5\telapsed_time:30.49\tlog_likelihood:-10089269.71\n",
            "2019-11-17 16:12:10 INFO:AuthorTopicModel:[INIT] 6\telapsed_time:30.41\tlog_likelihood:-9937884.28\n",
            "2019-11-17 16:12:40 INFO:AuthorTopicModel:[INIT] 7\telapsed_time:30.20\tlog_likelihood:-9778476.43\n",
            "2019-11-17 16:13:10 INFO:AuthorTopicModel:[INIT] 8\telapsed_time:30.12\tlog_likelihood:-9619138.77\n"
          ],
          "name": "stderr"
        },
        {
          "output_type": "stream",
          "text": [
            "('fit AT model with n_iter=', 9)\n"
          ],
          "name": "stdout"
        }
      ]
    },
    {
      "cell_type": "code",
      "metadata": {
        "id": "QAdxZrodP7q0",
        "colab_type": "code",
        "outputId": "80e1489a-cb16-423d-eb01-3684465ae116",
        "colab": {
          "base_uri": "https://localhost:8080/",
          "height": 513
        }
      },
      "source": [
        "# LDA\n",
        "plt.plot(n_iter, results_LDA['mean'], label='LDA mean')\n",
        "plt.plot(n_iter, results_LDA['min'], label='LDA min')\n",
        "plt.plot(n_iter, results_LDA['max'], label='LDA max')\n",
        "plt.legend()\n",
        "plt.show()\n",
        "\n",
        "# AT\n",
        "plt.plot(n_iter, results_AT['mean'], label='AT mean')\n",
        "plt.plot(n_iter, results_AT['min'], label='AT min')\n",
        "plt.plot(n_iter, results_AT['max'], label='AT max')\n",
        "plt.legend()\n",
        "plt.show()"
      ],
      "execution_count": 28,
      "outputs": [
        {
          "output_type": "display_data",
          "data": {
            "image/png": "[encoded data removed]",
            "text/plain": [
              "<Figure size 432x288 with 1 Axes>"
            ]
          },
          "metadata": {
            "tags": []
          }
        },
        {
          "output_type": "display_data",
          "data": {
            "image/png": "[encoded data removed]",
            "text/plain": [
              "<Figure size 432x288 with 1 Axes>"
            ]
          },
          "metadata": {
            "tags": []
          }
        }
      ]
    },
    {
      "cell_type": "markdown",
      "metadata": {
        "id": "NS4njWxXEZoz",
        "colab_type": "text"
      },
      "source": [
        "* résultat logique au vu des affichages précédents puisque les 10 mots affichés pour les 10 topics sont presque identiques\n",
        "\n",
        "* par contre on attendrait des résultats opposés : on aimerait que la cosinus similarité diminue, ce qui signifierait que nos topics sont de mieux en mieux distribués"
      ]
    },
    {
      "cell_type": "markdown",
      "metadata": {
        "id": "ti4zu-GHHUga",
        "colab_type": "text"
      },
      "source": [
        "# Q3. Quels mots ont été écrits par quels auteurs pour un document donné ?\n",
        "\n",
        "---\n",
        "\n",
        "* Bayes : P(A|W) = P(W|A) * P(A) / P(W)\n",
        "\n",
        "* P(A) : le nombre de documents dans lequel a écrit un auteur sur le nombre total de docs\n",
        "\n",
        "* P(W) : le nombre total de fois où apparaît le mot sur le nombre de total de mots\n",
        "\n",
        "---\n",
        "\n",
        "* La loi des probabilités totales nous donne aussi :\n",
        "    * $\\sum_i p(w|a_i) * p(t_i|a)$"
      ]
    },
    {
      "cell_type": "code",
      "metadata": {
        "id": "5Y8wfIK8TkGS",
        "colab_type": "code",
        "colab": {}
      },
      "source": [
        "def get_author_proba(idx_author, doc_authors):\n",
        "    \"\"\"\n",
        "    returns P(A)\n",
        "    \"\"\"\n",
        "    count = 0\n",
        "    total = 0\n",
        "\n",
        "    for idx_doc in range(len(doc_authors)):\n",
        "        for _author_in_doc_idx in range(len(doc_authors[idx_doc])):\n",
        "            if _author_in_doc_idx == idx_author:\n",
        "                count += 1\n",
        "        total += 1\n",
        "    \n",
        "    return count, total\n",
        "\n",
        "def get_word_proba(idx_word, docs):\n",
        "    \"\"\"\n",
        "    returns P(W)\n",
        "    \"\"\"\n",
        "    count = 0\n",
        "    total = 0\n",
        "\n",
        "    for idx_doc in range(len(docs)):\n",
        "        for _word_in_doc_idx in range(len(docs[idx_doc])):\n",
        "            if docs[idx_doc][_word_in_doc_idx] == idx_word:\n",
        "                count += 1\n",
        "            total += 1\n",
        "    \n",
        "    return count, total"
      ],
      "execution_count": 0,
      "outputs": []
    },
    {
      "cell_type": "code",
      "metadata": {
        "id": "q_X_-yBeWuuo",
        "colab_type": "code",
        "colab": {
          "base_uri": "https://localhost:8080/",
          "height": 51
        },
        "outputId": "928fdd7c-9f40-445d-f9fa-610df023d76b"
      },
      "source": [
        "word_idx = 832\n",
        "author_idx = 7\n",
        "\n",
        "print(voca[word_idx], 'proba :', get_word_proba(word_idx, doc_ids))\n",
        "print(author_name[author_idx], 'proba :', get_author_proba(author_idx, doc_author))"
      ],
      "execution_count": 71,
      "outputs": [
        {
          "output_type": "stream",
          "text": [
            "(u'desire', 'proba :', (28, 752892))\n",
            "('J Kukula', 'proba :', (251, 13147))\n"
          ],
          "name": "stdout"
        }
      ]
    }
  ]
}