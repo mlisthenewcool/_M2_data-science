{
  "nbformat": 4,
  "nbformat_minor": 0,
  "metadata": {
    "colab": {
      "name": "DS_tp5.ipynb",
      "provenance": [],
      "collapsed_sections": []
    },
    "kernelspec": {
      "name": "python3",
      "display_name": "Python 3"
    }
  },
  "cells": [
    {
      "cell_type": "markdown",
      "metadata": {
        "id": "oV8I0-MfrGd4",
        "colab_type": "text"
      },
      "source": [
        "# TP 5"
      ]
    },
    {
      "cell_type": "markdown",
      "metadata": {
        "id": "ifg2_0hCrVO0",
        "colab_type": "text"
      },
      "source": [
        "## RÃ©gression de faible rang sur des donnÃ©es simulÃ©es"
      ]
    },
    {
      "cell_type": "markdown",
      "metadata": {
        "id": "8PbkklLyrlwn",
        "colab_type": "text"
      },
      "source": [
        "\n",
        "\n",
        "*   CrÃ©er une matrice de rang faible $W$. Afficher la matrice avec la commande `imshow`. \n",
        "\n",
        "*   GÃ©nÃ©rer des donnÃ©es d'apprentissage $\\{(x_i,y_i), i=1,\\ldots,n\\}$ suivant le modÃ¨le $y_i = Wx_i + \\epsilon_i$.\n",
        "\n",
        "* ImplÃ©menter la mÃ©thode de rÃ©gression de faible rang.\n",
        "\n",
        "* Evaluer les performances de prÃ©diction de la rÃ©gression de faible rang sur un jeu de donnÃ©es test. Comparer les rÃ©sultats avec la rÃ©gression par moindre carrÃ©s.\n",
        "\n",
        "* Afficher les matrices de paramÃ¨tres $W_r$ et $W_{LS}$ obtenues par les deux mÃ©thodes et comparer les rÃ©sultats. \n",
        "\n",
        "* Evaluer l'impact du choix du rang sur les rÃ©sultats. \n",
        "\n"
      ]
    },
    {
      "cell_type": "code",
      "metadata": {
        "id": "VZOh9X9IuT-a",
        "colab_type": "code",
        "colab": {}
      },
      "source": [
        "# A complÃ©ter"
      ],
      "execution_count": 0,
      "outputs": []
    },
    {
      "cell_type": "markdown",
      "metadata": {
        "id": "ydeYvbl2uWHx",
        "colab_type": "text"
      },
      "source": [
        "## Apprentissage multi-tÃ¢che et rÃ©gularisation"
      ]
    },
    {
      "cell_type": "markdown",
      "metadata": {
        "id": "KKhFnEO1ud3F",
        "colab_type": "text"
      },
      "source": [
        "\n",
        "\n",
        "*   TÃ©lÃ©charger un jeu de donnÃ©es d'apprentissage multi-tÃ¢che. (Vous pouvez utiliser un jeu de donnÃ©es de rÃ©gression multivariÃ©e)\n",
        "\n",
        "*   La rÃ©gression multitaskLasso est dÃ©jÃ  implÃ©mentÃ© dans le module `linear_model` de scikit-learn. Expliquer le fonctionnement de cette mÃ©thode.\n",
        "\n",
        "\n",
        "*   Comparer les mÃ©thodes de rÃ©gression ridge, rÃ©gression Lasso, rÃ©gression Ã  rang faible et rÃ©gression multitaskLasso.\n",
        "\n"
      ]
    },
    {
      "cell_type": "code",
      "metadata": {
        "id": "YHkjNffvuc1c",
        "colab_type": "code",
        "colab": {}
      },
      "source": [
        "# A complÃ©ter"
      ],
      "execution_count": 0,
      "outputs": []
    },
    {
      "cell_type": "markdown",
      "metadata": {
        "id": "EB_EaNpKx6G8",
        "colab_type": "text"
      },
      "source": [
        "## Adaptation de domaine"
      ]
    },
    {
      "cell_type": "markdown",
      "metadata": {
        "id": "AoW0AjvYx_Xk",
        "colab_type": "text"
      },
      "source": [
        "Des implÃ©mentations de mÃ©thodes d'adaptation de domaine sont disponibles sur le web (par exemple : https://github.com/wmkouw/libTLDA).\n",
        "\n",
        "* TÃ©lÃ©charger un code qui implÃ©mente la mÃ©thode \"kernel mean matching\" et illustrer la mÃ©thode sur un jeu de donnÃ©es simulÃ©es ou rÃ©elles."
      ]
    },
    {
      "cell_type": "code",
      "metadata": {
        "id": "f0ad4-5h1H1H",
        "colab_type": "code",
        "colab": {}
      },
      "source": [
        "# A complÃ©ter"
      ],
      "execution_count": 0,
      "outputs": []
    }
  ]
}
