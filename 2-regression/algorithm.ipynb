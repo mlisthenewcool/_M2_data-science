{
 "nbformat": 4,
 "nbformat_minor": 0,
 "metadata": {
  "colab": {
   "name": "TPregression.ipynb",
   "provenance": [],
   "collapsed_sections": []
  },
  "kernelspec": {
   "name": "python3",
   "language": "python",
   "display_name": "Python 3"
  },
  "pycharm": {
   "stem_cell": {
    "cell_type": "raw",
    "source": [],
    "metadata": {
     "collapsed": false
    }
   }
  }
 },
 "cells": [
  {
   "cell_type": "code",
   "execution_count": 5,
   "outputs": [],
   "source": [
    "from matplotlib import pyplot as plt\n",
    "import numpy as np"
   ],
   "metadata": {
    "collapsed": false,
    "pycharm": {
     "name": "#%%\n",
     "is_executing": false
    }
   }
  },
  {
   "cell_type": "markdown",
   "metadata": {
    "id": "HwWGIO3TAmiM",
    "colab_type": "text"
   },
   "source": [
    "# Régression\n",
    "\n",
    "* modéliser des relations statistiques entre deux variables\n",
    "\n",
    "* estimer l'impact de la variation d'une variable explicative sur une variable Ã  expliquer\n",
    "\n",
    "* modèle : $y = f(x) + \\epsilon$"
   ]
  },
  {
   "cell_type": "markdown",
   "metadata": {
    "id": "oCdafNL5YK58",
    "colab_type": "text"
   },
   "source": [
    "# Partie I : DonnÃ©es simulÃ©es"
   ]
  },
  {
   "cell_type": "markdown",
   "metadata": {
    "id": "uH-9ytqnA06o",
    "colab_type": "text"
   },
   "source": [
    "##I.1. RÃ©gression linÃ©aire\n",
    "\n",
    "* $f(x) = \\langle x, \\beta \\rangle$\n",
    "\n",
    "* estimer le vecteur de paramÃ¨tre $\\beta$"
   ]
  },
  {
   "cell_type": "markdown",
   "metadata": {
    "id": "VVqpO4iHB76c",
    "colab_type": "text"
   },
   "source": [
    "a) GÃ©nÃ©rer des donnÃ©es suivant le modÃ¨le : $y_i = \\beta_0 + \\beta_1 x_i + \\epsilon_i$. Afficher les donnÃ©es."
   ]
  },
  {
   "cell_type": "code",
   "metadata": {
    "id": "60WPl17DCYxb",
    "colab_type": "code",
    "colab": {},
    "pycharm": {
     "is_executing": false
    }
   },
   "source": [
    "def plot_donnees(x, y):\n",
    "    points = np.array([min(x), max(x)])\n",
    "    plt.scatter(points, x)\n",
    "    plt.plot(x, y, lw=2.5, c=\"k\", label=\"fit line between min and max\")\n",
    "\n",
    "    plt.legend()\n",
    "    plt.show()\n",
    "\n",
    "\n",
    "def generer_donnees(nb_points=100):\n",
    "    betas = np.random.random((2, 1))\n",
    "    points_x = np.random.random((nb_points, 1))\n",
    "    points_x = np.concatenate((points_x, np.ones((nb_points, 1))), axis=1)\n",
    "\n",
    "    # le bruit & la fonction de génération\n",
    "    # epsilons = np.random.rand((nb_points, 1))\n",
    "    # fonction_generation = lambda var: coefficient_a * var + coefficient_b\n",
    "\n",
    "    y = points_x @ betas + np.random.normal(0, 0.05, (nb_points, 1))\n",
    "\n",
    "    # on enregistre les y\n",
    "    # points_y = fonction_generation(points_x) + epsilons\n",
    "\n",
    "    plt.scatter(points_x[:, 0], y)\n",
    "    # plt.plot(x, f(x), lw=2.5, c=\"k\", label=\"fit line between min and max\")\n",
    "\n",
    "    plt.legend()\n",
    "    plt.show()\n",
    "\n",
    "    return points_x, y\n",
    "\n",
    "x_lin, y_lin = generer_donnees(100)\n",
    "plot_donnees(x_lin, y_lin)\n",
    "\n",
    "# A complÃ©ter"
   ],
   "execution_count": 6,
   "outputs": [
    {
     "name": "stderr",
     "text": [
      "No handles with labels found to put in legend.\n"
     ],
     "output_type": "stream"
    },
    {
     "data": {
      "text/plain": "<Figure size 432x288 with 1 Axes>",
      "image/png": "[encoded data removed]"
     },
     "metadata": {
      "needs_background": "light"
     },
     "output_type": "display_data"
    },
    {
     "traceback": [
      "\u001b[0;31m---------------------------------------------------------------------------\u001b[0m",
      "\u001b[0;31mValueError\u001b[0m                                Traceback (most recent call last)",
      "\u001b[0;32m<ipython-input-6-d46de553089a>\u001b[0m in \u001b[0;36m<module>\u001b[0;34m\u001b[0m\n\u001b[1;32m     31\u001b[0m \u001b[0;34m\u001b[0m\u001b[0m\n\u001b[1;32m     32\u001b[0m \u001b[0mx_lin\u001b[0m\u001b[0;34m,\u001b[0m \u001b[0my_lin\u001b[0m \u001b[0;34m=\u001b[0m \u001b[0mgenerer_donnees\u001b[0m\u001b[0;34m(\u001b[0m\u001b[0;36m100\u001b[0m\u001b[0;34m)\u001b[0m\u001b[0;34m\u001b[0m\u001b[0;34m\u001b[0m\u001b[0m\n\u001b[0;32m---> 33\u001b[0;31m \u001b[0mplot_donnees\u001b[0m\u001b[0;34m(\u001b[0m\u001b[0mx_lin\u001b[0m\u001b[0;34m,\u001b[0m \u001b[0my_lin\u001b[0m\u001b[0;34m)\u001b[0m\u001b[0;34m\u001b[0m\u001b[0;34m\u001b[0m\u001b[0m\n\u001b[0m\u001b[1;32m     34\u001b[0m \u001b[0;34m\u001b[0m\u001b[0m\n\u001b[1;32m     35\u001b[0m \u001b[0;31m# A complÃ©ter\u001b[0m\u001b[0;34m\u001b[0m\u001b[0;34m\u001b[0m\u001b[0;34m\u001b[0m\u001b[0m\n",
      "\u001b[0;32m<ipython-input-6-d46de553089a>\u001b[0m in \u001b[0;36mplot_donnees\u001b[0;34m(x, y)\u001b[0m\n\u001b[1;32m      1\u001b[0m \u001b[0;32mdef\u001b[0m \u001b[0mplot_donnees\u001b[0m\u001b[0;34m(\u001b[0m\u001b[0mx\u001b[0m\u001b[0;34m,\u001b[0m \u001b[0my\u001b[0m\u001b[0;34m)\u001b[0m\u001b[0;34m:\u001b[0m\u001b[0;34m\u001b[0m\u001b[0;34m\u001b[0m\u001b[0m\n\u001b[0;32m----> 2\u001b[0;31m     \u001b[0mpoints\u001b[0m \u001b[0;34m=\u001b[0m \u001b[0mnp\u001b[0m\u001b[0;34m.\u001b[0m\u001b[0marray\u001b[0m\u001b[0;34m(\u001b[0m\u001b[0;34m[\u001b[0m\u001b[0mmin\u001b[0m\u001b[0;34m(\u001b[0m\u001b[0mx\u001b[0m\u001b[0;34m)\u001b[0m\u001b[0;34m,\u001b[0m \u001b[0mmax\u001b[0m\u001b[0;34m(\u001b[0m\u001b[0mx\u001b[0m\u001b[0;34m)\u001b[0m\u001b[0;34m]\u001b[0m\u001b[0;34m)\u001b[0m\u001b[0;34m\u001b[0m\u001b[0;34m\u001b[0m\u001b[0m\n\u001b[0m\u001b[1;32m      3\u001b[0m     \u001b[0mplt\u001b[0m\u001b[0;34m.\u001b[0m\u001b[0mscatter\u001b[0m\u001b[0;34m(\u001b[0m\u001b[0mpoints\u001b[0m\u001b[0;34m,\u001b[0m \u001b[0mx\u001b[0m\u001b[0;34m)\u001b[0m\u001b[0;34m\u001b[0m\u001b[0;34m\u001b[0m\u001b[0m\n\u001b[1;32m      4\u001b[0m     \u001b[0mplt\u001b[0m\u001b[0;34m.\u001b[0m\u001b[0mplot\u001b[0m\u001b[0;34m(\u001b[0m\u001b[0mx\u001b[0m\u001b[0;34m,\u001b[0m \u001b[0my\u001b[0m\u001b[0;34m,\u001b[0m \u001b[0mlw\u001b[0m\u001b[0;34m=\u001b[0m\u001b[0;36m2.5\u001b[0m\u001b[0;34m,\u001b[0m \u001b[0mc\u001b[0m\u001b[0;34m=\u001b[0m\u001b[0;34m\"k\"\u001b[0m\u001b[0;34m,\u001b[0m \u001b[0mlabel\u001b[0m\u001b[0;34m=\u001b[0m\u001b[0;34m\"fit line between min and max\"\u001b[0m\u001b[0;34m)\u001b[0m\u001b[0;34m\u001b[0m\u001b[0;34m\u001b[0m\u001b[0m\n\u001b[1;32m      5\u001b[0m \u001b[0;34m\u001b[0m\u001b[0m\n",
      "\u001b[0;31mValueError\u001b[0m: The truth value of an array with more than one element is ambiguous. Use a.any() or a.all()"
     ],
     "ename": "ValueError",
     "evalue": "The truth value of an array with more than one element is ambiguous. Use a.any() or a.all()",
     "output_type": "error"
    }
   ]
  },
  {
   "cell_type": "markdown",
   "metadata": {
    "id": "HZEn9gY9KPLp",
    "colab_type": "text"
   },
   "source": [
    "b) Calculer la solution obtenue par une rÃ©gression linÃ©aire Ã  moindres carrÃ©s. Tracer la droite de rÃ©gression obtenue."
   ]
  },
  {
   "cell_type": "code",
   "metadata": {
    "id": "i0yVXq1sKX9Z",
    "colab_type": "code",
    "colab": {}
   },
   "source": [
    "# A complÃ©ter"
   ],
   "execution_count": 0,
   "outputs": []
  },
  {
   "cell_type": "markdown",
   "metadata": {
    "id": "xvPAmM6MM2mD",
    "colab_type": "text"
   },
   "source": [
    "##I.2. RÃ©gression non linÃ©aire\n"
   ]
  },
  {
   "cell_type": "markdown",
   "metadata": {
    "id": "GlmYrABzNGXS",
    "colab_type": "text"
   },
   "source": [
    "a) GÃ©nÃ©rer des donnÃ©es suivant le modÃ¨le : $y_n = \\sin(\\frac{n}{10}) +(\\frac{n}{50})^2 + \\epsilon $. Afficher les donnÃ©es."
   ]
  },
  {
   "cell_type": "code",
   "metadata": {
    "id": "F_u3PiBHNoEp",
    "colab_type": "code",
    "colab": {}
   },
   "source": [
    "import numpy as np\n",
    "\n",
    "from matplotlib.pyplot import *\n",
    "\n",
    "# A complÃ©ter"
   ],
   "execution_count": 0,
   "outputs": []
  },
  {
   "cell_type": "markdown",
   "metadata": {
    "id": "Kp_CN5EAOKD0",
    "colab_type": "text"
   },
   "source": [
    "### I.2.1. RÃ©gression polynomiale\n",
    "\n",
    "* $y = \\beta_0 + \\beta_1 x + \\beta_2 x^2 +\\beta_3 x^3$\n",
    "\n",
    "* La solution d'une rÃ©gression linÃ©aire : $\\hat{\\beta} = (X^\\top X)^{-1} X^\\top Y$\n",
    "\n",
    "* Utiliser $X = [1 \\ x \\ x^2 \\ x^3]$\n"
   ]
  },
  {
   "cell_type": "markdown",
   "metadata": {
    "id": "_y6xcmHXa20U",
    "colab_type": "text"
   },
   "source": [
    "a) Ecrire une fonction qui retourne la solution de la rÃ©gression linÃ©aire multiple."
   ]
  },
  {
   "cell_type": "code",
   "metadata": {
    "id": "wRcxUWfNPbo2",
    "colab_type": "code",
    "colab": {}
   },
   "source": [
    "# A complÃ©ter"
   ],
   "execution_count": 0,
   "outputs": []
  },
  {
   "cell_type": "markdown",
   "metadata": {
    "id": "_r7byVnnbFd5",
    "colab_type": "text"
   },
   "source": [
    "b) Utilisant la fonction ci-dessus, estimer les parmÃ¨tres du modÃ¨le de rÃ©gression polynomiale et afficher la solution."
   ]
  },
  {
   "cell_type": "code",
   "metadata": {
    "id": "EoVLd5DGPshv",
    "colab_type": "code",
    "colab": {}
   },
   "source": [
    "# A complÃ©ter"
   ],
   "execution_count": 0,
   "outputs": []
  },
  {
   "cell_type": "markdown",
   "metadata": {
    "id": "gtyN0Nu7Qsbl",
    "colab_type": "text"
   },
   "source": [
    "###I.2.2 Regression Ã  noyau\n",
    "\n",
    "a) Dans le cas du modÃ¨le linÃ©aire, appliquer la rÃ©gression Ã  noyau avec un noyau linÃ©aire. Utiliser la fonction KernelRidge de Scikit-learn avec un noyau linÃ©aire. ReptrÃ©senter sur un graphique les donnÃ©es et la solution obtenue."
   ]
  },
  {
   "cell_type": "code",
   "metadata": {
    "id": "9QH-3CTBQxID",
    "colab_type": "code",
    "colab": {}
   },
   "source": [
    "from sklearn.kernel_ridge import KernelRidge\n",
    "import numpy as np\n",
    "\n",
    "\n",
    "# A complÃ©ter"
   ],
   "execution_count": 0,
   "outputs": []
  },
  {
   "cell_type": "markdown",
   "metadata": {
    "id": "Fkzpl_q8ajPH",
    "colab_type": "text"
   },
   "source": [
    "b) Dans le cas du modÃ¨le non-linÃ©aire, appliquer la rÃ©gression Ã  noyau avec un noyau rbf. ReprÃ©senter sur un graphique les donnÃ©es et la solution obtenue. "
   ]
  },
  {
   "cell_type": "code",
   "metadata": {
    "id": "S_1C01pAVS4c",
    "colab_type": "code",
    "colab": {}
   },
   "source": [
    "# A complÃ©ter"
   ],
   "execution_count": 0,
   "outputs": []
  },
  {
   "cell_type": "markdown",
   "metadata": {
    "colab_type": "text",
    "id": "mJ3d9NwMccbd"
   },
   "source": [
    "# Partie II : DonnÃ©es rÃ©elles"
   ]
  },
  {
   "cell_type": "markdown",
   "metadata": {
    "id": "fd1xn557cf-G",
    "colab_type": "text"
   },
   "source": [
    "Soit les donnÃ©es suivantes : https://archive.ics.uci.edu/ml/datasets/Bike+Sharing+Dataset#"
   ]
  },
  {
   "cell_type": "markdown",
   "metadata": {
    "id": "Hq4u7kjucy-4",
    "colab_type": "text"
   },
   "source": [
    "La rÃ©gression ridge et lasso sont des extensions de la rÃ©gression linÃ©aire par moindres carrÃ©s permettant d'Ã©viter le risque de sur-apprendtissage. L'idÃ©e est d'ajouter une pÃ©nalisation au problÃ¨me de rÃ©gression par moindres carrÃ©s:\n",
    "$$ \\arg\\min_{w\\in\\mathbb{R}^d, b\\in\\mathbb{R}} \\sum_{i=1}^n \\big(y_i - \\langle w, x_i \\rangle-b\\big)^2 + \\lambda \\Omega(w),$$\n",
    "oÃ¹ $\\lambda\\in\\mathbb{R}$ est un paramÃ¨tre de rÃ©gularisation, $\\Omega(w) = \\|w\\|_2^2$ pour la rÃ©gression ridge et $\\Omega(w) = \\|w\\|_1$ pour le Lasso."
   ]
  },
  {
   "cell_type": "markdown",
   "metadata": {
    "id": "9WBHGcvIeQsY",
    "colab_type": "text"
   },
   "source": [
    "a) Uyilisant la bibliothÃ¨que Scikit-learn, appliquez la rÃ©gression Ridge et la rÃ©gression Lasso sur le jeu de donnÃ©es \"Bike Sharing\". Affichez et comparez les deux solutions obtenues."
   ]
  },
  {
   "cell_type": "code",
   "metadata": {
    "id": "AW0jFEIDexff",
    "colab_type": "code",
    "colab": {}
   },
   "source": [
    "# A complÃ©ter"
   ],
   "execution_count": 0,
   "outputs": []
  },
  {
   "cell_type": "markdown",
   "metadata": {
    "id": "Ua-sKAQce60k",
    "colab_type": "text"
   },
   "source": [
    "b) Calculez les erreurs de prÃ©diction sur les donnÃ©es d'apprentissage obtenues avec les rÃ©gressions Ridge et Lasso. Comparez les rÃ©sultats avec ceux obtenus par la rÃ©gression par moindre carrÃ©s."
   ]
  },
  {
   "cell_type": "code",
   "metadata": {
    "id": "5bU_PKrffCbl",
    "colab_type": "code",
    "colab": {}
   },
   "source": [
    "# A complÃ©ter"
   ],
   "execution_count": 0,
   "outputs": []
  },
  {
   "cell_type": "markdown",
   "metadata": {
    "id": "aE9e0mI5fBcR",
    "colab_type": "text"
   },
   "source": [
    "c)  Le choix du paramÃ¨tre $\\lambda$ est primordiale pour avoir des rÃ©sultats de prÃ©diction optimaux. Une faÃ§on de procÃ©der pour trouver une bonne valeur $\\lambda$ est d'utiliser la mÃ©thode de cross-validation sur une grille de valeurs. DÃ©terminer par cross-validation les valeurs de $\\lambda$ permettant d'avoir les meilleurs taux de prÃ©diction. \n",
    "\n"
   ]
  },
  {
   "cell_type": "code",
   "metadata": {
    "id": "eWEm1sEMfcAQ",
    "colab_type": "code",
    "colab": {}
   },
   "source": [
    "# A complÃ©ter"
   ],
   "execution_count": 0,
   "outputs": []
  }
 ]
}
