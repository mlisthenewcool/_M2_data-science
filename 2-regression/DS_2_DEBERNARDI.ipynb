{
  "nbformat": 4,
  "nbformat_minor": 0,
  "metadata": {
    "colab": {
      "name": "DS_2_DEBERNARDI.ipynb",
      "provenance": [],
      "collapsed_sections": []
    },
    "kernelspec": {
      "name": "python3",
      "display_name": "Python 3"
    },
    "pycharm": {
      "stem_cell": {
        "cell_type": "raw",
        "source": [],
        "metadata": {
          "collapsed": false
        }
      }
    },
    "accelerator": "GPU"
  },
  "cells": [
    {
      "cell_type": "code",
      "metadata": {
        "pycharm": {
          "name": "#%%\n",
          "is_executing": false
        },
        "id": "BMqhae8KqR56",
        "colab_type": "code",
        "colab": {}
      },
      "source": [
        "import numpy as np\n",
        "import pandas as pd\n",
        "import plotly.graph_objects as go\n",
        "\n",
        "from operator import add\n",
        "from functools import reduce\n",
        "\n",
        "from sklearn.kernel_ridge import KernelRidge\n",
        "from sklearn.linear_model import Ridge, Lasso, LinearRegression\n",
        "\n",
        "from sklearn.model_selection import train_test_split, GridSearchCV"
      ],
      "execution_count": 0,
      "outputs": []
    },
    {
      "cell_type": "markdown",
      "metadata": {
        "id": "HwWGIO3TAmiM",
        "colab_type": "text"
      },
      "source": [
        "# Régression\n",
        "\n",
        "* modéliser des relations statistiques entre deux variables\n",
        "\n",
        "* estimer l'impact de la variation d'une variable explicative sur une variable à  expliquer\n",
        "\n",
        "* modèle : $y = f(x) + \\epsilon$"
      ]
    },
    {
      "cell_type": "markdown",
      "metadata": {
        "id": "oCdafNL5YK58",
        "colab_type": "text"
      },
      "source": [
        "# Partie I : Données simulées"
      ]
    },
    {
      "cell_type": "markdown",
      "metadata": {
        "id": "uH-9ytqnA06o",
        "colab_type": "text"
      },
      "source": [
        "##I.1. Régression linéaire\n",
        "\n",
        "* $f(x) = \\langle x, \\beta \\rangle$\n",
        "\n",
        "* estimer le vecteur de paramètre $\\beta$"
      ]
    },
    {
      "cell_type": "markdown",
      "metadata": {
        "id": "VVqpO4iHB76c",
        "colab_type": "text"
      },
      "source": [
        "a) Générer des données suivant le modèle : \n",
        "$$ y_i = \\beta_0 + \\beta_1 x_i + \\epsilon_i $$"
      ]
    },
    {
      "cell_type": "code",
      "metadata": {
        "id": "60WPl17DCYxb",
        "colab_type": "code",
        "pycharm": {
          "is_executing": false
        },
        "colab": {}
      },
      "source": [
        "def linear_data(n_samples, variance):\n",
        "    # generate 2D data\n",
        "    X = np.random.random((n_samples, 1))\n",
        "\n",
        "    # generate two random coefficients that will be our model generator\n",
        "    # we want to find them back using different algorithms\n",
        "    W = np.random.random((2, 1))\n",
        "\n",
        "    # construct targets with our data and weights\n",
        "    y = W[0] + W[1] * X\n",
        "\n",
        "    # a more elegant way could be to add a vector of ones to ease calculus\n",
        "    # X = np.concatenate((np.ones((n_samples, 1)), X), axis=1)\n",
        "    # and then to construct target\n",
        "    # y = W @ X\n",
        "    # ---\n",
        "    # but that shape is a bit tricky to plot later...\n",
        "\n",
        "    # add some noise to our data\n",
        "    y += np.random.normal(0, variance, (n_samples, 1))\n",
        "\n",
        "    return X, y, W"
      ],
      "execution_count": 0,
      "outputs": []
    },
    {
      "cell_type": "markdown",
      "metadata": {
        "id": "dt5SOx8lBOWi",
        "colab_type": "text"
      },
      "source": [
        "b) Afficher les données et la droite qui a permis de générer les données.\n",
        "\n",
        "c) Calculer la droite de régression par la méthode des moindres carrés et l'afficher."
      ]
    },
    {
      "cell_type": "code",
      "metadata": {
        "id": "N7ON6BcaBK3N",
        "colab_type": "code",
        "colab": {}
      },
      "source": [
        "def ols_regression(X, y, fit_intercept=True, degree=1):\n",
        "    # universal ols regression, suitable for any polynomial data\n",
        "    X = np.concatenate(([X ** i for i in range(1, degree + 1)]), axis=1)\n",
        "\n",
        "    # add a ones vector at first position\n",
        "    if fit_intercept:\n",
        "        X = np.concatenate((np.ones((X.shape[0], 1)), X), axis=1)\n",
        "\n",
        "    return np.linalg.inv(X.T @ X) @ X.T @ y\n",
        "\n",
        "\n",
        "def get_regression_predictions(X, weights):\n",
        "    # helper function to return predictions from data and weights\n",
        "    # suitable for any polynomial data\n",
        "    weights = weights.squeeze()\n",
        "    return reduce(add, [weights[i] * (X ** i) for i in range(len(weights))])"
      ],
      "execution_count": 0,
      "outputs": []
    },
    {
      "cell_type": "code",
      "metadata": {
        "id": "72KzHysJ-nc8",
        "colab_type": "code",
        "outputId": "3a6099bc-1caa-421b-d090-1de1a6b1e352",
        "colab": {
          "base_uri": "https://localhost:8080/",
          "height": 542
        }
      },
      "source": [
        " # generate some noisy linear data\n",
        "n_samples, variance = 100, 0.01\n",
        "X, Y, W = linear_data(n_samples, variance)\n",
        "\n",
        "# we'll plot data between min and max\n",
        "x_range = np.linspace(X.min(), X.max(), n_samples).reshape(-1, 1)\n",
        "\n",
        "# calculate the regression line with ols regression\n",
        "ols_weights = ols_regression(X, Y, fit_intercept=True, degree=1)\n",
        "\n",
        "# get the line with found weights according to x_range\n",
        "ols_line = get_regression_predictions(x_range, ols_weights)\n",
        "\n",
        "# get the line with true weights according to x_range\n",
        "true_line = get_regression_predictions(x_range, W)\n",
        "\n",
        "# ploting power !\n",
        "fig = go.Figure(\n",
        "    data=[\n",
        "        # markers\n",
        "        go.Scatter(\n",
        "            x=X.squeeze(),\n",
        "            y=Y.squeeze(),\n",
        "            mode='markers',\n",
        "            name=f'linear data [{n_samples}, {variance}]'\n",
        "        ),\n",
        "        # true line\n",
        "        go.Scatter(\n",
        "            x=x_range.squeeze(),\n",
        "            y=true_line.squeeze(),\n",
        "            mode='lines',\n",
        "            name=f\"true line {W.squeeze()}\"\n",
        "        ),\n",
        "        # ols found line\n",
        "        go.Scatter(\n",
        "            x=x_range.squeeze(),\n",
        "            y=ols_line.squeeze(),\n",
        "            mode='lines',\n",
        "            name=f\"ols found line {ols_weights.squeeze()}\"\n",
        "        )\n",
        "    ],\n",
        "    layout={\n",
        "        'legend': {\n",
        "            'orientation': 'h'\n",
        "        }\n",
        "    }\n",
        ")\n",
        "fig.show()"
      ],
      "execution_count": 0,
      "outputs": [
        {
          "output_type": "display_data",
          "data": {
            "text/html": [
              "<html>\n",
              "<head><meta charset=\"utf-8\" /></head>\n",
              "<body>\n",
              "    <div>\n",
              "            <script src=\"https://cdnjs.cloudflare.com/ajax/libs/mathjax/2.7.5/MathJax.js?config=TeX-AMS-MML_SVG\"></script><script type=\"text/javascript\">if (window.MathJax) {MathJax.Hub.Config({SVG: {font: \"STIX-Web\"}});}</script>\n",
              "                <script type=\"text/javascript\">window.PlotlyConfig = {MathJaxConfig: 'local'};</script>\n",
              "        <script src=\"https://cdn.plot.ly/plotly-latest.min.js\"></script>    \n",
              "            <div id=\"da65fe7c-4a35-4e42-b29f-817b0531328a\" class=\"plotly-graph-div\" style=\"height:525px; width:100%;\"></div>\n",
              "            <script type=\"text/javascript\">\n",
              "                \n",
              "                    window.PLOTLYENV=window.PLOTLYENV || {};\n",
              "                    \n",
              "                if (document.getElementById(\"da65fe7c-4a35-4e42-b29f-817b0531328a\")) {\n",
              "                    Plotly.newPlot(\n",
              "                        'da65fe7c-4a35-4e42-b29f-817b0531328a',\n",
              "                        [{\"mode\": \"markers\", \"name\": \"linear data [100, 0.01]\", \"type\": \"scatter\", \"x\": [0.7792246176429786, 0.4742158099776774, 0.13625012385632773, 0.470842359170927, 0.7467067824920043, 0.45991826314602713, 0.9367803826796167, 0.7235188660050716, 0.3962488858979023, 0.3394713421904605, 0.9412551831931232, 0.2994550909086199, 0.9486125052540249, 0.7338398162819978, 0.09285390667041948, 0.5164869496251521, 0.6556891213119148, 0.3560517563673249, 0.2617119157019573, 0.7248940955998993, 0.2363534242770603, 0.4892912508337478, 0.6065036833220817, 0.34901017612249496, 0.8056507437299314, 0.6322772101869891, 0.3047466843846227, 0.24641257807812056, 0.9112985785472695, 0.2886755829659341, 0.073048892136504, 0.31384607507896245, 0.5160480821678232, 0.1535850767772765, 0.3055092315698157, 0.5255678114065663, 0.0071932015066290544, 0.6755995548670805, 0.40544972070992036, 0.5626212803699678, 0.22576401105257315, 0.3435092378072965, 0.4179314229322033, 0.0931691604501399, 0.9035102266529411, 0.48595663139830514, 0.3879121368702565, 0.16136227995334884, 0.3011040383410144, 0.7723616507045726, 0.9487469964887718, 0.40298100706289286, 0.5042129409062386, 0.625537155229784, 0.9148904201130807, 0.43300074109875886, 0.9328101978563832, 0.2405805164037359, 0.593263658731746, 0.5595293216072326, 0.08115898457367043, 0.2865982477828216, 0.8756074031509063, 0.36858240608800885, 0.46512035829893916, 0.5168741947271083, 0.9931741593434746, 0.629253195442358, 0.5398085550327639, 0.20279098220231018, 0.6720391888114279, 0.5433052871606932, 0.6247558236445582, 0.5065160181993418, 0.5737542730948973, 0.5349841466259659, 0.9892147496898793, 0.16921393205242563, 0.6994525870731686, 0.8840343864603025, 0.9092538952382662, 0.45883744414434335, 0.9611244144726562, 0.8255578534743389, 0.6945254000360606, 0.31789989376923355, 0.734594552909692, 0.4098884373584345, 0.48702965676929344, 0.8934473927565129, 0.0984908051945611, 0.9327514243824617, 0.6508407055255117, 0.2131613907737181, 0.8309970919975179, 0.11294918383216945, 0.5189240037786647, 0.058079127661497476, 0.6147339204979564, 0.19668366439349783], \"y\": [0.4379227607263985, 0.3832706248182128, 0.3460744860810092, 0.38929797087788576, 0.40949396591533194, 0.38081622211789373, 0.43604393531256125, 0.4078182263895688, 0.38391322519398313, 0.37361922692191896, 0.4325123351315454, 0.377404760824526, 0.430736330560071, 0.4133897170997353, 0.3369178397660185, 0.381030384562707, 0.3957319895472944, 0.3643790652600905, 0.3398532120623673, 0.41199411745569303, 0.37547497658937906, 0.3818395692360811, 0.4039424900276915, 0.3761891995804643, 0.4105101813822505, 0.4200296132866405, 0.37816487351552874, 0.378704638929969, 0.4278147893516142, 0.3646891411379001, 0.3588595651284807, 0.3780493685527185, 0.40181549324048177, 0.35869381727695865, 0.36992845155716936, 0.3820097724137631, 0.34264018609288455, 0.38693950852457787, 0.3839583093677232, 0.37722874633783066, 0.37625648490915475, 0.3609852924228327, 0.39514746239782605, 0.3559015322225336, 0.43248988067456834, 0.3785790322224134, 0.3901492684112595, 0.35612396578864136, 0.3678104886277975, 0.40910353839532304, 0.43801313564128336, 0.37968409804718056, 0.39279284908840606, 0.4099500538569754, 0.4263714738723769, 0.37483189953393464, 0.4189219156570885, 0.3534292633421653, 0.397395499967582, 0.3992227898126959, 0.32912325154858124, 0.38321164385865314, 0.4076250095455192, 0.3793165725819664, 0.3882772766932156, 0.39499428035360984, 0.42865289110826105, 0.3963068132967616, 0.39999851196895264, 0.35640514754805597, 0.4219452159952944, 0.3912606269365975, 0.38985669762713127, 0.38918703605050475, 0.3974496899648387, 0.3891005598548393, 0.4338598007221106, 0.34503635445469016, 0.40586291347530645, 0.429983923761249, 0.40946742650697626, 0.38266508069376326, 0.4175234672433385, 0.4359880308436236, 0.4173329306894498, 0.37243031423877376, 0.40871644936113793, 0.35879056554508854, 0.3881776489669241, 0.41880282406875485, 0.3534259162814184, 0.43217956893209974, 0.40088072358492777, 0.3626670569735416, 0.4163808878898336, 0.3572081114401017, 0.3982675567051551, 0.349275054501947, 0.4030623274429, 0.34704047413327704]}, {\"mode\": \"lines\", \"name\": \"true line [0.33974929 0.09824191]\", \"type\": \"scatter\", \"x\": [0.0071932015066290544, 0.017152605121142646, 0.027112008735656237, 0.03707141235016983, 0.04703081596468342, 0.05699021957919701, 0.0669496231937106, 0.0769090268082242, 0.08686843042273779, 0.09682783403725137, 0.10678723765176497, 0.11674664126627857, 0.12670604488079215, 0.13666544849530574, 0.14662485210981935, 0.15658425572433293, 0.16654365933884652, 0.1765030629533601, 0.18646246656787369, 0.1964218701823873, 0.20638127379690088, 0.21634067741141447, 0.22630008102592808, 0.23625948464044166, 0.24621888825495525, 0.25617829186946883, 0.2661376954839824, 0.276097099098496, 0.28605650271300964, 0.2960159063275232, 0.3059753099420368, 0.3159347135565504, 0.325894117171064, 0.33585352078557756, 0.34581292440009115, 0.35577232801460473, 0.3657317316291183, 0.37569113524363196, 0.38565053885814554, 0.3956099424726591, 0.4055693460871727, 0.4155287497016863, 0.4254881533161999, 0.43544755693071346, 0.4454069605452271, 0.4553663641597407, 0.4653257677742543, 0.47528517138876786, 0.48524457500328144, 0.495203978617795, 0.5051633822323086, 0.5151227858468223, 0.5250821894613358, 0.5350415930758494, 0.545000996690363, 0.5549604003048766, 0.5649198039193902, 0.5748792075339038, 0.5848386111484174, 0.5947980147629309, 0.6047574183774446, 0.6147168219919581, 0.6246762256064717, 0.6346356292209853, 0.6445950328354989, 0.6545544364500125, 0.6645138400645261, 0.6744732436790397, 0.6844326472935532, 0.6943920509080669, 0.7043514545225804, 0.714310858137094, 0.7242702617516076, 0.7342296653661212, 0.7441890689806349, 0.7541484725951484, 0.764107876209662, 0.7740672798241756, 0.7840266834386892, 0.7939860870532027, 0.8039454906677164, 0.81390489428223, 0.8238642978967435, 0.8338237015112572, 0.8437831051257707, 0.8537425087402843, 0.8637019123547979, 0.8736613159693115, 0.8836207195838252, 0.8935801231983387, 0.9035395268128523, 0.9134989304273659, 0.9234583340418795, 0.933417737656393, 0.9433771412709067, 0.9533365448854202, 0.9632959484999338, 0.9732553521144475, 0.983214755728961, 0.9931741593434746], \"y\": [0.3404559679351136, 0.3414343988184366, 0.3424128297017596, 0.3433912605850827, 0.3443696914684057, 0.3453481223517287, 0.34632655323505174, 0.34730498411837474, 0.34828341500169774, 0.3492618458850208, 0.3502402767683438, 0.3512187076516668, 0.35219713853498985, 0.35317556941831285, 0.35415400030163585, 0.3551324311849589, 0.3561108620682819, 0.3570892929516049, 0.35806772383492796, 0.35904615471825096, 0.36002458560157397, 0.361003016484897, 0.36198144736822, 0.362959878251543, 0.3639383091348661, 0.3649167400181891, 0.3658951709015121, 0.36687360178483513, 0.36785203266815814, 0.36883046355148114, 0.3698088944348042, 0.3707873253181272, 0.3717657562014502, 0.37274418708477325, 0.37372261796809625, 0.37470104885141925, 0.3756794797347423, 0.3766579106180653, 0.3776363415013883, 0.37861477238471136, 0.37959320326803436, 0.38057163415135736, 0.3815500650346804, 0.3825284959180034, 0.3835069268013264, 0.3844853576846495, 0.3854637885679725, 0.3864422194512955, 0.38742065033461853, 0.38839908121794153, 0.38937751210126453, 0.3903559429845876, 0.3913343738679106, 0.3923128047512336, 0.39329123563455665, 0.39426966651787965, 0.39524809740120265, 0.3962265282845257, 0.3972049591678487, 0.3981833900511717, 0.39916182093449476, 0.40014025181781776, 0.40111868270114076, 0.4020971135844638, 0.4030755444677868, 0.4040539753511099, 0.4050324062344329, 0.4060108371177559, 0.4069892680010789, 0.40796769888440193, 0.40894612976772493, 0.40992456065104793, 0.41090299153437093, 0.411881422417694, 0.41285985330101704, 0.41383828418434, 0.41481671506766304, 0.41579514595098604, 0.4167735768343091, 0.4177520077176321, 0.4187304386009551, 0.41970886948427816, 0.42068730036760116, 0.42166573125092416, 0.42264416213424716, 0.4236225930175702, 0.4246010239008932, 0.42557945478421627, 0.42655788566753927, 0.42753631655086227, 0.42851474743418533, 0.42949317831750833, 0.43047160920083133, 0.43145004008415433, 0.4324284709674774, 0.4334069018508004, 0.4343853327341234, 0.43536376361744644, 0.43634219450076944, 0.4373206253840925]}, {\"mode\": \"lines\", \"name\": \"ols found line [0.3412105  0.09413967]\", \"type\": \"scatter\", \"x\": [0.0071932015066290544, 0.017152605121142646, 0.027112008735656237, 0.03707141235016983, 0.04703081596468342, 0.05699021957919701, 0.0669496231937106, 0.0769090268082242, 0.08686843042273779, 0.09682783403725137, 0.10678723765176497, 0.11674664126627857, 0.12670604488079215, 0.13666544849530574, 0.14662485210981935, 0.15658425572433293, 0.16654365933884652, 0.1765030629533601, 0.18646246656787369, 0.1964218701823873, 0.20638127379690088, 0.21634067741141447, 0.22630008102592808, 0.23625948464044166, 0.24621888825495525, 0.25617829186946883, 0.2661376954839824, 0.276097099098496, 0.28605650271300964, 0.2960159063275232, 0.3059753099420368, 0.3159347135565504, 0.325894117171064, 0.33585352078557756, 0.34581292440009115, 0.35577232801460473, 0.3657317316291183, 0.37569113524363196, 0.38565053885814554, 0.3956099424726591, 0.4055693460871727, 0.4155287497016863, 0.4254881533161999, 0.43544755693071346, 0.4454069605452271, 0.4553663641597407, 0.4653257677742543, 0.47528517138876786, 0.48524457500328144, 0.495203978617795, 0.5051633822323086, 0.5151227858468223, 0.5250821894613358, 0.5350415930758494, 0.545000996690363, 0.5549604003048766, 0.5649198039193902, 0.5748792075339038, 0.5848386111484174, 0.5947980147629309, 0.6047574183774446, 0.6147168219919581, 0.6246762256064717, 0.6346356292209853, 0.6445950328354989, 0.6545544364500125, 0.6645138400645261, 0.6744732436790397, 0.6844326472935532, 0.6943920509080669, 0.7043514545225804, 0.714310858137094, 0.7242702617516076, 0.7342296653661212, 0.7441890689806349, 0.7541484725951484, 0.764107876209662, 0.7740672798241756, 0.7840266834386892, 0.7939860870532027, 0.8039454906677164, 0.81390489428223, 0.8238642978967435, 0.8338237015112572, 0.8437831051257707, 0.8537425087402843, 0.8637019123547979, 0.8736613159693115, 0.8836207195838252, 0.8935801231983387, 0.9035395268128523, 0.9134989304273659, 0.9234583340418795, 0.933417737656393, 0.9433771412709067, 0.9533365448854202, 0.9632959484999338, 0.9732553521144475, 0.983214755728961, 0.9931741593434746], \"y\": [0.3418876656623605, 0.34282524066288744, 0.3437628156634144, 0.34470039066394137, 0.3456379656644683, 0.3465755406649953, 0.34751311566552223, 0.3484506906660492, 0.34938826566657616, 0.3503258406671031, 0.3512634156676301, 0.352200990668157, 0.353138565668684, 0.35407614066921095, 0.35501371566973794, 0.3559512906702649, 0.3568888656707918, 0.3578264406713188, 0.35876401567184574, 0.35970159067237273, 0.36063916567289966, 0.3615767406734266, 0.3625143156739536, 0.3634518906744805, 0.3643894656750075, 0.36532704067553445, 0.36626461567606144, 0.3672021906765884, 0.3681397656771153, 0.3690773406776423, 0.37001491567816924, 0.37095249067869623, 0.37189006567922317, 0.37282764067975016, 0.3737652156802771, 0.37470279068080403, 0.375640365681331, 0.37657794068185796, 0.37751551568238495, 0.3784530906829119, 0.3793906656834388, 0.3803282406839658, 0.38126581568449275, 0.38220339068501974, 0.3831409656855467, 0.38407854068607367, 0.3850161156866006, 0.38595369068712754, 0.38689126568765453, 0.38782884068818146, 0.38876641568870846, 0.3897039906892354, 0.3906415656897624, 0.3915791406902893, 0.39251671569081625, 0.39345429069134324, 0.3943918656918702, 0.39532944069239717, 0.3962670156929241, 0.39720459069345104, 0.39814216569397803, 0.39907974069450497, 0.40001731569503196, 0.4009548906955589, 0.40189246569608583, 0.4028300406966128, 0.40376761569713976, 0.40470519069766675, 0.4056427656981937, 0.4065803406987207, 0.4075179156992476, 0.4084554906997746, 0.40939306570030154, 0.4103306407008285, 0.41126821570135547, 0.4122057907018824, 0.4131433657024094, 0.41408094070293633, 0.41501851570346326, 0.41595609070399026, 0.4168936657045172, 0.4178312407050442, 0.4187688157055711, 0.41970639070609805, 0.42064396570662504, 0.42158154070715204, 0.42251911570767897, 0.4234566907082059, 0.4243942657087329, 0.42533184070925983, 0.4262694157097868, 0.42720699071031376, 0.4281445657108407, 0.4290821407113677, 0.4300197157118946, 0.4309572907124216, 0.43189486571294855, 0.4328324407134755, 0.4337700157140025, 0.4347075907145294]}],\n",
              "                        {\"legend\": {\"orientation\": \"h\"}, \"template\": {\"data\": {\"bar\": [{\"error_x\": {\"color\": \"#2a3f5f\"}, \"error_y\": {\"color\": \"#2a3f5f\"}, \"marker\": {\"line\": {\"color\": \"#E5ECF6\", \"width\": 0.5}}, \"type\": \"bar\"}], \"barpolar\": [{\"marker\": {\"line\": {\"color\": \"#E5ECF6\", \"width\": 0.5}}, \"type\": \"barpolar\"}], \"carpet\": [{\"aaxis\": {\"endlinecolor\": \"#2a3f5f\", \"gridcolor\": \"white\", \"linecolor\": \"white\", \"minorgridcolor\": \"white\", \"startlinecolor\": \"#2a3f5f\"}, \"baxis\": {\"endlinecolor\": \"#2a3f5f\", \"gridcolor\": \"white\", \"linecolor\": \"white\", \"minorgridcolor\": \"white\", \"startlinecolor\": \"#2a3f5f\"}, \"type\": \"carpet\"}], \"choropleth\": [{\"colorbar\": {\"outlinewidth\": 0, \"ticks\": \"\"}, \"type\": \"choropleth\"}], \"contour\": [{\"colorbar\": {\"outlinewidth\": 0, \"ticks\": \"\"}, \"colorscale\": [[0.0, \"#0d0887\"], [0.1111111111111111, \"#46039f\"], [0.2222222222222222, \"#7201a8\"], [0.3333333333333333, \"#9c179e\"], [0.4444444444444444, \"#bd3786\"], [0.5555555555555556, \"#d8576b\"], [0.6666666666666666, \"#ed7953\"], [0.7777777777777778, \"#fb9f3a\"], [0.8888888888888888, \"#fdca26\"], [1.0, \"#f0f921\"]], \"type\": \"contour\"}], \"contourcarpet\": [{\"colorbar\": {\"outlinewidth\": 0, \"ticks\": \"\"}, \"type\": \"contourcarpet\"}], \"heatmap\": [{\"colorbar\": {\"outlinewidth\": 0, \"ticks\": \"\"}, \"colorscale\": [[0.0, \"#0d0887\"], [0.1111111111111111, \"#46039f\"], [0.2222222222222222, \"#7201a8\"], [0.3333333333333333, \"#9c179e\"], [0.4444444444444444, \"#bd3786\"], [0.5555555555555556, \"#d8576b\"], [0.6666666666666666, \"#ed7953\"], [0.7777777777777778, \"#fb9f3a\"], [0.8888888888888888, \"#fdca26\"], [1.0, \"#f0f921\"]], \"type\": \"heatmap\"}], \"heatmapgl\": [{\"colorbar\": {\"outlinewidth\": 0, \"ticks\": \"\"}, \"colorscale\": [[0.0, \"#0d0887\"], [0.1111111111111111, \"#46039f\"], [0.2222222222222222, \"#7201a8\"], [0.3333333333333333, \"#9c179e\"], [0.4444444444444444, \"#bd3786\"], [0.5555555555555556, \"#d8576b\"], [0.6666666666666666, \"#ed7953\"], [0.7777777777777778, \"#fb9f3a\"], [0.8888888888888888, \"#fdca26\"], [1.0, \"#f0f921\"]], \"type\": \"heatmapgl\"}], \"histogram\": [{\"marker\": {\"colorbar\": {\"outlinewidth\": 0, \"ticks\": \"\"}}, \"type\": \"histogram\"}], \"histogram2d\": [{\"colorbar\": {\"outlinewidth\": 0, \"ticks\": \"\"}, \"colorscale\": [[0.0, \"#0d0887\"], [0.1111111111111111, \"#46039f\"], [0.2222222222222222, \"#7201a8\"], [0.3333333333333333, \"#9c179e\"], [0.4444444444444444, \"#bd3786\"], [0.5555555555555556, \"#d8576b\"], [0.6666666666666666, \"#ed7953\"], [0.7777777777777778, \"#fb9f3a\"], [0.8888888888888888, \"#fdca26\"], [1.0, \"#f0f921\"]], \"type\": \"histogram2d\"}], \"histogram2dcontour\": [{\"colorbar\": {\"outlinewidth\": 0, \"ticks\": \"\"}, \"colorscale\": [[0.0, \"#0d0887\"], [0.1111111111111111, \"#46039f\"], [0.2222222222222222, \"#7201a8\"], [0.3333333333333333, \"#9c179e\"], [0.4444444444444444, \"#bd3786\"], [0.5555555555555556, \"#d8576b\"], [0.6666666666666666, \"#ed7953\"], [0.7777777777777778, \"#fb9f3a\"], [0.8888888888888888, \"#fdca26\"], [1.0, \"#f0f921\"]], \"type\": \"histogram2dcontour\"}], \"mesh3d\": [{\"colorbar\": {\"outlinewidth\": 0, \"ticks\": \"\"}, \"type\": \"mesh3d\"}], \"parcoords\": [{\"line\": {\"colorbar\": {\"outlinewidth\": 0, \"ticks\": \"\"}}, \"type\": \"parcoords\"}], \"scatter\": [{\"marker\": {\"colorbar\": {\"outlinewidth\": 0, \"ticks\": \"\"}}, \"type\": \"scatter\"}], \"scatter3d\": [{\"line\": {\"colorbar\": {\"outlinewidth\": 0, \"ticks\": \"\"}}, \"marker\": {\"colorbar\": {\"outlinewidth\": 0, \"ticks\": \"\"}}, \"type\": \"scatter3d\"}], \"scattercarpet\": [{\"marker\": {\"colorbar\": {\"outlinewidth\": 0, \"ticks\": \"\"}}, \"type\": \"scattercarpet\"}], \"scattergeo\": [{\"marker\": {\"colorbar\": {\"outlinewidth\": 0, \"ticks\": \"\"}}, \"type\": \"scattergeo\"}], \"scattergl\": [{\"marker\": {\"colorbar\": {\"outlinewidth\": 0, \"ticks\": \"\"}}, \"type\": \"scattergl\"}], \"scattermapbox\": [{\"marker\": {\"colorbar\": {\"outlinewidth\": 0, \"ticks\": \"\"}}, \"type\": \"scattermapbox\"}], \"scatterpolar\": [{\"marker\": {\"colorbar\": {\"outlinewidth\": 0, \"ticks\": \"\"}}, \"type\": \"scatterpolar\"}], \"scatterpolargl\": [{\"marker\": {\"colorbar\": {\"outlinewidth\": 0, \"ticks\": \"\"}}, \"type\": \"scatterpolargl\"}], \"scatterternary\": [{\"marker\": {\"colorbar\": {\"outlinewidth\": 0, \"ticks\": \"\"}}, \"type\": \"scatterternary\"}], \"surface\": [{\"colorbar\": {\"outlinewidth\": 0, \"ticks\": \"\"}, \"colorscale\": [[0.0, \"#0d0887\"], [0.1111111111111111, \"#46039f\"], [0.2222222222222222, \"#7201a8\"], [0.3333333333333333, \"#9c179e\"], [0.4444444444444444, \"#bd3786\"], [0.5555555555555556, \"#d8576b\"], [0.6666666666666666, \"#ed7953\"], [0.7777777777777778, \"#fb9f3a\"], [0.8888888888888888, \"#fdca26\"], [1.0, \"#f0f921\"]], \"type\": \"surface\"}], \"table\": [{\"cells\": {\"fill\": {\"color\": \"#EBF0F8\"}, \"line\": {\"color\": \"white\"}}, \"header\": {\"fill\": {\"color\": \"#C8D4E3\"}, \"line\": {\"color\": \"white\"}}, \"type\": \"table\"}]}, \"layout\": {\"annotationdefaults\": {\"arrowcolor\": \"#2a3f5f\", \"arrowhead\": 0, \"arrowwidth\": 1}, \"colorscale\": {\"diverging\": [[0, \"#8e0152\"], [0.1, \"#c51b7d\"], [0.2, \"#de77ae\"], [0.3, \"#f1b6da\"], [0.4, \"#fde0ef\"], [0.5, \"#f7f7f7\"], [0.6, \"#e6f5d0\"], [0.7, \"#b8e186\"], [0.8, \"#7fbc41\"], [0.9, \"#4d9221\"], [1, \"#276419\"]], \"sequential\": [[0.0, \"#0d0887\"], [0.1111111111111111, \"#46039f\"], [0.2222222222222222, \"#7201a8\"], [0.3333333333333333, \"#9c179e\"], [0.4444444444444444, \"#bd3786\"], [0.5555555555555556, \"#d8576b\"], [0.6666666666666666, \"#ed7953\"], [0.7777777777777778, \"#fb9f3a\"], [0.8888888888888888, \"#fdca26\"], [1.0, \"#f0f921\"]], \"sequentialminus\": [[0.0, \"#0d0887\"], [0.1111111111111111, \"#46039f\"], [0.2222222222222222, \"#7201a8\"], [0.3333333333333333, \"#9c179e\"], [0.4444444444444444, \"#bd3786\"], [0.5555555555555556, \"#d8576b\"], [0.6666666666666666, \"#ed7953\"], [0.7777777777777778, \"#fb9f3a\"], [0.8888888888888888, \"#fdca26\"], [1.0, \"#f0f921\"]]}, \"colorway\": [\"#636efa\", \"#EF553B\", \"#00cc96\", \"#ab63fa\", \"#FFA15A\", \"#19d3f3\", \"#FF6692\", \"#B6E880\", \"#FF97FF\", \"#FECB52\"], \"font\": {\"color\": \"#2a3f5f\"}, \"geo\": {\"bgcolor\": \"white\", \"lakecolor\": \"white\", \"landcolor\": \"#E5ECF6\", \"showlakes\": true, \"showland\": true, \"subunitcolor\": \"white\"}, \"hoverlabel\": {\"align\": \"left\"}, \"hovermode\": \"closest\", \"mapbox\": {\"style\": \"light\"}, \"paper_bgcolor\": \"white\", \"plot_bgcolor\": \"#E5ECF6\", \"polar\": {\"angularaxis\": {\"gridcolor\": \"white\", \"linecolor\": \"white\", \"ticks\": \"\"}, \"bgcolor\": \"#E5ECF6\", \"radialaxis\": {\"gridcolor\": \"white\", \"linecolor\": \"white\", \"ticks\": \"\"}}, \"scene\": {\"xaxis\": {\"backgroundcolor\": \"#E5ECF6\", \"gridcolor\": \"white\", \"gridwidth\": 2, \"linecolor\": \"white\", \"showbackground\": true, \"ticks\": \"\", \"zerolinecolor\": \"white\"}, \"yaxis\": {\"backgroundcolor\": \"#E5ECF6\", \"gridcolor\": \"white\", \"gridwidth\": 2, \"linecolor\": \"white\", \"showbackground\": true, \"ticks\": \"\", \"zerolinecolor\": \"white\"}, \"zaxis\": {\"backgroundcolor\": \"#E5ECF6\", \"gridcolor\": \"white\", \"gridwidth\": 2, \"linecolor\": \"white\", \"showbackground\": true, \"ticks\": \"\", \"zerolinecolor\": \"white\"}}, \"shapedefaults\": {\"line\": {\"color\": \"#2a3f5f\"}}, \"ternary\": {\"aaxis\": {\"gridcolor\": \"white\", \"linecolor\": \"white\", \"ticks\": \"\"}, \"baxis\": {\"gridcolor\": \"white\", \"linecolor\": \"white\", \"ticks\": \"\"}, \"bgcolor\": \"#E5ECF6\", \"caxis\": {\"gridcolor\": \"white\", \"linecolor\": \"white\", \"ticks\": \"\"}}, \"title\": {\"x\": 0.05}, \"xaxis\": {\"automargin\": true, \"gridcolor\": \"white\", \"linecolor\": \"white\", \"ticks\": \"\", \"zerolinecolor\": \"white\", \"zerolinewidth\": 2}, \"yaxis\": {\"automargin\": true, \"gridcolor\": \"white\", \"linecolor\": \"white\", \"ticks\": \"\", \"zerolinecolor\": \"white\", \"zerolinewidth\": 2}}}},\n",
              "                        {\"responsive\": true}\n",
              "                    ).then(function(){\n",
              "                            \n",
              "var gd = document.getElementById('da65fe7c-4a35-4e42-b29f-817b0531328a');\n",
              "var x = new MutationObserver(function (mutations, observer) {{\n",
              "        var display = window.getComputedStyle(gd).display;\n",
              "        if (!display || display === 'none') {{\n",
              "            console.log([gd, 'removed!']);\n",
              "            Plotly.purge(gd);\n",
              "            observer.disconnect();\n",
              "        }}\n",
              "}});\n",
              "\n",
              "// Listen for the removal of the full notebook cells\n",
              "var notebookContainer = gd.closest('#notebook-container');\n",
              "if (notebookContainer) {{\n",
              "    x.observe(notebookContainer, {childList: true});\n",
              "}}\n",
              "\n",
              "// Listen for the clearing of the current output cell\n",
              "var outputEl = gd.closest('.output');\n",
              "if (outputEl) {{\n",
              "    x.observe(outputEl, {childList: true});\n",
              "}}\n",
              "\n",
              "                        })\n",
              "                };\n",
              "                \n",
              "            </script>\n",
              "        </div>\n",
              "</body>\n",
              "</html>"
            ]
          },
          "metadata": {
            "tags": []
          }
        }
      ]
    },
    {
      "cell_type": "markdown",
      "metadata": {
        "id": "xvPAmM6MM2mD",
        "colab_type": "text"
      },
      "source": [
        "##I.2. Régression non linéaire\n"
      ]
    },
    {
      "cell_type": "markdown",
      "metadata": {
        "id": "GlmYrABzNGXS",
        "colab_type": "text"
      },
      "source": [
        "Nous allons étudier le cas de données périodiques. Générer des données suivant le modèle : \n",
        "$$ y_n = \\sin(\\frac{n}{10}) +(\\frac{n}{50})^2 + \\epsilon $$"
      ]
    },
    {
      "cell_type": "code",
      "metadata": {
        "id": "Nji2K7NhA2La",
        "colab_type": "code",
        "colab": {}
      },
      "source": [
        "def periodic_data(n_samples, variance, periodic_func, start=0, stop=10):\n",
        "    # generate a 2D data line with `n_samples` points between `start` and `stop`\n",
        "    X = np.linspace(start, stop, n_samples)\n",
        "\n",
        "    # construct targets with our data and periodic function\n",
        "    Y = periodic_func(X)\n",
        "\n",
        "    # add some noise to our data\n",
        "    Y += np.random.normal(0, variance, n_samples) * stop\n",
        "\n",
        "    X = X.reshape((n_samples, 1))\n",
        "\n",
        "    return X, Y"
      ],
      "execution_count": 0,
      "outputs": []
    },
    {
      "cell_type": "markdown",
      "metadata": {
        "id": "Kp_CN5EAOKD0",
        "colab_type": "text"
      },
      "source": [
        "### I.2.1. Régression polynomiale\n",
        "\n",
        "* $y = \\beta_0 + \\beta_1 x + \\beta_2 x^2 +\\beta_3 x^3$\n",
        "\n",
        "* La solution d'une régression linéaire : $\\hat{\\beta} = (X^\\top X)^{-1} X^\\top Y$\n",
        "\n",
        "* Utiliser $X = [1 \\ x \\ x^2 \\ x^3]$\n"
      ]
    },
    {
      "cell_type": "code",
      "metadata": {
        "id": "6gMwqqFRSSIN",
        "colab_type": "code",
        "colab": {}
      },
      "source": [
        "# that param can be interpreted as a regularization for the periodic function\n",
        "# if it matches the max_range of the periodic function, then we'll consider\n",
        "# only a `nearly linear` portion of the function.\n",
        "# thus the polynomial regression will be very efficient\n",
        "# ---\n",
        "# in case that parameter is 1, then the polynomial regression will not work well\n",
        "PARAM_TO_CHANGE = 1\n",
        "\n",
        "# generate some noisy periodic data\n",
        "n_samples, variance, start, stop = 200, 0.01, 0, 10\n",
        "W = lambda var: np.sin(var/PARAM_TO_CHANGE) + (var/50) ** 2\n",
        "X, Y = periodic_data(n_samples, variance, W, start, stop)"
      ],
      "execution_count": 0,
      "outputs": []
    },
    {
      "cell_type": "code",
      "metadata": {
        "id": "XKNX5J6eDRUp",
        "colab_type": "code",
        "outputId": "7cc1d5a8-a7af-446d-c5eb-5b10038dc42e",
        "colab": {
          "base_uri": "https://localhost:8080/",
          "height": 542
        }
      },
      "source": [
        "# calculate the regression line with ols regression\n",
        "ols_weights = ols_regression(X, Y, fit_intercept=True, degree=3)\n",
        "\n",
        "# we'll plot data between min and max\n",
        "x_range = np.linspace(X.min(), X.max(), n_samples).reshape(-1, 1)\n",
        "\n",
        "# get the line with found weights according to x_range\n",
        "ols_line = get_regression_predictions(x_range, ols_weights)\n",
        "\n",
        "# ploting power !\n",
        "fig = go.Figure(\n",
        "    data=[\n",
        "        # markers\n",
        "        go.Scatter(\n",
        "            x=X.squeeze(),\n",
        "            y=Y.squeeze(),\n",
        "            mode='markers',\n",
        "            name=f'linear data [{n_samples}, {variance}]'\n",
        "        ),\n",
        "        # true function\n",
        "        go.Scatter(\n",
        "            x=x_range.squeeze(),\n",
        "            y=W(x_range).squeeze(),\n",
        "            mode='lines',\n",
        "            name=f\"Generative function sin(x/{PARAM_TO_CHANGE}) + (x/50) + e\"\n",
        "        ),\n",
        "        # ols found line\n",
        "        go.Scatter(\n",
        "            x=x_range.squeeze(),\n",
        "            y=ols_line.squeeze(),\n",
        "            mode='lines',\n",
        "            name=f\"ols found line {ols_weights.squeeze()}\"\n",
        "        )\n",
        "    ],\n",
        "    layout={\n",
        "        'legend': {\n",
        "            'orientation': 'h'\n",
        "        }\n",
        "    }\n",
        ")\n",
        "fig.show()"
      ],
      "execution_count": 0,
      "outputs": [
        {
          "output_type": "display_data",
          "data": {
            "text/html": [
              "<html>\n",
              "<head><meta charset=\"utf-8\" /></head>\n",
              "<body>\n",
              "    <div>\n",
              "            <script src=\"https://cdnjs.cloudflare.com/ajax/libs/mathjax/2.7.5/MathJax.js?config=TeX-AMS-MML_SVG\"></script><script type=\"text/javascript\">if (window.MathJax) {MathJax.Hub.Config({SVG: {font: \"STIX-Web\"}});}</script>\n",
              "                <script type=\"text/javascript\">window.PlotlyConfig = {MathJaxConfig: 'local'};</script>\n",
              "        <script src=\"https://cdn.plot.ly/plotly-latest.min.js\"></script>    \n",
              "            <div id=\"f30e2009-0ed8-4b89-99e2-d4d52a2170a6\" class=\"plotly-graph-div\" style=\"height:525px; width:100%;\"></div>\n",
              "            <script type=\"text/javascript\">\n",
              "                \n",
              "                    window.PLOTLYENV=window.PLOTLYENV || {};\n",
              "                    \n",
              "                if (document.getElementById(\"f30e2009-0ed8-4b89-99e2-d4d52a2170a6\")) {\n",
              "                    Plotly.newPlot(\n",
              "                        'f30e2009-0ed8-4b89-99e2-d4d52a2170a6',\n",
              "                        [{\"mode\": \"markers\", \"name\": \"linear data [200, 0.01]\", \"type\": \"scatter\", \"x\": [0.0, 0.05025125628140704, 0.10050251256281408, 0.15075376884422112, 0.20100502512562815, 0.2512562814070352, 0.30150753768844224, 0.35175879396984927, 0.4020100502512563, 0.45226130653266333, 0.5025125628140704, 0.5527638190954774, 0.6030150753768845, 0.6532663316582915, 0.7035175879396985, 0.7537688442211056, 0.8040201005025126, 0.8542713567839196, 0.9045226130653267, 0.9547738693467337, 1.0050251256281408, 1.0552763819095479, 1.105527638190955, 1.155778894472362, 1.206030150753769, 1.256281407035176, 1.306532663316583, 1.35678391959799, 1.407035175879397, 1.4572864321608041, 1.5075376884422111, 1.5577889447236182, 1.6080402010050252, 1.6582914572864322, 1.7085427135678393, 1.7587939698492463, 1.8090452261306533, 1.8592964824120604, 1.9095477386934674, 1.9597989949748744, 2.0100502512562817, 2.0603015075376887, 2.1105527638190957, 2.1608040201005028, 2.21105527638191, 2.261306532663317, 2.311557788944724, 2.361809045226131, 2.412060301507538, 2.462311557788945, 2.512562814070352, 2.562814070351759, 2.613065326633166, 2.663316582914573, 2.71356783919598, 2.763819095477387, 2.814070351758794, 2.864321608040201, 2.9145728643216082, 2.9648241206030153, 3.0150753768844223, 3.0653266331658293, 3.1155778894472363, 3.1658291457286434, 3.2160804020100504, 3.2663316582914574, 3.3165829145728645, 3.3668341708542715, 3.4170854271356785, 3.4673366834170856, 3.5175879396984926, 3.5678391959798996, 3.6180904522613067, 3.6683417085427137, 3.7185929648241207, 3.7688442211055277, 3.819095477386935, 3.869346733668342, 3.919597989949749, 3.969849246231156, 4.020100502512563, 4.07035175879397, 4.120603015075377, 4.170854271356784, 4.2211055276381915, 4.2713567839195985, 4.3216080402010055, 4.371859296482413, 4.42211055276382, 4.472361809045227, 4.522613065326634, 4.572864321608041, 4.623115577889448, 4.673366834170855, 4.723618090452262, 4.773869346733669, 4.824120603015076, 4.874371859296483, 4.92462311557789, 4.974874371859297, 5.025125628140704, 5.075376884422111, 5.125628140703518, 5.175879396984925, 5.226130653266332, 5.276381909547739, 5.326633165829146, 5.376884422110553, 5.42713567839196, 5.477386934673367, 5.527638190954774, 5.577889447236181, 5.628140703517588, 5.678391959798995, 5.728643216080402, 5.778894472361809, 5.8291457286432165, 5.8793969849246235, 5.9296482412060305, 5.9798994974874375, 6.030150753768845, 6.080402010050252, 6.130653266331659, 6.180904522613066, 6.231155778894473, 6.28140703517588, 6.331658291457287, 6.381909547738694, 6.432160804020101, 6.482412060301508, 6.532663316582915, 6.582914572864322, 6.633165829145729, 6.683417085427136, 6.733668341708543, 6.78391959798995, 6.834170854271357, 6.884422110552764, 6.934673366834171, 6.984924623115578, 7.035175879396985, 7.085427135678392, 7.135678391959799, 7.185929648241206, 7.236180904522613, 7.28643216080402, 7.336683417085427, 7.386934673366834, 7.437185929648241, 7.4874371859296485, 7.5376884422110555, 7.5879396984924625, 7.63819095477387, 7.688442211055277, 7.738693467336684, 7.788944723618091, 7.839195979899498, 7.889447236180905, 7.939698492462312, 7.989949748743719, 8.040201005025127, 8.090452261306533, 8.14070351758794, 8.190954773869347, 8.241206030150755, 8.291457286432161, 8.341708542713569, 8.391959798994975, 8.442211055276383, 8.492462311557789, 8.542713567839197, 8.592964824120603, 8.643216080402011, 8.693467336683417, 8.743718592964825, 8.793969849246231, 8.84422110552764, 8.894472361809045, 8.944723618090453, 8.99497487437186, 9.045226130653267, 9.095477386934673, 9.145728643216081, 9.195979899497488, 9.246231155778895, 9.296482412060302, 9.34673366834171, 9.396984924623116, 9.447236180904524, 9.49748743718593, 9.547738693467338, 9.597989949748744, 9.648241206030152, 9.698492462311558, 9.748743718592966, 9.798994974874372, 9.84924623115578, 9.899497487437186, 9.949748743718594, 10.0], \"y\": [-0.06389945338780738, -0.00885913013022755, -0.005977859203817493, 0.07624752312813152, 0.15255572100240705, 0.26063408637298324, 0.4436890426840377, 0.2186568550650324, 0.21477076054050898, 0.35744680717704197, 0.4628338835720586, 0.5127282400590646, 0.5762932227091248, 0.712268983766462, 0.7102061786398692, 0.6647211968640804, 0.9011779203259742, 0.7774905288289972, 0.8307255476705151, 0.7276478769290873, 0.7766370371717082, 0.8602074022808716, 0.9750033635012049, 1.072752569579714, 0.9913197591439203, 0.905004212787684, 1.0043670658984538, 1.0594229206819155, 0.8760117479853329, 1.1151538903714202, 0.9994607198785752, 1.1114247183227939, 0.9964155085807889, 0.9878253945714752, 1.0829697445279716, 1.0261200859435944, 0.9897425701848108, 1.0072879416467877, 0.9825790467264631, 0.8802800610609515, 0.948878398642149, 0.8926566527695025, 1.0065932827828223, 0.7633024349472749, 0.7730839883780729, 0.5210800191383198, 0.7269925725586004, 0.7796400936060092, 0.6311591094759433, 0.439577936029603, 0.581449095587828, 0.47070656411201206, 0.6349981741475352, 0.4797700369535773, 0.6420858813067849, 0.36162776517671386, 0.41120730811593675, 0.2188952741938851, 0.283640005749545, 0.2940982752909351, 0.003980097912604286, 0.09824680285866741, 0.016430245282353553, 0.05239067270101951, -0.0349959592345888, -0.010779606410554116, -0.08376925575823005, -0.40280039083913666, -0.2530781783688451, -0.3412834926243948, -0.46690392974527756, -0.5733085474273097, -0.5033755438628122, -0.47512859621568637, -0.4335337787538571, -0.4835971464643633, -0.5497140504997172, -0.43211717078731676, -0.6828671296161705, -0.6536083465205617, -0.7141657151984908, -1.0377893439195855, -0.8120575661975737, -0.9012248897201622, -0.8657463633929712, -0.8466357357439449, -0.8956495405118852, -0.7936449090506192, -0.889618194344751, -1.0709796775844516, -1.1066896191021014, -0.8372122669886192, -1.0631587595328613, -0.9515180427592972, -0.8921511489296285, -1.0961905384237338, -0.884163363437024, -0.7756580098416239, -0.8380712400879595, -0.8069132900549321, -1.1408199168069617, -0.7337819328122761, -0.9266890490332191, -0.8685063685732533, -0.8832101423759668, -0.7725453661901598, -0.7804957048203456, -0.7793714227281197, -0.8487734570436898, -0.7104627803972655, -0.5118425713057991, -0.6742058587585147, -0.6358862160000833, -0.338952486600517, -0.4740662728543954, -0.3916186038202938, -0.39399536120619894, -0.38055293026053083, -0.31047302072353805, -0.4245006062383762, -0.10255542260384823, -0.08519248401474228, -0.33084363087128765, -0.1707826384119387, 0.06289646828074062, 0.02215694378579611, 0.03296040703724124, 0.0623860972141206, 0.12840642572521965, 0.21299631008518188, 0.3705133343701119, 0.3827294565129451, 0.36040428499513816, 0.44217131429340056, 0.24457650060725952, 0.6106635220948553, 0.42444817377905525, 0.593439836114685, 0.5966366402680219, 0.5678938580784718, 0.6530898249838804, 0.6325578630273216, 0.7532119955031119, 0.727844682978829, 0.9797148260571105, 0.8937029123647022, 0.8967931225597308, 1.0123132420624559, 0.9754263504057155, 0.8925085949635813, 1.0346991574876774, 0.8420874550242583, 0.9155303592876259, 1.0718343174029819, 0.925945440668195, 1.0360021196107636, 1.1876884999882484, 0.9516603389313075, 0.8452480009994218, 0.9263170714900851, 0.8351537777618988, 1.0418292381773624, 1.0172169816129968, 1.0378171410352566, 1.088508886617335, 0.8529367094231454, 0.6918515208536529, 0.8191373111784545, 0.8235670586574946, 0.8852697162180494, 0.7439476317129484, 0.720046893702635, 0.6608713668517995, 0.7216262495137319, 0.646050559916549, 0.6591819960828842, 0.6306655412108648, 0.5554641975224118, 0.5919193542913151, 0.3516137705470329, 0.4008805103595486, 0.43840320029283436, 0.3479546850283588, 0.1575056679402352, 0.34627907014889614, 0.19916220328721954, -0.1354209326631594, -0.06726926276237662, 0.00044813676162093995, -0.12984198883158424, 0.022425852460132553, 0.031103582672138086, -0.2438779777373449, -0.1659376429440283, -0.11864641122757114, -0.3891407430008469, -0.25917397832877465, -0.37366214513825313, -0.3928717023829522, -0.4854129613942063]}, {\"mode\": \"lines\", \"name\": \"Generative function sin(x/1) + (x/50) + e\", \"type\": \"scatter\", \"x\": [0.0, 0.05025125628140704, 0.10050251256281408, 0.15075376884422112, 0.20100502512562815, 0.2512562814070352, 0.30150753768844224, 0.35175879396984927, 0.4020100502512563, 0.45226130653266333, 0.5025125628140704, 0.5527638190954774, 0.6030150753768845, 0.6532663316582915, 0.7035175879396985, 0.7537688442211056, 0.8040201005025126, 0.8542713567839196, 0.9045226130653267, 0.9547738693467337, 1.0050251256281408, 1.0552763819095479, 1.105527638190955, 1.155778894472362, 1.206030150753769, 1.256281407035176, 1.306532663316583, 1.35678391959799, 1.407035175879397, 1.4572864321608041, 1.5075376884422111, 1.5577889447236182, 1.6080402010050252, 1.6582914572864322, 1.7085427135678393, 1.7587939698492463, 1.8090452261306533, 1.8592964824120604, 1.9095477386934674, 1.9597989949748744, 2.0100502512562817, 2.0603015075376887, 2.1105527638190957, 2.1608040201005028, 2.21105527638191, 2.261306532663317, 2.311557788944724, 2.361809045226131, 2.412060301507538, 2.462311557788945, 2.512562814070352, 2.562814070351759, 2.613065326633166, 2.663316582914573, 2.71356783919598, 2.763819095477387, 2.814070351758794, 2.864321608040201, 2.9145728643216082, 2.9648241206030153, 3.0150753768844223, 3.0653266331658293, 3.1155778894472363, 3.1658291457286434, 3.2160804020100504, 3.2663316582914574, 3.3165829145728645, 3.3668341708542715, 3.4170854271356785, 3.4673366834170856, 3.5175879396984926, 3.5678391959798996, 3.6180904522613067, 3.6683417085427137, 3.7185929648241207, 3.7688442211055277, 3.819095477386935, 3.869346733668342, 3.919597989949749, 3.969849246231156, 4.020100502512563, 4.07035175879397, 4.120603015075377, 4.170854271356784, 4.2211055276381915, 4.2713567839195985, 4.3216080402010055, 4.371859296482413, 4.42211055276382, 4.472361809045227, 4.522613065326634, 4.572864321608041, 4.623115577889448, 4.673366834170855, 4.723618090452262, 4.773869346733669, 4.824120603015076, 4.874371859296483, 4.92462311557789, 4.974874371859297, 5.025125628140704, 5.075376884422111, 5.125628140703518, 5.175879396984925, 5.226130653266332, 5.276381909547739, 5.326633165829146, 5.376884422110553, 5.42713567839196, 5.477386934673367, 5.527638190954774, 5.577889447236181, 5.628140703517588, 5.678391959798995, 5.728643216080402, 5.778894472361809, 5.8291457286432165, 5.8793969849246235, 5.9296482412060305, 5.9798994974874375, 6.030150753768845, 6.080402010050252, 6.130653266331659, 6.180904522613066, 6.231155778894473, 6.28140703517588, 6.331658291457287, 6.381909547738694, 6.432160804020101, 6.482412060301508, 6.532663316582915, 6.582914572864322, 6.633165829145729, 6.683417085427136, 6.733668341708543, 6.78391959798995, 6.834170854271357, 6.884422110552764, 6.934673366834171, 6.984924623115578, 7.035175879396985, 7.085427135678392, 7.135678391959799, 7.185929648241206, 7.236180904522613, 7.28643216080402, 7.336683417085427, 7.386934673366834, 7.437185929648241, 7.4874371859296485, 7.5376884422110555, 7.5879396984924625, 7.63819095477387, 7.688442211055277, 7.738693467336684, 7.788944723618091, 7.839195979899498, 7.889447236180905, 7.939698492462312, 7.989949748743719, 8.040201005025127, 8.090452261306533, 8.14070351758794, 8.190954773869347, 8.241206030150755, 8.291457286432161, 8.341708542713569, 8.391959798994975, 8.442211055276383, 8.492462311557789, 8.542713567839197, 8.592964824120603, 8.643216080402011, 8.693467336683417, 8.743718592964825, 8.793969849246231, 8.84422110552764, 8.894472361809045, 8.944723618090453, 8.99497487437186, 9.045226130653267, 9.095477386934673, 9.145728643216081, 9.195979899497488, 9.246231155778895, 9.296482412060302, 9.34673366834171, 9.396984924623116, 9.447236180904524, 9.49748743718593, 9.547738693467338, 9.597989949748744, 9.648241206030152, 9.698492462311558, 9.748743718592966, 9.798994974874372, 9.84924623115578, 9.899497487437186, 9.949748743718594, 10.0], \"y\": [0.0, 0.05023112004243686, 0.10033744641599114, 0.15019248546222544, 0.1996703830373074, 0.2486462422506077, 0.29699643878656207, 0.34459893301371686, 0.3913335780929903, 0.43708242330728153, 0.48173001184662373, 0.525163672297076, 0.567273803097445, 0.6079541492456798, 0.6471020705563513, 0.6846188007919579, 0.7204096970138398, 0.7543844785231774, 0.786457454788826, 0.8165477417865528, 0.8445794662034876, 0.8704819569922458, 0.894189923791113, 0.9156436217598405, 0.9347890024148999, 0.9515778500833882, 0.9659679036310843, 0.9779229631573348, 0.987412981387402, 0.9944141395315392, 0.998908907419275, 1.0008860877570875, 1.000340844397736, 0.9972747145498744, 0.9916956048971272, 0.9836177716364212, 0.9730617844859727, 0.9600544747537954, 0.9446288675978395, 0.9268240986487818, 0.9066853152059653, 0.8842635622559346, 0.8596156536013322, 0.8328040284255095, 0.8038965936549797, 0.7729665525176918, 0.7400922197299573, 0.7053568237786214, 0.6688482967976455, 0.6306590525695924, 0.5908857532124852, 0.5496290651410725, 0.5069934049186186, 0.46308667564085143, 0.4180199945176113, 0.37190741233996244, 0.3248656255410171, 0.27701368157741957, 0.22847267837530139, 0.1793654585995033, 0.12981629951793008, 0.07995059924402365, 0.0298945601494854, -0.020225129753477906, -0.07028161665598451, -0.12014820121488753, -0.1696986584252119, -0.21880755629504994, -0.2673505725183706, -0.3152048083462517, -0.362249098864119, -0.40836431889164626, -0.4534336837330264, -0.49734304401832014, -0.5399811738915097, -0.5812400518176822, -0.6210151333003989, -0.6592056148207345, -0.6957146883316281, -0.7304497856650393, -0.7633228122348596, -0.7942503694455625, -0.8231539652450877, -0.8499602122903823, -0.8746010132253011, -0.8970137326031024, -0.9171413550194926, -0.9349326290569906, -0.9503421966771993, -0.9633307077343134, -0.973864919320757, -0.9819177796941373, -0.9874684965736266, -0.9905025896333483, -0.9910119270602392, -0.9889947460840919, -0.9844556574279449, -0.9774056336675878, -0.967861981529565, -0.9558482981976208, -0.9413944117378946, -0.9245363057932716, -0.9053160287370126, -0.8837815875150155, -0.8599868264447239, -0.8339912912766714, -0.8058600788618595, -0.7756636728045115, -0.7434777655151165, -0.7093830671130239, -0.6734651016610422, -0.6358139912464786, -0.5965242284537428, -0.5556944378029419, -0.5134271267567547, -0.4698284269242049, -0.42500782611470656, -0.379077891918854, -0.33215398751381825, -0.2843539804108466, -0.23579794488017441, -0.18660785880462893, -0.13690729572726126, -0.08682111287048434, -0.03647513591435962, 0.014004158670139748, 0.06448996293089007, 0.1148554575812544, 0.16497413217533569, 0.21472010450351292, 0.2639684384018957, 0.31259545917333786, 0.3604790658236788, 0.40749903932492526, 0.4535373461271121, 0.4984784361525801, 0.542209534520337, 0.5846209262639982, 0.6256062333244903, 0.6650626831182074, 0.7028913680025772, 0.7389974949839752, 0.7732906250375584, 0.8056849014348216, 0.8360992665024237, 0.8644576662650443, 0.890689242455617, 0.9147285114081788, 0.9365155293816939, 0.955996043897464, 0.9731216307080514, 0.9878498160519145, 1.000144183885105, 1.0099744678193041, 1.0173166275340835, 1.0221529094704795, 1.0244718916526472, 1.024268512524436, 1.0215440837280856, 1.0163062867927788, 1.008569153741411, 0.9983530316645407, 0.9856845313509545, 0.9705964601045441, 0.9531277389171003, 0.9333233042061456, 0.91123399436587, 0.886916421417607, 0.8604328280838676, 0.8318509306467959, 0.8012437479877482, 0.7686894172396387, 0.7342709965174399, 0.6980762552249047, 0.6601974524668803, 0.6207311041266848, 0.5797777391965553, 0.537441645976393, 0.493830608781521, 0.44905563582422503, 0.4032306789560339, 0.3564723459783449, 0.3088996062476593, 0.260633490318727, 0.21179678438384503, 0.16251372027979918, 0.11290966184502198, 0.06311078841886121, 0.013243776281960707, -0.03656452115793777, -0.08618739362740574, -0.13549859388734614, -0.1843726564640364, -0.2326852144064538, -0.28031331327023506, -0.3271357215355134, -0.3730332366749879, -0.4178889860994555, -0.4615887222210742, -0.5040211108893697]}, {\"mode\": \"lines\", \"name\": \"ols found line [ 1.28218708 -0.87146988  0.15941457 -0.00816797]\", \"type\": \"scatter\", \"x\": [0.0, 0.05025125628140704, 0.10050251256281408, 0.15075376884422112, 0.20100502512562815, 0.2512562814070352, 0.30150753768844224, 0.35175879396984927, 0.4020100502512563, 0.45226130653266333, 0.5025125628140704, 0.5527638190954774, 0.6030150753768845, 0.6532663316582915, 0.7035175879396985, 0.7537688442211056, 0.8040201005025126, 0.8542713567839196, 0.9045226130653267, 0.9547738693467337, 1.0050251256281408, 1.0552763819095479, 1.105527638190955, 1.155778894472362, 1.206030150753769, 1.256281407035176, 1.306532663316583, 1.35678391959799, 1.407035175879397, 1.4572864321608041, 1.5075376884422111, 1.5577889447236182, 1.6080402010050252, 1.6582914572864322, 1.7085427135678393, 1.7587939698492463, 1.8090452261306533, 1.8592964824120604, 1.9095477386934674, 1.9597989949748744, 2.0100502512562817, 2.0603015075376887, 2.1105527638190957, 2.1608040201005028, 2.21105527638191, 2.261306532663317, 2.311557788944724, 2.361809045226131, 2.412060301507538, 2.462311557788945, 2.512562814070352, 2.562814070351759, 2.613065326633166, 2.663316582914573, 2.71356783919598, 2.763819095477387, 2.814070351758794, 2.864321608040201, 2.9145728643216082, 2.9648241206030153, 3.0150753768844223, 3.0653266331658293, 3.1155778894472363, 3.1658291457286434, 3.2160804020100504, 3.2663316582914574, 3.3165829145728645, 3.3668341708542715, 3.4170854271356785, 3.4673366834170856, 3.5175879396984926, 3.5678391959798996, 3.6180904522613067, 3.6683417085427137, 3.7185929648241207, 3.7688442211055277, 3.819095477386935, 3.869346733668342, 3.919597989949749, 3.969849246231156, 4.020100502512563, 4.07035175879397, 4.120603015075377, 4.170854271356784, 4.2211055276381915, 4.2713567839195985, 4.3216080402010055, 4.371859296482413, 4.42211055276382, 4.472361809045227, 4.522613065326634, 4.572864321608041, 4.623115577889448, 4.673366834170855, 4.723618090452262, 4.773869346733669, 4.824120603015076, 4.874371859296483, 4.92462311557789, 4.974874371859297, 5.025125628140704, 5.075376884422111, 5.125628140703518, 5.175879396984925, 5.226130653266332, 5.276381909547739, 5.326633165829146, 5.376884422110553, 5.42713567839196, 5.477386934673367, 5.527638190954774, 5.577889447236181, 5.628140703517588, 5.678391959798995, 5.728643216080402, 5.778894472361809, 5.8291457286432165, 5.8793969849246235, 5.9296482412060305, 5.9798994974874375, 6.030150753768845, 6.080402010050252, 6.130653266331659, 6.180904522613066, 6.231155778894473, 6.28140703517588, 6.331658291457287, 6.381909547738694, 6.432160804020101, 6.482412060301508, 6.532663316582915, 6.582914572864322, 6.633165829145729, 6.683417085427136, 6.733668341708543, 6.78391959798995, 6.834170854271357, 6.884422110552764, 6.934673366834171, 6.984924623115578, 7.035175879396985, 7.085427135678392, 7.135678391959799, 7.185929648241206, 7.236180904522613, 7.28643216080402, 7.336683417085427, 7.386934673366834, 7.437185929648241, 7.4874371859296485, 7.5376884422110555, 7.5879396984924625, 7.63819095477387, 7.688442211055277, 7.738693467336684, 7.788944723618091, 7.839195979899498, 7.889447236180905, 7.939698492462312, 7.989949748743719, 8.040201005025127, 8.090452261306533, 8.14070351758794, 8.190954773869347, 8.241206030150755, 8.291457286432161, 8.341708542713569, 8.391959798994975, 8.442211055276383, 8.492462311557789, 8.542713567839197, 8.592964824120603, 8.643216080402011, 8.693467336683417, 8.743718592964825, 8.793969849246231, 8.84422110552764, 8.894472361809045, 8.944723618090453, 8.99497487437186, 9.045226130653267, 9.095477386934673, 9.145728643216081, 9.195979899497488, 9.246231155778895, 9.296482412060302, 9.34673366834171, 9.396984924623116, 9.447236180904524, 9.49748743718593, 9.547738693467338, 9.597989949748744, 9.648241206030152, 9.698492462311558, 9.748743718592966, 9.798994974874372, 9.84924623115578, 9.899497487437186, 9.949748743718594, 10.0], \"y\": [1.2821870801312736, 1.2387961391412372, 1.1962040831346978, 1.1544046933145773, 1.1133917508837983, 1.0731590370452828, 1.033700333001953, 0.9950094199567313, 0.9570800791125398, 0.9199060916723004, 0.8834812388389359, 0.8477993018153684, 0.8128540618045199, 0.7786393000093126, 0.7451487976326691, 0.7123763358775113, 0.6803156959467613, 0.6489606590433418, 0.6183050063701745, 0.588342519130182, 0.5590669785262863, 0.5304721657614099, 0.5025518620384746, 0.4752998485604031, 0.44870990653011716, 0.4227758171505396, 0.397491361624592, 0.3728503211551968, 0.34884647694527654, 0.325473610197753, 0.30272550211554883, 0.2805959339015858, 0.2590786867587863, 0.23816754189007294, 0.21785628049836725, 0.19813868378659194, 0.17900853295766933, 0.16045960921452113, 0.14248569376007011, 0.12508056779723814, 0.10823801252894727, 0.09195180915812037, 0.0762157388876792, 0.061023582920546285, 0.04636912245964331, 0.03224613870789274, 0.018648412868217445, 0.00556972614353865, -0.006996140263220971, -0.019055405149139087, -0.03061428731129312, -0.04167900554676199, -0.05225577865262249, -0.06235082542595277, -0.07197036466383061, -0.08112061516333322, -0.08980779572153938, -0.09803812513552623, -0.10581782220237182, -0.11315310571915363, -0.12005019448294926, -0.1265153072908371, -0.13255466293989454, -0.13817448022719953, -0.14338097794982996, -0.1481803749048632, -0.15257888988937673, -0.15658274170044956, -0.16019814913515867, -0.16343133099058177, -0.16628850606379664, -0.16877589315188085, -0.17089971105191282, -0.1726661785609701, -0.17408151447613063, -0.17515193759447195, -0.17588366671307099, -0.17628292062900697, -0.1763559181393567, -0.1761088780411989, -0.17554801913161056, -0.17467956020766906, -0.1735097200664535, -0.17204471750504047, -0.1702907713205083, -0.16825410030993493, -0.1659409232703969, -0.16335745899897403, -0.16050992629274274, -0.157404543948781, -0.15404753076416744, -0.15044510553597723, -0.14660348706129112, -0.14252889413718672, -0.13822754556073913, -0.1337056601290284, -0.12896945663913228, -0.12402515388812729, -0.11887897067309239, -0.11353712579110464, -0.10800583803924102, -0.10229132621458237, -0.09639980911420332, -0.09033750553518338, -0.08411063427459853, -0.07772541412952805, -0.07118806389705012, -0.06450480237424117, -0.05768184835818024, -0.05072542064594443, -0.043641738034610134, -0.03643701932125798, -0.02911748330296393, -0.021689348776806838, -0.01415883453986222, -0.006532159389210257, 0.001184457878071532, 0.008984798464907184, 0.016862643574216518, 0.024811774408924014, 0.03282597217195016, 0.04089901806621854, 0.04902469329464987, 0.057196779060166625, 0.06540905656569374, 0.0736553070141488, 0.08192931160845918, 0.09022485155154225, 0.09853570804632295, 0.10685566229572396, 0.11517849550266535, 0.12349798887007157, 0.13180792360086357, 0.14010208089796272, 0.14837424196429305, 0.1566181880027755, 0.1648277002163332, 0.17299655980788975, 0.18111854798036253, 0.1891874459366787, 0.1971970348797587, 0.2051410960125244, 0.21301341053789935, 0.22080775965880406, 0.22851792457816167, 0.2361376864988931, 0.2436608266239233, 0.2510811261561723, 0.258392366298561, 0.2655883282540148, 0.27266279322545417, 0.2796095424158054, 0.28642235702798313, 0.293095018264915, 0.2996213073295211, 0.3059950054247236, 0.3122098937534492, 0.318259753518614, 0.32413836592314116, 0.3298395121699551, 0.33535697346197857, 0.3406845310021325, 0.3458159659933395, 0.35074505963852065, 0.35546559314059767, 0.35997134770249684, 0.3642561045271355, 0.36831364481743734, 0.3721377497763285, 0.37572220060672556, 0.37906077851155295, 0.3821472646937343, 0.38497544035619224, 0.38753908670184245, 0.3898319849336165, 0.39184791625442994, 0.3935806618672082, 0.39502400297487306, 0.39617172078034546, 0.3970175964865499, 0.39755541129640104, 0.3977789464128332, 0.3976819830387637, 0.3972583023771108, 0.3965016856307999, 0.39540591400275193, 0.3939647686958887, 0.39217203091313824, 0.39002148185741614, 0.387506902731646, 0.3846220747387523, 0.3813607790816569, 0.3777167969632771, 0.3736839095865401, 0.36925589815436943, 0.3644265438696843, 0.35918962793540565, 0.35353893155446325, 0.34746823592976384, 0.340971322264247]}],\n",
              "                        {\"legend\": {\"orientation\": \"h\"}, \"template\": {\"data\": {\"bar\": [{\"error_x\": {\"color\": \"#2a3f5f\"}, \"error_y\": {\"color\": \"#2a3f5f\"}, \"marker\": {\"line\": {\"color\": \"#E5ECF6\", \"width\": 0.5}}, \"type\": \"bar\"}], \"barpolar\": [{\"marker\": {\"line\": {\"color\": \"#E5ECF6\", \"width\": 0.5}}, \"type\": \"barpolar\"}], \"carpet\": [{\"aaxis\": {\"endlinecolor\": \"#2a3f5f\", \"gridcolor\": \"white\", \"linecolor\": \"white\", \"minorgridcolor\": \"white\", \"startlinecolor\": \"#2a3f5f\"}, \"baxis\": {\"endlinecolor\": \"#2a3f5f\", \"gridcolor\": \"white\", \"linecolor\": \"white\", \"minorgridcolor\": \"white\", \"startlinecolor\": \"#2a3f5f\"}, \"type\": \"carpet\"}], \"choropleth\": [{\"colorbar\": {\"outlinewidth\": 0, \"ticks\": \"\"}, \"type\": \"choropleth\"}], \"contour\": [{\"colorbar\": {\"outlinewidth\": 0, \"ticks\": \"\"}, \"colorscale\": [[0.0, \"#0d0887\"], [0.1111111111111111, \"#46039f\"], [0.2222222222222222, \"#7201a8\"], [0.3333333333333333, \"#9c179e\"], [0.4444444444444444, \"#bd3786\"], [0.5555555555555556, \"#d8576b\"], [0.6666666666666666, \"#ed7953\"], [0.7777777777777778, \"#fb9f3a\"], [0.8888888888888888, \"#fdca26\"], [1.0, \"#f0f921\"]], \"type\": \"contour\"}], \"contourcarpet\": [{\"colorbar\": {\"outlinewidth\": 0, \"ticks\": \"\"}, \"type\": \"contourcarpet\"}], \"heatmap\": [{\"colorbar\": {\"outlinewidth\": 0, \"ticks\": \"\"}, \"colorscale\": [[0.0, \"#0d0887\"], [0.1111111111111111, \"#46039f\"], [0.2222222222222222, \"#7201a8\"], [0.3333333333333333, \"#9c179e\"], [0.4444444444444444, \"#bd3786\"], [0.5555555555555556, \"#d8576b\"], [0.6666666666666666, \"#ed7953\"], [0.7777777777777778, \"#fb9f3a\"], [0.8888888888888888, \"#fdca26\"], [1.0, \"#f0f921\"]], \"type\": \"heatmap\"}], \"heatmapgl\": [{\"colorbar\": {\"outlinewidth\": 0, \"ticks\": \"\"}, \"colorscale\": [[0.0, \"#0d0887\"], [0.1111111111111111, \"#46039f\"], [0.2222222222222222, \"#7201a8\"], [0.3333333333333333, \"#9c179e\"], [0.4444444444444444, \"#bd3786\"], [0.5555555555555556, \"#d8576b\"], [0.6666666666666666, \"#ed7953\"], [0.7777777777777778, \"#fb9f3a\"], [0.8888888888888888, \"#fdca26\"], [1.0, \"#f0f921\"]], \"type\": \"heatmapgl\"}], \"histogram\": [{\"marker\": {\"colorbar\": {\"outlinewidth\": 0, \"ticks\": \"\"}}, \"type\": \"histogram\"}], \"histogram2d\": [{\"colorbar\": {\"outlinewidth\": 0, \"ticks\": \"\"}, \"colorscale\": [[0.0, \"#0d0887\"], [0.1111111111111111, \"#46039f\"], [0.2222222222222222, \"#7201a8\"], [0.3333333333333333, \"#9c179e\"], [0.4444444444444444, \"#bd3786\"], [0.5555555555555556, \"#d8576b\"], [0.6666666666666666, \"#ed7953\"], [0.7777777777777778, \"#fb9f3a\"], [0.8888888888888888, \"#fdca26\"], [1.0, \"#f0f921\"]], \"type\": \"histogram2d\"}], \"histogram2dcontour\": [{\"colorbar\": {\"outlinewidth\": 0, \"ticks\": \"\"}, \"colorscale\": [[0.0, \"#0d0887\"], [0.1111111111111111, \"#46039f\"], [0.2222222222222222, \"#7201a8\"], [0.3333333333333333, \"#9c179e\"], [0.4444444444444444, \"#bd3786\"], [0.5555555555555556, \"#d8576b\"], [0.6666666666666666, \"#ed7953\"], [0.7777777777777778, \"#fb9f3a\"], [0.8888888888888888, \"#fdca26\"], [1.0, \"#f0f921\"]], \"type\": \"histogram2dcontour\"}], \"mesh3d\": [{\"colorbar\": {\"outlinewidth\": 0, \"ticks\": \"\"}, \"type\": \"mesh3d\"}], \"parcoords\": [{\"line\": {\"colorbar\": {\"outlinewidth\": 0, \"ticks\": \"\"}}, \"type\": \"parcoords\"}], \"scatter\": [{\"marker\": {\"colorbar\": {\"outlinewidth\": 0, \"ticks\": \"\"}}, \"type\": \"scatter\"}], \"scatter3d\": [{\"line\": {\"colorbar\": {\"outlinewidth\": 0, \"ticks\": \"\"}}, \"marker\": {\"colorbar\": {\"outlinewidth\": 0, \"ticks\": \"\"}}, \"type\": \"scatter3d\"}], \"scattercarpet\": [{\"marker\": {\"colorbar\": {\"outlinewidth\": 0, \"ticks\": \"\"}}, \"type\": \"scattercarpet\"}], \"scattergeo\": [{\"marker\": {\"colorbar\": {\"outlinewidth\": 0, \"ticks\": \"\"}}, \"type\": \"scattergeo\"}], \"scattergl\": [{\"marker\": {\"colorbar\": {\"outlinewidth\": 0, \"ticks\": \"\"}}, \"type\": \"scattergl\"}], \"scattermapbox\": [{\"marker\": {\"colorbar\": {\"outlinewidth\": 0, \"ticks\": \"\"}}, \"type\": \"scattermapbox\"}], \"scatterpolar\": [{\"marker\": {\"colorbar\": {\"outlinewidth\": 0, \"ticks\": \"\"}}, \"type\": \"scatterpolar\"}], \"scatterpolargl\": [{\"marker\": {\"colorbar\": {\"outlinewidth\": 0, \"ticks\": \"\"}}, \"type\": \"scatterpolargl\"}], \"scatterternary\": [{\"marker\": {\"colorbar\": {\"outlinewidth\": 0, \"ticks\": \"\"}}, \"type\": \"scatterternary\"}], \"surface\": [{\"colorbar\": {\"outlinewidth\": 0, \"ticks\": \"\"}, \"colorscale\": [[0.0, \"#0d0887\"], [0.1111111111111111, \"#46039f\"], [0.2222222222222222, \"#7201a8\"], [0.3333333333333333, \"#9c179e\"], [0.4444444444444444, \"#bd3786\"], [0.5555555555555556, \"#d8576b\"], [0.6666666666666666, \"#ed7953\"], [0.7777777777777778, \"#fb9f3a\"], [0.8888888888888888, \"#fdca26\"], [1.0, \"#f0f921\"]], \"type\": \"surface\"}], \"table\": [{\"cells\": {\"fill\": {\"color\": \"#EBF0F8\"}, \"line\": {\"color\": \"white\"}}, \"header\": {\"fill\": {\"color\": \"#C8D4E3\"}, \"line\": {\"color\": \"white\"}}, \"type\": \"table\"}]}, \"layout\": {\"annotationdefaults\": {\"arrowcolor\": \"#2a3f5f\", \"arrowhead\": 0, \"arrowwidth\": 1}, \"colorscale\": {\"diverging\": [[0, \"#8e0152\"], [0.1, \"#c51b7d\"], [0.2, \"#de77ae\"], [0.3, \"#f1b6da\"], [0.4, \"#fde0ef\"], [0.5, \"#f7f7f7\"], [0.6, \"#e6f5d0\"], [0.7, \"#b8e186\"], [0.8, \"#7fbc41\"], [0.9, \"#4d9221\"], [1, \"#276419\"]], \"sequential\": [[0.0, \"#0d0887\"], [0.1111111111111111, \"#46039f\"], [0.2222222222222222, \"#7201a8\"], [0.3333333333333333, \"#9c179e\"], [0.4444444444444444, \"#bd3786\"], [0.5555555555555556, \"#d8576b\"], [0.6666666666666666, \"#ed7953\"], [0.7777777777777778, \"#fb9f3a\"], [0.8888888888888888, \"#fdca26\"], [1.0, \"#f0f921\"]], \"sequentialminus\": [[0.0, \"#0d0887\"], [0.1111111111111111, \"#46039f\"], [0.2222222222222222, \"#7201a8\"], [0.3333333333333333, \"#9c179e\"], [0.4444444444444444, \"#bd3786\"], [0.5555555555555556, \"#d8576b\"], [0.6666666666666666, \"#ed7953\"], [0.7777777777777778, \"#fb9f3a\"], [0.8888888888888888, \"#fdca26\"], [1.0, \"#f0f921\"]]}, \"colorway\": [\"#636efa\", \"#EF553B\", \"#00cc96\", \"#ab63fa\", \"#FFA15A\", \"#19d3f3\", \"#FF6692\", \"#B6E880\", \"#FF97FF\", \"#FECB52\"], \"font\": {\"color\": \"#2a3f5f\"}, \"geo\": {\"bgcolor\": \"white\", \"lakecolor\": \"white\", \"landcolor\": \"#E5ECF6\", \"showlakes\": true, \"showland\": true, \"subunitcolor\": \"white\"}, \"hoverlabel\": {\"align\": \"left\"}, \"hovermode\": \"closest\", \"mapbox\": {\"style\": \"light\"}, \"paper_bgcolor\": \"white\", \"plot_bgcolor\": \"#E5ECF6\", \"polar\": {\"angularaxis\": {\"gridcolor\": \"white\", \"linecolor\": \"white\", \"ticks\": \"\"}, \"bgcolor\": \"#E5ECF6\", \"radialaxis\": {\"gridcolor\": \"white\", \"linecolor\": \"white\", \"ticks\": \"\"}}, \"scene\": {\"xaxis\": {\"backgroundcolor\": \"#E5ECF6\", \"gridcolor\": \"white\", \"gridwidth\": 2, \"linecolor\": \"white\", \"showbackground\": true, \"ticks\": \"\", \"zerolinecolor\": \"white\"}, \"yaxis\": {\"backgroundcolor\": \"#E5ECF6\", \"gridcolor\": \"white\", \"gridwidth\": 2, \"linecolor\": \"white\", \"showbackground\": true, \"ticks\": \"\", \"zerolinecolor\": \"white\"}, \"zaxis\": {\"backgroundcolor\": \"#E5ECF6\", \"gridcolor\": \"white\", \"gridwidth\": 2, \"linecolor\": \"white\", \"showbackground\": true, \"ticks\": \"\", \"zerolinecolor\": \"white\"}}, \"shapedefaults\": {\"line\": {\"color\": \"#2a3f5f\"}}, \"ternary\": {\"aaxis\": {\"gridcolor\": \"white\", \"linecolor\": \"white\", \"ticks\": \"\"}, \"baxis\": {\"gridcolor\": \"white\", \"linecolor\": \"white\", \"ticks\": \"\"}, \"bgcolor\": \"#E5ECF6\", \"caxis\": {\"gridcolor\": \"white\", \"linecolor\": \"white\", \"ticks\": \"\"}}, \"title\": {\"x\": 0.05}, \"xaxis\": {\"automargin\": true, \"gridcolor\": \"white\", \"linecolor\": \"white\", \"ticks\": \"\", \"zerolinecolor\": \"white\", \"zerolinewidth\": 2}, \"yaxis\": {\"automargin\": true, \"gridcolor\": \"white\", \"linecolor\": \"white\", \"ticks\": \"\", \"zerolinecolor\": \"white\", \"zerolinewidth\": 2}}}},\n",
              "                        {\"responsive\": true}\n",
              "                    ).then(function(){\n",
              "                            \n",
              "var gd = document.getElementById('f30e2009-0ed8-4b89-99e2-d4d52a2170a6');\n",
              "var x = new MutationObserver(function (mutations, observer) {{\n",
              "        var display = window.getComputedStyle(gd).display;\n",
              "        if (!display || display === 'none') {{\n",
              "            console.log([gd, 'removed!']);\n",
              "            Plotly.purge(gd);\n",
              "            observer.disconnect();\n",
              "        }}\n",
              "}});\n",
              "\n",
              "// Listen for the removal of the full notebook cells\n",
              "var notebookContainer = gd.closest('#notebook-container');\n",
              "if (notebookContainer) {{\n",
              "    x.observe(notebookContainer, {childList: true});\n",
              "}}\n",
              "\n",
              "// Listen for the clearing of the current output cell\n",
              "var outputEl = gd.closest('.output');\n",
              "if (outputEl) {{\n",
              "    x.observe(outputEl, {childList: true});\n",
              "}}\n",
              "\n",
              "                        })\n",
              "                };\n",
              "                \n",
              "            </script>\n",
              "        </div>\n",
              "</body>\n",
              "</html>"
            ]
          },
          "metadata": {
            "tags": []
          }
        }
      ]
    },
    {
      "cell_type": "markdown",
      "metadata": {
        "id": "gtyN0Nu7Qsbl",
        "colab_type": "text"
      },
      "source": [
        "###I.2.2 Regression à noyau\n",
        "\n",
        "a) Dans le cas du modèle linéaire, appliquer la régression à noyau avec un noyau linéaire. Utiliser la fonction KernelRidge de Scikit-learn avec un noyau linéaire. Représenter sur un graphique les données et la solution obtenue."
      ]
    },
    {
      "cell_type": "code",
      "metadata": {
        "id": "l_GHEC64eSDk",
        "colab_type": "code",
        "colab": {}
      },
      "source": [
        "# we define a function to concatenate a ones vector because\n",
        "# KernelRidge() doesn't have a fit_intercept parameter\n",
        "def vector_prefixed_by_ones_vector(X):\n",
        "    return np.concatenate((np.ones((X.shape[0], 1)), X), axis=1)"
      ],
      "execution_count": 0,
      "outputs": []
    },
    {
      "cell_type": "code",
      "metadata": {
        "id": "MMw_rn34SfGx",
        "colab_type": "code",
        "outputId": "c2ac2c91-d5bb-4476-a87f-b21f4d875884",
        "colab": {
          "base_uri": "https://localhost:8080/",
          "height": 542
        }
      },
      "source": [
        " # generate some noisy linear data\n",
        "n_samples, variance = 100, 0.01\n",
        "X, Y, W = linear_data(n_samples, variance)\n",
        "\n",
        "# use the Ridge classifier\n",
        "ridge = Ridge()\n",
        "ridge.fit(X, Y)\n",
        "\n",
        "# use the KernelRidge classifier\n",
        "kernelRidge = KernelRidge()\n",
        "X_with_ones = vector_prefixed_by_ones_vector(X)\n",
        "kernelRidge.fit(X_with_ones, Y)\n",
        "\n",
        "# we'll plot data between min and max\n",
        "x_range = np.linspace(X.min(), X.max(), n_samples).reshape(-1, 1)\n",
        "x_range_with_ones = vector_prefixed_by_ones_vector(x_range)\n",
        "\n",
        "# get the line with true weights according to x_range\n",
        "true_line = get_regression_predictions(x_range, W)\n",
        "\n",
        "# ploting power !\n",
        "fig = go.Figure(\n",
        "    data=[\n",
        "        # markers\n",
        "        go.Scatter(\n",
        "            x=X.squeeze(),\n",
        "            y=Y.squeeze(),\n",
        "            mode='markers',\n",
        "            name=f'linear data [{n_samples}, {variance}]'\n",
        "        ),\n",
        "        # true line\n",
        "        go.Scatter(\n",
        "            x=x_range.squeeze(),\n",
        "            y=true_line.squeeze(),\n",
        "            mode='lines',\n",
        "            name=f\"true line {W.squeeze()}\"\n",
        "        ),\n",
        "        # ridge found line\n",
        "        go.Scatter(\n",
        "            x=x_range.squeeze(),\n",
        "            y=ridge.predict(x_range).squeeze(),\n",
        "            mode='lines',\n",
        "            name=f\"Ridge predictions\"\n",
        "        ),\n",
        "        # kernel ridge found line\n",
        "        go.Scatter(\n",
        "            x=x_range.squeeze(),\n",
        "            y=kernelRidge.predict(x_range_with_ones).squeeze(),\n",
        "            mode='lines',\n",
        "            name=f\"Kernel Ridge predictions\"\n",
        "        )\n",
        "    ],\n",
        "    layout={\n",
        "        'legend': {\n",
        "            'orientation': 'h'\n",
        "        }\n",
        "    }\n",
        ")\n",
        "fig.show()"
      ],
      "execution_count": 0,
      "outputs": [
        {
          "output_type": "display_data",
          "data": {
            "text/html": [
              "<html>\n",
              "<head><meta charset=\"utf-8\" /></head>\n",
              "<body>\n",
              "    <div>\n",
              "            <script src=\"https://cdnjs.cloudflare.com/ajax/libs/mathjax/2.7.5/MathJax.js?config=TeX-AMS-MML_SVG\"></script><script type=\"text/javascript\">if (window.MathJax) {MathJax.Hub.Config({SVG: {font: \"STIX-Web\"}});}</script>\n",
              "                <script type=\"text/javascript\">window.PlotlyConfig = {MathJaxConfig: 'local'};</script>\n",
              "        <script src=\"https://cdn.plot.ly/plotly-latest.min.js\"></script>    \n",
              "            <div id=\"4570a2d5-5896-4367-90bb-e878dc42ab1e\" class=\"plotly-graph-div\" style=\"height:525px; width:100%;\"></div>\n",
              "            <script type=\"text/javascript\">\n",
              "                \n",
              "                    window.PLOTLYENV=window.PLOTLYENV || {};\n",
              "                    \n",
              "                if (document.getElementById(\"4570a2d5-5896-4367-90bb-e878dc42ab1e\")) {\n",
              "                    Plotly.newPlot(\n",
              "                        '4570a2d5-5896-4367-90bb-e878dc42ab1e',\n",
              "                        [{\"mode\": \"markers\", \"name\": \"linear data [100, 0.01]\", \"type\": \"scatter\", \"x\": [0.9073929489779614, 0.40149272050918905, 0.5285967625790124, 0.260385234901071, 0.3755835687730451, 0.7314222543043762, 0.3325220483951321, 0.30682105029776297, 0.02273001102357164, 0.9433299203030721, 0.6150393218267242, 0.4788316761805712, 0.6864166059110686, 0.5242333373985172, 0.5351097862827587, 0.8889728598728713, 0.31645074147175356, 0.9329513227707239, 0.6758233365627067, 0.022716448689451663, 0.7725539039126801, 0.5569131221073187, 0.34785799540434303, 0.8934630572430405, 0.6627972776223272, 0.5252008369433359, 0.9657374732528607, 0.3128500101413503, 0.09910668441839399, 0.5865411851853427, 0.9606538659122864, 0.8859228400731821, 0.9983826148619013, 0.7040430244198511, 0.24034653541267537, 0.7059808965766706, 0.811151146198735, 0.49179410665140444, 0.7249498425638266, 0.7514456942197749, 0.4172437045738815, 0.9712879227513331, 0.40053481212408903, 0.9509944763452997, 0.9836477577421754, 0.5019396949008392, 0.6987133808168724, 0.5806743050030053, 0.6220547847692315, 0.7666064844009018, 0.003813752995334263, 0.12674938970452376, 0.2500297574366469, 0.9078587388134844, 0.6452386167396681, 0.38208627269766793, 0.5142031313501978, 0.32211149619109136, 0.941332769179266, 0.35434161314675705, 0.19983555330364544, 0.44943855475298644, 0.8584546581137, 0.5286652409611223, 0.1052087451011664, 0.1739976730693269, 0.970094399329131, 0.8482708586672736, 0.2778413520375709, 0.29816100710639215, 0.7537430430017632, 0.8776632131767197, 0.8152319196287824, 0.3956408591480304, 0.43618356545236037, 0.5943774506156746, 0.23670974211390128, 0.629070907516652, 0.32823875530160973, 0.10619027313226059, 0.6743816623532808, 0.5517511523276898, 0.04629724088279441, 0.11169088239101199, 0.4851943583190844, 0.9364659497696936, 0.10068310353944554, 0.453643522284372, 0.9763031074803024, 0.9418224872074281, 0.7447624365691087, 0.3553671027829085, 0.7866014670111106, 0.3919423413295108, 0.4357537041754076, 0.1262792090728878, 0.5301163283566359, 0.185955665221485, 0.9756470153729809, 0.2145803124354978], \"y\": [1.1848270382672375, 0.7800793556997198, 0.874849189201308, 0.6336899153570691, 0.7341650728389625, 1.0701922727981656, 0.709291181616213, 0.6833351634419367, 0.4541280767538601, 1.215550685084709, 0.9366483564413142, 0.8253514967354008, 0.9882054753555152, 0.8694439317804153, 0.8699440360654517, 1.1714519642915941, 0.6872701548814154, 1.2105363034679226, 0.9897726027733433, 0.45644307778622867, 1.0697393609717427, 0.8860291092968452, 0.7294939336923172, 1.1737793981514015, 0.9918262693842768, 0.8632661428543905, 1.226264401550173, 0.6780162333822853, 0.5202076228276816, 0.914352829697663, 1.2240478007783104, 1.1653656941127073, 1.2641631965389326, 0.9890035026548474, 0.623033482991759, 1.0227539117992552, 1.1083877344345887, 0.8447047450485634, 1.0205565473772862, 1.0532726771094132, 0.7643099974800421, 1.2362418455900928, 0.7690937372100908, 1.2275283181084433, 1.2520431145483126, 0.8347721906817396, 1.0072829427412935, 0.9273056336039401, 0.9436942190567199, 1.0602740353435802, 0.42512062478081786, 0.5310417881922366, 0.6334547525936253, 1.1832710751504407, 0.9854039097154143, 0.7534767866577069, 0.854628863369227, 0.6734958935322409, 1.205670076431473, 0.7313429396890576, 0.6024976621510763, 0.7972703493140374, 1.1385805698967448, 0.8707727061892787, 0.5106583092732164, 0.5609778683930873, 1.2153694253143874, 1.1359010565556362, 0.6472769514131318, 0.6702972455935509, 1.0567867126266748, 1.1530062819553484, 1.1117521300112445, 0.7540755361963204, 0.7915666680573993, 0.9265015011559666, 0.6369753735532159, 0.932689213942348, 0.6847300484759969, 0.4937867735305648, 0.9927625235615798, 0.892459493446575, 0.4680512410235962, 0.4992117604624727, 0.8532155576207888, 1.2136041103605903, 0.5118865900758987, 0.7896640428454466, 1.250560499718001, 1.2050744575923, 1.0333592224007013, 0.716502033929576, 1.07956719047906, 0.7432512618360988, 0.7913477979368823, 0.5298943371964613, 0.841797729906367, 0.5644728686495905, 1.253864095118769, 0.611521584841644]}, {\"mode\": \"lines\", \"name\": \"true line [0.42591938 0.83326699]\", \"type\": \"scatter\", \"x\": [0.003813752995334263, 0.013859903115198576, 0.02390605323506289, 0.0339522033549272, 0.043998353474791516, 0.05404450359465583, 0.06409065371452013, 0.07413680383438445, 0.08418295395424877, 0.09422910407411308, 0.1042752541939774, 0.1143214043138417, 0.12436755443370602, 0.13441370455357032, 0.14445985467343464, 0.15450600479329896, 0.16455215491316327, 0.1745983050330276, 0.1846444551528919, 0.19469060527275622, 0.20473675539262054, 0.21478290551248483, 0.22482905563234915, 0.23487520575221346, 0.24492135587207778, 0.25496750599194207, 0.2650136561118064, 0.2750598062316707, 0.285105956351535, 0.29515210647139933, 0.30519825659126365, 0.31524440671112797, 0.3252905568309923, 0.3353367069508566, 0.3453828570707209, 0.35542900719058523, 0.36547515731044955, 0.37552130743031387, 0.3855674575501782, 0.3956136076700425, 0.4056597577899068, 0.4157059079097711, 0.4257520580296354, 0.4357982081494997, 0.445844358269364, 0.45589050838922834, 0.46593665850909266, 0.475982808628957, 0.4860289587488213, 0.4960751088686856, 0.5061212589885499, 0.5161674091084142, 0.5262135592282785, 0.5362597093481428, 0.5463058594680071, 0.5563520095878715, 0.5663981597077358, 0.5764443098276001, 0.5864904599474644, 0.5965366100673287, 0.606582760187193, 0.6166289103070574, 0.6266750604269217, 0.636721210546786, 0.6467673606666503, 0.6568135107865146, 0.6668596609063789, 0.6769058110262433, 0.6869519611461076, 0.6969981112659719, 0.7070442613858362, 0.7170904115057005, 0.7271365616255648, 0.7371827117454292, 0.7472288618652935, 0.7572750119851578, 0.7673211621050221, 0.7773673122248864, 0.7874134623447507, 0.797459612464615, 0.8075057625844794, 0.8175519127043436, 0.8275980628242079, 0.8376442129440722, 0.8476903630639365, 0.8577365131838008, 0.8677826633036652, 0.8778288134235295, 0.8878749635433938, 0.8979211136632581, 0.9079672637831224, 0.9180134139029867, 0.9280595640228511, 0.9381057141427154, 0.9481518642625797, 0.958198014382444, 0.9682441645023083, 0.9782903146221726, 0.988336464742037, 0.9983826148619013], \"y\": [0.429097252800464, 0.43746837808814465, 0.4458395033758253, 0.45421062866350587, 0.4625817539511865, 0.4709528792388671, 0.4793240045265477, 0.48769512981422836, 0.49606625510190894, 0.5044373803895896, 0.5128085056772702, 0.5211796309649508, 0.5295507562526314, 0.5379218815403121, 0.5462930068279926, 0.5546641321156732, 0.5630352574033539, 0.5714063826910345, 0.5797775079787151, 0.5881486332663958, 0.5965197585540764, 0.6048908838417569, 0.6132620091294376, 0.6216331344171182, 0.6300042597047988, 0.6383753849924794, 0.64674651028016, 0.6551176355678406, 0.6634887608555212, 0.6718598861432019, 0.6802310114308825, 0.6886021367185631, 0.6969732620062437, 0.7053443872939243, 0.713715512581605, 0.7220866378692856, 0.7304577631569662, 0.7388288884446468, 0.7472000137323274, 0.755571139020008, 0.7639422643076887, 0.7723133895953692, 0.7806845148830499, 0.7890556401707305, 0.7974267654584111, 0.8057978907460916, 0.8141690160337723, 0.8225401413214529, 0.8309112666091336, 0.8392823918968142, 0.8476535171844948, 0.8560246424721754, 0.8643957677598559, 0.8727668930475366, 0.8811380183352172, 0.8895091436228979, 0.8978802689105785, 0.9062513941982591, 0.9146225194859396, 0.9229936447736203, 0.9313647700613009, 0.9397358953489815, 0.9481070206366622, 0.9564781459243428, 0.9648492712120235, 0.973220396499704, 0.9815915217873846, 0.9899626470750653, 0.9983337723627459, 1.0067048976504265, 1.015076022938107, 1.0234471482257876, 1.0318182735134682, 1.040189398801149, 1.0485605240888296, 1.0569316493765102, 1.065302774664191, 1.0736738999518716, 1.0820450252395521, 1.0904161505272327, 1.0987872758149133, 1.107158401102594, 1.1155295263902745, 1.123900651677955, 1.1322717769656356, 1.1406429022533162, 1.1490140275409968, 1.1573851528286774, 1.1657562781163582, 1.1741274034040388, 1.1824985286917193, 1.1908696539794001, 1.1992407792670807, 1.2076119045547613, 1.2159830298424419, 1.2243541551301225, 1.232725280417803, 1.2410964057054836, 1.2494675309931642, 1.2578386562808448]}, {\"mode\": \"lines\", \"name\": \"Ridge predictions\", \"type\": \"scatter\", \"x\": [0.003813752995334263, 0.013859903115198576, 0.02390605323506289, 0.0339522033549272, 0.043998353474791516, 0.05404450359465583, 0.06409065371452013, 0.07413680383438445, 0.08418295395424877, 0.09422910407411308, 0.1042752541939774, 0.1143214043138417, 0.12436755443370602, 0.13441370455357032, 0.14445985467343464, 0.15450600479329896, 0.16455215491316327, 0.1745983050330276, 0.1846444551528919, 0.19469060527275622, 0.20473675539262054, 0.21478290551248483, 0.22482905563234915, 0.23487520575221346, 0.24492135587207778, 0.25496750599194207, 0.2650136561118064, 0.2750598062316707, 0.285105956351535, 0.29515210647139933, 0.30519825659126365, 0.31524440671112797, 0.3252905568309923, 0.3353367069508566, 0.3453828570707209, 0.35542900719058523, 0.36547515731044955, 0.37552130743031387, 0.3855674575501782, 0.3956136076700425, 0.4056597577899068, 0.4157059079097711, 0.4257520580296354, 0.4357982081494997, 0.445844358269364, 0.45589050838922834, 0.46593665850909266, 0.475982808628957, 0.4860289587488213, 0.4960751088686856, 0.5061212589885499, 0.5161674091084142, 0.5262135592282785, 0.5362597093481428, 0.5463058594680071, 0.5563520095878715, 0.5663981597077358, 0.5764443098276001, 0.5864904599474644, 0.5965366100673287, 0.606582760187193, 0.6166289103070574, 0.6266750604269217, 0.636721210546786, 0.6467673606666503, 0.6568135107865146, 0.6668596609063789, 0.6769058110262433, 0.6869519611461076, 0.6969981112659719, 0.7070442613858362, 0.7170904115057005, 0.7271365616255648, 0.7371827117454292, 0.7472288618652935, 0.7572750119851578, 0.7673211621050221, 0.7773673122248864, 0.7874134623447507, 0.797459612464615, 0.8075057625844794, 0.8175519127043436, 0.8275980628242079, 0.8376442129440722, 0.8476903630639365, 0.8577365131838008, 0.8677826633036652, 0.8778288134235295, 0.8878749635433938, 0.8979211136632581, 0.9079672637831224, 0.9180134139029867, 0.9280595640228511, 0.9381057141427154, 0.9481518642625797, 0.958198014382444, 0.9682441645023083, 0.9782903146221726, 0.988336464742037, 0.9983826148619013], \"y\": [0.477619790183713, 0.48510261479577116, 0.49258543940782934, 0.5000682640198875, 0.5075510886319456, 0.5150339132440038, 0.522516737856062, 0.5299995624681202, 0.5374823870801784, 0.5449652116922366, 0.5524480363042947, 0.5599308609163528, 0.567413685528411, 0.5748965101404692, 0.5823793347525273, 0.5898621593645855, 0.5973449839766437, 0.6048278085887019, 0.6123106332007601, 0.6197934578128182, 0.6272762824248763, 0.6347591070369345, 0.6422419316489927, 0.6497247562610509, 0.657207580873109, 0.6646904054851672, 0.6721732300972254, 0.6796560547092836, 0.6871388793213418, 0.6946217039334, 0.7021045285454581, 0.7095873531575163, 0.7170701777695744, 0.7245530023816326, 0.7320358269936907, 0.7395186516057489, 0.7470014762178071, 0.7544843008298653, 0.7619671254419235, 0.7694499500539816, 0.7769327746660397, 0.7844155992780979, 0.7918984238901561, 0.7993812485022143, 0.8068640731142724, 0.8143468977263306, 0.8218297223383888, 0.829312546950447, 0.8367953715625052, 0.8442781961745633, 0.8517610207866214, 0.8592438453986796, 0.8667266700107378, 0.874209494622796, 0.8816923192348541, 0.8891751438469123, 0.8966579684589704, 0.9041407930710286, 0.9116236176830868, 0.9191064422951449, 0.9265892669072031, 0.9340720915192613, 0.9415549161313195, 0.9490377407433777, 0.9565205653554358, 0.964003389967494, 0.9714862145795522, 0.9789690391916104, 0.9864518638036686, 0.9939346884157267, 1.001417513027785, 1.008900337639843, 1.016383162251901, 1.0238659868639592, 1.0313488114760174, 1.0388316360880756, 1.0463144607001338, 1.053797285312192, 1.0612801099242501, 1.0687629345363083, 1.0762457591483665, 1.0837285837604247, 1.0912114083724829, 1.098694232984541, 1.1061770575965992, 1.1136598822086574, 1.1211427068207156, 1.1286255314327738, 1.136108356044832, 1.1435911806568901, 1.1510740052689483, 1.1585568298810065, 1.1660396544930647, 1.1735224791051229, 1.181005303717181, 1.1884881283292392, 1.1959709529412974, 1.2034537775533556, 1.2109366021654138, 1.218419426777472]}, {\"mode\": \"lines\", \"name\": \"Kernel Ridge predictions\", \"type\": \"scatter\", \"x\": [0.003813752995334263, 0.013859903115198576, 0.02390605323506289, 0.0339522033549272, 0.043998353474791516, 0.05404450359465583, 0.06409065371452013, 0.07413680383438445, 0.08418295395424877, 0.09422910407411308, 0.1042752541939774, 0.1143214043138417, 0.12436755443370602, 0.13441370455357032, 0.14445985467343464, 0.15450600479329896, 0.16455215491316327, 0.1745983050330276, 0.1846444551528919, 0.19469060527275622, 0.20473675539262054, 0.21478290551248483, 0.22482905563234915, 0.23487520575221346, 0.24492135587207778, 0.25496750599194207, 0.2650136561118064, 0.2750598062316707, 0.285105956351535, 0.29515210647139933, 0.30519825659126365, 0.31524440671112797, 0.3252905568309923, 0.3353367069508566, 0.3453828570707209, 0.35542900719058523, 0.36547515731044955, 0.37552130743031387, 0.3855674575501782, 0.3956136076700425, 0.4056597577899068, 0.4157059079097711, 0.4257520580296354, 0.4357982081494997, 0.445844358269364, 0.45589050838922834, 0.46593665850909266, 0.475982808628957, 0.4860289587488213, 0.4960751088686856, 0.5061212589885499, 0.5161674091084142, 0.5262135592282785, 0.5362597093481428, 0.5463058594680071, 0.5563520095878715, 0.5663981597077358, 0.5764443098276001, 0.5864904599474644, 0.5965366100673287, 0.606582760187193, 0.6166289103070574, 0.6266750604269217, 0.636721210546786, 0.6467673606666503, 0.6568135107865146, 0.6668596609063789, 0.6769058110262433, 0.6869519611461076, 0.6969981112659719, 0.7070442613858362, 0.7170904115057005, 0.7271365616255648, 0.7371827117454292, 0.7472288618652935, 0.7572750119851578, 0.7673211621050221, 0.7773673122248864, 0.7874134623447507, 0.797459612464615, 0.8075057625844794, 0.8175519127043436, 0.8275980628242079, 0.8376442129440722, 0.8476903630639365, 0.8577365131838008, 0.8677826633036652, 0.8778288134235295, 0.8878749635433938, 0.8979211136632581, 0.9079672637831224, 0.9180134139029867, 0.9280595640228511, 0.9381057141427154, 0.9481518642625797, 0.958198014382444, 0.9682441645023083, 0.9782903146221726, 0.988336464742037, 0.9983826148619013], \"y\": [0.4580849917655494, 0.46584475774575895, 0.47360452372596845, 0.48136428970617806, 0.4891240556863876, 0.49688382166659717, 0.5046435876468066, 0.5124033536270163, 0.5201631196072259, 0.5279228855874354, 0.5356826515676449, 0.5434424175478543, 0.551202183528064, 0.5589619495082736, 0.5667217154884832, 0.5744814814686925, 0.5822412474489023, 0.5900010134291118, 0.5977607794093212, 0.6055205453895307, 0.6132803113697404, 0.62104007734995, 0.6287998433301594, 0.6365596093103691, 0.6443193752905785, 0.652079141270788, 0.6598389072509975, 0.6675986732312071, 0.6753584392114167, 0.6831182051916262, 0.6908779711718358, 0.6986377371520454, 0.7063975031322549, 0.7141572691124645, 0.721917035092674, 0.7296768010728835, 0.7374365670530931, 0.7451963330333027, 0.7529560990135122, 0.7607158649937217, 0.7684756309739313, 0.7762353969541407, 0.7839951629343503, 0.79175492891456, 0.7995146948947696, 0.807274460874979, 0.8150342268551886, 0.822793992835398, 0.8305537588156078, 0.8383135247958172, 0.8460732907760269, 0.8538330567562363, 0.8615928227364457, 0.8693525887166553, 0.877112354696865, 0.8848721206770745, 0.892631886657284, 0.9003916526374935, 0.9081514186177033, 0.9159111845979124, 0.9236709505781222, 0.9314307165583318, 0.9391904825385413, 0.9469502485187508, 0.9547100144989604, 0.96246978047917, 0.9702295464593793, 0.9779893124395891, 0.9857490784197986, 0.9935088444000081, 1.0012686103802175, 1.0090283763604273, 1.0167881423406369, 1.0245479083208464, 1.0323076743010557, 1.0400674402812653, 1.047827206261475, 1.0555869722416846, 1.0633467382218942, 1.0711065042021037, 1.078866270182313, 1.0866260361625226, 1.0943858021427322, 1.1021455681229417, 1.1099053341031513, 1.1176651000833608, 1.1254248660635704, 1.13318463204378, 1.1409443980239895, 1.148704164004199, 1.1564639299844086, 1.164223695964618, 1.1719834619448277, 1.1797432279250373, 1.1875029939052468, 1.1952627598854564, 1.2030225258656657, 1.2107822918458755, 1.218542057826085, 1.2263018238062946]}],\n",
              "                        {\"legend\": {\"orientation\": \"h\"}, \"template\": {\"data\": {\"bar\": [{\"error_x\": {\"color\": \"#2a3f5f\"}, \"error_y\": {\"color\": \"#2a3f5f\"}, \"marker\": {\"line\": {\"color\": \"#E5ECF6\", \"width\": 0.5}}, \"type\": \"bar\"}], \"barpolar\": [{\"marker\": {\"line\": {\"color\": \"#E5ECF6\", \"width\": 0.5}}, \"type\": \"barpolar\"}], \"carpet\": [{\"aaxis\": {\"endlinecolor\": \"#2a3f5f\", \"gridcolor\": \"white\", \"linecolor\": \"white\", \"minorgridcolor\": \"white\", \"startlinecolor\": \"#2a3f5f\"}, \"baxis\": {\"endlinecolor\": \"#2a3f5f\", \"gridcolor\": \"white\", \"linecolor\": \"white\", \"minorgridcolor\": \"white\", \"startlinecolor\": \"#2a3f5f\"}, \"type\": \"carpet\"}], \"choropleth\": [{\"colorbar\": {\"outlinewidth\": 0, \"ticks\": \"\"}, \"type\": \"choropleth\"}], \"contour\": [{\"colorbar\": {\"outlinewidth\": 0, \"ticks\": \"\"}, \"colorscale\": [[0.0, \"#0d0887\"], [0.1111111111111111, \"#46039f\"], [0.2222222222222222, \"#7201a8\"], [0.3333333333333333, \"#9c179e\"], [0.4444444444444444, \"#bd3786\"], [0.5555555555555556, \"#d8576b\"], [0.6666666666666666, \"#ed7953\"], [0.7777777777777778, \"#fb9f3a\"], [0.8888888888888888, \"#fdca26\"], [1.0, \"#f0f921\"]], \"type\": \"contour\"}], \"contourcarpet\": [{\"colorbar\": {\"outlinewidth\": 0, \"ticks\": \"\"}, \"type\": \"contourcarpet\"}], \"heatmap\": [{\"colorbar\": {\"outlinewidth\": 0, \"ticks\": \"\"}, \"colorscale\": [[0.0, \"#0d0887\"], [0.1111111111111111, \"#46039f\"], [0.2222222222222222, \"#7201a8\"], [0.3333333333333333, \"#9c179e\"], [0.4444444444444444, \"#bd3786\"], [0.5555555555555556, \"#d8576b\"], [0.6666666666666666, \"#ed7953\"], [0.7777777777777778, \"#fb9f3a\"], [0.8888888888888888, \"#fdca26\"], [1.0, \"#f0f921\"]], \"type\": \"heatmap\"}], \"heatmapgl\": [{\"colorbar\": {\"outlinewidth\": 0, \"ticks\": \"\"}, \"colorscale\": [[0.0, \"#0d0887\"], [0.1111111111111111, \"#46039f\"], [0.2222222222222222, \"#7201a8\"], [0.3333333333333333, \"#9c179e\"], [0.4444444444444444, \"#bd3786\"], [0.5555555555555556, \"#d8576b\"], [0.6666666666666666, \"#ed7953\"], [0.7777777777777778, \"#fb9f3a\"], [0.8888888888888888, \"#fdca26\"], [1.0, \"#f0f921\"]], \"type\": \"heatmapgl\"}], \"histogram\": [{\"marker\": {\"colorbar\": {\"outlinewidth\": 0, \"ticks\": \"\"}}, \"type\": \"histogram\"}], \"histogram2d\": [{\"colorbar\": {\"outlinewidth\": 0, \"ticks\": \"\"}, \"colorscale\": [[0.0, \"#0d0887\"], [0.1111111111111111, \"#46039f\"], [0.2222222222222222, \"#7201a8\"], [0.3333333333333333, \"#9c179e\"], [0.4444444444444444, \"#bd3786\"], [0.5555555555555556, \"#d8576b\"], [0.6666666666666666, \"#ed7953\"], [0.7777777777777778, \"#fb9f3a\"], [0.8888888888888888, \"#fdca26\"], [1.0, \"#f0f921\"]], \"type\": \"histogram2d\"}], \"histogram2dcontour\": [{\"colorbar\": {\"outlinewidth\": 0, \"ticks\": \"\"}, \"colorscale\": [[0.0, \"#0d0887\"], [0.1111111111111111, \"#46039f\"], [0.2222222222222222, \"#7201a8\"], [0.3333333333333333, \"#9c179e\"], [0.4444444444444444, \"#bd3786\"], [0.5555555555555556, \"#d8576b\"], [0.6666666666666666, \"#ed7953\"], [0.7777777777777778, \"#fb9f3a\"], [0.8888888888888888, \"#fdca26\"], [1.0, \"#f0f921\"]], \"type\": \"histogram2dcontour\"}], \"mesh3d\": [{\"colorbar\": {\"outlinewidth\": 0, \"ticks\": \"\"}, \"type\": \"mesh3d\"}], \"parcoords\": [{\"line\": {\"colorbar\": {\"outlinewidth\": 0, \"ticks\": \"\"}}, \"type\": \"parcoords\"}], \"scatter\": [{\"marker\": {\"colorbar\": {\"outlinewidth\": 0, \"ticks\": \"\"}}, \"type\": \"scatter\"}], \"scatter3d\": [{\"line\": {\"colorbar\": {\"outlinewidth\": 0, \"ticks\": \"\"}}, \"marker\": {\"colorbar\": {\"outlinewidth\": 0, \"ticks\": \"\"}}, \"type\": \"scatter3d\"}], \"scattercarpet\": [{\"marker\": {\"colorbar\": {\"outlinewidth\": 0, \"ticks\": \"\"}}, \"type\": \"scattercarpet\"}], \"scattergeo\": [{\"marker\": {\"colorbar\": {\"outlinewidth\": 0, \"ticks\": \"\"}}, \"type\": \"scattergeo\"}], \"scattergl\": [{\"marker\": {\"colorbar\": {\"outlinewidth\": 0, \"ticks\": \"\"}}, \"type\": \"scattergl\"}], \"scattermapbox\": [{\"marker\": {\"colorbar\": {\"outlinewidth\": 0, \"ticks\": \"\"}}, \"type\": \"scattermapbox\"}], \"scatterpolar\": [{\"marker\": {\"colorbar\": {\"outlinewidth\": 0, \"ticks\": \"\"}}, \"type\": \"scatterpolar\"}], \"scatterpolargl\": [{\"marker\": {\"colorbar\": {\"outlinewidth\": 0, \"ticks\": \"\"}}, \"type\": \"scatterpolargl\"}], \"scatterternary\": [{\"marker\": {\"colorbar\": {\"outlinewidth\": 0, \"ticks\": \"\"}}, \"type\": \"scatterternary\"}], \"surface\": [{\"colorbar\": {\"outlinewidth\": 0, \"ticks\": \"\"}, \"colorscale\": [[0.0, \"#0d0887\"], [0.1111111111111111, \"#46039f\"], [0.2222222222222222, \"#7201a8\"], [0.3333333333333333, \"#9c179e\"], [0.4444444444444444, \"#bd3786\"], [0.5555555555555556, \"#d8576b\"], [0.6666666666666666, \"#ed7953\"], [0.7777777777777778, \"#fb9f3a\"], [0.8888888888888888, \"#fdca26\"], [1.0, \"#f0f921\"]], \"type\": \"surface\"}], \"table\": [{\"cells\": {\"fill\": {\"color\": \"#EBF0F8\"}, \"line\": {\"color\": \"white\"}}, \"header\": {\"fill\": {\"color\": \"#C8D4E3\"}, \"line\": {\"color\": \"white\"}}, \"type\": \"table\"}]}, \"layout\": {\"annotationdefaults\": {\"arrowcolor\": \"#2a3f5f\", \"arrowhead\": 0, \"arrowwidth\": 1}, \"colorscale\": {\"diverging\": [[0, \"#8e0152\"], [0.1, \"#c51b7d\"], [0.2, \"#de77ae\"], [0.3, \"#f1b6da\"], [0.4, \"#fde0ef\"], [0.5, \"#f7f7f7\"], [0.6, \"#e6f5d0\"], [0.7, \"#b8e186\"], [0.8, \"#7fbc41\"], [0.9, \"#4d9221\"], [1, \"#276419\"]], \"sequential\": [[0.0, \"#0d0887\"], [0.1111111111111111, \"#46039f\"], [0.2222222222222222, \"#7201a8\"], [0.3333333333333333, \"#9c179e\"], [0.4444444444444444, \"#bd3786\"], [0.5555555555555556, \"#d8576b\"], [0.6666666666666666, \"#ed7953\"], [0.7777777777777778, \"#fb9f3a\"], [0.8888888888888888, \"#fdca26\"], [1.0, \"#f0f921\"]], \"sequentialminus\": [[0.0, \"#0d0887\"], [0.1111111111111111, \"#46039f\"], [0.2222222222222222, \"#7201a8\"], [0.3333333333333333, \"#9c179e\"], [0.4444444444444444, \"#bd3786\"], [0.5555555555555556, \"#d8576b\"], [0.6666666666666666, \"#ed7953\"], [0.7777777777777778, \"#fb9f3a\"], [0.8888888888888888, \"#fdca26\"], [1.0, \"#f0f921\"]]}, \"colorway\": [\"#636efa\", \"#EF553B\", \"#00cc96\", \"#ab63fa\", \"#FFA15A\", \"#19d3f3\", \"#FF6692\", \"#B6E880\", \"#FF97FF\", \"#FECB52\"], \"font\": {\"color\": \"#2a3f5f\"}, \"geo\": {\"bgcolor\": \"white\", \"lakecolor\": \"white\", \"landcolor\": \"#E5ECF6\", \"showlakes\": true, \"showland\": true, \"subunitcolor\": \"white\"}, \"hoverlabel\": {\"align\": \"left\"}, \"hovermode\": \"closest\", \"mapbox\": {\"style\": \"light\"}, \"paper_bgcolor\": \"white\", \"plot_bgcolor\": \"#E5ECF6\", \"polar\": {\"angularaxis\": {\"gridcolor\": \"white\", \"linecolor\": \"white\", \"ticks\": \"\"}, \"bgcolor\": \"#E5ECF6\", \"radialaxis\": {\"gridcolor\": \"white\", \"linecolor\": \"white\", \"ticks\": \"\"}}, \"scene\": {\"xaxis\": {\"backgroundcolor\": \"#E5ECF6\", \"gridcolor\": \"white\", \"gridwidth\": 2, \"linecolor\": \"white\", \"showbackground\": true, \"ticks\": \"\", \"zerolinecolor\": \"white\"}, \"yaxis\": {\"backgroundcolor\": \"#E5ECF6\", \"gridcolor\": \"white\", \"gridwidth\": 2, \"linecolor\": \"white\", \"showbackground\": true, \"ticks\": \"\", \"zerolinecolor\": \"white\"}, \"zaxis\": {\"backgroundcolor\": \"#E5ECF6\", \"gridcolor\": \"white\", \"gridwidth\": 2, \"linecolor\": \"white\", \"showbackground\": true, \"ticks\": \"\", \"zerolinecolor\": \"white\"}}, \"shapedefaults\": {\"line\": {\"color\": \"#2a3f5f\"}}, \"ternary\": {\"aaxis\": {\"gridcolor\": \"white\", \"linecolor\": \"white\", \"ticks\": \"\"}, \"baxis\": {\"gridcolor\": \"white\", \"linecolor\": \"white\", \"ticks\": \"\"}, \"bgcolor\": \"#E5ECF6\", \"caxis\": {\"gridcolor\": \"white\", \"linecolor\": \"white\", \"ticks\": \"\"}}, \"title\": {\"x\": 0.05}, \"xaxis\": {\"automargin\": true, \"gridcolor\": \"white\", \"linecolor\": \"white\", \"ticks\": \"\", \"zerolinecolor\": \"white\", \"zerolinewidth\": 2}, \"yaxis\": {\"automargin\": true, \"gridcolor\": \"white\", \"linecolor\": \"white\", \"ticks\": \"\", \"zerolinecolor\": \"white\", \"zerolinewidth\": 2}}}},\n",
              "                        {\"responsive\": true}\n",
              "                    ).then(function(){\n",
              "                            \n",
              "var gd = document.getElementById('4570a2d5-5896-4367-90bb-e878dc42ab1e');\n",
              "var x = new MutationObserver(function (mutations, observer) {{\n",
              "        var display = window.getComputedStyle(gd).display;\n",
              "        if (!display || display === 'none') {{\n",
              "            console.log([gd, 'removed!']);\n",
              "            Plotly.purge(gd);\n",
              "            observer.disconnect();\n",
              "        }}\n",
              "}});\n",
              "\n",
              "// Listen for the removal of the full notebook cells\n",
              "var notebookContainer = gd.closest('#notebook-container');\n",
              "if (notebookContainer) {{\n",
              "    x.observe(notebookContainer, {childList: true});\n",
              "}}\n",
              "\n",
              "// Listen for the clearing of the current output cell\n",
              "var outputEl = gd.closest('.output');\n",
              "if (outputEl) {{\n",
              "    x.observe(outputEl, {childList: true});\n",
              "}}\n",
              "\n",
              "                        })\n",
              "                };\n",
              "                \n",
              "            </script>\n",
              "        </div>\n",
              "</body>\n",
              "</html>"
            ]
          },
          "metadata": {
            "tags": []
          }
        }
      ]
    },
    {
      "cell_type": "markdown",
      "metadata": {
        "id": "Fkzpl_q8ajPH",
        "colab_type": "text"
      },
      "source": [
        "b) Dans le cas du modèle non-linéaire, appliquer la régression à noyau avec un noyau rbf. Représenter sur un graphique les données et la solution obtenue. "
      ]
    },
    {
      "cell_type": "code",
      "metadata": {
        "id": "S_1C01pAVS4c",
        "colab_type": "code",
        "colab": {}
      },
      "source": [
        "# that param can be interpreted as a regularization for the periodic function\n",
        "# if it matches the max_range of the periodic function, then we'll consider\n",
        "# only a `nearly linear` portion of the function.\n",
        "# thus the polynomial regression will be very efficient\n",
        "# ---\n",
        "# in case that parameter is 1, then the polynomial regression will not work well\n",
        "PARAM_TO_CHANGE = 1\n",
        "\n",
        "# generate some noisy periodic data\n",
        "n_samples, variance, start, stop = 200, 0.01, 0, 10\n",
        "W = lambda var: np.sin(var/PARAM_TO_CHANGE) + (var/50) ** 2\n",
        "X, Y = periodic_data(n_samples, variance, W, start, stop)"
      ],
      "execution_count": 0,
      "outputs": []
    },
    {
      "cell_type": "code",
      "metadata": {
        "id": "Gf8DbPr0fY1i",
        "colab_type": "code",
        "outputId": "dfa8b29e-165d-45c4-fc36-d1d830567570",
        "colab": {
          "base_uri": "https://localhost:8080/",
          "height": 542
        }
      },
      "source": [
        "# use the KernelRidge classifier with a rbf kernel\n",
        "rbf_kernel_ridge = KernelRidge(kernel='rbf')\n",
        "X_with_ones = vector_prefixed_by_ones_vector(X)\n",
        "rbf_kernel_ridge.fit(X_with_ones, Y)\n",
        "\n",
        "# we'll plot data between min and max\n",
        "x_range = np.linspace(X.min(), X.max(), n_samples).reshape(-1, 1)\n",
        "x_range_with_ones = vector_prefixed_by_ones_vector(x_range)\n",
        "\n",
        "# ploting power !\n",
        "fig = go.Figure(\n",
        "    data=[\n",
        "        # markers\n",
        "        go.Scatter(\n",
        "            x=X.squeeze(),\n",
        "            y=Y.squeeze(),\n",
        "            mode='markers',\n",
        "            name=f'linear data [{n_samples}, {variance}]'\n",
        "        ),\n",
        "        # true function\n",
        "        go.Scatter(\n",
        "            x=x_range.squeeze(),\n",
        "            y=W(x_range).squeeze(),\n",
        "            mode='lines',\n",
        "            name=f\"Generative function sin(x/{PARAM_TO_CHANGE}) + (x/50) + e\"\n",
        "        ),\n",
        "        # kernel ridge found line\n",
        "        go.Scatter(\n",
        "            x=x_range.squeeze(),\n",
        "            y=rbf_kernel_ridge.predict(x_range_with_ones).squeeze(),\n",
        "            mode='lines',\n",
        "            name=f\"Kernel Ridge predictions\"\n",
        "        )\n",
        "    ],\n",
        "    layout={\n",
        "        'legend': {\n",
        "            'orientation': 'h'\n",
        "        }\n",
        "    }\n",
        ")\n",
        "fig.show()"
      ],
      "execution_count": 0,
      "outputs": [
        {
          "output_type": "display_data",
          "data": {
            "text/html": [
              "<html>\n",
              "<head><meta charset=\"utf-8\" /></head>\n",
              "<body>\n",
              "    <div>\n",
              "            <script src=\"https://cdnjs.cloudflare.com/ajax/libs/mathjax/2.7.5/MathJax.js?config=TeX-AMS-MML_SVG\"></script><script type=\"text/javascript\">if (window.MathJax) {MathJax.Hub.Config({SVG: {font: \"STIX-Web\"}});}</script>\n",
              "                <script type=\"text/javascript\">window.PlotlyConfig = {MathJaxConfig: 'local'};</script>\n",
              "        <script src=\"https://cdn.plot.ly/plotly-latest.min.js\"></script>    \n",
              "            <div id=\"8d0ab80f-b6a0-4b00-b2ce-27f99c1d09c3\" class=\"plotly-graph-div\" style=\"height:525px; width:100%;\"></div>\n",
              "            <script type=\"text/javascript\">\n",
              "                \n",
              "                    window.PLOTLYENV=window.PLOTLYENV || {};\n",
              "                    \n",
              "                if (document.getElementById(\"8d0ab80f-b6a0-4b00-b2ce-27f99c1d09c3\")) {\n",
              "                    Plotly.newPlot(\n",
              "                        '8d0ab80f-b6a0-4b00-b2ce-27f99c1d09c3',\n",
              "                        [{\"mode\": \"markers\", \"name\": \"linear data [200, 0.01]\", \"type\": \"scatter\", \"x\": [0.0, 0.05025125628140704, 0.10050251256281408, 0.15075376884422112, 0.20100502512562815, 0.2512562814070352, 0.30150753768844224, 0.35175879396984927, 0.4020100502512563, 0.45226130653266333, 0.5025125628140704, 0.5527638190954774, 0.6030150753768845, 0.6532663316582915, 0.7035175879396985, 0.7537688442211056, 0.8040201005025126, 0.8542713567839196, 0.9045226130653267, 0.9547738693467337, 1.0050251256281408, 1.0552763819095479, 1.105527638190955, 1.155778894472362, 1.206030150753769, 1.256281407035176, 1.306532663316583, 1.35678391959799, 1.407035175879397, 1.4572864321608041, 1.5075376884422111, 1.5577889447236182, 1.6080402010050252, 1.6582914572864322, 1.7085427135678393, 1.7587939698492463, 1.8090452261306533, 1.8592964824120604, 1.9095477386934674, 1.9597989949748744, 2.0100502512562817, 2.0603015075376887, 2.1105527638190957, 2.1608040201005028, 2.21105527638191, 2.261306532663317, 2.311557788944724, 2.361809045226131, 2.412060301507538, 2.462311557788945, 2.512562814070352, 2.562814070351759, 2.613065326633166, 2.663316582914573, 2.71356783919598, 2.763819095477387, 2.814070351758794, 2.864321608040201, 2.9145728643216082, 2.9648241206030153, 3.0150753768844223, 3.0653266331658293, 3.1155778894472363, 3.1658291457286434, 3.2160804020100504, 3.2663316582914574, 3.3165829145728645, 3.3668341708542715, 3.4170854271356785, 3.4673366834170856, 3.5175879396984926, 3.5678391959798996, 3.6180904522613067, 3.6683417085427137, 3.7185929648241207, 3.7688442211055277, 3.819095477386935, 3.869346733668342, 3.919597989949749, 3.969849246231156, 4.020100502512563, 4.07035175879397, 4.120603015075377, 4.170854271356784, 4.2211055276381915, 4.2713567839195985, 4.3216080402010055, 4.371859296482413, 4.42211055276382, 4.472361809045227, 4.522613065326634, 4.572864321608041, 4.623115577889448, 4.673366834170855, 4.723618090452262, 4.773869346733669, 4.824120603015076, 4.874371859296483, 4.92462311557789, 4.974874371859297, 5.025125628140704, 5.075376884422111, 5.125628140703518, 5.175879396984925, 5.226130653266332, 5.276381909547739, 5.326633165829146, 5.376884422110553, 5.42713567839196, 5.477386934673367, 5.527638190954774, 5.577889447236181, 5.628140703517588, 5.678391959798995, 5.728643216080402, 5.778894472361809, 5.8291457286432165, 5.8793969849246235, 5.9296482412060305, 5.9798994974874375, 6.030150753768845, 6.080402010050252, 6.130653266331659, 6.180904522613066, 6.231155778894473, 6.28140703517588, 6.331658291457287, 6.381909547738694, 6.432160804020101, 6.482412060301508, 6.532663316582915, 6.582914572864322, 6.633165829145729, 6.683417085427136, 6.733668341708543, 6.78391959798995, 6.834170854271357, 6.884422110552764, 6.934673366834171, 6.984924623115578, 7.035175879396985, 7.085427135678392, 7.135678391959799, 7.185929648241206, 7.236180904522613, 7.28643216080402, 7.336683417085427, 7.386934673366834, 7.437185929648241, 7.4874371859296485, 7.5376884422110555, 7.5879396984924625, 7.63819095477387, 7.688442211055277, 7.738693467336684, 7.788944723618091, 7.839195979899498, 7.889447236180905, 7.939698492462312, 7.989949748743719, 8.040201005025127, 8.090452261306533, 8.14070351758794, 8.190954773869347, 8.241206030150755, 8.291457286432161, 8.341708542713569, 8.391959798994975, 8.442211055276383, 8.492462311557789, 8.542713567839197, 8.592964824120603, 8.643216080402011, 8.693467336683417, 8.743718592964825, 8.793969849246231, 8.84422110552764, 8.894472361809045, 8.944723618090453, 8.99497487437186, 9.045226130653267, 9.095477386934673, 9.145728643216081, 9.195979899497488, 9.246231155778895, 9.296482412060302, 9.34673366834171, 9.396984924623116, 9.447236180904524, 9.49748743718593, 9.547738693467338, 9.597989949748744, 9.648241206030152, 9.698492462311558, 9.748743718592966, 9.798994974874372, 9.84924623115578, 9.899497487437186, 9.949748743718594, 10.0], \"y\": [0.08138426945668062, 0.059987174603643695, 0.13234660036486962, 0.16854222163116905, 0.03427864654886825, 0.26755018893972315, 0.25740661732505493, 0.23274552355263506, 0.29150565102480974, 0.49072063008543504, 0.6659662193793103, 0.5418122793246722, 0.4712318286638986, 0.6235372423528486, 0.7594005301823464, 0.7753551068119707, 0.7323103117775482, 0.5566944226541823, 0.6806526120766032, 1.0371676870047153, 0.6840215669904612, 1.008121002041622, 1.038048644091575, 0.9270357512855829, 0.6266072600353854, 1.0036137468692796, 1.1346332682819753, 0.9416739411968043, 0.9565626703937278, 0.7956113556275994, 0.9522045905911637, 1.0215304676250767, 1.084561323723786, 1.1262111513103559, 0.9078430362566907, 0.9354575624752517, 1.0411346356758044, 0.9384737787530605, 1.0491962136680724, 0.6246926912855375, 0.8333756564449118, 0.9999207946967186, 0.8899745053020016, 0.8606097263218881, 0.7561514106683525, 0.7354466875221853, 0.6010719213782191, 0.7412640096801769, 0.6892273987377822, 0.5882000825335503, 0.764867514851387, 0.5165896717748318, 0.7002001219089218, 0.4593960240195483, 0.3311096531832479, 0.23300311525805806, 0.2524510093003185, 0.5330907411002972, 0.161637064024782, 0.0877486332909892, 0.20637690360508343, 0.0230388393228399, -0.1306865097387425, -0.058744481580858265, -0.04745660770130708, -0.12063763967808235, -0.28093067355348494, -0.2177953105028952, -0.2632951977668743, -0.2672868904993966, -0.2687594319622526, -0.5364640671634844, -0.4284130006282356, -0.5673836980933473, -0.5052103745839108, -0.47730237765256045, -0.5909546016629639, -0.5973227724532604, -0.5651775200951659, -0.7825456007577812, -0.7531096137579509, -0.8432958163359342, -0.8928216978292635, -0.7953829190988783, -0.7873144960579522, -0.8855111249425947, -0.9059233278178516, -1.0277500340105885, -0.8436841577943422, -1.0352152448106295, -1.0406208770300915, -1.1694938736601492, -1.1111406448837757, -1.0369229582119546, -1.2222081074190103, -0.945873455833226, -0.9087617159052793, -1.1014374867092427, -0.8588307488685214, -0.9803227090787524, -0.85637708587097, -0.8158853122676984, -0.9300579024445271, -0.8367361314742556, -0.8689430726151978, -0.7806348843231524, -0.876985603396547, -0.7666831686809293, -0.8114896761038775, -0.8103344306315188, -0.8150386516635371, -0.7509631904023145, -0.6095757651191973, -0.4159989915578764, -0.48245883993723104, -0.5565328174837363, -0.7673327732176995, -0.3939273085423681, -0.3672059083376672, -0.3616479144090753, -0.2564452797152203, -0.20263701631761466, -0.26470003996639313, -0.14430649374111296, -0.15781059500035, 0.06804789150176163, 0.040426559825908634, 0.15255412393307222, 0.15642678203236818, 0.49899163741046565, 0.1597788994429579, 0.21112891158253375, 0.30871520026346744, 0.3213384879228848, 0.48193321905238745, 0.39372284012011405, 0.7746737562049507, 0.7070924788863537, 0.596321093832983, 0.663111809118225, 0.6281842980846993, 0.5686007127572974, 0.6054972778831396, 0.7756468944198173, 0.7788755222485321, 0.8822374452750787, 0.7421241700673443, 0.8347255233487167, 0.8895938008551254, 0.8938460040930264, 0.9638758793379089, 0.9921702302836661, 0.9177780567857394, 1.008591379330409, 1.047716764975817, 0.9565095947689544, 0.9880253906223322, 0.9444737960371304, 0.9449296970560774, 1.1046086048287624, 0.8730235995030643, 0.934001086879794, 0.9282549116744612, 1.1182293132343133, 0.7446101769392913, 0.9669180110772374, 0.9594623189851268, 0.9321224116356457, 0.7757066045935356, 0.8008313028367874, 0.8762048110483233, 0.6434616831227586, 0.7186030023813833, 0.6726571258902508, 0.590242042518768, 0.38175006360007824, 0.4035377598693028, 0.45885975539169255, 0.7328229320755557, 0.5486050950197857, 0.485195556587249, 0.1562209977031666, 0.2530107006904745, 0.33728768198059134, 0.22497813286068694, 0.16863671976736008, -0.03716782016600563, 0.049907313969291225, -0.015225090938982475, -0.06643871256794026, -0.07743331987883814, -0.045144388235608124, -0.09635083130513004, -0.04319307028560518, -0.3721956722542097, -0.36448410049996843, -0.25985227323941884, -0.6220547660483857, -0.5855809497423389, -0.42884949213297063]}, {\"mode\": \"lines\", \"name\": \"Generative function sin(x/1) + (x/50) + e\", \"type\": \"scatter\", \"x\": [0.0, 0.05025125628140704, 0.10050251256281408, 0.15075376884422112, 0.20100502512562815, 0.2512562814070352, 0.30150753768844224, 0.35175879396984927, 0.4020100502512563, 0.45226130653266333, 0.5025125628140704, 0.5527638190954774, 0.6030150753768845, 0.6532663316582915, 0.7035175879396985, 0.7537688442211056, 0.8040201005025126, 0.8542713567839196, 0.9045226130653267, 0.9547738693467337, 1.0050251256281408, 1.0552763819095479, 1.105527638190955, 1.155778894472362, 1.206030150753769, 1.256281407035176, 1.306532663316583, 1.35678391959799, 1.407035175879397, 1.4572864321608041, 1.5075376884422111, 1.5577889447236182, 1.6080402010050252, 1.6582914572864322, 1.7085427135678393, 1.7587939698492463, 1.8090452261306533, 1.8592964824120604, 1.9095477386934674, 1.9597989949748744, 2.0100502512562817, 2.0603015075376887, 2.1105527638190957, 2.1608040201005028, 2.21105527638191, 2.261306532663317, 2.311557788944724, 2.361809045226131, 2.412060301507538, 2.462311557788945, 2.512562814070352, 2.562814070351759, 2.613065326633166, 2.663316582914573, 2.71356783919598, 2.763819095477387, 2.814070351758794, 2.864321608040201, 2.9145728643216082, 2.9648241206030153, 3.0150753768844223, 3.0653266331658293, 3.1155778894472363, 3.1658291457286434, 3.2160804020100504, 3.2663316582914574, 3.3165829145728645, 3.3668341708542715, 3.4170854271356785, 3.4673366834170856, 3.5175879396984926, 3.5678391959798996, 3.6180904522613067, 3.6683417085427137, 3.7185929648241207, 3.7688442211055277, 3.819095477386935, 3.869346733668342, 3.919597989949749, 3.969849246231156, 4.020100502512563, 4.07035175879397, 4.120603015075377, 4.170854271356784, 4.2211055276381915, 4.2713567839195985, 4.3216080402010055, 4.371859296482413, 4.42211055276382, 4.472361809045227, 4.522613065326634, 4.572864321608041, 4.623115577889448, 4.673366834170855, 4.723618090452262, 4.773869346733669, 4.824120603015076, 4.874371859296483, 4.92462311557789, 4.974874371859297, 5.025125628140704, 5.075376884422111, 5.125628140703518, 5.175879396984925, 5.226130653266332, 5.276381909547739, 5.326633165829146, 5.376884422110553, 5.42713567839196, 5.477386934673367, 5.527638190954774, 5.577889447236181, 5.628140703517588, 5.678391959798995, 5.728643216080402, 5.778894472361809, 5.8291457286432165, 5.8793969849246235, 5.9296482412060305, 5.9798994974874375, 6.030150753768845, 6.080402010050252, 6.130653266331659, 6.180904522613066, 6.231155778894473, 6.28140703517588, 6.331658291457287, 6.381909547738694, 6.432160804020101, 6.482412060301508, 6.532663316582915, 6.582914572864322, 6.633165829145729, 6.683417085427136, 6.733668341708543, 6.78391959798995, 6.834170854271357, 6.884422110552764, 6.934673366834171, 6.984924623115578, 7.035175879396985, 7.085427135678392, 7.135678391959799, 7.185929648241206, 7.236180904522613, 7.28643216080402, 7.336683417085427, 7.386934673366834, 7.437185929648241, 7.4874371859296485, 7.5376884422110555, 7.5879396984924625, 7.63819095477387, 7.688442211055277, 7.738693467336684, 7.788944723618091, 7.839195979899498, 7.889447236180905, 7.939698492462312, 7.989949748743719, 8.040201005025127, 8.090452261306533, 8.14070351758794, 8.190954773869347, 8.241206030150755, 8.291457286432161, 8.341708542713569, 8.391959798994975, 8.442211055276383, 8.492462311557789, 8.542713567839197, 8.592964824120603, 8.643216080402011, 8.693467336683417, 8.743718592964825, 8.793969849246231, 8.84422110552764, 8.894472361809045, 8.944723618090453, 8.99497487437186, 9.045226130653267, 9.095477386934673, 9.145728643216081, 9.195979899497488, 9.246231155778895, 9.296482412060302, 9.34673366834171, 9.396984924623116, 9.447236180904524, 9.49748743718593, 9.547738693467338, 9.597989949748744, 9.648241206030152, 9.698492462311558, 9.748743718592966, 9.798994974874372, 9.84924623115578, 9.899497487437186, 9.949748743718594, 10.0], \"y\": [0.0, 0.05023112004243686, 0.10033744641599114, 0.15019248546222544, 0.1996703830373074, 0.2486462422506077, 0.29699643878656207, 0.34459893301371686, 0.3913335780929903, 0.43708242330728153, 0.48173001184662373, 0.525163672297076, 0.567273803097445, 0.6079541492456798, 0.6471020705563513, 0.6846188007919579, 0.7204096970138398, 0.7543844785231774, 0.786457454788826, 0.8165477417865528, 0.8445794662034876, 0.8704819569922458, 0.894189923791113, 0.9156436217598405, 0.9347890024148999, 0.9515778500833882, 0.9659679036310843, 0.9779229631573348, 0.987412981387402, 0.9944141395315392, 0.998908907419275, 1.0008860877570875, 1.000340844397736, 0.9972747145498744, 0.9916956048971272, 0.9836177716364212, 0.9730617844859727, 0.9600544747537954, 0.9446288675978395, 0.9268240986487818, 0.9066853152059653, 0.8842635622559346, 0.8596156536013322, 0.8328040284255095, 0.8038965936549797, 0.7729665525176918, 0.7400922197299573, 0.7053568237786214, 0.6688482967976455, 0.6306590525695924, 0.5908857532124852, 0.5496290651410725, 0.5069934049186186, 0.46308667564085143, 0.4180199945176113, 0.37190741233996244, 0.3248656255410171, 0.27701368157741957, 0.22847267837530139, 0.1793654585995033, 0.12981629951793008, 0.07995059924402365, 0.0298945601494854, -0.020225129753477906, -0.07028161665598451, -0.12014820121488753, -0.1696986584252119, -0.21880755629504994, -0.2673505725183706, -0.3152048083462517, -0.362249098864119, -0.40836431889164626, -0.4534336837330264, -0.49734304401832014, -0.5399811738915097, -0.5812400518176822, -0.6210151333003989, -0.6592056148207345, -0.6957146883316281, -0.7304497856650393, -0.7633228122348596, -0.7942503694455625, -0.8231539652450877, -0.8499602122903823, -0.8746010132253011, -0.8970137326031024, -0.9171413550194926, -0.9349326290569906, -0.9503421966771993, -0.9633307077343134, -0.973864919320757, -0.9819177796941373, -0.9874684965736266, -0.9905025896333483, -0.9910119270602392, -0.9889947460840919, -0.9844556574279449, -0.9774056336675878, -0.967861981529565, -0.9558482981976208, -0.9413944117378946, -0.9245363057932716, -0.9053160287370126, -0.8837815875150155, -0.8599868264447239, -0.8339912912766714, -0.8058600788618595, -0.7756636728045115, -0.7434777655151165, -0.7093830671130239, -0.6734651016610422, -0.6358139912464786, -0.5965242284537428, -0.5556944378029419, -0.5134271267567547, -0.4698284269242049, -0.42500782611470656, -0.379077891918854, -0.33215398751381825, -0.2843539804108466, -0.23579794488017441, -0.18660785880462893, -0.13690729572726126, -0.08682111287048434, -0.03647513591435962, 0.014004158670139748, 0.06448996293089007, 0.1148554575812544, 0.16497413217533569, 0.21472010450351292, 0.2639684384018957, 0.31259545917333786, 0.3604790658236788, 0.40749903932492526, 0.4535373461271121, 0.4984784361525801, 0.542209534520337, 0.5846209262639982, 0.6256062333244903, 0.6650626831182074, 0.7028913680025772, 0.7389974949839752, 0.7732906250375584, 0.8056849014348216, 0.8360992665024237, 0.8644576662650443, 0.890689242455617, 0.9147285114081788, 0.9365155293816939, 0.955996043897464, 0.9731216307080514, 0.9878498160519145, 1.000144183885105, 1.0099744678193041, 1.0173166275340835, 1.0221529094704795, 1.0244718916526472, 1.024268512524436, 1.0215440837280856, 1.0163062867927788, 1.008569153741411, 0.9983530316645407, 0.9856845313509545, 0.9705964601045441, 0.9531277389171003, 0.9333233042061456, 0.91123399436587, 0.886916421417607, 0.8604328280838676, 0.8318509306467959, 0.8012437479877482, 0.7686894172396387, 0.7342709965174399, 0.6980762552249047, 0.6601974524668803, 0.6207311041266848, 0.5797777391965553, 0.537441645976393, 0.493830608781521, 0.44905563582422503, 0.4032306789560339, 0.3564723459783449, 0.3088996062476593, 0.260633490318727, 0.21179678438384503, 0.16251372027979918, 0.11290966184502198, 0.06311078841886121, 0.013243776281960707, -0.03656452115793777, -0.08618739362740574, -0.13549859388734614, -0.1843726564640364, -0.2326852144064538, -0.28031331327023506, -0.3271357215355134, -0.3730332366749879, -0.4178889860994555, -0.4615887222210742, -0.5040211108893697]}, {\"mode\": \"lines\", \"name\": \"Kernel Ridge predictions\", \"type\": \"scatter\", \"x\": [0.0, 0.05025125628140704, 0.10050251256281408, 0.15075376884422112, 0.20100502512562815, 0.2512562814070352, 0.30150753768844224, 0.35175879396984927, 0.4020100502512563, 0.45226130653266333, 0.5025125628140704, 0.5527638190954774, 0.6030150753768845, 0.6532663316582915, 0.7035175879396985, 0.7537688442211056, 0.8040201005025126, 0.8542713567839196, 0.9045226130653267, 0.9547738693467337, 1.0050251256281408, 1.0552763819095479, 1.105527638190955, 1.155778894472362, 1.206030150753769, 1.256281407035176, 1.306532663316583, 1.35678391959799, 1.407035175879397, 1.4572864321608041, 1.5075376884422111, 1.5577889447236182, 1.6080402010050252, 1.6582914572864322, 1.7085427135678393, 1.7587939698492463, 1.8090452261306533, 1.8592964824120604, 1.9095477386934674, 1.9597989949748744, 2.0100502512562817, 2.0603015075376887, 2.1105527638190957, 2.1608040201005028, 2.21105527638191, 2.261306532663317, 2.311557788944724, 2.361809045226131, 2.412060301507538, 2.462311557788945, 2.512562814070352, 2.562814070351759, 2.613065326633166, 2.663316582914573, 2.71356783919598, 2.763819095477387, 2.814070351758794, 2.864321608040201, 2.9145728643216082, 2.9648241206030153, 3.0150753768844223, 3.0653266331658293, 3.1155778894472363, 3.1658291457286434, 3.2160804020100504, 3.2663316582914574, 3.3165829145728645, 3.3668341708542715, 3.4170854271356785, 3.4673366834170856, 3.5175879396984926, 3.5678391959798996, 3.6180904522613067, 3.6683417085427137, 3.7185929648241207, 3.7688442211055277, 3.819095477386935, 3.869346733668342, 3.919597989949749, 3.969849246231156, 4.020100502512563, 4.07035175879397, 4.120603015075377, 4.170854271356784, 4.2211055276381915, 4.2713567839195985, 4.3216080402010055, 4.371859296482413, 4.42211055276382, 4.472361809045227, 4.522613065326634, 4.572864321608041, 4.623115577889448, 4.673366834170855, 4.723618090452262, 4.773869346733669, 4.824120603015076, 4.874371859296483, 4.92462311557789, 4.974874371859297, 5.025125628140704, 5.075376884422111, 5.125628140703518, 5.175879396984925, 5.226130653266332, 5.276381909547739, 5.326633165829146, 5.376884422110553, 5.42713567839196, 5.477386934673367, 5.527638190954774, 5.577889447236181, 5.628140703517588, 5.678391959798995, 5.728643216080402, 5.778894472361809, 5.8291457286432165, 5.8793969849246235, 5.9296482412060305, 5.9798994974874375, 6.030150753768845, 6.080402010050252, 6.130653266331659, 6.180904522613066, 6.231155778894473, 6.28140703517588, 6.331658291457287, 6.381909547738694, 6.432160804020101, 6.482412060301508, 6.532663316582915, 6.582914572864322, 6.633165829145729, 6.683417085427136, 6.733668341708543, 6.78391959798995, 6.834170854271357, 6.884422110552764, 6.934673366834171, 6.984924623115578, 7.035175879396985, 7.085427135678392, 7.135678391959799, 7.185929648241206, 7.236180904522613, 7.28643216080402, 7.336683417085427, 7.386934673366834, 7.437185929648241, 7.4874371859296485, 7.5376884422110555, 7.5879396984924625, 7.63819095477387, 7.688442211055277, 7.738693467336684, 7.788944723618091, 7.839195979899498, 7.889447236180905, 7.939698492462312, 7.989949748743719, 8.040201005025127, 8.090452261306533, 8.14070351758794, 8.190954773869347, 8.241206030150755, 8.291457286432161, 8.341708542713569, 8.391959798994975, 8.442211055276383, 8.492462311557789, 8.542713567839197, 8.592964824120603, 8.643216080402011, 8.693467336683417, 8.743718592964825, 8.793969849246231, 8.84422110552764, 8.894472361809045, 8.944723618090453, 8.99497487437186, 9.045226130653267, 9.095477386934673, 9.145728643216081, 9.195979899497488, 9.246231155778895, 9.296482412060302, 9.34673366834171, 9.396984924623116, 9.447236180904524, 9.49748743718593, 9.547738693467338, 9.597989949748744, 9.648241206030152, 9.698492462311558, 9.748743718592966, 9.798994974874372, 9.84924623115578, 9.899497487437186, 9.949748743718594, 10.0], \"y\": [0.12141556858859937, 0.1503141886447329, 0.18063915959693216, 0.21228172304356657, 0.24511892306378075, 0.2790144441275853, 0.31381962320575446, 0.3493746224544006, 0.38550974590534626, 0.4220468809826069, 0.45880104345107503, 0.49558200263915775, 0.5321959625042652, 0.5684472733573162, 0.6041401488443621, 0.639080363100418, 0.6730769038287586, 0.705943558390364, 0.737500411772415, 0.7675752374895528, 0.796004764994895, 0.8226358099698746, 0.8473262568471138, 0.8699458860201422, 0.8903770413280763, 0.9085151364943989, 0.9242690021725504, 0.9375610780389871, 0.9483274569164906, 0.9565177901559144, 0.9620950654132754, 0.9650352695022317, 0.9653269501629118, 0.9629706913616027, 0.9579785171284606, 0.9503732389690629, 0.9401877615767312, 0.9274643609605945, 0.9122539482301639, 0.8946153311863279, 0.8746144846094361, 0.852323838756855, 0.8278215941335345, 0.8011910691258766, 0.7725200856337282, 0.7419003964350405, 0.7094271567038615, 0.6751984408998939, 0.6393148051748578, 0.6018788945087817, 0.5629950930030245, 0.5227692151153408, 0.4813082351196675, 0.4387200516992349, 0.3951132843229399, 0.35059709789613885, 0.30528105210205975, 0.25927497184267645, 0.2126888352328749, 0.16563267568593387, 0.1182164947404486, 0.07055018241063238, 0.02274344198792902, -0.02509428362077268, -0.07285388676438972, -0.12042667369283605, -0.16770444934256667, -0.2145796104103612, -0.2609452486198537, -0.30669526581353174, -0.3517245022002505, -0.3959288787543856, -0.4392055543991261, -0.4814530982175813, -0.5225716765282036, -0.5624632542448933, -0.6010318095288284, -0.6381835603418078, -0.6738272011440436, -0.7078741476576113, -0.7402387873541825, -0.7708387331347898, -0.799595077560356, -0.8264326449719447, -0.8512802389121655, -0.8740708824233897, -0.8947420490486856, -0.9132358826880111, -0.9294994048508476, -0.9434847082790254, -0.9551491363687856, -0.9644554482757591, -0.9713719700157697, -0.9758727322537769, -0.9779375957796642, -0.9775523658822878, -0.9747088969354871, -0.9694051884896295, -0.961645474013624, -0.9514403031551739, -0.9388066179883305, -0.9237678232107599, -0.9063538496582986, -0.8866012098474898, -0.8645530435680571, -0.8402591508612733, -0.8137760090731372, -0.7851667701002519, -0.754501233487247, -0.7218557907205143, -0.6873133359226691, -0.650963138208158, -0.6129006712280474, -0.5732273959186862, -0.5320504931726068, -0.48948254405970326, -0.4456411563223009, -0.4006485371200668, -0.35463101337331177, -0.3077185025025425, -0.26004393783983537, -0.21174265444194496, -0.16295174241280663, -0.11380937609203778, -0.06445412853609778, -0.015024281565292508, 0.03434285776626106, 0.08351162312928556, 0.13234862618083965, 0.18072335435054632, 0.22850871904563497, 0.27558154515515815, 0.3218229940120908, 0.3671189135106918, 0.4113601108350209, 0.4544425451842219, 0.49626743992636413, 0.5367413157173575, 0.5757759482224903, 0.6132882561153877, 0.6492001269418659, 0.683438190168918, 0.7159335482403897, 0.7466214776871346, 0.7754411132538378, 0.8023351285803836, 0.8272494271948411, 0.8501328574295137, 0.8709369643638388, 0.8896157910384903, 0.9061257399956936, 0.9204255047087055, 0.932476078705275, 0.9422408482070566, 0.9496857719458243, 0.9547796495282453, 0.9574944773554278, 0.9578058887157376, 0.9556936723108771, 0.9511423611990621, 0.9441418819931935, 0.9346882521833297, 0.9227843117031853, 0.9084404733670319, 0.8916754756003266, 0.8725171199996367, 0.8510029757087305, 0.8271810324015453, 0.8011102838300584, 0.7728612244280026, 0.7425162423572522, 0.710169893633086, 0.675929043551264, 0.6399128635433287, 0.6022526737766204, 0.5630916242613023, 0.5225842098862568, 0.4808956176368148, 0.43820090719974836, 0.3946840291822885, 0.35053668820666617, 0.30595706113042653, 0.2611483835274877, 0.21631742028485768, 0.17167283866769847, 0.1274235044250926, 0.08377672339827885, 0.04093645260645622, -0.0008984941182387796, -0.04153622022651009, -0.08079347438194881, -0.11849730663709863, -0.1544866280636808, -0.18861365032091676, -0.22074518338238427, -0.25076377180868814, -0.27856865250993723, -0.30407651983847284, -0.3272220870299241, -0.3479584364032432]}],\n",
              "                        {\"legend\": {\"orientation\": \"h\"}, \"template\": {\"data\": {\"bar\": [{\"error_x\": {\"color\": \"#2a3f5f\"}, \"error_y\": {\"color\": \"#2a3f5f\"}, \"marker\": {\"line\": {\"color\": \"#E5ECF6\", \"width\": 0.5}}, \"type\": \"bar\"}], \"barpolar\": [{\"marker\": {\"line\": {\"color\": \"#E5ECF6\", \"width\": 0.5}}, \"type\": \"barpolar\"}], \"carpet\": [{\"aaxis\": {\"endlinecolor\": \"#2a3f5f\", \"gridcolor\": \"white\", \"linecolor\": \"white\", \"minorgridcolor\": \"white\", \"startlinecolor\": \"#2a3f5f\"}, \"baxis\": {\"endlinecolor\": \"#2a3f5f\", \"gridcolor\": \"white\", \"linecolor\": \"white\", \"minorgridcolor\": \"white\", \"startlinecolor\": \"#2a3f5f\"}, \"type\": \"carpet\"}], \"choropleth\": [{\"colorbar\": {\"outlinewidth\": 0, \"ticks\": \"\"}, \"type\": \"choropleth\"}], \"contour\": [{\"colorbar\": {\"outlinewidth\": 0, \"ticks\": \"\"}, \"colorscale\": [[0.0, \"#0d0887\"], [0.1111111111111111, \"#46039f\"], [0.2222222222222222, \"#7201a8\"], [0.3333333333333333, \"#9c179e\"], [0.4444444444444444, \"#bd3786\"], [0.5555555555555556, \"#d8576b\"], [0.6666666666666666, \"#ed7953\"], [0.7777777777777778, \"#fb9f3a\"], [0.8888888888888888, \"#fdca26\"], [1.0, \"#f0f921\"]], \"type\": \"contour\"}], \"contourcarpet\": [{\"colorbar\": {\"outlinewidth\": 0, \"ticks\": \"\"}, \"type\": \"contourcarpet\"}], \"heatmap\": [{\"colorbar\": {\"outlinewidth\": 0, \"ticks\": \"\"}, \"colorscale\": [[0.0, \"#0d0887\"], [0.1111111111111111, \"#46039f\"], [0.2222222222222222, \"#7201a8\"], [0.3333333333333333, \"#9c179e\"], [0.4444444444444444, \"#bd3786\"], [0.5555555555555556, \"#d8576b\"], [0.6666666666666666, \"#ed7953\"], [0.7777777777777778, \"#fb9f3a\"], [0.8888888888888888, \"#fdca26\"], [1.0, \"#f0f921\"]], \"type\": \"heatmap\"}], \"heatmapgl\": [{\"colorbar\": {\"outlinewidth\": 0, \"ticks\": \"\"}, \"colorscale\": [[0.0, \"#0d0887\"], [0.1111111111111111, \"#46039f\"], [0.2222222222222222, \"#7201a8\"], [0.3333333333333333, \"#9c179e\"], [0.4444444444444444, \"#bd3786\"], [0.5555555555555556, \"#d8576b\"], [0.6666666666666666, \"#ed7953\"], [0.7777777777777778, \"#fb9f3a\"], [0.8888888888888888, \"#fdca26\"], [1.0, \"#f0f921\"]], \"type\": \"heatmapgl\"}], \"histogram\": [{\"marker\": {\"colorbar\": {\"outlinewidth\": 0, \"ticks\": \"\"}}, \"type\": \"histogram\"}], \"histogram2d\": [{\"colorbar\": {\"outlinewidth\": 0, \"ticks\": \"\"}, \"colorscale\": [[0.0, \"#0d0887\"], [0.1111111111111111, \"#46039f\"], [0.2222222222222222, \"#7201a8\"], [0.3333333333333333, \"#9c179e\"], [0.4444444444444444, \"#bd3786\"], [0.5555555555555556, \"#d8576b\"], [0.6666666666666666, \"#ed7953\"], [0.7777777777777778, \"#fb9f3a\"], [0.8888888888888888, \"#fdca26\"], [1.0, \"#f0f921\"]], \"type\": \"histogram2d\"}], \"histogram2dcontour\": [{\"colorbar\": {\"outlinewidth\": 0, \"ticks\": \"\"}, \"colorscale\": [[0.0, \"#0d0887\"], [0.1111111111111111, \"#46039f\"], [0.2222222222222222, \"#7201a8\"], [0.3333333333333333, \"#9c179e\"], [0.4444444444444444, \"#bd3786\"], [0.5555555555555556, \"#d8576b\"], [0.6666666666666666, \"#ed7953\"], [0.7777777777777778, \"#fb9f3a\"], [0.8888888888888888, \"#fdca26\"], [1.0, \"#f0f921\"]], \"type\": \"histogram2dcontour\"}], \"mesh3d\": [{\"colorbar\": {\"outlinewidth\": 0, \"ticks\": \"\"}, \"type\": \"mesh3d\"}], \"parcoords\": [{\"line\": {\"colorbar\": {\"outlinewidth\": 0, \"ticks\": \"\"}}, \"type\": \"parcoords\"}], \"scatter\": [{\"marker\": {\"colorbar\": {\"outlinewidth\": 0, \"ticks\": \"\"}}, \"type\": \"scatter\"}], \"scatter3d\": [{\"line\": {\"colorbar\": {\"outlinewidth\": 0, \"ticks\": \"\"}}, \"marker\": {\"colorbar\": {\"outlinewidth\": 0, \"ticks\": \"\"}}, \"type\": \"scatter3d\"}], \"scattercarpet\": [{\"marker\": {\"colorbar\": {\"outlinewidth\": 0, \"ticks\": \"\"}}, \"type\": \"scattercarpet\"}], \"scattergeo\": [{\"marker\": {\"colorbar\": {\"outlinewidth\": 0, \"ticks\": \"\"}}, \"type\": \"scattergeo\"}], \"scattergl\": [{\"marker\": {\"colorbar\": {\"outlinewidth\": 0, \"ticks\": \"\"}}, \"type\": \"scattergl\"}], \"scattermapbox\": [{\"marker\": {\"colorbar\": {\"outlinewidth\": 0, \"ticks\": \"\"}}, \"type\": \"scattermapbox\"}], \"scatterpolar\": [{\"marker\": {\"colorbar\": {\"outlinewidth\": 0, \"ticks\": \"\"}}, \"type\": \"scatterpolar\"}], \"scatterpolargl\": [{\"marker\": {\"colorbar\": {\"outlinewidth\": 0, \"ticks\": \"\"}}, \"type\": \"scatterpolargl\"}], \"scatterternary\": [{\"marker\": {\"colorbar\": {\"outlinewidth\": 0, \"ticks\": \"\"}}, \"type\": \"scatterternary\"}], \"surface\": [{\"colorbar\": {\"outlinewidth\": 0, \"ticks\": \"\"}, \"colorscale\": [[0.0, \"#0d0887\"], [0.1111111111111111, \"#46039f\"], [0.2222222222222222, \"#7201a8\"], [0.3333333333333333, \"#9c179e\"], [0.4444444444444444, \"#bd3786\"], [0.5555555555555556, \"#d8576b\"], [0.6666666666666666, \"#ed7953\"], [0.7777777777777778, \"#fb9f3a\"], [0.8888888888888888, \"#fdca26\"], [1.0, \"#f0f921\"]], \"type\": \"surface\"}], \"table\": [{\"cells\": {\"fill\": {\"color\": \"#EBF0F8\"}, \"line\": {\"color\": \"white\"}}, \"header\": {\"fill\": {\"color\": \"#C8D4E3\"}, \"line\": {\"color\": \"white\"}}, \"type\": \"table\"}]}, \"layout\": {\"annotationdefaults\": {\"arrowcolor\": \"#2a3f5f\", \"arrowhead\": 0, \"arrowwidth\": 1}, \"colorscale\": {\"diverging\": [[0, \"#8e0152\"], [0.1, \"#c51b7d\"], [0.2, \"#de77ae\"], [0.3, \"#f1b6da\"], [0.4, \"#fde0ef\"], [0.5, \"#f7f7f7\"], [0.6, \"#e6f5d0\"], [0.7, \"#b8e186\"], [0.8, \"#7fbc41\"], [0.9, \"#4d9221\"], [1, \"#276419\"]], \"sequential\": [[0.0, \"#0d0887\"], [0.1111111111111111, \"#46039f\"], [0.2222222222222222, \"#7201a8\"], [0.3333333333333333, \"#9c179e\"], [0.4444444444444444, \"#bd3786\"], [0.5555555555555556, \"#d8576b\"], [0.6666666666666666, \"#ed7953\"], [0.7777777777777778, \"#fb9f3a\"], [0.8888888888888888, \"#fdca26\"], [1.0, \"#f0f921\"]], \"sequentialminus\": [[0.0, \"#0d0887\"], [0.1111111111111111, \"#46039f\"], [0.2222222222222222, \"#7201a8\"], [0.3333333333333333, \"#9c179e\"], [0.4444444444444444, \"#bd3786\"], [0.5555555555555556, \"#d8576b\"], [0.6666666666666666, \"#ed7953\"], [0.7777777777777778, \"#fb9f3a\"], [0.8888888888888888, \"#fdca26\"], [1.0, \"#f0f921\"]]}, \"colorway\": [\"#636efa\", \"#EF553B\", \"#00cc96\", \"#ab63fa\", \"#FFA15A\", \"#19d3f3\", \"#FF6692\", \"#B6E880\", \"#FF97FF\", \"#FECB52\"], \"font\": {\"color\": \"#2a3f5f\"}, \"geo\": {\"bgcolor\": \"white\", \"lakecolor\": \"white\", \"landcolor\": \"#E5ECF6\", \"showlakes\": true, \"showland\": true, \"subunitcolor\": \"white\"}, \"hoverlabel\": {\"align\": \"left\"}, \"hovermode\": \"closest\", \"mapbox\": {\"style\": \"light\"}, \"paper_bgcolor\": \"white\", \"plot_bgcolor\": \"#E5ECF6\", \"polar\": {\"angularaxis\": {\"gridcolor\": \"white\", \"linecolor\": \"white\", \"ticks\": \"\"}, \"bgcolor\": \"#E5ECF6\", \"radialaxis\": {\"gridcolor\": \"white\", \"linecolor\": \"white\", \"ticks\": \"\"}}, \"scene\": {\"xaxis\": {\"backgroundcolor\": \"#E5ECF6\", \"gridcolor\": \"white\", \"gridwidth\": 2, \"linecolor\": \"white\", \"showbackground\": true, \"ticks\": \"\", \"zerolinecolor\": \"white\"}, \"yaxis\": {\"backgroundcolor\": \"#E5ECF6\", \"gridcolor\": \"white\", \"gridwidth\": 2, \"linecolor\": \"white\", \"showbackground\": true, \"ticks\": \"\", \"zerolinecolor\": \"white\"}, \"zaxis\": {\"backgroundcolor\": \"#E5ECF6\", \"gridcolor\": \"white\", \"gridwidth\": 2, \"linecolor\": \"white\", \"showbackground\": true, \"ticks\": \"\", \"zerolinecolor\": \"white\"}}, \"shapedefaults\": {\"line\": {\"color\": \"#2a3f5f\"}}, \"ternary\": {\"aaxis\": {\"gridcolor\": \"white\", \"linecolor\": \"white\", \"ticks\": \"\"}, \"baxis\": {\"gridcolor\": \"white\", \"linecolor\": \"white\", \"ticks\": \"\"}, \"bgcolor\": \"#E5ECF6\", \"caxis\": {\"gridcolor\": \"white\", \"linecolor\": \"white\", \"ticks\": \"\"}}, \"title\": {\"x\": 0.05}, \"xaxis\": {\"automargin\": true, \"gridcolor\": \"white\", \"linecolor\": \"white\", \"ticks\": \"\", \"zerolinecolor\": \"white\", \"zerolinewidth\": 2}, \"yaxis\": {\"automargin\": true, \"gridcolor\": \"white\", \"linecolor\": \"white\", \"ticks\": \"\", \"zerolinecolor\": \"white\", \"zerolinewidth\": 2}}}},\n",
              "                        {\"responsive\": true}\n",
              "                    ).then(function(){\n",
              "                            \n",
              "var gd = document.getElementById('8d0ab80f-b6a0-4b00-b2ce-27f99c1d09c3');\n",
              "var x = new MutationObserver(function (mutations, observer) {{\n",
              "        var display = window.getComputedStyle(gd).display;\n",
              "        if (!display || display === 'none') {{\n",
              "            console.log([gd, 'removed!']);\n",
              "            Plotly.purge(gd);\n",
              "            observer.disconnect();\n",
              "        }}\n",
              "}});\n",
              "\n",
              "// Listen for the removal of the full notebook cells\n",
              "var notebookContainer = gd.closest('#notebook-container');\n",
              "if (notebookContainer) {{\n",
              "    x.observe(notebookContainer, {childList: true});\n",
              "}}\n",
              "\n",
              "// Listen for the clearing of the current output cell\n",
              "var outputEl = gd.closest('.output');\n",
              "if (outputEl) {{\n",
              "    x.observe(outputEl, {childList: true});\n",
              "}}\n",
              "\n",
              "                        })\n",
              "                };\n",
              "                \n",
              "            </script>\n",
              "        </div>\n",
              "</body>\n",
              "</html>"
            ]
          },
          "metadata": {
            "tags": []
          }
        }
      ]
    },
    {
      "cell_type": "markdown",
      "metadata": {
        "id": "ITaGgV7Yg3o9",
        "colab_type": "text"
      },
      "source": [
        "# **Conclusions partie I**\n",
        "\n",
        "* dans le cas de données linéairement séparables, des fonctions polynomiales approchent très bien les poids de la fonction générative\n",
        "\n",
        "* dans le cas de données périodiques - donc non linéairement séparables - des fonctions polynomiales peuvent bien prédirent des intervales réduits de cette fonction - en fait les portions linéaires\n",
        "\n",
        "* dans le cas d'une généralisation à l'ensemble de la fonction périodique, les régressions polynomiales ne sont pas efficaces\n",
        "\n",
        "* il convient alors d'utiliser d'autres modèles, comme par exemple le KernelRidge en utilisant le `kernel trick`, par exemple ici un noyau rbf"
      ]
    },
    {
      "cell_type": "markdown",
      "metadata": {
        "colab_type": "text",
        "id": "mJ3d9NwMccbd"
      },
      "source": [
        "# Partie II : Données réelles"
      ]
    },
    {
      "cell_type": "markdown",
      "metadata": {
        "id": "fd1xn557cf-G",
        "colab_type": "text"
      },
      "source": [
        "Soit les données suivantes : https://archive.ics.uci.edu/ml/datasets/Bike+Sharing+Dataset#"
      ]
    },
    {
      "cell_type": "code",
      "metadata": {
        "id": "gtA9G1h0psgr",
        "colab_type": "code",
        "outputId": "263395d7-1360-4bd7-d52a-b66c874bc505",
        "colab": {
          "base_uri": "https://localhost:8080/",
          "height": 323
        }
      },
      "source": [
        "! wget https://archive.ics.uci.edu/ml/machine-learning-databases/00275/Bike-Sharing-Dataset.zip\n",
        "! unzip 'Bike-Sharing-Dataset.zip'\n",
        "\n",
        "df = pd.read_csv('day.csv')\n",
        "target = 'cnt'\n",
        "Y = df[target]\n",
        "X = df.drop([target, 'instant', 'dteday', 'yr', 'casual', 'registered'], axis=1)"
      ],
      "execution_count": 0,
      "outputs": [
        {
          "output_type": "stream",
          "text": [
            "--2019-11-01 14:17:34--  https://archive.ics.uci.edu/ml/machine-learning-databases/00275/Bike-Sharing-Dataset.zip\n",
            "Resolving archive.ics.uci.edu (archive.ics.uci.edu)... 128.195.10.252\n",
            "Connecting to archive.ics.uci.edu (archive.ics.uci.edu)|128.195.10.252|:443... connected.\n",
            "HTTP request sent, awaiting response... 200 OK\n",
            "Length: 279992 (273K) [application/x-httpd-php]\n",
            "Saving to: ‘Bike-Sharing-Dataset.zip.3’\n",
            "\n",
            "\r          Bike-Shar   0%[                    ]       0  --.-KB/s               \rBike-Sharing-Datase 100%[===================>] 273.43K  1.74MB/s    in 0.2s    \n",
            "\n",
            "2019-11-01 14:17:34 (1.74 MB/s) - ‘Bike-Sharing-Dataset.zip.3’ saved [279992/279992]\n",
            "\n",
            "Archive:  Bike-Sharing-Dataset.zip\n",
            "replace Readme.txt? [y]es, [n]o, [A]ll, [N]one, [r]ename: y\n",
            "  inflating: Readme.txt              \n",
            "replace day.csv? [y]es, [n]o, [A]ll, [N]one, [r]ename: y\n",
            "  inflating: day.csv                 \n",
            "replace hour.csv? [y]es, [n]o, [A]ll, [N]one, [r]ename: y\n",
            "  inflating: hour.csv                \n"
          ],
          "name": "stdout"
        }
      ]
    },
    {
      "cell_type": "markdown",
      "metadata": {
        "id": "Hq4u7kjucy-4",
        "colab_type": "text"
      },
      "source": [
        "La régression ridge et lasso sont des extensions de la régression linéaire par moindres carrés permettant d'éviter le risque de sur-apprentissage. L'idée est d'ajouter une pénalisation au problème de régression par moindres carrés:\n",
        "$$ \\arg\\min_{w \\in \\mathbb{R}^d, b \\in \\mathbb{R}} \\sum_{i=1}^n \\big(y_i - \\langle w, x_i \\rangle-b\\big)^2 + \\lambda \\Omega(w) $$\n",
        "\n",
        "\n",
        "$$ \\text{avec} \\qquad \\lambda \\in \\mathbb{R} \\qquad \\text{le paramètre de régularisation où} $$\n",
        "\n",
        "$$ \\Omega(w) = \\|w\\|_2^2 \\qquad \\text{pour la régression Ridge} $$\n",
        "$$ \\Omega(w) = \\|w\\|_1 \\qquad \\text{pour la régression Lasso} $$"
      ]
    },
    {
      "cell_type": "markdown",
      "metadata": {
        "id": "9WBHGcvIeQsY",
        "colab_type": "text"
      },
      "source": [
        "a) Utilisant la bibliothèque Scikit-learn, appliquez la régression Ridge et la régression Lasso sur le jeu de données \"Bike Sharing\". Affichez et comparez les deux solutions obtenues.\n",
        "\n",
        "b) Calculez les erreurs de prédiction sur les données d'apprentissage obtenues avec les régressions Ridge et Lasso. Comparez les résultats avec ceux obtenus par la régression par moindre carrés."
      ]
    },
    {
      "cell_type": "code",
      "metadata": {
        "id": "AW0jFEIDexff",
        "colab_type": "code",
        "colab": {}
      },
      "source": [
        "# split into train/test\n",
        "ratio, seed = 0.2, 42\n",
        "X_train, X_test, Y_train, Y_test = train_test_split(X, Y,\n",
        "                                                    test_size=ratio,\n",
        "                                                    random_state=seed)\n",
        "alpha = 1\n",
        "\n",
        "# initialize classifiers\n",
        "classifiers = {\n",
        "    f'ridge_alpha={alpha}': Ridge(alpha=alpha),\n",
        "    f'lasso_alpha={alpha}': Lasso(alpha=alpha),\n",
        "    'linear_reg': LinearRegression()\n",
        "}\n",
        "\n",
        "results = []\n",
        "\n",
        "# train classifiers and predict both train/test data sets\n",
        "for clf_name, clf in classifiers.items():\n",
        "    clf.fit(X_train, Y_train)\n",
        "    results.append({\n",
        "        'name': clf_name,\n",
        "        'train_score': clf.score(X_train, Y_train),\n",
        "        'test_score':  clf.score(X_test, Y_test)\n",
        "    })\n",
        "\n",
        "results = pd.DataFrame(results)"
      ],
      "execution_count": 0,
      "outputs": []
    },
    {
      "cell_type": "code",
      "metadata": {
        "id": "9xdJ8LlxsLqx",
        "colab_type": "code",
        "outputId": "ee7f431a-81bd-476d-e0f3-db892aae4db3",
        "colab": {
          "base_uri": "https://localhost:8080/",
          "height": 542
        }
      },
      "source": [
        "# ploting power !\n",
        "fig = go.Figure(\n",
        "    data=[\n",
        "        # train scores\n",
        "        go.Bar(\n",
        "            x=results['name'],\n",
        "            y=results['train_score'],\n",
        "            name='Train score',\n",
        "            text=round(results['train_score'], 5),\n",
        "            textposition='auto'\n",
        "        ),\n",
        "        # test scores\n",
        "        go.Bar(\n",
        "            x=results['name'],\n",
        "            y=results['test_score'],\n",
        "            name='Test score',\n",
        "            text=round(results['test_score'], 5),\n",
        "            textposition='auto'\n",
        "        ),\n",
        "    ],\n",
        "    layout={\n",
        "        'legend': {\n",
        "            'orientation': 'h'\n",
        "        }\n",
        "    }\n",
        ")\n",
        "fig.show()"
      ],
      "execution_count": 0,
      "outputs": [
        {
          "output_type": "display_data",
          "data": {
            "text/html": [
              "<html>\n",
              "<head><meta charset=\"utf-8\" /></head>\n",
              "<body>\n",
              "    <div>\n",
              "            <script src=\"https://cdnjs.cloudflare.com/ajax/libs/mathjax/2.7.5/MathJax.js?config=TeX-AMS-MML_SVG\"></script><script type=\"text/javascript\">if (window.MathJax) {MathJax.Hub.Config({SVG: {font: \"STIX-Web\"}});}</script>\n",
              "                <script type=\"text/javascript\">window.PlotlyConfig = {MathJaxConfig: 'local'};</script>\n",
              "        <script src=\"https://cdn.plot.ly/plotly-latest.min.js\"></script>    \n",
              "            <div id=\"837bcf16-1804-4a31-8547-e1e3397a7a6d\" class=\"plotly-graph-div\" style=\"height:525px; width:100%;\"></div>\n",
              "            <script type=\"text/javascript\">\n",
              "                \n",
              "                    window.PLOTLYENV=window.PLOTLYENV || {};\n",
              "                    \n",
              "                if (document.getElementById(\"837bcf16-1804-4a31-8547-e1e3397a7a6d\")) {\n",
              "                    Plotly.newPlot(\n",
              "                        '837bcf16-1804-4a31-8547-e1e3397a7a6d',\n",
              "                        [{\"name\": \"Train score\", \"text\": [0.51643, 0.51753, 0.51764], \"textposition\": \"auto\", \"type\": \"bar\", \"x\": [\"ridge_alpha=1\", \"lasso_alpha=1\", \"linear_reg\"], \"y\": [0.5164260158358085, 0.5175305088790574, 0.517644587434399]}, {\"name\": \"Test score\", \"text\": [0.54343, 0.54931, 0.55186], \"textposition\": \"auto\", \"type\": \"bar\", \"x\": [\"ridge_alpha=1\", \"lasso_alpha=1\", \"linear_reg\"], \"y\": [0.5434262431462871, 0.549311182764664, 0.5518626278474863]}],\n",
              "                        {\"legend\": {\"orientation\": \"h\"}, \"template\": {\"data\": {\"bar\": [{\"error_x\": {\"color\": \"#2a3f5f\"}, \"error_y\": {\"color\": \"#2a3f5f\"}, \"marker\": {\"line\": {\"color\": \"#E5ECF6\", \"width\": 0.5}}, \"type\": \"bar\"}], \"barpolar\": [{\"marker\": {\"line\": {\"color\": \"#E5ECF6\", \"width\": 0.5}}, \"type\": \"barpolar\"}], \"carpet\": [{\"aaxis\": {\"endlinecolor\": \"#2a3f5f\", \"gridcolor\": \"white\", \"linecolor\": \"white\", \"minorgridcolor\": \"white\", \"startlinecolor\": \"#2a3f5f\"}, \"baxis\": {\"endlinecolor\": \"#2a3f5f\", \"gridcolor\": \"white\", \"linecolor\": \"white\", \"minorgridcolor\": \"white\", \"startlinecolor\": \"#2a3f5f\"}, \"type\": \"carpet\"}], \"choropleth\": [{\"colorbar\": {\"outlinewidth\": 0, \"ticks\": \"\"}, \"type\": \"choropleth\"}], \"contour\": [{\"colorbar\": {\"outlinewidth\": 0, \"ticks\": \"\"}, \"colorscale\": [[0.0, \"#0d0887\"], [0.1111111111111111, \"#46039f\"], [0.2222222222222222, \"#7201a8\"], [0.3333333333333333, \"#9c179e\"], [0.4444444444444444, \"#bd3786\"], [0.5555555555555556, \"#d8576b\"], [0.6666666666666666, \"#ed7953\"], [0.7777777777777778, \"#fb9f3a\"], [0.8888888888888888, \"#fdca26\"], [1.0, \"#f0f921\"]], \"type\": \"contour\"}], \"contourcarpet\": [{\"colorbar\": {\"outlinewidth\": 0, \"ticks\": \"\"}, \"type\": \"contourcarpet\"}], \"heatmap\": [{\"colorbar\": {\"outlinewidth\": 0, \"ticks\": \"\"}, \"colorscale\": [[0.0, \"#0d0887\"], [0.1111111111111111, \"#46039f\"], [0.2222222222222222, \"#7201a8\"], [0.3333333333333333, \"#9c179e\"], [0.4444444444444444, \"#bd3786\"], [0.5555555555555556, \"#d8576b\"], [0.6666666666666666, \"#ed7953\"], [0.7777777777777778, \"#fb9f3a\"], [0.8888888888888888, \"#fdca26\"], [1.0, \"#f0f921\"]], \"type\": \"heatmap\"}], \"heatmapgl\": [{\"colorbar\": {\"outlinewidth\": 0, \"ticks\": \"\"}, \"colorscale\": [[0.0, \"#0d0887\"], [0.1111111111111111, \"#46039f\"], [0.2222222222222222, \"#7201a8\"], [0.3333333333333333, \"#9c179e\"], [0.4444444444444444, \"#bd3786\"], [0.5555555555555556, \"#d8576b\"], [0.6666666666666666, \"#ed7953\"], [0.7777777777777778, \"#fb9f3a\"], [0.8888888888888888, \"#fdca26\"], [1.0, \"#f0f921\"]], \"type\": \"heatmapgl\"}], \"histogram\": [{\"marker\": {\"colorbar\": {\"outlinewidth\": 0, \"ticks\": \"\"}}, \"type\": \"histogram\"}], \"histogram2d\": [{\"colorbar\": {\"outlinewidth\": 0, \"ticks\": \"\"}, \"colorscale\": [[0.0, \"#0d0887\"], [0.1111111111111111, \"#46039f\"], [0.2222222222222222, \"#7201a8\"], [0.3333333333333333, \"#9c179e\"], [0.4444444444444444, \"#bd3786\"], [0.5555555555555556, \"#d8576b\"], [0.6666666666666666, \"#ed7953\"], [0.7777777777777778, \"#fb9f3a\"], [0.8888888888888888, \"#fdca26\"], [1.0, \"#f0f921\"]], \"type\": \"histogram2d\"}], \"histogram2dcontour\": [{\"colorbar\": {\"outlinewidth\": 0, \"ticks\": \"\"}, \"colorscale\": [[0.0, \"#0d0887\"], [0.1111111111111111, \"#46039f\"], [0.2222222222222222, \"#7201a8\"], [0.3333333333333333, \"#9c179e\"], [0.4444444444444444, \"#bd3786\"], [0.5555555555555556, \"#d8576b\"], [0.6666666666666666, \"#ed7953\"], [0.7777777777777778, \"#fb9f3a\"], [0.8888888888888888, \"#fdca26\"], [1.0, \"#f0f921\"]], \"type\": \"histogram2dcontour\"}], \"mesh3d\": [{\"colorbar\": {\"outlinewidth\": 0, \"ticks\": \"\"}, \"type\": \"mesh3d\"}], \"parcoords\": [{\"line\": {\"colorbar\": {\"outlinewidth\": 0, \"ticks\": \"\"}}, \"type\": \"parcoords\"}], \"scatter\": [{\"marker\": {\"colorbar\": {\"outlinewidth\": 0, \"ticks\": \"\"}}, \"type\": \"scatter\"}], \"scatter3d\": [{\"line\": {\"colorbar\": {\"outlinewidth\": 0, \"ticks\": \"\"}}, \"marker\": {\"colorbar\": {\"outlinewidth\": 0, \"ticks\": \"\"}}, \"type\": \"scatter3d\"}], \"scattercarpet\": [{\"marker\": {\"colorbar\": {\"outlinewidth\": 0, \"ticks\": \"\"}}, \"type\": \"scattercarpet\"}], \"scattergeo\": [{\"marker\": {\"colorbar\": {\"outlinewidth\": 0, \"ticks\": \"\"}}, \"type\": \"scattergeo\"}], \"scattergl\": [{\"marker\": {\"colorbar\": {\"outlinewidth\": 0, \"ticks\": \"\"}}, \"type\": \"scattergl\"}], \"scattermapbox\": [{\"marker\": {\"colorbar\": {\"outlinewidth\": 0, \"ticks\": \"\"}}, \"type\": \"scattermapbox\"}], \"scatterpolar\": [{\"marker\": {\"colorbar\": {\"outlinewidth\": 0, \"ticks\": \"\"}}, \"type\": \"scatterpolar\"}], \"scatterpolargl\": [{\"marker\": {\"colorbar\": {\"outlinewidth\": 0, \"ticks\": \"\"}}, \"type\": \"scatterpolargl\"}], \"scatterternary\": [{\"marker\": {\"colorbar\": {\"outlinewidth\": 0, \"ticks\": \"\"}}, \"type\": \"scatterternary\"}], \"surface\": [{\"colorbar\": {\"outlinewidth\": 0, \"ticks\": \"\"}, \"colorscale\": [[0.0, \"#0d0887\"], [0.1111111111111111, \"#46039f\"], [0.2222222222222222, \"#7201a8\"], [0.3333333333333333, \"#9c179e\"], [0.4444444444444444, \"#bd3786\"], [0.5555555555555556, \"#d8576b\"], [0.6666666666666666, \"#ed7953\"], [0.7777777777777778, \"#fb9f3a\"], [0.8888888888888888, \"#fdca26\"], [1.0, \"#f0f921\"]], \"type\": \"surface\"}], \"table\": [{\"cells\": {\"fill\": {\"color\": \"#EBF0F8\"}, \"line\": {\"color\": \"white\"}}, \"header\": {\"fill\": {\"color\": \"#C8D4E3\"}, \"line\": {\"color\": \"white\"}}, \"type\": \"table\"}]}, \"layout\": {\"annotationdefaults\": {\"arrowcolor\": \"#2a3f5f\", \"arrowhead\": 0, \"arrowwidth\": 1}, \"colorscale\": {\"diverging\": [[0, \"#8e0152\"], [0.1, \"#c51b7d\"], [0.2, \"#de77ae\"], [0.3, \"#f1b6da\"], [0.4, \"#fde0ef\"], [0.5, \"#f7f7f7\"], [0.6, \"#e6f5d0\"], [0.7, \"#b8e186\"], [0.8, \"#7fbc41\"], [0.9, \"#4d9221\"], [1, \"#276419\"]], \"sequential\": [[0.0, \"#0d0887\"], [0.1111111111111111, \"#46039f\"], [0.2222222222222222, \"#7201a8\"], [0.3333333333333333, \"#9c179e\"], [0.4444444444444444, \"#bd3786\"], [0.5555555555555556, \"#d8576b\"], [0.6666666666666666, \"#ed7953\"], [0.7777777777777778, \"#fb9f3a\"], [0.8888888888888888, \"#fdca26\"], [1.0, \"#f0f921\"]], \"sequentialminus\": [[0.0, \"#0d0887\"], [0.1111111111111111, \"#46039f\"], [0.2222222222222222, \"#7201a8\"], [0.3333333333333333, \"#9c179e\"], [0.4444444444444444, \"#bd3786\"], [0.5555555555555556, \"#d8576b\"], [0.6666666666666666, \"#ed7953\"], [0.7777777777777778, \"#fb9f3a\"], [0.8888888888888888, \"#fdca26\"], [1.0, \"#f0f921\"]]}, \"colorway\": [\"#636efa\", \"#EF553B\", \"#00cc96\", \"#ab63fa\", \"#FFA15A\", \"#19d3f3\", \"#FF6692\", \"#B6E880\", \"#FF97FF\", \"#FECB52\"], \"font\": {\"color\": \"#2a3f5f\"}, \"geo\": {\"bgcolor\": \"white\", \"lakecolor\": \"white\", \"landcolor\": \"#E5ECF6\", \"showlakes\": true, \"showland\": true, \"subunitcolor\": \"white\"}, \"hoverlabel\": {\"align\": \"left\"}, \"hovermode\": \"closest\", \"mapbox\": {\"style\": \"light\"}, \"paper_bgcolor\": \"white\", \"plot_bgcolor\": \"#E5ECF6\", \"polar\": {\"angularaxis\": {\"gridcolor\": \"white\", \"linecolor\": \"white\", \"ticks\": \"\"}, \"bgcolor\": \"#E5ECF6\", \"radialaxis\": {\"gridcolor\": \"white\", \"linecolor\": \"white\", \"ticks\": \"\"}}, \"scene\": {\"xaxis\": {\"backgroundcolor\": \"#E5ECF6\", \"gridcolor\": \"white\", \"gridwidth\": 2, \"linecolor\": \"white\", \"showbackground\": true, \"ticks\": \"\", \"zerolinecolor\": \"white\"}, \"yaxis\": {\"backgroundcolor\": \"#E5ECF6\", \"gridcolor\": \"white\", \"gridwidth\": 2, \"linecolor\": \"white\", \"showbackground\": true, \"ticks\": \"\", \"zerolinecolor\": \"white\"}, \"zaxis\": {\"backgroundcolor\": \"#E5ECF6\", \"gridcolor\": \"white\", \"gridwidth\": 2, \"linecolor\": \"white\", \"showbackground\": true, \"ticks\": \"\", \"zerolinecolor\": \"white\"}}, \"shapedefaults\": {\"line\": {\"color\": \"#2a3f5f\"}}, \"ternary\": {\"aaxis\": {\"gridcolor\": \"white\", \"linecolor\": \"white\", \"ticks\": \"\"}, \"baxis\": {\"gridcolor\": \"white\", \"linecolor\": \"white\", \"ticks\": \"\"}, \"bgcolor\": \"#E5ECF6\", \"caxis\": {\"gridcolor\": \"white\", \"linecolor\": \"white\", \"ticks\": \"\"}}, \"title\": {\"x\": 0.05}, \"xaxis\": {\"automargin\": true, \"gridcolor\": \"white\", \"linecolor\": \"white\", \"ticks\": \"\", \"zerolinecolor\": \"white\", \"zerolinewidth\": 2}, \"yaxis\": {\"automargin\": true, \"gridcolor\": \"white\", \"linecolor\": \"white\", \"ticks\": \"\", \"zerolinecolor\": \"white\", \"zerolinewidth\": 2}}}},\n",
              "                        {\"responsive\": true}\n",
              "                    ).then(function(){\n",
              "                            \n",
              "var gd = document.getElementById('837bcf16-1804-4a31-8547-e1e3397a7a6d');\n",
              "var x = new MutationObserver(function (mutations, observer) {{\n",
              "        var display = window.getComputedStyle(gd).display;\n",
              "        if (!display || display === 'none') {{\n",
              "            console.log([gd, 'removed!']);\n",
              "            Plotly.purge(gd);\n",
              "            observer.disconnect();\n",
              "        }}\n",
              "}});\n",
              "\n",
              "// Listen for the removal of the full notebook cells\n",
              "var notebookContainer = gd.closest('#notebook-container');\n",
              "if (notebookContainer) {{\n",
              "    x.observe(notebookContainer, {childList: true});\n",
              "}}\n",
              "\n",
              "// Listen for the clearing of the current output cell\n",
              "var outputEl = gd.closest('.output');\n",
              "if (outputEl) {{\n",
              "    x.observe(outputEl, {childList: true});\n",
              "}}\n",
              "\n",
              "                        })\n",
              "                };\n",
              "                \n",
              "            </script>\n",
              "        </div>\n",
              "</body>\n",
              "</html>"
            ]
          },
          "metadata": {
            "tags": []
          }
        }
      ]
    },
    {
      "cell_type": "markdown",
      "metadata": {
        "id": "aE9e0mI5fBcR",
        "colab_type": "text"
      },
      "source": [
        "c)  Le choix du paramètre $\\lambda$ est primordial pour avoir des résultats de prédiction optimaux. Une façon de procéder pour trouver une bonne valeur $\\lambda$ est d'utiliser la méthode de cross-validation sur une grille de valeurs. Déterminer par cross-validation les valeurs de $\\lambda$ permettant d'avoir les meilleurs taux de prédiction. \n",
        "\n"
      ]
    },
    {
      "cell_type": "code",
      "metadata": {
        "id": "8pFhnblI4a-X",
        "colab_type": "code",
        "colab": {}
      },
      "source": [
        "# adapted code from\n",
        "# http://www.davidsbatista.net/blog/2018/02/23/model_optimization/\n",
        "\n",
        "class EstimatorSelectionHelper:\n",
        "    def __init__(self, models, params):\n",
        "        if not set(models.keys()).issubset(set(params.keys())):\n",
        "            missing_params = list(set(models.keys()) - set(params.keys()))\n",
        "            raise ValueError(\n",
        "                f'Some estimators are missing parameters: {missing_params}')\n",
        "        self.models = models\n",
        "        self.params = params\n",
        "        self.keys = models.keys()\n",
        "        self.grid_searches = {}\n",
        "\n",
        "    def fit(self, X, y, cv=3, n_jobs=3, verbose=1, scoring=None, refit=False):\n",
        "        for key in self.keys:\n",
        "            print(f'Running GridSearchCV for {key}')\n",
        "            model = self.models[key]\n",
        "            params = self.params[key]\n",
        "            gs = GridSearchCV(model, params, cv=cv, n_jobs=n_jobs,\n",
        "                              verbose=verbose, scoring=scoring, refit=refit,\n",
        "                              return_train_score=True)\n",
        "            gs.fit(X, y)\n",
        "            self.grid_searches[key] = gs\n",
        "\n",
        "    def score_summary(self, sort_by='mean_score',\n",
        "                      num_rows_per_estimator=None,\n",
        "                      score_precision=5):\n",
        "        def row(key, scores, params):\n",
        "            d = {\n",
        "                 'estimator': key,\n",
        "                 'mean_score': round(np.mean(scores), score_precision),\n",
        "                 'std_score': round(np.std(scores), score_precision),\n",
        "                 'min_score': round(min(scores), score_precision),\n",
        "                 'max_score': round(max(scores), score_precision),\n",
        "            }\n",
        "            return pd.Series({**params, **d})\n",
        "\n",
        "        rows = []\n",
        "        for k in self.grid_searches:\n",
        "            params = self.grid_searches[k].cv_results_['params']\n",
        "            scores = []\n",
        "            for i in range(self.grid_searches[k].cv):\n",
        "                key = \"split{}_test_score\".format(i)\n",
        "                r = self.grid_searches[k].cv_results_[key]\n",
        "                scores.append(r.reshape(len(params), 1))\n",
        "\n",
        "            all_scores = np.hstack(scores)\n",
        "            for p, s in zip(params, all_scores):\n",
        "                rows.append((row(k, s, p)))\n",
        "\n",
        "        df = pd.concat(rows, axis=1).T.sort_values([sort_by], ascending=False)\n",
        "\n",
        "        columns = ['estimator', 'mean_score', 'std_score',\n",
        "                   'min_score', 'max_score']\n",
        "        columns = columns + [c for c in df.columns if c not in columns]\n",
        "\n",
        "        if num_rows_per_estimator:\n",
        "            df = df.groupby('estimator')\n",
        "            df = df.head(num_rows_per_estimator)\n",
        "\n",
        "        return df[columns]"
      ],
      "execution_count": 0,
      "outputs": []
    },
    {
      "cell_type": "code",
      "metadata": {
        "id": "eWEm1sEMfcAQ",
        "colab_type": "code",
        "outputId": "db54200f-d933-4804-bf96-dd7e2ebab2e8",
        "colab": {
          "base_uri": "https://localhost:8080/",
          "height": 425
        }
      },
      "source": [
        "models = {\n",
        "    'Ridge': Ridge(),\n",
        "    'Lasso': Lasso(),\n",
        "    'LinearRegression': LinearRegression()\n",
        "}\n",
        "\n",
        "alphas = np.linspace(0.1, 10, 100)\n",
        "\n",
        "params = {\n",
        "    'Lasso': {\n",
        "        'alpha': alphas,\n",
        "        'normalize': [False, True]\n",
        "    },\n",
        "    'Ridge': {\n",
        "        'alpha': alphas,\n",
        "        'normalize': [False, True]\n",
        "    },\n",
        "    'LinearRegression': {\n",
        "        'normalize': [False, True]\n",
        "    }\n",
        "}\n",
        "\n",
        "grid = EstimatorSelectionHelper(models, params)\n",
        "grid.fit(X_train, Y_train, n_jobs=-1)\n",
        "\n",
        "gs = grid.score_summary(sort_by='mean_score',\n",
        "                        num_rows_per_estimator=5)"
      ],
      "execution_count": 0,
      "outputs": [
        {
          "output_type": "stream",
          "text": [
            "Running GridSearchCV for Ridge\n",
            "Fitting 3 folds for each of 200 candidates, totalling 600 fits\n"
          ],
          "name": "stdout"
        },
        {
          "output_type": "stream",
          "text": [
            "[Parallel(n_jobs=-1)]: Using backend LokyBackend with 2 concurrent workers.\n",
            "[Parallel(n_jobs=-1)]: Done 240 tasks      | elapsed:    3.8s\n"
          ],
          "name": "stderr"
        },
        {
          "output_type": "stream",
          "text": [
            "Running GridSearchCV for Lasso\n",
            "Fitting 3 folds for each of 200 candidates, totalling 600 fits\n"
          ],
          "name": "stdout"
        },
        {
          "output_type": "stream",
          "text": [
            "[Parallel(n_jobs=-1)]: Done 600 out of 600 | elapsed:    5.8s finished\n",
            "[Parallel(n_jobs=-1)]: Using backend LokyBackend with 2 concurrent workers.\n",
            "[Parallel(n_jobs=-1)]: Done 330 tasks      | elapsed:    3.9s\n"
          ],
          "name": "stderr"
        },
        {
          "output_type": "stream",
          "text": [
            "Running GridSearchCV for LinearRegression\n",
            "Fitting 3 folds for each of 2 candidates, totalling 6 fits\n"
          ],
          "name": "stdout"
        },
        {
          "output_type": "stream",
          "text": [
            "[Parallel(n_jobs=-1)]: Done 600 out of 600 | elapsed:    5.5s finished\n",
            "[Parallel(n_jobs=-1)]: Using backend LokyBackend with 2 concurrent workers.\n",
            "[Parallel(n_jobs=-1)]: Done   6 out of   6 | elapsed:    1.9s finished\n",
            "/usr/local/lib/python3.6/dist-packages/ipykernel_launcher.py:50: FutureWarning:\n",
            "\n",
            "Sorting because non-concatenation axis is not aligned. A future version\n",
            "of pandas will change to not sort by default.\n",
            "\n",
            "To accept the future behavior, pass 'sort=False'.\n",
            "\n",
            "To retain the current behavior and silence the warning, pass 'sort=True'.\n",
            "\n",
            "\n"
          ],
          "name": "stderr"
        }
      ]
    },
    {
      "cell_type": "code",
      "metadata": {
        "id": "Az5zmiDZ489V",
        "colab_type": "code",
        "outputId": "c8fbc400-ae0e-424c-de7d-053920a14ae5",
        "colab": {
          "base_uri": "https://localhost:8080/",
          "height": 542
        }
      },
      "source": [
        "# ploting power !\n",
        "fig = go.Figure(\n",
        "    data=[\n",
        "        go.Table(\n",
        "            header=dict(\n",
        "                values=list(\n",
        "                    gs.columns\n",
        "                )\n",
        "            ),\n",
        "            cells=dict(\n",
        "                values=[\n",
        "                    gs.estimator,\n",
        "                    gs.mean_score,\n",
        "                    gs.std_score,\n",
        "                    gs.min_score,\n",
        "                    gs.max_score,\n",
        "                    gs.alpha,\n",
        "                    gs.normalize\n",
        "                ]\n",
        "            )\n",
        "        )\n",
        "    ]\n",
        ")\n",
        "fig.show()"
      ],
      "execution_count": 0,
      "outputs": [
        {
          "output_type": "display_data",
          "data": {
            "text/html": [
              "<html>\n",
              "<head><meta charset=\"utf-8\" /></head>\n",
              "<body>\n",
              "    <div>\n",
              "            <script src=\"https://cdnjs.cloudflare.com/ajax/libs/mathjax/2.7.5/MathJax.js?config=TeX-AMS-MML_SVG\"></script><script type=\"text/javascript\">if (window.MathJax) {MathJax.Hub.Config({SVG: {font: \"STIX-Web\"}});}</script>\n",
              "                <script type=\"text/javascript\">window.PlotlyConfig = {MathJaxConfig: 'local'};</script>\n",
              "        <script src=\"https://cdn.plot.ly/plotly-latest.min.js\"></script>    \n",
              "            <div id=\"23cb72b3-7296-4dbc-9736-0e9fb521cbca\" class=\"plotly-graph-div\" style=\"height:525px; width:100%;\"></div>\n",
              "            <script type=\"text/javascript\">\n",
              "                \n",
              "                    window.PLOTLYENV=window.PLOTLYENV || {};\n",
              "                    \n",
              "                if (document.getElementById(\"23cb72b3-7296-4dbc-9736-0e9fb521cbca\")) {\n",
              "                    Plotly.newPlot(\n",
              "                        '23cb72b3-7296-4dbc-9736-0e9fb521cbca',\n",
              "                        [{\"cells\": {\"values\": [[\"Ridge\", \"Ridge\", \"Ridge\", \"Ridge\", \"Ridge\", \"Lasso\", \"Lasso\", \"Lasso\", \"Lasso\", \"Lasso\", \"LinearRegression\", \"LinearRegression\"], [0.5013, 0.50124, 0.50122, 0.50119, 0.5011, 0.49897, 0.49896, 0.49893, 0.49892, 0.49886, 0.47931, 0.47931], [0.04341, 0.04373, 0.04389, 0.04358, 0.04407, 0.04484, 0.04463, 0.04501, 0.04439, 0.04414, 0.06412, 0.06412], [0.46693, 0.46994, 0.46953, 0.47022, 0.46891, 0.45904, 0.45898, 0.45909, 0.4589, 0.45882, 0.40509, 0.40509], [0.56254, 0.56309, 0.56329, 0.56283, 0.56342, 0.5616, 0.56126, 0.56184, 0.56081, 0.56035, 0.56154, 0.56154], [0.1, 0.6, 0.5, 0.7000000000000001, 0.4, 1.0, 1.1, 0.9, 1.2000000000000002, 1.3000000000000003, null, null], [true, false, false, false, false, true, true, true, true, true, false, true]]}, \"header\": {\"values\": [\"estimator\", \"mean_score\", \"std_score\", \"min_score\", \"max_score\", \"alpha\", \"normalize\"]}, \"type\": \"table\"}],\n",
              "                        {\"template\": {\"data\": {\"bar\": [{\"error_x\": {\"color\": \"#2a3f5f\"}, \"error_y\": {\"color\": \"#2a3f5f\"}, \"marker\": {\"line\": {\"color\": \"#E5ECF6\", \"width\": 0.5}}, \"type\": \"bar\"}], \"barpolar\": [{\"marker\": {\"line\": {\"color\": \"#E5ECF6\", \"width\": 0.5}}, \"type\": \"barpolar\"}], \"carpet\": [{\"aaxis\": {\"endlinecolor\": \"#2a3f5f\", \"gridcolor\": \"white\", \"linecolor\": \"white\", \"minorgridcolor\": \"white\", \"startlinecolor\": \"#2a3f5f\"}, \"baxis\": {\"endlinecolor\": \"#2a3f5f\", \"gridcolor\": \"white\", \"linecolor\": \"white\", \"minorgridcolor\": \"white\", \"startlinecolor\": \"#2a3f5f\"}, \"type\": \"carpet\"}], \"choropleth\": [{\"colorbar\": {\"outlinewidth\": 0, \"ticks\": \"\"}, \"type\": \"choropleth\"}], \"contour\": [{\"colorbar\": {\"outlinewidth\": 0, \"ticks\": \"\"}, \"colorscale\": [[0.0, \"#0d0887\"], [0.1111111111111111, \"#46039f\"], [0.2222222222222222, \"#7201a8\"], [0.3333333333333333, \"#9c179e\"], [0.4444444444444444, \"#bd3786\"], [0.5555555555555556, \"#d8576b\"], [0.6666666666666666, \"#ed7953\"], [0.7777777777777778, \"#fb9f3a\"], [0.8888888888888888, \"#fdca26\"], [1.0, \"#f0f921\"]], \"type\": \"contour\"}], \"contourcarpet\": [{\"colorbar\": {\"outlinewidth\": 0, \"ticks\": \"\"}, \"type\": \"contourcarpet\"}], \"heatmap\": [{\"colorbar\": {\"outlinewidth\": 0, \"ticks\": \"\"}, \"colorscale\": [[0.0, \"#0d0887\"], [0.1111111111111111, \"#46039f\"], [0.2222222222222222, \"#7201a8\"], [0.3333333333333333, \"#9c179e\"], [0.4444444444444444, \"#bd3786\"], [0.5555555555555556, \"#d8576b\"], [0.6666666666666666, \"#ed7953\"], [0.7777777777777778, \"#fb9f3a\"], [0.8888888888888888, \"#fdca26\"], [1.0, \"#f0f921\"]], \"type\": \"heatmap\"}], \"heatmapgl\": [{\"colorbar\": {\"outlinewidth\": 0, \"ticks\": \"\"}, \"colorscale\": [[0.0, \"#0d0887\"], [0.1111111111111111, \"#46039f\"], [0.2222222222222222, \"#7201a8\"], [0.3333333333333333, \"#9c179e\"], [0.4444444444444444, \"#bd3786\"], [0.5555555555555556, \"#d8576b\"], [0.6666666666666666, \"#ed7953\"], [0.7777777777777778, \"#fb9f3a\"], [0.8888888888888888, \"#fdca26\"], [1.0, \"#f0f921\"]], \"type\": \"heatmapgl\"}], \"histogram\": [{\"marker\": {\"colorbar\": {\"outlinewidth\": 0, \"ticks\": \"\"}}, \"type\": \"histogram\"}], \"histogram2d\": [{\"colorbar\": {\"outlinewidth\": 0, \"ticks\": \"\"}, \"colorscale\": [[0.0, \"#0d0887\"], [0.1111111111111111, \"#46039f\"], [0.2222222222222222, \"#7201a8\"], [0.3333333333333333, \"#9c179e\"], [0.4444444444444444, \"#bd3786\"], [0.5555555555555556, \"#d8576b\"], [0.6666666666666666, \"#ed7953\"], [0.7777777777777778, \"#fb9f3a\"], [0.8888888888888888, \"#fdca26\"], [1.0, \"#f0f921\"]], \"type\": \"histogram2d\"}], \"histogram2dcontour\": [{\"colorbar\": {\"outlinewidth\": 0, \"ticks\": \"\"}, \"colorscale\": [[0.0, \"#0d0887\"], [0.1111111111111111, \"#46039f\"], [0.2222222222222222, \"#7201a8\"], [0.3333333333333333, \"#9c179e\"], [0.4444444444444444, \"#bd3786\"], [0.5555555555555556, \"#d8576b\"], [0.6666666666666666, \"#ed7953\"], [0.7777777777777778, \"#fb9f3a\"], [0.8888888888888888, \"#fdca26\"], [1.0, \"#f0f921\"]], \"type\": \"histogram2dcontour\"}], \"mesh3d\": [{\"colorbar\": {\"outlinewidth\": 0, \"ticks\": \"\"}, \"type\": \"mesh3d\"}], \"parcoords\": [{\"line\": {\"colorbar\": {\"outlinewidth\": 0, \"ticks\": \"\"}}, \"type\": \"parcoords\"}], \"scatter\": [{\"marker\": {\"colorbar\": {\"outlinewidth\": 0, \"ticks\": \"\"}}, \"type\": \"scatter\"}], \"scatter3d\": [{\"line\": {\"colorbar\": {\"outlinewidth\": 0, \"ticks\": \"\"}}, \"marker\": {\"colorbar\": {\"outlinewidth\": 0, \"ticks\": \"\"}}, \"type\": \"scatter3d\"}], \"scattercarpet\": [{\"marker\": {\"colorbar\": {\"outlinewidth\": 0, \"ticks\": \"\"}}, \"type\": \"scattercarpet\"}], \"scattergeo\": [{\"marker\": {\"colorbar\": {\"outlinewidth\": 0, \"ticks\": \"\"}}, \"type\": \"scattergeo\"}], \"scattergl\": [{\"marker\": {\"colorbar\": {\"outlinewidth\": 0, \"ticks\": \"\"}}, \"type\": \"scattergl\"}], \"scattermapbox\": [{\"marker\": {\"colorbar\": {\"outlinewidth\": 0, \"ticks\": \"\"}}, \"type\": \"scattermapbox\"}], \"scatterpolar\": [{\"marker\": {\"colorbar\": {\"outlinewidth\": 0, \"ticks\": \"\"}}, \"type\": \"scatterpolar\"}], \"scatterpolargl\": [{\"marker\": {\"colorbar\": {\"outlinewidth\": 0, \"ticks\": \"\"}}, \"type\": \"scatterpolargl\"}], \"scatterternary\": [{\"marker\": {\"colorbar\": {\"outlinewidth\": 0, \"ticks\": \"\"}}, \"type\": \"scatterternary\"}], \"surface\": [{\"colorbar\": {\"outlinewidth\": 0, \"ticks\": \"\"}, \"colorscale\": [[0.0, \"#0d0887\"], [0.1111111111111111, \"#46039f\"], [0.2222222222222222, \"#7201a8\"], [0.3333333333333333, \"#9c179e\"], [0.4444444444444444, \"#bd3786\"], [0.5555555555555556, \"#d8576b\"], [0.6666666666666666, \"#ed7953\"], [0.7777777777777778, \"#fb9f3a\"], [0.8888888888888888, \"#fdca26\"], [1.0, \"#f0f921\"]], \"type\": \"surface\"}], \"table\": [{\"cells\": {\"fill\": {\"color\": \"#EBF0F8\"}, \"line\": {\"color\": \"white\"}}, \"header\": {\"fill\": {\"color\": \"#C8D4E3\"}, \"line\": {\"color\": \"white\"}}, \"type\": \"table\"}]}, \"layout\": {\"annotationdefaults\": {\"arrowcolor\": \"#2a3f5f\", \"arrowhead\": 0, \"arrowwidth\": 1}, \"colorscale\": {\"diverging\": [[0, \"#8e0152\"], [0.1, \"#c51b7d\"], [0.2, \"#de77ae\"], [0.3, \"#f1b6da\"], [0.4, \"#fde0ef\"], [0.5, \"#f7f7f7\"], [0.6, \"#e6f5d0\"], [0.7, \"#b8e186\"], [0.8, \"#7fbc41\"], [0.9, \"#4d9221\"], [1, \"#276419\"]], \"sequential\": [[0.0, \"#0d0887\"], [0.1111111111111111, \"#46039f\"], [0.2222222222222222, \"#7201a8\"], [0.3333333333333333, \"#9c179e\"], [0.4444444444444444, \"#bd3786\"], [0.5555555555555556, \"#d8576b\"], [0.6666666666666666, \"#ed7953\"], [0.7777777777777778, \"#fb9f3a\"], [0.8888888888888888, \"#fdca26\"], [1.0, \"#f0f921\"]], \"sequentialminus\": [[0.0, \"#0d0887\"], [0.1111111111111111, \"#46039f\"], [0.2222222222222222, \"#7201a8\"], [0.3333333333333333, \"#9c179e\"], [0.4444444444444444, \"#bd3786\"], [0.5555555555555556, \"#d8576b\"], [0.6666666666666666, \"#ed7953\"], [0.7777777777777778, \"#fb9f3a\"], [0.8888888888888888, \"#fdca26\"], [1.0, \"#f0f921\"]]}, \"colorway\": [\"#636efa\", \"#EF553B\", \"#00cc96\", \"#ab63fa\", \"#FFA15A\", \"#19d3f3\", \"#FF6692\", \"#B6E880\", \"#FF97FF\", \"#FECB52\"], \"font\": {\"color\": \"#2a3f5f\"}, \"geo\": {\"bgcolor\": \"white\", \"lakecolor\": \"white\", \"landcolor\": \"#E5ECF6\", \"showlakes\": true, \"showland\": true, \"subunitcolor\": \"white\"}, \"hoverlabel\": {\"align\": \"left\"}, \"hovermode\": \"closest\", \"mapbox\": {\"style\": \"light\"}, \"paper_bgcolor\": \"white\", \"plot_bgcolor\": \"#E5ECF6\", \"polar\": {\"angularaxis\": {\"gridcolor\": \"white\", \"linecolor\": \"white\", \"ticks\": \"\"}, \"bgcolor\": \"#E5ECF6\", \"radialaxis\": {\"gridcolor\": \"white\", \"linecolor\": \"white\", \"ticks\": \"\"}}, \"scene\": {\"xaxis\": {\"backgroundcolor\": \"#E5ECF6\", \"gridcolor\": \"white\", \"gridwidth\": 2, \"linecolor\": \"white\", \"showbackground\": true, \"ticks\": \"\", \"zerolinecolor\": \"white\"}, \"yaxis\": {\"backgroundcolor\": \"#E5ECF6\", \"gridcolor\": \"white\", \"gridwidth\": 2, \"linecolor\": \"white\", \"showbackground\": true, \"ticks\": \"\", \"zerolinecolor\": \"white\"}, \"zaxis\": {\"backgroundcolor\": \"#E5ECF6\", \"gridcolor\": \"white\", \"gridwidth\": 2, \"linecolor\": \"white\", \"showbackground\": true, \"ticks\": \"\", \"zerolinecolor\": \"white\"}}, \"shapedefaults\": {\"line\": {\"color\": \"#2a3f5f\"}}, \"ternary\": {\"aaxis\": {\"gridcolor\": \"white\", \"linecolor\": \"white\", \"ticks\": \"\"}, \"baxis\": {\"gridcolor\": \"white\", \"linecolor\": \"white\", \"ticks\": \"\"}, \"bgcolor\": \"#E5ECF6\", \"caxis\": {\"gridcolor\": \"white\", \"linecolor\": \"white\", \"ticks\": \"\"}}, \"title\": {\"x\": 0.05}, \"xaxis\": {\"automargin\": true, \"gridcolor\": \"white\", \"linecolor\": \"white\", \"ticks\": \"\", \"zerolinecolor\": \"white\", \"zerolinewidth\": 2}, \"yaxis\": {\"automargin\": true, \"gridcolor\": \"white\", \"linecolor\": \"white\", \"ticks\": \"\", \"zerolinecolor\": \"white\", \"zerolinewidth\": 2}}}},\n",
              "                        {\"responsive\": true}\n",
              "                    ).then(function(){\n",
              "                            \n",
              "var gd = document.getElementById('23cb72b3-7296-4dbc-9736-0e9fb521cbca');\n",
              "var x = new MutationObserver(function (mutations, observer) {{\n",
              "        var display = window.getComputedStyle(gd).display;\n",
              "        if (!display || display === 'none') {{\n",
              "            console.log([gd, 'removed!']);\n",
              "            Plotly.purge(gd);\n",
              "            observer.disconnect();\n",
              "        }}\n",
              "}});\n",
              "\n",
              "// Listen for the removal of the full notebook cells\n",
              "var notebookContainer = gd.closest('#notebook-container');\n",
              "if (notebookContainer) {{\n",
              "    x.observe(notebookContainer, {childList: true});\n",
              "}}\n",
              "\n",
              "// Listen for the clearing of the current output cell\n",
              "var outputEl = gd.closest('.output');\n",
              "if (outputEl) {{\n",
              "    x.observe(outputEl, {childList: true});\n",
              "}}\n",
              "\n",
              "                        })\n",
              "                };\n",
              "                \n",
              "            </script>\n",
              "        </div>\n",
              "</body>\n",
              "</html>"
            ]
          },
          "metadata": {
            "tags": []
          }
        }
      ]
    },
    {
      "cell_type": "code",
      "metadata": {
        "id": "-1Gzf5ewPSjz",
        "colab_type": "code",
        "outputId": "2145a46e-2bf4-44cc-c97f-2ecae1329461",
        "colab": {
          "base_uri": "https://localhost:8080/",
          "height": 542
        }
      },
      "source": [
        "# initialize classifiers\n",
        "classifiers = {\n",
        "    f'ridge_alpha={0.1}': Ridge(alpha=0.1, normalize=True),\n",
        "    f'lasso_alpha={1}': Lasso(alpha=1, normalize=True),\n",
        "    'linear_reg': LinearRegression()\n",
        "}\n",
        "\n",
        "results = []\n",
        "\n",
        "# train classifiers and predict both train/test data sets\n",
        "for clf_name, clf in classifiers.items():\n",
        "    clf.fit(X_train, Y_train)\n",
        "    results.append({\n",
        "        'name': clf_name,\n",
        "        'train_score': clf.score(X_train, Y_train),\n",
        "        'test_score':  clf.score(X_test, Y_test)\n",
        "    })\n",
        "\n",
        "results = pd.DataFrame(results)\n",
        "\n",
        "# ploting power !\n",
        "fig = go.Figure(\n",
        "    data=[\n",
        "        # train scores\n",
        "        go.Bar(\n",
        "            x=results['name'],\n",
        "            y=results['train_score'],\n",
        "            name='Train score',\n",
        "            text=round(results['train_score'], 5),\n",
        "            textposition='auto'\n",
        "        ),\n",
        "        # test scores\n",
        "        go.Bar(\n",
        "            x=results['name'],\n",
        "            y=results['test_score'],\n",
        "            name='Test score',\n",
        "            text=round(results['test_score'], 5),\n",
        "            textposition='auto'\n",
        "        ),\n",
        "    ],\n",
        "    layout={\n",
        "        'legend': {\n",
        "            'orientation': 'h'\n",
        "        }\n",
        "    }\n",
        ")\n",
        "fig.show()"
      ],
      "execution_count": 0,
      "outputs": [
        {
          "output_type": "display_data",
          "data": {
            "text/html": [
              "<html>\n",
              "<head><meta charset=\"utf-8\" /></head>\n",
              "<body>\n",
              "    <div>\n",
              "            <script src=\"https://cdnjs.cloudflare.com/ajax/libs/mathjax/2.7.5/MathJax.js?config=TeX-AMS-MML_SVG\"></script><script type=\"text/javascript\">if (window.MathJax) {MathJax.Hub.Config({SVG: {font: \"STIX-Web\"}});}</script>\n",
              "                <script type=\"text/javascript\">window.PlotlyConfig = {MathJaxConfig: 'local'};</script>\n",
              "        <script src=\"https://cdn.plot.ly/plotly-latest.min.js\"></script>    \n",
              "            <div id=\"5edbbc4e-533c-419e-859f-d2bbb079c452\" class=\"plotly-graph-div\" style=\"height:525px; width:100%;\"></div>\n",
              "            <script type=\"text/javascript\">\n",
              "                \n",
              "                    window.PLOTLYENV=window.PLOTLYENV || {};\n",
              "                    \n",
              "                if (document.getElementById(\"5edbbc4e-533c-419e-859f-d2bbb079c452\")) {\n",
              "                    Plotly.newPlot(\n",
              "                        '5edbbc4e-533c-419e-859f-d2bbb079c452',\n",
              "                        [{\"name\": \"Train score\", \"text\": [0.51564, 0.51632, 0.51764], \"textposition\": \"auto\", \"type\": \"bar\", \"x\": [\"ridge_alpha=0.1\", \"lasso_alpha=1\", \"linear_reg\"], \"y\": [0.5156392686704425, 0.5163227510021237, 0.517644587434399]}, {\"name\": \"Test score\", \"text\": [0.54255, 0.54426, 0.55186], \"textposition\": \"auto\", \"type\": \"bar\", \"x\": [\"ridge_alpha=0.1\", \"lasso_alpha=1\", \"linear_reg\"], \"y\": [0.5425486912971617, 0.5442572594181369, 0.5518626278474863]}],\n",
              "                        {\"legend\": {\"orientation\": \"h\"}, \"template\": {\"data\": {\"bar\": [{\"error_x\": {\"color\": \"#2a3f5f\"}, \"error_y\": {\"color\": \"#2a3f5f\"}, \"marker\": {\"line\": {\"color\": \"#E5ECF6\", \"width\": 0.5}}, \"type\": \"bar\"}], \"barpolar\": [{\"marker\": {\"line\": {\"color\": \"#E5ECF6\", \"width\": 0.5}}, \"type\": \"barpolar\"}], \"carpet\": [{\"aaxis\": {\"endlinecolor\": \"#2a3f5f\", \"gridcolor\": \"white\", \"linecolor\": \"white\", \"minorgridcolor\": \"white\", \"startlinecolor\": \"#2a3f5f\"}, \"baxis\": {\"endlinecolor\": \"#2a3f5f\", \"gridcolor\": \"white\", \"linecolor\": \"white\", \"minorgridcolor\": \"white\", \"startlinecolor\": \"#2a3f5f\"}, \"type\": \"carpet\"}], \"choropleth\": [{\"colorbar\": {\"outlinewidth\": 0, \"ticks\": \"\"}, \"type\": \"choropleth\"}], \"contour\": [{\"colorbar\": {\"outlinewidth\": 0, \"ticks\": \"\"}, \"colorscale\": [[0.0, \"#0d0887\"], [0.1111111111111111, \"#46039f\"], [0.2222222222222222, \"#7201a8\"], [0.3333333333333333, \"#9c179e\"], [0.4444444444444444, \"#bd3786\"], [0.5555555555555556, \"#d8576b\"], [0.6666666666666666, \"#ed7953\"], [0.7777777777777778, \"#fb9f3a\"], [0.8888888888888888, \"#fdca26\"], [1.0, \"#f0f921\"]], \"type\": \"contour\"}], \"contourcarpet\": [{\"colorbar\": {\"outlinewidth\": 0, \"ticks\": \"\"}, \"type\": \"contourcarpet\"}], \"heatmap\": [{\"colorbar\": {\"outlinewidth\": 0, \"ticks\": \"\"}, \"colorscale\": [[0.0, \"#0d0887\"], [0.1111111111111111, \"#46039f\"], [0.2222222222222222, \"#7201a8\"], [0.3333333333333333, \"#9c179e\"], [0.4444444444444444, \"#bd3786\"], [0.5555555555555556, \"#d8576b\"], [0.6666666666666666, \"#ed7953\"], [0.7777777777777778, \"#fb9f3a\"], [0.8888888888888888, \"#fdca26\"], [1.0, \"#f0f921\"]], \"type\": \"heatmap\"}], \"heatmapgl\": [{\"colorbar\": {\"outlinewidth\": 0, \"ticks\": \"\"}, \"colorscale\": [[0.0, \"#0d0887\"], [0.1111111111111111, \"#46039f\"], [0.2222222222222222, \"#7201a8\"], [0.3333333333333333, \"#9c179e\"], [0.4444444444444444, \"#bd3786\"], [0.5555555555555556, \"#d8576b\"], [0.6666666666666666, \"#ed7953\"], [0.7777777777777778, \"#fb9f3a\"], [0.8888888888888888, \"#fdca26\"], [1.0, \"#f0f921\"]], \"type\": \"heatmapgl\"}], \"histogram\": [{\"marker\": {\"colorbar\": {\"outlinewidth\": 0, \"ticks\": \"\"}}, \"type\": \"histogram\"}], \"histogram2d\": [{\"colorbar\": {\"outlinewidth\": 0, \"ticks\": \"\"}, \"colorscale\": [[0.0, \"#0d0887\"], [0.1111111111111111, \"#46039f\"], [0.2222222222222222, \"#7201a8\"], [0.3333333333333333, \"#9c179e\"], [0.4444444444444444, \"#bd3786\"], [0.5555555555555556, \"#d8576b\"], [0.6666666666666666, \"#ed7953\"], [0.7777777777777778, \"#fb9f3a\"], [0.8888888888888888, \"#fdca26\"], [1.0, \"#f0f921\"]], \"type\": \"histogram2d\"}], \"histogram2dcontour\": [{\"colorbar\": {\"outlinewidth\": 0, \"ticks\": \"\"}, \"colorscale\": [[0.0, \"#0d0887\"], [0.1111111111111111, \"#46039f\"], [0.2222222222222222, \"#7201a8\"], [0.3333333333333333, \"#9c179e\"], [0.4444444444444444, \"#bd3786\"], [0.5555555555555556, \"#d8576b\"], [0.6666666666666666, \"#ed7953\"], [0.7777777777777778, \"#fb9f3a\"], [0.8888888888888888, \"#fdca26\"], [1.0, \"#f0f921\"]], \"type\": \"histogram2dcontour\"}], \"mesh3d\": [{\"colorbar\": {\"outlinewidth\": 0, \"ticks\": \"\"}, \"type\": \"mesh3d\"}], \"parcoords\": [{\"line\": {\"colorbar\": {\"outlinewidth\": 0, \"ticks\": \"\"}}, \"type\": \"parcoords\"}], \"scatter\": [{\"marker\": {\"colorbar\": {\"outlinewidth\": 0, \"ticks\": \"\"}}, \"type\": \"scatter\"}], \"scatter3d\": [{\"line\": {\"colorbar\": {\"outlinewidth\": 0, \"ticks\": \"\"}}, \"marker\": {\"colorbar\": {\"outlinewidth\": 0, \"ticks\": \"\"}}, \"type\": \"scatter3d\"}], \"scattercarpet\": [{\"marker\": {\"colorbar\": {\"outlinewidth\": 0, \"ticks\": \"\"}}, \"type\": \"scattercarpet\"}], \"scattergeo\": [{\"marker\": {\"colorbar\": {\"outlinewidth\": 0, \"ticks\": \"\"}}, \"type\": \"scattergeo\"}], \"scattergl\": [{\"marker\": {\"colorbar\": {\"outlinewidth\": 0, \"ticks\": \"\"}}, \"type\": \"scattergl\"}], \"scattermapbox\": [{\"marker\": {\"colorbar\": {\"outlinewidth\": 0, \"ticks\": \"\"}}, \"type\": \"scattermapbox\"}], \"scatterpolar\": [{\"marker\": {\"colorbar\": {\"outlinewidth\": 0, \"ticks\": \"\"}}, \"type\": \"scatterpolar\"}], \"scatterpolargl\": [{\"marker\": {\"colorbar\": {\"outlinewidth\": 0, \"ticks\": \"\"}}, \"type\": \"scatterpolargl\"}], \"scatterternary\": [{\"marker\": {\"colorbar\": {\"outlinewidth\": 0, \"ticks\": \"\"}}, \"type\": \"scatterternary\"}], \"surface\": [{\"colorbar\": {\"outlinewidth\": 0, \"ticks\": \"\"}, \"colorscale\": [[0.0, \"#0d0887\"], [0.1111111111111111, \"#46039f\"], [0.2222222222222222, \"#7201a8\"], [0.3333333333333333, \"#9c179e\"], [0.4444444444444444, \"#bd3786\"], [0.5555555555555556, \"#d8576b\"], [0.6666666666666666, \"#ed7953\"], [0.7777777777777778, \"#fb9f3a\"], [0.8888888888888888, \"#fdca26\"], [1.0, \"#f0f921\"]], \"type\": \"surface\"}], \"table\": [{\"cells\": {\"fill\": {\"color\": \"#EBF0F8\"}, \"line\": {\"color\": \"white\"}}, \"header\": {\"fill\": {\"color\": \"#C8D4E3\"}, \"line\": {\"color\": \"white\"}}, \"type\": \"table\"}]}, \"layout\": {\"annotationdefaults\": {\"arrowcolor\": \"#2a3f5f\", \"arrowhead\": 0, \"arrowwidth\": 1}, \"colorscale\": {\"diverging\": [[0, \"#8e0152\"], [0.1, \"#c51b7d\"], [0.2, \"#de77ae\"], [0.3, \"#f1b6da\"], [0.4, \"#fde0ef\"], [0.5, \"#f7f7f7\"], [0.6, \"#e6f5d0\"], [0.7, \"#b8e186\"], [0.8, \"#7fbc41\"], [0.9, \"#4d9221\"], [1, \"#276419\"]], \"sequential\": [[0.0, \"#0d0887\"], [0.1111111111111111, \"#46039f\"], [0.2222222222222222, \"#7201a8\"], [0.3333333333333333, \"#9c179e\"], [0.4444444444444444, \"#bd3786\"], [0.5555555555555556, \"#d8576b\"], [0.6666666666666666, \"#ed7953\"], [0.7777777777777778, \"#fb9f3a\"], [0.8888888888888888, \"#fdca26\"], [1.0, \"#f0f921\"]], \"sequentialminus\": [[0.0, \"#0d0887\"], [0.1111111111111111, \"#46039f\"], [0.2222222222222222, \"#7201a8\"], [0.3333333333333333, \"#9c179e\"], [0.4444444444444444, \"#bd3786\"], [0.5555555555555556, \"#d8576b\"], [0.6666666666666666, \"#ed7953\"], [0.7777777777777778, \"#fb9f3a\"], [0.8888888888888888, \"#fdca26\"], [1.0, \"#f0f921\"]]}, \"colorway\": [\"#636efa\", \"#EF553B\", \"#00cc96\", \"#ab63fa\", \"#FFA15A\", \"#19d3f3\", \"#FF6692\", \"#B6E880\", \"#FF97FF\", \"#FECB52\"], \"font\": {\"color\": \"#2a3f5f\"}, \"geo\": {\"bgcolor\": \"white\", \"lakecolor\": \"white\", \"landcolor\": \"#E5ECF6\", \"showlakes\": true, \"showland\": true, \"subunitcolor\": \"white\"}, \"hoverlabel\": {\"align\": \"left\"}, \"hovermode\": \"closest\", \"mapbox\": {\"style\": \"light\"}, \"paper_bgcolor\": \"white\", \"plot_bgcolor\": \"#E5ECF6\", \"polar\": {\"angularaxis\": {\"gridcolor\": \"white\", \"linecolor\": \"white\", \"ticks\": \"\"}, \"bgcolor\": \"#E5ECF6\", \"radialaxis\": {\"gridcolor\": \"white\", \"linecolor\": \"white\", \"ticks\": \"\"}}, \"scene\": {\"xaxis\": {\"backgroundcolor\": \"#E5ECF6\", \"gridcolor\": \"white\", \"gridwidth\": 2, \"linecolor\": \"white\", \"showbackground\": true, \"ticks\": \"\", \"zerolinecolor\": \"white\"}, \"yaxis\": {\"backgroundcolor\": \"#E5ECF6\", \"gridcolor\": \"white\", \"gridwidth\": 2, \"linecolor\": \"white\", \"showbackground\": true, \"ticks\": \"\", \"zerolinecolor\": \"white\"}, \"zaxis\": {\"backgroundcolor\": \"#E5ECF6\", \"gridcolor\": \"white\", \"gridwidth\": 2, \"linecolor\": \"white\", \"showbackground\": true, \"ticks\": \"\", \"zerolinecolor\": \"white\"}}, \"shapedefaults\": {\"line\": {\"color\": \"#2a3f5f\"}}, \"ternary\": {\"aaxis\": {\"gridcolor\": \"white\", \"linecolor\": \"white\", \"ticks\": \"\"}, \"baxis\": {\"gridcolor\": \"white\", \"linecolor\": \"white\", \"ticks\": \"\"}, \"bgcolor\": \"#E5ECF6\", \"caxis\": {\"gridcolor\": \"white\", \"linecolor\": \"white\", \"ticks\": \"\"}}, \"title\": {\"x\": 0.05}, \"xaxis\": {\"automargin\": true, \"gridcolor\": \"white\", \"linecolor\": \"white\", \"ticks\": \"\", \"zerolinecolor\": \"white\", \"zerolinewidth\": 2}, \"yaxis\": {\"automargin\": true, \"gridcolor\": \"white\", \"linecolor\": \"white\", \"ticks\": \"\", \"zerolinecolor\": \"white\", \"zerolinewidth\": 2}}}},\n",
              "                        {\"responsive\": true}\n",
              "                    ).then(function(){\n",
              "                            \n",
              "var gd = document.getElementById('5edbbc4e-533c-419e-859f-d2bbb079c452');\n",
              "var x = new MutationObserver(function (mutations, observer) {{\n",
              "        var display = window.getComputedStyle(gd).display;\n",
              "        if (!display || display === 'none') {{\n",
              "            console.log([gd, 'removed!']);\n",
              "            Plotly.purge(gd);\n",
              "            observer.disconnect();\n",
              "        }}\n",
              "}});\n",
              "\n",
              "// Listen for the removal of the full notebook cells\n",
              "var notebookContainer = gd.closest('#notebook-container');\n",
              "if (notebookContainer) {{\n",
              "    x.observe(notebookContainer, {childList: true});\n",
              "}}\n",
              "\n",
              "// Listen for the clearing of the current output cell\n",
              "var outputEl = gd.closest('.output');\n",
              "if (outputEl) {{\n",
              "    x.observe(outputEl, {childList: true});\n",
              "}}\n",
              "\n",
              "                        })\n",
              "                };\n",
              "                \n",
              "            </script>\n",
              "        </div>\n",
              "</body>\n",
              "</html>"
            ]
          },
          "metadata": {
            "tags": []
          }
        }
      ]
    },
    {
      "cell_type": "markdown",
      "metadata": {
        "id": "VdFTzkxSNBdA",
        "colab_type": "text"
      },
      "source": [
        "# **Conclusions de la partie 2**\n",
        "\n",
        "* il est particulièrement difficile de tirer des conclusions des expérimentations ci-dessus\n",
        "\n",
        "* on ne voit pas particulièrement de différences entre les 3 modèles, si ce n'est que la paramètre de régularisation $ \\alpha $ du Lasso est toujours optimal autour de 1 - ce qui en soit n'est pas une généralité mais une spécifité du dataset étudié\n",
        "\n",
        "* il peut être intéressant de modifier l'étude pour comparer l'écart-type des prédictions des modèles. Normalement, pour un paramètre $ \\alpha $ optimal, les régularisations doivent offrir de meilleures performances en généralisation que la régression linéaire non régularisée. Ce qui peut ne pas être le cas pour tous les datasets."
      ]
    },
    {
      "cell_type": "code",
      "metadata": {
        "id": "JhMljG9BSyO8",
        "colab_type": "code",
        "colab": {}
      },
      "source": [
        "# TODOS\n",
        "# ---\n",
        "# 1) normaliser les données\n",
        "# from sklearn.preprocessing import StandardScaler, scale\n",
        "# 2) modifier la méthode de gridsearch pour jouer sur la séparation train/test\n",
        "# https://stackabuse.com/cross-validation-and-grid-search-for-model-selection-in-python/\n",
        "# 3) aller plus en profondeur dans l'étude des régularisations"
      ],
      "execution_count": 0,
      "outputs": []
    }
  ]
}