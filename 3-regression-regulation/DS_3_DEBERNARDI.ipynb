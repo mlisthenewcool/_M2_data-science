{
  "nbformat": 4,
  "nbformat_minor": 0,
  "metadata": {
    "colab": {
      "name": "DS_3_DEBERNARDI.ipynb",
      "provenance": [],
      "collapsed_sections": []
    },
    "kernelspec": {
      "name": "python3",
      "language": "python",
      "display_name": "Python 3"
    },
    "pycharm": {
      "stem_cell": {
        "cell_type": "raw",
        "source": [],
        "metadata": {
          "collapsed": false
        }
      }
    }
  },
  "cells": [
    {
      "cell_type": "code",
      "metadata": {
        "id": "ZMmeYQnjc2Sg",
        "colab_type": "code",
        "pycharm": {
          "is_executing": false
        },
        "colab": {}
      },
      "source": [
        "import numpy as np\n",
        "import pandas as pd\n",
        "import plotly.graph_objects as go\n",
        "\n",
        "from sklearn.linear_model import Ridge, Lasso, ElasticNet, LinearRegression\n",
        "from sklearn.model_selection import train_test_split, GridSearchCV\n",
        "from sklearn.datasets import load_boston"
      ],
      "execution_count": 0,
      "outputs": []
    },
    {
      "cell_type": "code",
      "metadata": {
        "id": "MNLJQvjJvlu3",
        "colab_type": "code",
        "colab": {}
      },
      "source": [
        "# adapted code from\n",
        "# http://www.davidsbatista.net/blog/2018/02/23/model_optimization/\n",
        "\n",
        "class EstimatorSelectionHelper:\n",
        "    def __init__(self, models, params):\n",
        "        if not set(models.keys()).issubset(set(params.keys())):\n",
        "            missing_params = list(set(models.keys()) - set(params.keys()))\n",
        "            raise ValueError(\n",
        "                f'Some estimators are missing parameters: {missing_params}')\n",
        "        self.models = models\n",
        "        self.params = params\n",
        "        self.keys = models.keys()\n",
        "        self.grid_searches = {}\n",
        "\n",
        "    def fit(self, X, y, cv=3, n_jobs=3, verbose=1, scoring=None, refit=False):\n",
        "        for key in self.keys:\n",
        "            print(f'Running GridSearchCV for {key}')\n",
        "            model = self.models[key]\n",
        "            params = self.params[key]\n",
        "            gs = GridSearchCV(model, params, cv=cv, n_jobs=n_jobs,\n",
        "                              verbose=verbose, scoring=scoring, refit=refit,\n",
        "                              return_train_score=True)\n",
        "            gs.fit(X, y)\n",
        "            self.grid_searches[key] = gs\n",
        "\n",
        "    def score_summary(self, sort_by='mean_score',\n",
        "                      num_rows_per_estimator=None,\n",
        "                      score_precision=5):\n",
        "        def row(key, scores, params):\n",
        "            d = {\n",
        "                 'estimator': key,\n",
        "                 'mean_score': round(np.mean(scores), score_precision),\n",
        "                 'std_score': round(np.std(scores), score_precision),\n",
        "                 'min_score': round(min(scores), score_precision),\n",
        "                 'max_score': round(max(scores), score_precision),\n",
        "            }\n",
        "            return pd.Series({**params, **d})\n",
        "\n",
        "        rows = []\n",
        "        for k in self.grid_searches:\n",
        "            params = self.grid_searches[k].cv_results_['params']\n",
        "            scores = []\n",
        "            for i in range(self.grid_searches[k].cv):\n",
        "                key = \"split{}_test_score\".format(i)\n",
        "                r = self.grid_searches[k].cv_results_[key]\n",
        "                scores.append(r.reshape(len(params), 1))\n",
        "\n",
        "            all_scores = np.hstack(scores)\n",
        "            for p, s in zip(params, all_scores):\n",
        "                rows.append((row(k, s, p)))\n",
        "\n",
        "        df = pd.concat(rows, axis=1).T.sort_values([sort_by], ascending=False)\n",
        "\n",
        "        columns = ['estimator', 'mean_score', 'std_score',\n",
        "                   'min_score', 'max_score']\n",
        "        columns = columns + [c for c in df.columns if c not in columns]\n",
        "\n",
        "        if num_rows_per_estimator:\n",
        "            df = df.groupby('estimator')\n",
        "            df = df.head(num_rows_per_estimator)\n",
        "\n",
        "        return df[columns]"
      ],
      "execution_count": 0,
      "outputs": []
    },
    {
      "cell_type": "markdown",
      "metadata": {
        "collapsed": false,
        "pycharm": {
          "name": "#%% md\n"
        },
        "id": "pttLcfOERWH7",
        "colab_type": "text"
      },
      "source": [
        "# Minimisation du risque empirique régularisé\n",
        "\n",
        "On s'intéresse aux algorithmes d'apprentissage basés sur la minimisation du\n",
        "risque empirique régularisé\n",
        "\n",
        "$$\\min_f \\sum_i \\ell(y_i ,f(x_i)) + \\alpha \\Omega(f) $$"
      ]
    },
    {
      "cell_type": "markdown",
      "metadata": {
        "id": "WJNXNIC-Y6Q2",
        "colab_type": "text"
      },
      "source": [
        "# Jeu de données Concrete"
      ]
    },
    {
      "cell_type": "code",
      "metadata": {
        "id": "h3UcNc2lXZUv",
        "colab_type": "code",
        "outputId": "469d6827-3ef2-431a-a80a-9868a14fce32",
        "colab": {
          "base_uri": "https://localhost:8080/",
          "height": 224
        }
      },
      "source": [
        "# download dataset\n",
        "! wget https://archive.ics.uci.edu/ml/machine-learning-databases/concrete/compressive/Concrete_Data.xls\n",
        "df = pd.read_excel('Concrete_Data.xls')\n",
        "\n",
        "# clean column names\n",
        "df.columns = ['cement', 'slag', 'ash', 'water', 'superplasticizer',\n",
        "              'coarse', 'aggregate', 'age', 'strength']\n",
        "\n",
        "# get data and target\n",
        "target = 'strength'\n",
        "Y = df[target]\n",
        "X = df.drop(columns=[target], axis=1)\n",
        "\n",
        "# split into train/test\n",
        "ratio, seed = 0.2, 42\n",
        "X_train, X_test, Y_train, Y_test = train_test_split(X, Y,\n",
        "                                                    test_size=ratio,\n",
        "                                                    random_state=seed)"
      ],
      "execution_count": 0,
      "outputs": [
        {
          "output_type": "stream",
          "text": [
            "--2019-11-02 09:43:24--  https://archive.ics.uci.edu/ml/machine-learning-databases/concrete/compressive/Concrete_Data.xls\n",
            "Resolving archive.ics.uci.edu (archive.ics.uci.edu)... 128.195.10.252\n",
            "Connecting to archive.ics.uci.edu (archive.ics.uci.edu)|128.195.10.252|:443... connected.\n",
            "HTTP request sent, awaiting response... 200 OK\n",
            "Length: 124928 (122K) [application/x-httpd-php]\n",
            "Saving to: ‘Concrete_Data.xls’\n",
            "\n",
            "Concrete_Data.xls   100%[===================>] 122.00K   290KB/s    in 0.4s    \n",
            "\n",
            "2019-11-02 09:43:25 (290 KB/s) - ‘Concrete_Data.xls’ saved [124928/124928]\n",
            "\n"
          ],
          "name": "stdout"
        }
      ]
    },
    {
      "cell_type": "markdown",
      "metadata": {
        "id": "NPlZUTi8boEs",
        "colab_type": "text"
      },
      "source": [
        "## Les régularisations étudiées\n",
        "\n",
        "* $\\ell(y_i,f(x_i)) = (y_i - \\beta^T x_i)^2$\n",
        "\n",
        "### Régression ridge\n",
        "\n",
        "* $\\Omega(f) = \\|\\beta\\|_2^2$ (norme $L_2$)\n",
        "\n",
        "### Régression Lasso\n",
        "\n",
        "* $\\Omega(f) = \\|\\beta\\|_1$ (norme $L_1$)\n",
        "\n",
        "### Régression ElasticNet\n",
        "\n",
        "* combine une régularization $L_1$ et une régularization $L_2$\n",
        "* coefficients de régularisation $\\alpha$ $(L_2)$ et $\\rho$ $(L_1)$\n",
        "* $\\Omega(f) = \\alpha \\rho \\|\\beta\\|_1 + \\frac{\\alpha(1-\\rho)}{2}\\|\\beta\\|_2$"
      ]
    },
    {
      "cell_type": "code",
      "metadata": {
        "id": "k3aIUbbrag63",
        "colab_type": "code",
        "colab": {}
      },
      "source": [
        "alpha = 5\n",
        "l1_ratio = 0.5\n",
        "\n",
        "# initialize classifiers\n",
        "classifiers = {\n",
        "    'Ridge': Ridge(alpha=alpha),\n",
        "    'Lasso': Lasso(alpha=alpha),\n",
        "    'ElasticNet': ElasticNet(alpha=alpha, l1_ratio=l1_ratio),\n",
        "    'LinearRegression': LinearRegression()\n",
        "}\n",
        "\n",
        "results = []\n",
        "\n",
        "# train classifiers while saving coefficients and scores\n",
        "for clf_name, clf in classifiers.items():\n",
        "    clf.fit(X_train, Y_train)\n",
        "    results.append({\n",
        "        'name': clf_name,\n",
        "        'coefficients': clf.coef_,\n",
        "        'train_score': clf.score(X_train, Y_train),\n",
        "        'test_score': clf.score(X_test, Y_test)\n",
        "    })"
      ],
      "execution_count": 0,
      "outputs": []
    },
    {
      "cell_type": "code",
      "metadata": {
        "id": "H5yepNJRbebp",
        "colab_type": "code",
        "outputId": "d7f2729d-cb8d-4b28-a533-4653da3dcb55",
        "colab": {
          "base_uri": "https://localhost:8080/",
          "height": 542
        }
      },
      "source": [
        "# ploting power !\n",
        "traces = []\n",
        "\n",
        "for result in results:\n",
        "    traces.append(\n",
        "        go.Bar(\n",
        "            x=X.columns,\n",
        "            y=result['coefficients'],\n",
        "            name=f\"Coefficients {result['name']}\",\n",
        "            text=result['coefficients'].round(3),\n",
        "            textposition='auto'\n",
        "        )\n",
        "    )\n",
        "\n",
        "fig = go.Figure(\n",
        "    data=traces,\n",
        "    layout={\n",
        "        'legend': {\n",
        "            'orientation': 'h'\n",
        "        }\n",
        "    }\n",
        ")\n",
        "fig.show()"
      ],
      "execution_count": 0,
      "outputs": [
        {
          "output_type": "display_data",
          "data": {
            "text/html": [
              "<html>\n",
              "<head><meta charset=\"utf-8\" /></head>\n",
              "<body>\n",
              "    <div>\n",
              "            <script src=\"https://cdnjs.cloudflare.com/ajax/libs/mathjax/2.7.5/MathJax.js?config=TeX-AMS-MML_SVG\"></script><script type=\"text/javascript\">if (window.MathJax) {MathJax.Hub.Config({SVG: {font: \"STIX-Web\"}});}</script>\n",
              "                <script type=\"text/javascript\">window.PlotlyConfig = {MathJaxConfig: 'local'};</script>\n",
              "        <script src=\"https://cdn.plot.ly/plotly-latest.min.js\"></script>    \n",
              "            <div id=\"5c58fb4a-cb80-4556-a48d-ae5bdd2c38f1\" class=\"plotly-graph-div\" style=\"height:525px; width:100%;\"></div>\n",
              "            <script type=\"text/javascript\">\n",
              "                \n",
              "                    window.PLOTLYENV=window.PLOTLYENV || {};\n",
              "                    \n",
              "                if (document.getElementById(\"5c58fb4a-cb80-4556-a48d-ae5bdd2c38f1\")) {\n",
              "                    Plotly.newPlot(\n",
              "                        '5c58fb4a-cb80-4556-a48d-ae5bdd2c38f1',\n",
              "                        [{\"name\": \"Coefficients Ridge\", \"text\": [0.119, 0.109, 0.082, -0.136, 0.309, 0.018, 0.024, 0.116], \"textposition\": \"auto\", \"type\": \"bar\", \"x\": [\"cement\", \"slag\", \"ash\", \"water\", \"superplasticizer\", \"coarse\", \"aggregate\", \"age\"], \"y\": [0.11897530358150538, 0.1085179048837076, 0.08217111520805634, -0.13573869610587108, 0.3085968483451591, 0.017800032380157284, 0.02405912185305336, 0.11644434734073343]}, {\"name\": \"Coefficients Lasso\", \"text\": [0.112, 0.099, 0.077, -0.215, 0.0, 0.0, 0.011, 0.114], \"textposition\": \"auto\", \"type\": \"bar\", \"x\": [\"cement\", \"slag\", \"ash\", \"water\", \"superplasticizer\", \"coarse\", \"aggregate\", \"age\"], \"y\": [0.11192018745140696, 0.09935392511901335, 0.07696280307433505, -0.2151693044115715, 0.0, 0.0004595999250282935, 0.010884865670644199, 0.11387722734170493]}, {\"name\": \"Coefficients ElasticNet\", \"text\": [0.116, 0.104, 0.08, -0.179, 0.128, 0.009, 0.018, 0.115], \"textposition\": \"auto\", \"type\": \"bar\", \"x\": [\"cement\", \"slag\", \"ash\", \"water\", \"superplasticizer\", \"coarse\", \"aggregate\", \"age\"], \"y\": [0.11577532405451292, 0.10428538089804579, 0.08048972443180542, -0.1786367652593926, 0.1284425501092247, 0.008629043572652434, 0.017540761434774156, 0.11504780773060971]}, {\"name\": \"Coefficients LinearRegression\", \"text\": [0.119, 0.109, 0.082, -0.136, 0.309, 0.018, 0.024, 0.116], \"textposition\": \"auto\", \"type\": \"bar\", \"x\": [\"cement\", \"slag\", \"ash\", \"water\", \"superplasticizer\", \"coarse\", \"aggregate\", \"age\"], \"y\": [0.11897516445750159, 0.10851780951927971, 0.08216853987916625, -0.13571192439529353, 0.30873202075694933, 0.017804362512522535, 0.02406104099649023, 0.11644447612908496]}],\n",
              "                        {\"legend\": {\"orientation\": \"h\"}, \"template\": {\"data\": {\"bar\": [{\"error_x\": {\"color\": \"#2a3f5f\"}, \"error_y\": {\"color\": \"#2a3f5f\"}, \"marker\": {\"line\": {\"color\": \"#E5ECF6\", \"width\": 0.5}}, \"type\": \"bar\"}], \"barpolar\": [{\"marker\": {\"line\": {\"color\": \"#E5ECF6\", \"width\": 0.5}}, \"type\": \"barpolar\"}], \"carpet\": [{\"aaxis\": {\"endlinecolor\": \"#2a3f5f\", \"gridcolor\": \"white\", \"linecolor\": \"white\", \"minorgridcolor\": \"white\", \"startlinecolor\": \"#2a3f5f\"}, \"baxis\": {\"endlinecolor\": \"#2a3f5f\", \"gridcolor\": \"white\", \"linecolor\": \"white\", \"minorgridcolor\": \"white\", \"startlinecolor\": \"#2a3f5f\"}, \"type\": \"carpet\"}], \"choropleth\": [{\"colorbar\": {\"outlinewidth\": 0, \"ticks\": \"\"}, \"type\": \"choropleth\"}], \"contour\": [{\"colorbar\": {\"outlinewidth\": 0, \"ticks\": \"\"}, \"colorscale\": [[0.0, \"#0d0887\"], [0.1111111111111111, \"#46039f\"], [0.2222222222222222, \"#7201a8\"], [0.3333333333333333, \"#9c179e\"], [0.4444444444444444, \"#bd3786\"], [0.5555555555555556, \"#d8576b\"], [0.6666666666666666, \"#ed7953\"], [0.7777777777777778, \"#fb9f3a\"], [0.8888888888888888, \"#fdca26\"], [1.0, \"#f0f921\"]], \"type\": \"contour\"}], \"contourcarpet\": [{\"colorbar\": {\"outlinewidth\": 0, \"ticks\": \"\"}, \"type\": \"contourcarpet\"}], \"heatmap\": [{\"colorbar\": {\"outlinewidth\": 0, \"ticks\": \"\"}, \"colorscale\": [[0.0, \"#0d0887\"], [0.1111111111111111, \"#46039f\"], [0.2222222222222222, \"#7201a8\"], [0.3333333333333333, \"#9c179e\"], [0.4444444444444444, \"#bd3786\"], [0.5555555555555556, \"#d8576b\"], [0.6666666666666666, \"#ed7953\"], [0.7777777777777778, \"#fb9f3a\"], [0.8888888888888888, \"#fdca26\"], [1.0, \"#f0f921\"]], \"type\": \"heatmap\"}], \"heatmapgl\": [{\"colorbar\": {\"outlinewidth\": 0, \"ticks\": \"\"}, \"colorscale\": [[0.0, \"#0d0887\"], [0.1111111111111111, \"#46039f\"], [0.2222222222222222, \"#7201a8\"], [0.3333333333333333, \"#9c179e\"], [0.4444444444444444, \"#bd3786\"], [0.5555555555555556, \"#d8576b\"], [0.6666666666666666, \"#ed7953\"], [0.7777777777777778, \"#fb9f3a\"], [0.8888888888888888, \"#fdca26\"], [1.0, \"#f0f921\"]], \"type\": \"heatmapgl\"}], \"histogram\": [{\"marker\": {\"colorbar\": {\"outlinewidth\": 0, \"ticks\": \"\"}}, \"type\": \"histogram\"}], \"histogram2d\": [{\"colorbar\": {\"outlinewidth\": 0, \"ticks\": \"\"}, \"colorscale\": [[0.0, \"#0d0887\"], [0.1111111111111111, \"#46039f\"], [0.2222222222222222, \"#7201a8\"], [0.3333333333333333, \"#9c179e\"], [0.4444444444444444, \"#bd3786\"], [0.5555555555555556, \"#d8576b\"], [0.6666666666666666, \"#ed7953\"], [0.7777777777777778, \"#fb9f3a\"], [0.8888888888888888, \"#fdca26\"], [1.0, \"#f0f921\"]], \"type\": \"histogram2d\"}], \"histogram2dcontour\": [{\"colorbar\": {\"outlinewidth\": 0, \"ticks\": \"\"}, \"colorscale\": [[0.0, \"#0d0887\"], [0.1111111111111111, \"#46039f\"], [0.2222222222222222, \"#7201a8\"], [0.3333333333333333, \"#9c179e\"], [0.4444444444444444, \"#bd3786\"], [0.5555555555555556, \"#d8576b\"], [0.6666666666666666, \"#ed7953\"], [0.7777777777777778, \"#fb9f3a\"], [0.8888888888888888, \"#fdca26\"], [1.0, \"#f0f921\"]], \"type\": \"histogram2dcontour\"}], \"mesh3d\": [{\"colorbar\": {\"outlinewidth\": 0, \"ticks\": \"\"}, \"type\": \"mesh3d\"}], \"parcoords\": [{\"line\": {\"colorbar\": {\"outlinewidth\": 0, \"ticks\": \"\"}}, \"type\": \"parcoords\"}], \"scatter\": [{\"marker\": {\"colorbar\": {\"outlinewidth\": 0, \"ticks\": \"\"}}, \"type\": \"scatter\"}], \"scatter3d\": [{\"line\": {\"colorbar\": {\"outlinewidth\": 0, \"ticks\": \"\"}}, \"marker\": {\"colorbar\": {\"outlinewidth\": 0, \"ticks\": \"\"}}, \"type\": \"scatter3d\"}], \"scattercarpet\": [{\"marker\": {\"colorbar\": {\"outlinewidth\": 0, \"ticks\": \"\"}}, \"type\": \"scattercarpet\"}], \"scattergeo\": [{\"marker\": {\"colorbar\": {\"outlinewidth\": 0, \"ticks\": \"\"}}, \"type\": \"scattergeo\"}], \"scattergl\": [{\"marker\": {\"colorbar\": {\"outlinewidth\": 0, \"ticks\": \"\"}}, \"type\": \"scattergl\"}], \"scattermapbox\": [{\"marker\": {\"colorbar\": {\"outlinewidth\": 0, \"ticks\": \"\"}}, \"type\": \"scattermapbox\"}], \"scatterpolar\": [{\"marker\": {\"colorbar\": {\"outlinewidth\": 0, \"ticks\": \"\"}}, \"type\": \"scatterpolar\"}], \"scatterpolargl\": [{\"marker\": {\"colorbar\": {\"outlinewidth\": 0, \"ticks\": \"\"}}, \"type\": \"scatterpolargl\"}], \"scatterternary\": [{\"marker\": {\"colorbar\": {\"outlinewidth\": 0, \"ticks\": \"\"}}, \"type\": \"scatterternary\"}], \"surface\": [{\"colorbar\": {\"outlinewidth\": 0, \"ticks\": \"\"}, \"colorscale\": [[0.0, \"#0d0887\"], [0.1111111111111111, \"#46039f\"], [0.2222222222222222, \"#7201a8\"], [0.3333333333333333, \"#9c179e\"], [0.4444444444444444, \"#bd3786\"], [0.5555555555555556, \"#d8576b\"], [0.6666666666666666, \"#ed7953\"], [0.7777777777777778, \"#fb9f3a\"], [0.8888888888888888, \"#fdca26\"], [1.0, \"#f0f921\"]], \"type\": \"surface\"}], \"table\": [{\"cells\": {\"fill\": {\"color\": \"#EBF0F8\"}, \"line\": {\"color\": \"white\"}}, \"header\": {\"fill\": {\"color\": \"#C8D4E3\"}, \"line\": {\"color\": \"white\"}}, \"type\": \"table\"}]}, \"layout\": {\"annotationdefaults\": {\"arrowcolor\": \"#2a3f5f\", \"arrowhead\": 0, \"arrowwidth\": 1}, \"colorscale\": {\"diverging\": [[0, \"#8e0152\"], [0.1, \"#c51b7d\"], [0.2, \"#de77ae\"], [0.3, \"#f1b6da\"], [0.4, \"#fde0ef\"], [0.5, \"#f7f7f7\"], [0.6, \"#e6f5d0\"], [0.7, \"#b8e186\"], [0.8, \"#7fbc41\"], [0.9, \"#4d9221\"], [1, \"#276419\"]], \"sequential\": [[0.0, \"#0d0887\"], [0.1111111111111111, \"#46039f\"], [0.2222222222222222, \"#7201a8\"], [0.3333333333333333, \"#9c179e\"], [0.4444444444444444, \"#bd3786\"], [0.5555555555555556, \"#d8576b\"], [0.6666666666666666, \"#ed7953\"], [0.7777777777777778, \"#fb9f3a\"], [0.8888888888888888, \"#fdca26\"], [1.0, \"#f0f921\"]], \"sequentialminus\": [[0.0, \"#0d0887\"], [0.1111111111111111, \"#46039f\"], [0.2222222222222222, \"#7201a8\"], [0.3333333333333333, \"#9c179e\"], [0.4444444444444444, \"#bd3786\"], [0.5555555555555556, \"#d8576b\"], [0.6666666666666666, \"#ed7953\"], [0.7777777777777778, \"#fb9f3a\"], [0.8888888888888888, \"#fdca26\"], [1.0, \"#f0f921\"]]}, \"colorway\": [\"#636efa\", \"#EF553B\", \"#00cc96\", \"#ab63fa\", \"#FFA15A\", \"#19d3f3\", \"#FF6692\", \"#B6E880\", \"#FF97FF\", \"#FECB52\"], \"font\": {\"color\": \"#2a3f5f\"}, \"geo\": {\"bgcolor\": \"white\", \"lakecolor\": \"white\", \"landcolor\": \"#E5ECF6\", \"showlakes\": true, \"showland\": true, \"subunitcolor\": \"white\"}, \"hoverlabel\": {\"align\": \"left\"}, \"hovermode\": \"closest\", \"mapbox\": {\"style\": \"light\"}, \"paper_bgcolor\": \"white\", \"plot_bgcolor\": \"#E5ECF6\", \"polar\": {\"angularaxis\": {\"gridcolor\": \"white\", \"linecolor\": \"white\", \"ticks\": \"\"}, \"bgcolor\": \"#E5ECF6\", \"radialaxis\": {\"gridcolor\": \"white\", \"linecolor\": \"white\", \"ticks\": \"\"}}, \"scene\": {\"xaxis\": {\"backgroundcolor\": \"#E5ECF6\", \"gridcolor\": \"white\", \"gridwidth\": 2, \"linecolor\": \"white\", \"showbackground\": true, \"ticks\": \"\", \"zerolinecolor\": \"white\"}, \"yaxis\": {\"backgroundcolor\": \"#E5ECF6\", \"gridcolor\": \"white\", \"gridwidth\": 2, \"linecolor\": \"white\", \"showbackground\": true, \"ticks\": \"\", \"zerolinecolor\": \"white\"}, \"zaxis\": {\"backgroundcolor\": \"#E5ECF6\", \"gridcolor\": \"white\", \"gridwidth\": 2, \"linecolor\": \"white\", \"showbackground\": true, \"ticks\": \"\", \"zerolinecolor\": \"white\"}}, \"shapedefaults\": {\"line\": {\"color\": \"#2a3f5f\"}}, \"ternary\": {\"aaxis\": {\"gridcolor\": \"white\", \"linecolor\": \"white\", \"ticks\": \"\"}, \"baxis\": {\"gridcolor\": \"white\", \"linecolor\": \"white\", \"ticks\": \"\"}, \"bgcolor\": \"#E5ECF6\", \"caxis\": {\"gridcolor\": \"white\", \"linecolor\": \"white\", \"ticks\": \"\"}}, \"title\": {\"x\": 0.05}, \"xaxis\": {\"automargin\": true, \"gridcolor\": \"white\", \"linecolor\": \"white\", \"ticks\": \"\", \"zerolinecolor\": \"white\", \"zerolinewidth\": 2}, \"yaxis\": {\"automargin\": true, \"gridcolor\": \"white\", \"linecolor\": \"white\", \"ticks\": \"\", \"zerolinecolor\": \"white\", \"zerolinewidth\": 2}}}},\n",
              "                        {\"responsive\": true}\n",
              "                    ).then(function(){\n",
              "                            \n",
              "var gd = document.getElementById('5c58fb4a-cb80-4556-a48d-ae5bdd2c38f1');\n",
              "var x = new MutationObserver(function (mutations, observer) {{\n",
              "        var display = window.getComputedStyle(gd).display;\n",
              "        if (!display || display === 'none') {{\n",
              "            console.log([gd, 'removed!']);\n",
              "            Plotly.purge(gd);\n",
              "            observer.disconnect();\n",
              "        }}\n",
              "}});\n",
              "\n",
              "// Listen for the removal of the full notebook cells\n",
              "var notebookContainer = gd.closest('#notebook-container');\n",
              "if (notebookContainer) {{\n",
              "    x.observe(notebookContainer, {childList: true});\n",
              "}}\n",
              "\n",
              "// Listen for the clearing of the current output cell\n",
              "var outputEl = gd.closest('.output');\n",
              "if (outputEl) {{\n",
              "    x.observe(outputEl, {childList: true});\n",
              "}}\n",
              "\n",
              "                        })\n",
              "                };\n",
              "                \n",
              "            </script>\n",
              "        </div>\n",
              "</body>\n",
              "</html>"
            ]
          },
          "metadata": {
            "tags": []
          }
        }
      ]
    },
    {
      "cell_type": "markdown",
      "metadata": {
        "collapsed": false,
        "pycharm": {
          "name": "#%% md\n"
        },
        "id": "QW9vfoQRRWIS",
        "colab_type": "text"
      },
      "source": [
        "## Regardons un peu le dataset"
      ]
    },
    {
      "cell_type": "code",
      "metadata": {
        "pycharm": {
          "name": "#%%\n",
          "is_executing": false
        },
        "id": "g9uS_qeaRWIT",
        "colab_type": "code",
        "outputId": "2346a411-f3e9-4a7a-c3dc-2ffc07c580a8",
        "colab": {
          "base_uri": "https://localhost:8080/",
          "height": 542
        }
      },
      "source": [
        "traces = []\n",
        "\n",
        "for column in X.columns:\n",
        "    traces.append(dict(label=column, values=df[column]))\n",
        "\n",
        "fig = go.Figure(\n",
        "    data=[\n",
        "        go.Splom(\n",
        "            dimensions=traces,\n",
        "            showupperhalf=False\n",
        "        )\n",
        "    ]\n",
        ")\n",
        "fig.show()"
      ],
      "execution_count": 0,
      "outputs": [
        {
          "output_type": "display_data",
          "data": {
            "text/html": [
              "<html>\n",
              "<head><meta charset=\"utf-8\" /></head>\n",
              "<body>\n",
              "    <div>\n",
              "            <script src=\"https://cdnjs.cloudflare.com/ajax/libs/mathjax/2.7.5/MathJax.js?config=TeX-AMS-MML_SVG\"></script><script type=\"text/javascript\">if (window.MathJax) {MathJax.Hub.Config({SVG: {font: \"STIX-Web\"}});}</script>\n",
              "                <script type=\"text/javascript\">window.PlotlyConfig = {MathJaxConfig: 'local'};</script>\n",
              "        <script src=\"https://cdn.plot.ly/plotly-latest.min.js\"></script>    \n",
              "            <div id=\"ef94f10d-04b4-4738-a73b-e4165bc4e157\" class=\"plotly-graph-div\" style=\"height:525px; width:100%;\"></div>\n",
              "            <script type=\"text/javascript\">\n",
              "                \n",
              "                    window.PLOTLYENV=window.PLOTLYENV || {};\n",
              "                    \n",
              "                if (document.getElementById(\"ef94f10d-04b4-4738-a73b-e4165bc4e157\")) {\n",
              "                    Plotly.newPlot(\n",
              "                        'ef94f10d-04b4-4738-a73b-e4165bc4e157',\n",
              "                        [{\"dimensions\": [{\"label\": \"cement\", \"values\": [540.0, 540.0, 332.5, 332.5, 198.6, 266.0, 380.0, 380.0, 266.0, 475.0, 198.6, 198.6, 427.5, 190.0, 304.0, 380.0, 139.6, 342.0, 380.0, 475.0, 427.5, 139.6, 139.6, 139.6, 380.0, 380.0, 380.0, 342.0, 427.5, 475.0, 304.0, 266.0, 198.6, 475.0, 190.0, 237.5, 237.5, 332.5, 475.0, 237.5, 342.0, 427.5, 237.5, 380.0, 427.5, 427.5, 349.0, 380.0, 237.5, 380.0, 332.5, 190.0, 237.5, 304.0, 139.6, 198.6, 475.0, 198.6, 304.0, 332.5, 304.0, 266.0, 310.0, 190.0, 266.0, 342.0, 139.6, 332.5, 190.0, 485.0, 374.0, 313.3, 425.0, 425.0, 375.0, 475.0, 469.0, 425.0, 388.6, 531.3, 425.0, 318.8, 401.8, 362.6, 323.7, 379.5, 362.6, 286.3, 362.6, 439.0, 389.9, 362.6, 337.9, 374.0, 313.3, 425.0, 425.0, 375.0, 475.0, 469.0, 425.0, 388.6, 531.3, 425.0, 318.8, 401.8, 362.6, 323.7, 379.5, 362.6, 286.3, 362.6, 439.0, 389.9, 362.6, 337.9, 374.0, 313.3, 425.0, 425.0, 375.0, 475.0, 469.0, 425.0, 388.6, 531.3, 425.0, 318.8, 401.8, 362.6, 323.7, 379.5, 362.6, 286.3, 362.6, 439.0, 389.9, 362.6, 337.9, 374.0, 313.3, 425.0, 425.0, 375.0, 475.0, 469.0, 425.0, 388.6, 531.3, 425.0, 318.8, 401.8, 362.6, 323.7, 379.5, 362.6, 286.3, 362.6, 439.0, 389.9, 362.6, 337.9, 374.0, 313.3, 425.0, 425.0, 375.0, 475.0, 469.0, 425.0, 388.6, 531.3, 425.0, 318.8, 401.8, 362.6, 379.5, 362.6, 286.3, 362.6, 439.0, 389.9, 362.6, 337.9, 222.36, 222.36, 222.36, 222.36, 222.36, 233.81, 233.81, 233.81, 233.81, 233.81, 194.68, 194.68, 194.68, 194.68, 194.68, 190.68, 190.68, 190.68, 190.68, 190.68, 212.07, 212.07, 212.07, 212.07, 212.07, 229.97, 229.97, 229.97, 229.97, 229.97, 190.34, 190.34, 190.34, 190.34, 190.34, 166.09, 166.09, 166.09, 166.09, 166.09, 167.95, 167.95, 167.95, 167.95, 167.95, 213.72, 213.72, 213.72, 213.72, 213.72, 213.76, 213.76, 213.76, 213.76, 213.76, 229.68, 229.68, 229.68, 229.68, 229.68, 238.05, 238.05, 238.05, 238.05, 238.05, 250.0, 250.0, 250.0, 250.0, 250.0, 212.52, 212.52, 212.52, 212.52, 212.52, 212.57, 212.57, 212.57, 212.57, 212.57, 212.0, 212.0, 212.0, 212.0, 212.0, 231.75, 231.75, 231.75, 231.75, 231.75, 251.37, 251.37, 251.37, 251.37, 251.37, 251.37, 251.37, 251.37, 251.37, 251.37, 181.38, 181.38, 181.38, 181.38, 181.38, 182.04, 182.04, 182.04, 182.04, 182.04, 168.88, 168.88, 168.88, 168.88, 168.88, 290.35, 290.35, 290.35, 290.35, 290.35, 277.05, 277.05, 277.05, 277.05, 277.05, 295.71, 295.71, 295.71, 295.71, 295.71, 251.81, 251.81, 251.81, 251.81, 251.81, 249.1, 249.1, 249.1, 249.1, 249.1, 252.31, 252.31, 252.31, 252.31, 252.31, 246.83, 246.83, 246.83, 246.83, 246.83, 275.07, 275.07, 275.07, 275.07, 275.07, 297.16, 297.16, 297.16, 297.16, 297.16, 213.74, 213.74, 213.74, 213.74, 213.74, 213.5, 213.5, 213.5, 213.5, 213.5, 277.19, 277.19, 277.19, 277.19, 277.19, 218.23, 218.23, 218.23, 218.23, 218.23, 214.9, 214.9, 214.9, 214.9, 214.9, 218.85, 218.85, 218.85, 218.85, 218.85, 376.0, 376.0, 376.0, 376.0, 376.0, 500.0, 475.0, 315.0, 505.0, 451.0, 516.0, 520.0, 528.0, 520.0, 385.0, 500.1, 450.1, 397.0, 333.0, 334.0, 405.0, 200.0, 516.0, 145.0, 160.0, 234.0, 250.0, 475.0, 285.0, 356.0, 275.0, 500.0, 165.0, 165.0, 178.03, 167.35, 172.38, 173.54, 167.0, 173.81, 190.34, 250.0, 213.5, 194.68, 251.37, 165.0, 165.0, 178.03, 167.35, 172.38, 173.54, 167.0, 173.81, 190.34, 250.0, 213.5, 194.68, 251.37, 165.0, 165.0, 178.03, 167.35, 172.38, 173.54, 167.0, 173.81, 190.34, 250.0, 213.5, 194.68, 251.37, 165.0, 165.0, 178.03, 167.35, 172.38, 173.54, 167.0, 173.81, 190.34, 250.0, 213.5, 194.68, 251.37, 165.0, 165.0, 178.03, 167.35, 172.38, 173.54, 167.0, 173.81, 190.34, 250.0, 213.5, 194.68, 251.37, 446.0, 446.0, 446.0, 446.0, 446.0, 446.0, 446.0, 446.0, 446.0, 446.0, 446.0, 446.0, 446.0, 446.0, 387.0, 387.0, 387.0, 387.0, 387.0, 387.0, 387.0, 387.0, 387.0, 387.0, 387.0, 387.0, 355.0, 355.0, 491.0, 491.0, 491.0, 491.0, 491.0, 491.0, 491.0, 491.0, 424.0, 424.0, 424.0, 424.0, 424.0, 424.0, 424.0, 424.0, 202.0, 202.0, 202.0, 202.0, 284.0, 284.0, 284.0, 284.0, 359.0, 359.0, 359.0, 359.0, 359.0, 359.0, 359.0, 359.0, 436.0, 289.0, 289.0, 393.0, 393.0, 393.0, 480.0, 480.0, 480.0, 480.0, 333.0, 255.0, 255.0, 289.0, 255.0, 333.0, 333.0, 289.0, 333.0, 393.0, 255.0, 158.8, 239.6, 238.2, 181.9, 193.5, 255.5, 272.8, 239.6, 220.8, 397.0, 382.5, 210.7, 158.8, 295.8, 255.5, 203.5, 397.0, 381.4, 295.8, 228.0, 220.8, 316.1, 135.7, 238.1, 339.2, 135.7, 193.5, 203.5, 290.2, 181.9, 170.3, 210.7, 228.0, 290.2, 381.4, 238.2, 186.2, 339.2, 238.1, 252.5, 382.5, 252.5, 316.1, 186.2, 170.3, 272.8, 339.0, 339.0, 339.0, 339.0, 339.0, 339.0, 339.0, 236.0, 236.0, 236.0, 236.0, 236.0, 236.0, 277.0, 277.0, 277.0, 277.0, 277.0, 277.0, 254.0, 254.0, 254.0, 254.0, 307.0, 307.0, 307.0, 307.0, 307.0, 236.0, 200.0, 200.0, 225.0, 225.0, 325.0, 325.0, 275.0, 275.0, 300.0, 300.0, 375.0, 375.0, 400.0, 400.0, 250.0, 250.0, 350.0, 350.0, 203.5, 250.2, 157.0, 141.3, 166.8, 122.6, 183.9, 102.0, 102.0, 122.6, 166.8, 200.0, 108.3, 305.3, 108.3, 116.0, 141.3, 157.0, 133.0, 250.2, 173.0, 192.0, 192.0, 153.0, 288.0, 305.3, 236.0, 173.0, 212.0, 236.0, 183.9, 166.8, 102.0, 288.0, 212.0, 102.0, 173.0, 183.9, 133.0, 192.0, 133.0, 305.3, 236.0, 108.3, 157.0, 288.0, 212.0, 212.0, 153.0, 236.0, 116.0, 183.9, 108.3, 203.5, 203.5, 133.0, 288.0, 200.0, 200.0, 250.2, 122.6, 153.0, 200.0, 116.0, 173.0, 250.2, 305.3, 192.0, 157.0, 153.0, 141.3, 116.0, 141.3, 122.6, 166.8, 203.5, 310.0, 310.0, 310.0, 310.0, 310.0, 331.0, 331.0, 331.0, 331.0, 331.0, 349.0, 349.0, 349.0, 349.0, 349.0, 238.0, 238.0, 296.0, 296.0, 297.0, 480.0, 480.0, 397.0, 281.0, 281.0, 500.0, 500.0, 500.0, 500.0, 500.0, 540.0, 540.0, 540.0, 540.0, 540.0, 540.0, 350.0, 350.0, 350.0, 350.0, 350.0, 350.0, 385.0, 385.0, 385.0, 385.0, 385.0, 331.0, 331.0, 349.0, 331.0, 382.0, 382.0, 382.0, 281.0, 339.0, 339.0, 295.0, 295.0, 238.0, 296.0, 296.0, 296.0, 331.0, 331.0, 331.0, 331.0, 349.0, 349.0, 349.0, 349.0, 349.0, 302.0, 302.0, 525.0, 500.0, 500.0, 500.0, 540.0, 252.0, 252.0, 339.0, 393.0, 393.0, 393.0, 382.0, 382.0, 252.0, 252.0, 310.0, 310.0, 310.0, 310.0, 310.0, 525.0, 525.0, 525.0, 525.0, 525.0, 525.0, 322.0, 322.0, 322.0, 302.0, 397.0, 480.0, 522.0, 522.0, 273.0, 162.0, 154.0, 147.0, 152.0, 310.0, 144.0, 304.0, 374.0, 159.0, 153.0, 310.0, 305.0, 151.0, 142.0, 298.0, 321.0, 366.0, 280.0, 252.0, 165.0, 156.0, 160.0, 298.0, 318.0, 287.0, 326.0, 356.0, 132.0, 322.0, 164.0, 314.0, 321.0, 140.0, 288.0, 298.0, 265.0, 160.0, 166.0, 276.0, 322.0, 149.0, 159.0, 261.0, 237.0, 313.0, 155.0, 146.0, 296.0, 133.0, 313.0, 152.0, 153.0, 140.0, 149.0, 300.0, 153.0, 148.0, 326.0, 153.0, 262.0, 158.0, 151.0, 273.0, 149.0, 143.0, 260.0, 313.0, 284.0, 336.0, 145.0, 150.0, 144.0, 331.0, 155.0, 155.0, 135.0, 266.0, 314.0, 313.0, 146.0, 144.0, 148.0, 277.0, 298.0, 313.0, 155.0, 289.0, 148.0, 145.0, 313.0, 136.0, 155.0, 255.0, 162.0, 136.0, 164.0, 162.0, 157.0, 149.0, 135.0, 159.0, 144.0, 154.0, 167.0, 184.0, 156.0, 236.9, 313.3, 154.8, 145.9, 296.0, 133.1, 313.3, 151.6, 153.1, 139.9, 149.5, 299.8, 153.1, 148.1, 326.5, 152.7, 261.9, 158.4, 150.7, 272.6, 149.0, 143.0, 259.9, 312.9, 284.0, 336.5, 144.8, 150.0, 143.7, 330.5, 154.8, 154.8, 134.7, 266.2, 314.0, 312.7, 145.7, 143.8, 148.1, 277.0, 298.1, 313.3, 155.2, 289.0, 147.8, 145.4, 312.7, 136.4, 154.8, 255.3, 272.8, 162.0, 153.6, 146.5, 151.8, 309.9, 143.6, 303.6, 374.3, 158.6, 152.6, 310.0, 304.8, 150.9, 141.9, 297.8, 321.3, 366.0, 279.8, 252.1, 164.6, 155.6, 160.2, 298.1, 317.9, 287.3, 325.6, 355.9, 132.0, 322.5, 164.2, 313.8, 321.4, 139.7, 288.4, 298.2, 264.5, 159.8, 166.0, 276.4, 322.2, 148.5, 159.1, 260.9]}, {\"label\": \"slag\", \"values\": [0.0, 0.0, 142.5, 142.5, 132.4, 114.0, 95.0, 95.0, 114.0, 0.0, 132.4, 132.4, 47.5, 190.0, 76.0, 0.0, 209.4, 38.0, 95.0, 0.0, 47.5, 209.4, 209.4, 209.4, 0.0, 0.0, 95.0, 38.0, 47.5, 0.0, 76.0, 114.0, 132.4, 0.0, 190.0, 237.5, 237.5, 142.5, 0.0, 237.5, 38.0, 47.5, 237.5, 0.0, 47.5, 47.5, 0.0, 95.0, 237.5, 95.0, 142.5, 190.0, 237.5, 76.0, 209.4, 132.4, 0.0, 132.4, 76.0, 142.5, 76.0, 114.0, 0.0, 190.0, 114.0, 38.0, 209.4, 142.5, 190.0, 0.0, 189.2, 262.2, 106.3, 106.3, 93.8, 118.8, 117.2, 106.3, 97.1, 0.0, 106.3, 212.5, 94.7, 189.0, 282.8, 151.2, 189.0, 200.9, 189.0, 177.0, 189.0, 189.0, 189.0, 189.2, 262.2, 106.3, 106.3, 93.8, 118.8, 117.2, 106.3, 97.1, 0.0, 106.3, 212.5, 94.7, 189.0, 282.8, 151.2, 189.0, 200.9, 189.0, 177.0, 189.0, 189.0, 189.0, 189.2, 262.2, 106.3, 106.3, 93.8, 118.8, 117.2, 106.3, 97.1, 0.0, 106.3, 212.5, 94.7, 189.0, 282.8, 151.2, 189.0, 200.9, 189.0, 177.0, 189.0, 189.0, 189.0, 189.2, 262.2, 106.3, 106.3, 93.8, 118.8, 117.2, 106.3, 97.1, 0.0, 106.3, 212.5, 94.7, 189.0, 282.8, 151.2, 189.0, 200.9, 189.0, 177.0, 189.0, 189.0, 189.0, 189.2, 262.2, 106.3, 106.3, 93.8, 118.8, 117.2, 106.3, 97.1, 0.0, 106.3, 212.5, 94.7, 189.0, 151.2, 189.0, 200.9, 189.0, 177.0, 189.0, 189.0, 189.0, 0.0, 0.0, 0.0, 0.0, 0.0, 0.0, 0.0, 0.0, 0.0, 0.0, 0.0, 0.0, 0.0, 0.0, 0.0, 0.0, 0.0, 0.0, 0.0, 0.0, 0.0, 0.0, 0.0, 0.0, 0.0, 0.0, 0.0, 0.0, 0.0, 0.0, 0.0, 0.0, 0.0, 0.0, 0.0, 0.0, 0.0, 0.0, 0.0, 0.0, 42.08, 42.08, 42.08, 42.08, 42.08, 98.05, 98.05, 98.05, 98.05, 98.05, 98.06, 98.06, 98.06, 98.06, 98.06, 0.0, 0.0, 0.0, 0.0, 0.0, 0.0, 0.0, 0.0, 0.0, 0.0, 0.0, 0.0, 0.0, 0.0, 0.0, 0.0, 0.0, 0.0, 0.0, 0.0, 0.0, 0.0, 0.0, 0.0, 0.0, 0.0, 0.0, 0.0, 0.0, 0.0, 0.0, 0.0, 0.0, 0.0, 0.0, 0.0, 0.0, 0.0, 0.0, 0.0, 0.0, 0.0, 0.0, 0.0, 0.0, 0.0, 0.0, 0.0, 0.0, 0.0, 45.21, 45.21, 45.21, 45.21, 45.21, 42.22, 42.22, 42.22, 42.22, 42.22, 0.0, 0.0, 0.0, 0.0, 0.0, 0.0, 0.0, 0.0, 0.0, 0.0, 0.0, 0.0, 0.0, 0.0, 0.0, 0.0, 0.0, 0.0, 0.0, 0.0, 0.0, 0.0, 0.0, 0.0, 0.0, 0.0, 0.0, 0.0, 0.0, 0.0, 0.0, 0.0, 0.0, 0.0, 0.0, 0.0, 0.0, 0.0, 0.0, 0.0, 0.0, 0.0, 0.0, 0.0, 0.0, 0.0, 0.0, 0.0, 0.0, 0.0, 0.0, 0.0, 0.0, 0.0, 0.0, 97.82, 97.82, 97.82, 97.82, 97.82, 54.64, 54.64, 54.64, 54.64, 54.64, 53.8, 53.8, 53.8, 53.8, 53.8, 0.0, 0.0, 0.0, 0.0, 0.0, 0.0, 0.0, 0.0, 0.0, 0.0, 0.0, 0.0, 137.0, 0.0, 0.0, 0.0, 0.0, 0.0, 0.0, 0.0, 0.0, 50.0, 17.2, 17.5, 17.6, 0.0, 200.0, 0.0, 116.0, 128.0, 156.0, 180.0, 0.0, 190.0, 119.0, 180.0, 0.0, 0.02, 128.5, 129.8, 129.9, 13.61, 50.05, 75.4, 93.37, 0.0, 0.0, 0.0, 0.0, 0.0, 0.02, 128.5, 129.8, 129.9, 13.61, 50.05, 75.4, 93.37, 0.0, 0.0, 0.0, 0.0, 0.0, 0.02, 128.5, 129.8, 129.9, 13.61, 50.05, 75.4, 93.37, 0.0, 0.0, 0.0, 0.0, 0.0, 0.02, 128.5, 129.8, 129.9, 13.61, 50.05, 75.4, 93.37, 0.0, 0.0, 0.0, 0.0, 0.0, 0.02, 128.5, 129.8, 129.9, 13.61, 50.05, 75.4, 93.37, 0.0, 0.0, 0.0, 0.0, 0.0, 24.0, 24.0, 24.0, 24.0, 24.0, 24.0, 24.0, 24.0, 24.0, 24.0, 24.0, 24.0, 24.0, 24.0, 20.0, 20.0, 20.0, 20.0, 20.0, 20.0, 20.0, 20.0, 20.0, 20.0, 20.0, 20.0, 19.0, 19.0, 26.0, 26.0, 26.0, 26.0, 26.0, 26.0, 26.0, 26.0, 22.0, 22.0, 22.0, 22.0, 22.0, 22.0, 22.0, 22.0, 11.0, 11.0, 11.0, 11.0, 15.0, 15.0, 15.0, 15.0, 19.0, 19.0, 19.0, 19.0, 19.0, 19.0, 19.0, 19.0, 0.0, 0.0, 0.0, 0.0, 0.0, 0.0, 0.0, 0.0, 0.0, 0.0, 0.0, 0.0, 0.0, 0.0, 0.0, 0.0, 0.0, 0.0, 0.0, 0.0, 0.0, 238.2, 359.4, 158.8, 272.8, 290.2, 170.3, 181.9, 359.4, 147.2, 0.0, 0.0, 316.1, 238.2, 0.0, 170.3, 135.7, 0.0, 0.0, 0.0, 342.1, 147.2, 210.7, 203.5, 0.0, 0.0, 203.5, 290.2, 135.7, 193.5, 272.8, 155.5, 316.1, 342.1, 193.5, 0.0, 158.8, 124.1, 0.0, 0.0, 0.0, 0.0, 0.0, 210.7, 124.1, 155.5, 181.9, 0.0, 0.0, 0.0, 0.0, 0.0, 0.0, 0.0, 0.0, 0.0, 0.0, 0.0, 0.0, 0.0, 0.0, 0.0, 0.0, 0.0, 0.0, 0.0, 0.0, 0.0, 0.0, 0.0, 0.0, 0.0, 0.0, 0.0, 0.0, 0.0, 0.0, 0.0, 0.0, 0.0, 0.0, 0.0, 0.0, 0.0, 0.0, 0.0, 0.0, 0.0, 0.0, 0.0, 0.0, 0.0, 0.0, 0.0, 305.3, 166.8, 236.0, 212.0, 250.2, 183.9, 122.6, 153.0, 153.0, 183.9, 250.2, 133.0, 162.4, 203.5, 162.4, 173.0, 212.0, 236.0, 200.0, 166.8, 116.0, 288.0, 288.0, 102.0, 192.0, 203.5, 157.0, 116.0, 141.3, 157.0, 122.6, 250.2, 153.0, 192.0, 141.3, 153.0, 116.0, 122.6, 200.0, 288.0, 200.0, 203.5, 157.0, 162.4, 236.0, 192.0, 141.3, 141.3, 102.0, 157.0, 173.0, 122.6, 162.4, 305.3, 305.3, 200.0, 192.0, 133.0, 133.0, 166.8, 183.9, 102.0, 133.0, 173.0, 116.0, 166.8, 203.5, 288.0, 236.0, 102.0, 212.0, 173.0, 212.0, 183.9, 250.2, 305.3, 0.0, 0.0, 0.0, 0.0, 0.0, 0.0, 0.0, 0.0, 0.0, 0.0, 0.0, 0.0, 0.0, 0.0, 0.0, 0.0, 0.0, 0.0, 0.0, 0.0, 0.0, 0.0, 0.0, 0.0, 0.0, 0.0, 0.0, 0.0, 0.0, 0.0, 0.0, 0.0, 0.0, 0.0, 0.0, 0.0, 0.0, 0.0, 0.0, 0.0, 0.0, 0.0, 0.0, 0.0, 0.0, 0.0, 0.0, 0.0, 0.0, 0.0, 0.0, 0.0, 0.0, 0.0, 0.0, 0.0, 0.0, 0.0, 0.0, 0.0, 0.0, 0.0, 0.0, 0.0, 0.0, 0.0, 0.0, 0.0, 0.0, 0.0, 0.0, 0.0, 0.0, 0.0, 0.0, 0.0, 0.0, 0.0, 0.0, 0.0, 0.0, 0.0, 0.0, 0.0, 0.0, 0.0, 0.0, 0.0, 0.0, 0.0, 0.0, 0.0, 0.0, 0.0, 0.0, 0.0, 0.0, 0.0, 0.0, 0.0, 0.0, 0.0, 0.0, 0.0, 0.0, 0.0, 0.0, 0.0, 105.0, 190.0, 144.0, 115.0, 178.0, 143.0, 0.0, 140.0, 0.0, 149.0, 239.0, 143.0, 0.0, 0.0, 167.0, 137.0, 164.0, 187.0, 129.0, 97.0, 0.0, 243.0, 188.0, 0.0, 0.0, 121.0, 166.0, 0.0, 207.0, 149.0, 0.0, 0.0, 0.0, 164.0, 121.0, 0.0, 111.0, 250.0, 260.0, 116.0, 0.0, 139.0, 187.0, 100.0, 92.0, 0.0, 183.0, 230.0, 0.0, 210.0, 145.0, 0.0, 145.0, 133.0, 236.0, 0.0, 145.0, 0.0, 0.0, 145.0, 111.0, 0.0, 0.0, 0.0, 118.0, 169.0, 101.0, 161.0, 120.0, 0.0, 0.0, 237.0, 170.0, 170.0, 0.0, 183.0, 0.0, 112.0, 145.0, 145.0, 173.0, 136.0, 0.0, 117.0, 0.0, 145.0, 184.0, 134.0, 175.0, 0.0, 0.0, 162.0, 0.0, 99.0, 207.0, 196.0, 163.0, 214.0, 214.0, 153.0, 105.0, 209.0, 15.0, 174.0, 187.0, 86.0, 178.0, 91.7, 0.0, 183.4, 230.5, 0.0, 210.2, 145.0, 0.0, 145.0, 132.6, 236.0, 0.0, 145.0, 0.0, 0.0, 144.7, 110.5, 0.0, 0.0, 0.0, 117.6, 169.4, 100.6, 160.5, 119.7, 0.0, 0.0, 236.8, 170.2, 169.6, 0.0, 183.4, 0.0, 112.3, 145.3, 144.7, 172.6, 136.3, 0.0, 116.8, 0.0, 145.0, 183.9, 133.7, 175.1, 0.0, 0.0, 161.6, 0.0, 98.8, 105.1, 190.1, 144.2, 114.6, 178.1, 142.8, 0.0, 139.9, 0.0, 148.9, 238.7, 142.8, 0.0, 0.0, 166.6, 137.2, 164.2, 187.0, 128.9, 97.1, 0.0, 243.5, 188.0, 0.0, 0.0, 120.5, 166.4, 0.0, 206.5, 148.6, 0.0, 0.0, 0.0, 163.9, 121.0, 0.0, 111.0, 250.0, 259.7, 116.0, 0.0, 139.4, 186.7, 100.5]}, {\"label\": \"ash\", \"values\": [0.0, 0.0, 0.0, 0.0, 0.0, 0.0, 0.0, 0.0, 0.0, 0.0, 0.0, 0.0, 0.0, 0.0, 0.0, 0.0, 0.0, 0.0, 0.0, 0.0, 0.0, 0.0, 0.0, 0.0, 0.0, 0.0, 0.0, 0.0, 0.0, 0.0, 0.0, 0.0, 0.0, 0.0, 0.0, 0.0, 0.0, 0.0, 0.0, 0.0, 0.0, 0.0, 0.0, 0.0, 0.0, 0.0, 0.0, 0.0, 0.0, 0.0, 0.0, 0.0, 0.0, 0.0, 0.0, 0.0, 0.0, 0.0, 0.0, 0.0, 0.0, 0.0, 0.0, 0.0, 0.0, 0.0, 0.0, 0.0, 0.0, 0.0, 0.0, 0.0, 0.0, 0.0, 0.0, 0.0, 0.0, 0.0, 0.0, 0.0, 0.0, 0.0, 0.0, 0.0, 0.0, 0.0, 0.0, 0.0, 0.0, 0.0, 0.0, 0.0, 0.0, 0.0, 0.0, 0.0, 0.0, 0.0, 0.0, 0.0, 0.0, 0.0, 0.0, 0.0, 0.0, 0.0, 0.0, 0.0, 0.0, 0.0, 0.0, 0.0, 0.0, 0.0, 0.0, 0.0, 0.0, 0.0, 0.0, 0.0, 0.0, 0.0, 0.0, 0.0, 0.0, 0.0, 0.0, 0.0, 0.0, 0.0, 0.0, 0.0, 0.0, 0.0, 0.0, 0.0, 0.0, 0.0, 0.0, 0.0, 0.0, 0.0, 0.0, 0.0, 0.0, 0.0, 0.0, 0.0, 0.0, 0.0, 0.0, 0.0, 0.0, 0.0, 0.0, 0.0, 0.0, 0.0, 0.0, 0.0, 0.0, 0.0, 0.0, 0.0, 0.0, 0.0, 0.0, 0.0, 0.0, 0.0, 0.0, 0.0, 0.0, 0.0, 0.0, 0.0, 0.0, 0.0, 0.0, 0.0, 0.0, 0.0, 0.0, 0.0, 96.67, 96.67, 96.67, 96.67, 96.67, 94.58, 94.58, 94.58, 94.58, 94.58, 100.52, 100.52, 100.52, 100.52, 100.52, 125.4, 125.4, 125.4, 125.4, 125.4, 121.62, 121.62, 121.62, 121.62, 121.62, 118.31, 118.31, 118.31, 118.31, 118.31, 125.18, 125.18, 125.18, 125.18, 125.18, 163.27, 163.27, 163.27, 163.27, 163.27, 163.83, 163.83, 163.83, 163.83, 163.83, 24.51, 24.51, 24.51, 24.51, 24.51, 24.52, 24.52, 24.52, 24.52, 24.52, 118.16, 118.16, 118.16, 118.16, 118.16, 94.11, 94.11, 94.11, 94.11, 94.11, 95.69, 95.69, 95.69, 95.69, 95.69, 100.37, 100.37, 100.37, 100.37, 100.37, 100.39, 100.39, 100.39, 100.39, 100.39, 124.78, 124.78, 124.78, 124.78, 124.78, 121.62, 121.62, 121.62, 121.62, 121.62, 118.27, 118.27, 118.27, 118.27, 118.27, 118.27, 118.27, 118.27, 118.27, 118.27, 167.01, 167.01, 167.01, 167.01, 167.01, 121.97, 121.97, 121.97, 121.97, 121.97, 124.25, 124.25, 124.25, 124.25, 124.25, 96.18, 96.18, 96.18, 96.18, 96.18, 97.39, 97.39, 97.39, 97.39, 97.39, 95.64, 95.64, 95.64, 95.64, 95.64, 99.94, 99.94, 99.94, 99.94, 99.94, 98.75, 98.75, 98.75, 98.75, 98.75, 98.75, 98.75, 98.75, 98.75, 98.75, 125.08, 125.08, 125.08, 125.08, 125.08, 121.35, 121.35, 121.35, 121.35, 121.35, 117.54, 117.54, 117.54, 117.54, 117.54, 174.74, 174.74, 174.74, 174.74, 174.74, 174.24, 174.24, 174.24, 174.24, 174.24, 24.46, 24.46, 24.46, 24.46, 24.46, 123.78, 123.78, 123.78, 123.78, 123.78, 121.89, 121.89, 121.89, 121.89, 121.89, 124.13, 124.13, 124.13, 124.13, 124.13, 0.0, 0.0, 0.0, 0.0, 0.0, 0.0, 59.0, 0.0, 60.0, 0.0, 0.0, 0.0, 0.0, 0.0, 136.0, 0.0, 0.0, 158.0, 163.0, 158.0, 0.0, 0.0, 0.0, 119.0, 122.0, 0.0, 95.0, 0.0, 0.0, 0.0, 120.0, 0.0, 143.57, 132.1, 118.6, 128.62, 172.37, 173.53, 167.0, 159.9, 125.18, 95.69, 174.24, 100.52, 118.27, 143.57, 132.1, 118.6, 128.62, 172.37, 173.53, 167.0, 159.9, 125.18, 95.69, 174.24, 100.52, 118.27, 143.57, 132.1, 118.6, 128.62, 172.37, 173.53, 167.0, 159.9, 125.18, 95.69, 174.24, 100.52, 118.27, 143.57, 132.1, 118.6, 128.62, 172.37, 173.53, 167.0, 159.9, 125.18, 95.69, 174.24, 100.52, 118.27, 143.57, 132.1, 118.6, 128.62, 172.37, 173.53, 167.0, 159.9, 125.18, 95.69, 174.24, 100.52, 118.27, 79.0, 79.0, 79.0, 79.0, 79.0, 79.0, 79.0, 79.0, 79.0, 79.0, 79.0, 79.0, 79.0, 79.0, 94.0, 94.0, 94.0, 94.0, 94.0, 94.0, 94.0, 94.0, 94.0, 94.0, 94.0, 94.0, 97.0, 97.0, 123.0, 123.0, 123.0, 123.0, 123.0, 123.0, 123.0, 123.0, 132.0, 132.0, 132.0, 132.0, 132.0, 132.0, 132.0, 132.0, 141.0, 141.0, 141.0, 141.0, 141.0, 141.0, 141.0, 141.0, 141.0, 141.0, 141.0, 141.0, 141.0, 141.0, 141.0, 141.0, 0.0, 0.0, 0.0, 0.0, 0.0, 0.0, 0.0, 0.0, 0.0, 0.0, 0.0, 0.0, 0.0, 0.0, 0.0, 0.0, 0.0, 0.0, 0.0, 0.0, 0.0, 0.0, 0.0, 0.0, 0.0, 0.0, 0.0, 0.0, 0.0, 0.0, 0.0, 0.0, 0.0, 0.0, 0.0, 0.0, 0.0, 0.0, 0.0, 0.0, 0.0, 0.0, 0.0, 0.0, 0.0, 0.0, 0.0, 0.0, 0.0, 0.0, 0.0, 0.0, 0.0, 0.0, 0.0, 0.0, 0.0, 0.0, 0.0, 0.0, 0.0, 0.0, 0.0, 0.0, 0.0, 0.0, 0.0, 0.0, 0.0, 0.0, 0.0, 0.0, 0.0, 0.0, 0.0, 0.0, 0.0, 0.0, 0.0, 0.0, 0.0, 0.0, 0.0, 0.0, 0.0, 0.0, 0.0, 0.0, 0.0, 0.0, 0.0, 0.0, 0.0, 0.0, 0.0, 0.0, 0.0, 0.0, 0.0, 0.0, 0.0, 0.0, 0.0, 0.0, 0.0, 0.0, 0.0, 0.0, 0.0, 0.0, 0.0, 0.0, 0.0, 0.0, 0.0, 0.0, 0.0, 0.0, 0.0, 0.0, 0.0, 0.0, 0.0, 0.0, 0.0, 0.0, 0.0, 0.0, 0.0, 0.0, 0.0, 0.0, 0.0, 0.0, 0.0, 0.0, 0.0, 0.0, 0.0, 0.0, 0.0, 0.0, 0.0, 0.0, 0.0, 0.0, 0.0, 0.0, 0.0, 0.0, 0.0, 0.0, 0.0, 0.0, 0.0, 0.0, 0.0, 0.0, 0.0, 0.0, 0.0, 0.0, 0.0, 0.0, 0.0, 0.0, 0.0, 0.0, 0.0, 0.0, 0.0, 0.0, 0.0, 0.0, 0.0, 0.0, 0.0, 0.0, 0.0, 0.0, 0.0, 0.0, 0.0, 0.0, 0.0, 0.0, 0.0, 0.0, 0.0, 0.0, 0.0, 0.0, 0.0, 0.0, 0.0, 0.0, 0.0, 0.0, 0.0, 0.0, 0.0, 0.0, 0.0, 0.0, 0.0, 0.0, 0.0, 0.0, 0.0, 0.0, 0.0, 0.0, 0.0, 0.0, 0.0, 0.0, 0.0, 0.0, 0.0, 0.0, 0.0, 0.0, 0.0, 0.0, 0.0, 0.0, 0.0, 0.0, 0.0, 0.0, 0.0, 0.0, 0.0, 0.0, 0.0, 0.0, 0.0, 0.0, 0.0, 0.0, 0.0, 0.0, 0.0, 0.0, 0.0, 0.0, 0.0, 0.0, 0.0, 0.0, 0.0, 0.0, 0.0, 0.0, 0.0, 0.0, 0.0, 0.0, 0.0, 0.0, 0.0, 0.0, 0.0, 0.0, 0.0, 0.0, 0.0, 0.0, 0.0, 0.0, 0.0, 0.0, 0.0, 0.0, 0.0, 0.0, 0.0, 0.0, 0.0, 0.0, 0.0, 0.0, 0.0, 0.0, 0.0, 0.0, 0.0, 0.0, 0.0, 0.0, 0.0, 0.0, 0.0, 0.0, 0.0, 0.0, 0.0, 0.0, 82.0, 148.0, 112.0, 89.0, 139.0, 111.0, 175.0, 0.0, 0.0, 116.0, 0.0, 0.0, 100.0, 184.0, 130.0, 107.0, 0.0, 0.0, 100.0, 76.0, 150.0, 0.0, 146.0, 107.0, 126.0, 94.0, 0.0, 142.0, 161.0, 0.0, 200.0, 113.0, 128.0, 128.0, 0.0, 107.0, 86.0, 0.0, 0.0, 90.0, 116.0, 109.0, 0.0, 78.0, 71.0, 113.0, 0.0, 0.0, 107.0, 0.0, 0.0, 112.0, 113.0, 103.0, 0.0, 120.0, 113.0, 137.0, 138.0, 0.0, 86.0, 195.0, 185.0, 90.0, 92.0, 143.0, 78.0, 0.0, 0.0, 0.0, 134.0, 0.0, 133.0, 0.0, 143.0, 0.0, 166.0, 87.0, 113.0, 0.0, 0.0, 106.0, 182.0, 91.0, 107.0, 0.0, 143.0, 0.0, 0.0, 179.0, 0.0, 126.0, 143.0, 77.0, 172.0, 98.0, 128.0, 164.0, 152.0, 194.0, 193.0, 161.0, 195.0, 185.0, 195.0, 190.0, 187.0, 71.5, 113.0, 0.0, 0.0, 106.7, 0.0, 0.0, 111.9, 113.0, 103.3, 0.0, 119.8, 113.0, 136.6, 137.9, 0.0, 86.1, 194.9, 185.3, 89.6, 91.7, 142.7, 78.4, 0.0, 0.0, 0.0, 133.6, 0.0, 132.6, 0.0, 142.8, 0.0, 165.7, 87.5, 113.2, 0.0, 0.0, 106.2, 182.1, 91.0, 107.5, 0.0, 143.2, 0.0, 0.0, 178.9, 0.0, 125.8, 142.8, 77.0, 81.8, 148.1, 112.3, 89.3, 138.7, 111.2, 174.9, 0.0, 0.0, 116.0, 0.0, 0.0, 99.6, 183.9, 129.7, 106.9, 0.0, 0.0, 100.4, 75.6, 150.4, 0.0, 146.4, 107.0, 126.5, 93.9, 0.0, 141.6, 160.9, 0.0, 200.1, 112.6, 127.9, 127.7, 0.0, 107.0, 86.5, 0.0, 0.0, 90.3, 115.6, 108.6, 0.0, 78.3]}, {\"label\": \"water\", \"values\": [162.0, 162.0, 228.0, 228.0, 192.0, 228.0, 228.0, 228.0, 228.0, 228.0, 192.0, 192.0, 228.0, 228.0, 228.0, 228.0, 192.0, 228.0, 228.0, 228.0, 228.0, 192.0, 192.0, 192.0, 228.0, 228.0, 228.0, 228.0, 228.0, 228.0, 228.0, 228.0, 192.0, 228.0, 228.0, 228.0, 228.0, 228.0, 228.0, 228.0, 228.0, 228.0, 228.0, 228.0, 228.0, 228.0, 192.0, 228.0, 228.0, 228.0, 228.0, 228.0, 228.0, 228.0, 192.0, 192.0, 228.0, 192.0, 228.0, 228.0, 228.0, 228.0, 192.0, 228.0, 228.0, 228.0, 192.0, 228.0, 228.0, 146.0, 170.1, 175.5, 153.5, 151.4, 126.6, 181.1, 137.8, 153.5, 157.9, 141.8, 153.5, 155.7, 147.4, 164.9, 183.8, 153.9, 164.9, 144.7, 164.9, 186.0, 145.9, 164.9, 174.9, 170.1, 175.5, 153.5, 151.4, 126.6, 181.1, 137.8, 153.5, 157.9, 141.8, 153.5, 155.7, 147.4, 164.9, 183.8, 153.9, 164.9, 144.7, 164.9, 186.0, 145.9, 164.9, 174.9, 170.1, 175.5, 153.5, 151.4, 126.6, 181.1, 137.8, 153.5, 157.9, 141.8, 153.5, 155.7, 147.4, 164.9, 183.8, 153.9, 164.9, 144.7, 164.9, 186.0, 145.9, 164.9, 174.9, 170.1, 175.5, 153.5, 151.4, 126.6, 181.1, 137.8, 153.5, 157.9, 141.8, 153.5, 155.7, 147.4, 164.9, 183.8, 153.9, 164.9, 144.7, 164.9, 186.0, 145.9, 164.9, 174.9, 170.1, 175.5, 153.5, 151.4, 126.6, 181.1, 137.8, 153.5, 157.9, 141.8, 153.5, 155.7, 147.4, 164.9, 153.9, 164.9, 144.7, 164.9, 186.0, 145.9, 164.9, 174.9, 189.29, 189.29, 189.29, 189.29, 189.29, 197.89, 197.89, 197.89, 197.89, 197.89, 165.62, 165.62, 165.62, 165.62, 165.62, 162.14, 162.14, 162.14, 162.14, 162.14, 180.31, 180.31, 180.31, 180.31, 180.31, 195.47, 195.47, 195.47, 195.47, 195.47, 161.85, 161.85, 161.85, 161.85, 161.85, 176.46, 176.46, 176.46, 176.46, 176.46, 121.75, 121.75, 121.75, 121.75, 121.75, 181.71, 181.71, 181.71, 181.71, 181.71, 181.74, 181.74, 181.74, 181.74, 181.74, 195.23, 195.23, 195.23, 195.23, 195.23, 186.66, 186.66, 186.66, 186.66, 186.66, 187.42, 187.42, 187.42, 187.42, 187.42, 159.32, 159.32, 159.32, 159.32, 159.32, 159.35, 159.35, 159.35, 159.35, 159.35, 159.0, 159.0, 159.0, 159.0, 159.0, 173.96, 173.96, 173.96, 173.96, 173.96, 188.45, 188.45, 188.45, 188.45, 188.45, 188.45, 188.45, 188.45, 188.45, 188.45, 169.59, 169.59, 169.59, 169.59, 169.59, 170.21, 170.21, 170.21, 170.21, 170.21, 158.33, 158.33, 158.33, 158.33, 158.33, 168.08, 168.08, 168.08, 168.08, 168.08, 160.6, 160.6, 160.6, 160.6, 160.6, 171.54, 171.54, 171.54, 171.54, 171.54, 146.14, 146.14, 146.14, 146.14, 146.14, 158.11, 158.11, 158.11, 158.11, 158.11, 146.25, 146.25, 146.25, 146.25, 146.25, 143.3, 143.3, 143.3, 143.3, 143.3, 159.48, 159.48, 159.48, 159.48, 159.48, 174.8, 174.8, 174.8, 174.8, 174.8, 154.79, 154.79, 154.79, 154.79, 154.79, 154.61, 154.61, 154.61, 154.61, 154.61, 160.7, 160.7, 160.7, 160.7, 160.7, 140.75, 140.75, 140.75, 140.75, 140.75, 155.63, 155.63, 155.63, 155.63, 155.63, 158.49, 158.49, 158.49, 158.49, 158.49, 214.6, 214.6, 214.6, 214.6, 214.6, 140.0, 142.0, 145.0, 195.0, 165.0, 162.0, 170.0, 185.0, 175.0, 158.0, 200.0, 200.0, 167.0, 167.0, 189.0, 175.0, 190.0, 162.0, 184.0, 182.0, 189.0, 159.0, 162.0, 163.0, 160.0, 162.0, 151.0, 163.81, 175.06, 179.94, 175.46, 156.76, 164.77, 164.03, 172.34, 166.61, 191.84, 159.21, 170.17, 192.94, 163.81, 175.06, 179.94, 175.46, 156.76, 164.77, 164.03, 172.34, 166.61, 191.84, 159.21, 170.17, 192.94, 163.81, 175.06, 179.94, 175.46, 156.76, 164.77, 164.03, 172.34, 166.61, 191.84, 159.21, 170.17, 192.94, 163.81, 175.06, 179.94, 175.46, 156.76, 164.77, 164.03, 172.34, 166.61, 191.84, 159.21, 170.17, 192.94, 163.81, 175.06, 179.94, 175.46, 156.76, 164.77, 164.03, 172.34, 166.61, 191.84, 159.21, 170.17, 192.94, 162.0, 162.0, 162.0, 162.0, 162.0, 162.0, 162.0, 162.0, 162.0, 162.0, 162.0, 162.0, 162.0, 162.0, 157.0, 157.0, 157.0, 157.0, 157.0, 157.0, 157.0, 157.0, 157.0, 157.0, 157.0, 157.0, 145.0, 145.0, 210.0, 201.0, 210.0, 210.0, 210.0, 201.0, 201.0, 201.0, 178.0, 178.0, 168.0, 178.0, 178.0, 168.0, 168.0, 168.0, 206.0, 206.0, 206.0, 206.0, 179.0, 179.0, 179.0, 179.0, 154.0, 154.0, 154.0, 154.0, 154.0, 154.0, 154.0, 154.0, 218.0, 192.0, 192.0, 192.0, 192.0, 192.0, 192.0, 192.0, 192.0, 192.0, 192.0, 192.0, 192.0, 192.0, 192.0, 192.0, 192.0, 192.0, 192.0, 192.0, 192.0, 185.7, 185.7, 185.7, 185.7, 185.7, 185.7, 185.7, 185.7, 185.7, 185.7, 185.7, 185.7, 185.7, 185.7, 185.7, 185.7, 185.7, 185.7, 185.7, 185.7, 185.7, 185.7, 185.7, 185.7, 185.7, 185.7, 185.7, 185.7, 185.7, 185.7, 185.7, 185.7, 185.7, 185.7, 185.7, 185.7, 185.7, 185.7, 185.7, 185.7, 185.7, 185.7, 185.7, 185.7, 185.7, 185.7, 197.0, 197.0, 197.0, 197.0, 197.0, 197.0, 197.0, 194.0, 194.0, 194.0, 194.0, 193.0, 193.0, 191.0, 191.0, 191.0, 191.0, 191.0, 191.0, 198.0, 198.0, 198.0, 198.0, 193.0, 193.0, 193.0, 193.0, 193.0, 193.0, 180.0, 180.0, 181.0, 181.0, 184.0, 184.0, 183.0, 183.0, 184.0, 184.0, 186.0, 186.0, 187.0, 187.0, 182.0, 182.0, 186.0, 186.0, 203.5, 203.5, 192.0, 203.5, 203.5, 203.5, 203.5, 192.0, 192.0, 203.5, 203.5, 192.0, 203.5, 203.5, 203.5, 192.0, 203.5, 192.0, 192.0, 203.5, 192.0, 192.0, 192.0, 192.0, 192.0, 203.5, 192.0, 192.0, 203.5, 192.0, 203.5, 203.5, 192.0, 192.0, 203.5, 192.0, 192.0, 203.5, 192.0, 192.0, 192.0, 203.5, 192.0, 203.5, 192.0, 192.0, 203.5, 203.5, 192.0, 192.0, 192.0, 203.5, 203.5, 203.5, 203.5, 192.0, 192.0, 192.0, 192.0, 203.5, 203.5, 192.0, 192.0, 192.0, 192.0, 203.5, 203.5, 192.0, 192.0, 192.0, 203.5, 192.0, 203.5, 203.5, 203.5, 203.5, 192.0, 192.0, 192.0, 192.0, 192.0, 192.0, 192.0, 192.0, 192.0, 192.0, 192.0, 192.0, 192.0, 192.0, 192.0, 186.0, 186.0, 186.0, 186.0, 186.0, 192.0, 192.0, 186.0, 186.0, 185.0, 200.0, 200.0, 200.0, 200.0, 200.0, 173.0, 173.0, 173.0, 173.0, 173.0, 173.0, 203.0, 203.0, 203.0, 203.0, 203.0, 203.0, 186.0, 186.0, 186.0, 186.0, 186.0, 192.0, 192.0, 192.0, 192.0, 186.0, 186.0, 186.0, 186.0, 185.0, 185.0, 185.0, 185.0, 185.0, 192.0, 192.0, 192.0, 192.0, 192.0, 192.0, 192.0, 192.0, 192.0, 192.0, 192.0, 192.0, 203.0, 203.0, 189.0, 200.0, 200.0, 200.0, 173.0, 185.0, 185.0, 185.0, 192.0, 192.0, 192.0, 185.0, 185.0, 186.0, 185.0, 192.0, 192.0, 192.0, 192.0, 192.0, 189.0, 189.0, 189.0, 189.0, 189.0, 189.0, 203.0, 203.0, 203.0, 203.0, 185.0, 192.0, 146.0, 146.0, 210.0, 179.0, 220.0, 202.0, 168.0, 168.0, 158.0, 214.0, 190.0, 175.0, 200.0, 168.0, 196.0, 167.0, 174.0, 201.0, 190.0, 191.0, 172.0, 194.0, 182.0, 180.0, 203.0, 186.0, 210.0, 188.0, 174.0, 193.0, 179.0, 186.0, 181.0, 170.0, 182.0, 237.0, 177.0, 210.0, 195.0, 168.0, 183.0, 180.0, 196.0, 193.0, 176.0, 201.0, 247.0, 178.0, 193.0, 202.0, 221.0, 196.0, 178.0, 184.0, 178.0, 200.0, 176.0, 212.0, 178.0, 158.0, 199.0, 178.0, 195.0, 220.0, 167.0, 199.0, 183.0, 191.0, 171.0, 178.0, 168.0, 182.0, 181.0, 174.0, 192.0, 195.0, 193.0, 193.0, 180.0, 178.0, 179.0, 127.0, 182.0, 178.0, 181.0, 191.0, 164.0, 178.0, 194.0, 195.0, 171.0, 202.0, 178.0, 172.0, 193.0, 189.0, 216.0, 199.0, 197.0, 202.0, 200.0, 192.0, 196.0, 201.0, 176.0, 228.0, 185.0, 213.0, 221.0, 246.9, 178.5, 193.3, 202.5, 221.4, 195.7, 178.5, 184.4, 178.5, 200.3, 175.8, 211.5, 178.5, 158.1, 199.0, 178.1, 195.4, 219.7, 166.7, 198.7, 182.9, 190.7, 170.6, 177.6, 168.3, 181.9, 180.8, 173.8, 191.6, 194.9, 193.3, 193.3, 180.2, 177.9, 178.9, 127.3, 181.9, 178.1, 181.4, 190.6, 163.6, 178.5, 193.8, 194.9, 171.2, 201.7, 178.1, 171.6, 193.3, 188.6, 209.7, 178.8, 220.1, 201.9, 167.5, 167.8, 158.4, 213.5, 190.2, 175.1, 200.0, 167.9, 196.0, 166.6, 173.5, 201.3, 190.5, 191.3, 172.4, 193.8, 181.6, 180.3, 203.2, 186.4, 209.7, 187.6, 174.0, 193.3, 178.9, 185.8, 181.2, 169.9, 182.5, 236.7, 177.4, 209.7, 195.5, 168.4, 183.2, 179.6, 196.0, 192.7, 175.6, 200.6]}, {\"label\": \"superplasticizer\", \"values\": [2.5, 2.5, 0.0, 0.0, 0.0, 0.0, 0.0, 0.0, 0.0, 0.0, 0.0, 0.0, 0.0, 0.0, 0.0, 0.0, 0.0, 0.0, 0.0, 0.0, 0.0, 0.0, 0.0, 0.0, 0.0, 0.0, 0.0, 0.0, 0.0, 0.0, 0.0, 0.0, 0.0, 0.0, 0.0, 0.0, 0.0, 0.0, 0.0, 0.0, 0.0, 0.0, 0.0, 0.0, 0.0, 0.0, 0.0, 0.0, 0.0, 0.0, 0.0, 0.0, 0.0, 0.0, 0.0, 0.0, 0.0, 0.0, 0.0, 0.0, 0.0, 0.0, 0.0, 0.0, 0.0, 0.0, 0.0, 0.0, 0.0, 0.0, 10.1, 8.6, 16.5, 18.6, 23.4, 8.9, 32.2, 16.5, 12.1, 28.2, 16.5, 14.3, 11.4, 11.6, 10.3, 15.9, 11.6, 11.2, 11.6, 11.1, 22.0, 11.6, 9.5, 10.1, 8.6, 16.5, 18.6, 23.4, 8.9, 32.2, 16.5, 12.1, 28.2, 16.5, 14.3, 11.4, 11.6, 10.3, 15.9, 11.6, 11.2, 11.6, 11.1, 22.0, 11.6, 9.5, 10.1, 8.6, 16.5, 18.6, 23.4, 8.9, 32.2, 16.5, 12.1, 28.2, 16.5, 14.3, 11.4, 11.6, 10.3, 15.9, 11.6, 11.2, 11.6, 11.1, 22.0, 11.6, 9.5, 10.1, 8.6, 16.5, 18.6, 23.4, 8.9, 32.2, 16.5, 12.1, 28.2, 16.5, 14.3, 11.4, 11.6, 10.3, 15.9, 11.6, 11.2, 11.6, 11.1, 22.0, 11.6, 9.5, 10.1, 8.6, 16.5, 18.6, 23.4, 8.9, 32.2, 16.5, 12.1, 28.2, 16.5, 14.3, 11.4, 11.6, 15.9, 11.6, 11.2, 11.6, 11.1, 22.0, 11.6, 9.5, 4.46, 4.46, 4.46, 4.46, 4.46, 4.567, 4.567, 4.567, 4.567, 4.567, 7.48, 7.48, 7.48, 7.48, 7.48, 7.77, 7.77, 7.77, 7.77, 7.77, 5.69, 5.69, 5.69, 5.69, 5.69, 4.63, 4.63, 4.63, 4.63, 4.63, 9.88, 9.88, 9.88, 9.88, 9.88, 4.49, 4.49, 4.49, 4.49, 4.49, 5.72, 5.72, 5.72, 5.72, 5.72, 6.86, 6.86, 6.86, 6.86, 6.86, 6.65, 6.65, 6.65, 6.65, 6.65, 6.13, 6.13, 6.13, 6.13, 6.13, 7.0, 7.0, 7.0, 7.0, 7.0, 5.53, 5.53, 5.53, 5.53, 5.53, 8.71, 8.71, 8.71, 8.71, 8.71, 10.37, 10.37, 10.37, 10.37, 10.37, 7.84, 7.84, 7.84, 7.84, 7.84, 6.72, 6.72, 6.72, 6.72, 6.72, 5.75, 5.75, 5.75, 5.75, 5.75, 6.35, 6.35, 6.35, 6.35, 6.35, 7.56, 7.56, 7.56, 7.56, 7.56, 8.19, 8.19, 8.19, 8.19, 8.19, 10.83, 10.83, 10.83, 10.83, 10.83, 9.41, 9.41, 9.41, 9.41, 9.41, 11.83, 11.83, 11.83, 11.83, 11.83, 8.87, 8.87, 8.87, 8.87, 8.87, 12.35, 12.35, 12.35, 12.35, 12.35, 12.8, 12.8, 12.8, 12.8, 12.8, 14.17, 14.17, 14.17, 14.17, 14.17, 11.99, 11.99, 11.99, 11.99, 11.99, 9.9, 9.9, 9.9, 9.9, 9.9, 9.52, 9.52, 9.52, 9.52, 9.52, 10.16, 10.16, 10.16, 10.16, 10.16, 11.66, 11.66, 11.66, 11.66, 11.66, 11.19, 11.19, 11.19, 11.19, 11.19, 11.91, 11.91, 11.91, 11.91, 11.91, 9.61, 9.61, 9.61, 9.61, 9.61, 11.33, 11.33, 11.33, 11.33, 11.33, 0.0, 0.0, 0.0, 0.0, 0.0, 4.0, 1.9, 5.9, 0.0, 11.25, 8.2, 5.2, 6.86, 5.2, 20.0, 3.0, 3.0, 20.8, 17.9, 15.3, 0.0, 0.0, 8.26, 5.7, 6.4, 5.85, 9.45, 9.5, 7.6, 9.03, 10.35, 9.0, 0.0, 8.08, 3.57, 7.79, 4.14, 6.47, 7.91, 9.73, 9.88, 5.33, 11.66, 7.48, 5.75, 0.0, 8.08, 3.57, 7.79, 4.14, 6.47, 7.91, 9.73, 9.88, 5.33, 11.66, 7.48, 5.75, 0.0, 8.08, 3.57, 7.79, 4.14, 6.47, 7.91, 9.73, 9.88, 5.33, 11.66, 7.48, 5.75, 0.0, 8.08, 3.57, 7.79, 4.14, 6.47, 7.91, 9.73, 9.88, 5.33, 11.66, 7.48, 5.75, 0.0, 8.08, 3.57, 7.79, 4.14, 6.47, 7.91, 9.73, 9.88, 5.33, 11.66, 7.48, 5.75, 11.61, 11.64, 11.64, 10.3, 11.61, 11.64, 11.64, 11.61, 11.64, 11.64, 11.61, 11.64, 11.64, 10.3, 14.32, 13.93, 11.61, 14.32, 13.93, 11.61, 14.32, 13.93, 11.61, 14.32, 13.93, 11.61, 13.13, 12.25, 3.93, 3.93, 3.93, 3.93, 3.93, 3.93, 3.93, 3.93, 8.48, 8.48, 8.92, 8.48, 8.48, 8.92, 8.92, 8.92, 1.72, 1.72, 1.72, 1.72, 5.46, 5.46, 5.46, 5.46, 10.91, 10.91, 10.91, 10.91, 10.91, 10.91, 10.91, 10.91, 0.0, 0.0, 0.0, 0.0, 0.0, 0.0, 0.0, 0.0, 0.0, 0.0, 0.0, 0.0, 0.0, 0.0, 0.0, 0.0, 0.0, 0.0, 0.0, 0.0, 0.0, 0.0, 0.0, 0.0, 0.0, 0.0, 0.0, 0.0, 0.0, 0.0, 0.0, 0.0, 0.0, 0.0, 0.0, 0.0, 0.0, 0.0, 0.0, 0.0, 0.0, 0.0, 0.0, 0.0, 0.0, 0.0, 0.0, 0.0, 0.0, 0.0, 0.0, 0.0, 0.0, 0.0, 0.0, 0.0, 0.0, 0.0, 0.0, 0.0, 0.0, 0.0, 0.0, 0.0, 0.0, 0.0, 0.0, 0.0, 0.0, 0.0, 0.0, 0.0, 0.0, 0.0, 0.0, 0.0, 0.0, 0.0, 0.0, 0.0, 0.0, 0.0, 0.0, 0.0, 0.0, 0.0, 0.0, 0.0, 0.0, 0.0, 0.0, 0.0, 0.0, 0.0, 0.0, 0.0, 0.0, 0.0, 0.0, 0.0, 0.0, 0.0, 0.0, 0.0, 0.0, 0.0, 0.0, 0.0, 0.0, 0.0, 0.0, 0.0, 0.0, 0.0, 0.0, 0.0, 0.0, 0.0, 0.0, 0.0, 0.0, 0.0, 0.0, 0.0, 0.0, 0.0, 0.0, 0.0, 0.0, 0.0, 0.0, 0.0, 0.0, 0.0, 0.0, 0.0, 0.0, 0.0, 0.0, 0.0, 0.0, 0.0, 0.0, 0.0, 0.0, 0.0, 0.0, 0.0, 0.0, 0.0, 0.0, 0.0, 0.0, 0.0, 0.0, 0.0, 0.0, 0.0, 0.0, 0.0, 0.0, 0.0, 0.0, 0.0, 0.0, 0.0, 0.0, 0.0, 0.0, 0.0, 0.0, 0.0, 0.0, 0.0, 0.0, 0.0, 0.0, 0.0, 0.0, 0.0, 0.0, 0.0, 0.0, 0.0, 0.0, 0.0, 0.0, 0.0, 0.0, 0.0, 0.0, 0.0, 0.0, 0.0, 0.0, 0.0, 0.0, 0.0, 0.0, 0.0, 0.0, 0.0, 0.0, 0.0, 0.0, 0.0, 0.0, 0.0, 0.0, 0.0, 0.0, 0.0, 0.0, 0.0, 0.0, 0.0, 0.0, 0.0, 0.0, 0.0, 0.0, 0.0, 0.0, 0.0, 0.0, 0.0, 0.0, 0.0, 0.0, 0.0, 0.0, 0.0, 0.0, 0.0, 0.0, 0.0, 0.0, 0.0, 0.0, 0.0, 0.0, 0.0, 0.0, 0.0, 0.0, 0.0, 0.0, 0.0, 0.0, 0.0, 0.0, 0.0, 0.0, 0.0, 0.0, 0.0, 0.0, 0.0, 0.0, 0.0, 0.0, 0.0, 0.0, 0.0, 0.0, 0.0, 0.0, 0.0, 0.0, 0.0, 0.0, 0.0, 0.0, 0.0, 0.0, 0.0, 0.0, 0.0, 0.0, 0.0, 0.0, 0.0, 0.0, 0.0, 0.0, 0.0, 0.0, 0.0, 0.0, 0.0, 0.0, 0.0, 0.0, 0.0, 0.0, 0.0, 0.0, 0.0, 9.0, 19.0, 10.0, 9.0, 18.0, 22.0, 18.0, 6.0, 7.0, 15.0, 6.0, 10.0, 10.0, 12.0, 11.0, 6.0, 5.0, 7.0, 9.0, 8.0, 12.0, 11.0, 11.0, 6.0, 6.0, 9.0, 9.0, 11.0, 5.0, 8.0, 13.0, 10.0, 11.0, 6.0, 7.0, 11.0, 6.0, 12.0, 13.0, 9.0, 10.0, 6.0, 11.0, 9.0, 6.0, 8.0, 9.0, 3.0, 11.0, 3.0, 8.0, 8.0, 8.0, 7.0, 13.0, 10.0, 8.0, 16.0, 11.0, 8.0, 5.0, 11.0, 16.0, 11.0, 7.0, 8.0, 10.0, 10.0, 7.0, 3.0, 11.0, 12.0, 8.0, 8.0, 9.0, 9.0, 10.0, 10.0, 8.0, 8.0, 3.0, 7.0, 15.0, 7.0, 13.0, 8.0, 9.0, 6.0, 2.0, 8.0, 8.0, 10.0, 9.0, 6.0, 10.0, 6.0, 8.0, 10.0, 9.0, 8.0, 6.0, 7.0, 6.0, 7.0, 7.0, 6.0, 7.0, 6.0, 8.0, 9.1, 3.4, 10.5, 3.1, 8.0, 7.9, 8.0, 7.4, 12.6, 9.9, 8.0, 16.1, 10.8, 8.0, 5.0, 11.0, 15.6, 10.6, 7.1, 8.4, 10.4, 9.6, 7.2, 3.4, 11.1, 11.9, 8.5, 8.1, 9.1, 9.1, 10.0, 10.4, 8.0, 8.0, 3.4, 7.5, 15.0, 7.0, 12.8, 8.0, 9.2, 5.5, 2.2, 7.8, 8.0, 10.4, 9.1, 6.5, 9.0, 18.8, 10.1, 8.8, 18.3, 22.1, 17.9, 6.2, 6.7, 15.0, 6.3, 10.0, 9.8, 11.6, 10.9, 6.0, 4.6, 6.6, 9.5, 8.3, 11.7, 10.7, 11.3, 6.1, 5.7, 9.2, 8.9, 11.0, 5.5, 8.5, 12.6, 10.1, 11.5, 5.8, 7.0, 11.1, 5.9, 12.2, 12.7, 8.9, 10.4, 6.1, 11.3, 8.6]}, {\"label\": \"coarse\", \"values\": [1040.0, 1055.0, 932.0, 932.0, 978.4, 932.0, 932.0, 932.0, 932.0, 932.0, 978.4, 978.4, 932.0, 932.0, 932.0, 932.0, 1047.0, 932.0, 932.0, 932.0, 932.0, 1047.0, 1047.0, 1047.0, 932.0, 932.0, 932.0, 932.0, 932.0, 932.0, 932.0, 932.0, 978.4, 932.0, 932.0, 932.0, 932.0, 932.0, 932.0, 932.0, 932.0, 932.0, 932.0, 932.0, 932.0, 932.0, 1047.0, 932.0, 932.0, 932.0, 932.0, 932.0, 932.0, 932.0, 1047.0, 978.4, 932.0, 978.4, 932.0, 932.0, 932.0, 932.0, 971.0, 932.0, 932.0, 932.0, 1047.0, 932.0, 932.0, 1120.0, 926.1, 1046.9, 852.1, 936.0, 852.1, 852.1, 852.1, 852.1, 852.1, 852.1, 852.1, 852.1, 946.8, 944.7, 942.7, 1134.3, 944.7, 1004.6, 944.7, 884.9, 944.7, 944.7, 944.7, 926.1, 1046.9, 852.1, 936.0, 852.1, 852.1, 852.1, 852.1, 852.1, 852.1, 852.1, 852.1, 946.8, 944.7, 942.7, 1134.3, 944.7, 1004.6, 944.7, 884.9, 944.7, 944.7, 944.7, 926.1, 1046.9, 852.1, 936.0, 852.1, 852.1, 852.1, 852.1, 852.1, 852.1, 852.1, 852.1, 946.8, 944.7, 942.7, 1134.3, 944.7, 1004.6, 944.7, 884.9, 944.7, 944.7, 944.7, 926.1, 1046.9, 852.1, 936.0, 852.1, 852.1, 852.1, 852.1, 852.1, 852.1, 852.1, 852.1, 946.8, 944.7, 942.7, 1134.3, 944.7, 1004.6, 944.7, 884.9, 944.7, 944.7, 944.7, 926.1, 1046.9, 852.1, 936.0, 852.1, 852.1, 852.1, 852.1, 852.1, 852.1, 852.1, 852.1, 946.8, 944.7, 1134.3, 944.7, 1004.6, 944.7, 884.9, 944.7, 944.7, 944.7, 967.08, 967.08, 967.08, 967.08, 967.08, 947.04, 947.04, 947.04, 947.04, 947.04, 1006.4, 1006.4, 1006.4, 1006.4, 1006.4, 1090.0, 1090.0, 1090.0, 1090.0, 1090.0, 1057.6, 1057.6, 1057.6, 1057.6, 1057.6, 1029.4, 1029.4, 1029.4, 1029.4, 1029.4, 1088.1, 1088.1, 1088.1, 1088.1, 1088.1, 1058.6, 1058.6, 1058.6, 1058.6, 1058.6, 1058.7, 1058.7, 1058.7, 1058.7, 1058.7, 1065.8, 1065.8, 1065.8, 1065.8, 1065.8, 1066.0, 1066.0, 1066.0, 1066.0, 1066.0, 1028.1, 1028.1, 1028.1, 1028.1, 1028.1, 949.91, 949.91, 949.91, 949.91, 949.91, 956.86, 956.86, 956.86, 956.86, 956.86, 1007.8, 1007.8, 1007.8, 1007.8, 1007.8, 1003.8, 1003.8, 1003.8, 1003.8, 1003.8, 1085.4, 1085.4, 1085.4, 1085.4, 1085.4, 1056.4, 1056.4, 1056.4, 1056.4, 1056.4, 1028.4, 1028.4, 1028.4, 1028.4, 1028.4, 1028.4, 1028.4, 1028.4, 1028.4, 1028.4, 1055.6, 1055.6, 1055.6, 1055.6, 1055.6, 1059.4, 1059.4, 1059.4, 1059.4, 1059.4, 1080.8, 1080.8, 1080.8, 1080.8, 1080.8, 961.18, 961.18, 961.18, 961.18, 961.18, 973.9, 973.9, 973.9, 973.9, 973.9, 955.14, 955.14, 955.14, 955.14, 955.14, 1006.0, 1006.0, 1006.0, 1006.0, 1006.0, 987.76, 987.76, 987.76, 987.76, 987.76, 987.76, 987.76, 987.76, 987.76, 987.76, 1086.8, 1086.8, 1086.8, 1086.8, 1086.8, 1053.6, 1053.6, 1053.6, 1053.6, 1053.6, 1022.8, 1022.8, 1022.8, 1022.8, 1022.8, 1053.5, 1053.5, 1053.5, 1053.5, 1053.5, 1052.3, 1052.3, 1052.3, 1052.3, 1052.3, 1061.7, 1061.7, 1061.7, 1061.7, 1061.7, 1075.7, 1075.7, 1075.7, 1075.7, 1075.7, 1014.3, 1014.3, 1014.3, 1014.3, 1014.3, 1078.7, 1078.7, 1078.7, 1078.7, 1078.7, 1003.5, 1003.5, 1003.5, 1003.5, 1003.5, 966.0, 1098.0, 1130.0, 1030.0, 1030.0, 801.0, 855.0, 920.0, 870.0, 903.0, 1124.4, 1124.4, 967.0, 996.0, 967.0, 1120.0, 1145.0, 801.0, 833.0, 824.0, 981.0, 860.0, 1044.0, 1031.0, 1061.0, 830.0, 1033.0, 1005.6, 1005.8, 1007.3, 1006.3, 1006.3, 1006.2, 1007.3, 1007.2, 1079.0, 948.9, 1043.6, 998.0, 1043.6, 1005.6, 1005.8, 1007.3, 1006.3, 1006.3, 1006.2, 1007.3, 1007.2, 1079.0, 948.9, 1043.6, 998.0, 1043.6, 1005.6, 1005.8, 1007.3, 1006.3, 1006.3, 1006.2, 1007.3, 1007.2, 1079.0, 948.9, 1043.6, 998.0, 1043.6, 1005.6, 1005.8, 1007.3, 1006.3, 1006.3, 1006.2, 1007.3, 1007.2, 1079.0, 948.9, 1043.6, 998.0, 1043.6, 1005.6, 1005.8, 1007.3, 1006.3, 1006.3, 1006.2, 1007.3, 1007.2, 1079.0, 948.9, 1043.6, 998.0, 1043.6, 967.0, 967.0, 967.0, 967.0, 967.0, 967.0, 967.0, 967.0, 967.0, 967.0, 967.0, 967.0, 967.0, 967.0, 938.0, 938.0, 938.0, 938.0, 938.0, 938.0, 938.0, 938.0, 938.0, 938.0, 938.0, 938.0, 967.0, 967.0, 882.0, 822.0, 882.0, 882.0, 882.0, 822.0, 822.0, 822.0, 822.0, 882.0, 822.0, 822.0, 822.0, 822.0, 822.0, 822.0, 942.0, 942.0, 942.0, 942.0, 842.0, 842.0, 842.0, 842.0, 942.0, 942.0, 942.0, 942.0, 942.0, 942.0, 942.0, 942.0, 838.4, 913.2, 913.2, 940.6, 940.6, 940.6, 936.2, 936.2, 936.2, 936.2, 931.2, 889.8, 889.8, 913.2, 889.8, 931.2, 931.2, 913.2, 931.2, 940.6, 889.8, 1040.6, 941.6, 1040.6, 1012.4, 998.2, 1026.6, 1012.4, 941.6, 1055.0, 1040.6, 1047.8, 977.0, 1040.6, 1091.4, 1026.6, 1076.2, 1040.6, 1104.6, 1091.4, 955.8, 1055.0, 977.0, 1076.2, 1118.8, 1069.2, 1076.2, 998.2, 1076.2, 998.2, 1012.4, 1026.6, 977.0, 955.8, 998.2, 1104.6, 1040.6, 1083.4, 1069.2, 1118.8, 1111.6, 1047.8, 1111.6, 977.0, 1083.4, 1026.6, 1012.4, 968.0, 968.0, 968.0, 968.0, 968.0, 968.0, 968.0, 968.0, 968.0, 968.0, 968.0, 968.0, 968.0, 968.0, 968.0, 968.0, 968.0, 968.0, 968.0, 968.0, 968.0, 968.0, 968.0, 968.0, 968.0, 968.0, 968.0, 968.0, 968.0, 1125.0, 1125.0, 1113.0, 1113.0, 1063.0, 1063.0, 1088.0, 1088.0, 1075.0, 1075.0, 1038.0, 1038.0, 1025.0, 1025.0, 1100.0, 1100.0, 1050.0, 1050.0, 963.4, 977.6, 935.4, 971.8, 975.6, 958.2, 959.2, 887.0, 887.0, 958.2, 975.6, 965.4, 938.2, 965.4, 938.2, 909.8, 971.8, 935.4, 927.4, 977.6, 946.8, 929.8, 929.8, 888.0, 932.0, 965.4, 972.6, 946.8, 973.4, 972.6, 959.2, 975.6, 887.0, 932.0, 973.4, 887.0, 946.8, 959.2, 927.4, 929.8, 927.4, 965.4, 972.6, 938.2, 935.4, 932.0, 973.4, 973.4, 888.0, 972.6, 909.8, 959.2, 938.2, 963.4, 963.4, 927.4, 932.0, 965.4, 965.4, 977.6, 958.2, 888.0, 965.4, 909.8, 946.8, 977.6, 965.4, 929.8, 935.4, 888.0, 971.8, 909.8, 971.8, 958.2, 975.6, 963.4, 1012.0, 1012.0, 1012.0, 1012.0, 1012.0, 1025.0, 1025.0, 1025.0, 1025.0, 1025.0, 1056.0, 1056.0, 1056.0, 1056.0, 1056.0, 1119.0, 1119.0, 1090.0, 1090.0, 1040.0, 936.0, 936.0, 1040.0, 1104.0, 1104.0, 1125.0, 1125.0, 1125.0, 1125.0, 1125.0, 1125.0, 1125.0, 1125.0, 1125.0, 1125.0, 1125.0, 974.0, 974.0, 974.0, 974.0, 974.0, 974.0, 966.0, 966.0, 966.0, 966.0, 966.0, 978.0, 978.0, 1047.0, 978.0, 1047.0, 1047.0, 1111.0, 1104.0, 1069.0, 1069.0, 1069.0, 1069.0, 1118.0, 1085.0, 1085.0, 1085.0, 879.0, 978.0, 978.0, 978.0, 1047.0, 1047.0, 1047.0, 1047.0, 1047.0, 974.0, 974.0, 1125.0, 1125.0, 1125.0, 1125.0, 1125.0, 1111.0, 1111.0, 1060.0, 940.0, 940.0, 940.0, 1047.0, 1047.0, 1111.0, 1111.0, 970.0, 970.0, 970.0, 970.0, 970.0, 1125.0, 1125.0, 1125.0, 1125.0, 1125.0, 1125.0, 974.0, 974.0, 974.0, 974.0, 1040.0, 936.0, 896.0, 896.0, 904.0, 838.0, 923.0, 860.0, 944.0, 914.0, 943.0, 895.0, 1013.0, 953.0, 1002.0, 914.0, 959.0, 991.0, 883.0, 878.0, 870.0, 824.0, 825.0, 835.0, 1023.0, 1022.0, 829.0, 879.0, 861.0, 904.0, 882.0, 801.0, 867.0, 951.0, 849.0, 925.0, 870.0, 869.0, 908.0, 880.0, 833.0, 1049.0, 859.0, 870.0, 818.0, 892.0, 990.0, 864.0, 853.0, 1002.0, 1047.0, 827.0, 819.0, 949.0, 867.0, 992.0, 1002.0, 916.0, 847.0, 878.0, 867.0, 1002.0, 801.0, 1000.0, 895.0, 898.0, 1074.0, 931.0, 953.0, 967.0, 936.0, 917.0, 970.0, 986.0, 979.0, 1069.0, 814.0, 811.0, 1047.0, 877.0, 961.0, 910.0, 869.0, 1000.0, 986.0, 941.0, 839.0, 946.0, 953.0, 1002.0, 880.0, 924.0, 1000.0, 824.0, 1000.0, 923.0, 877.0, 919.0, 822.0, 847.0, 961.0, 820.0, 819.0, 935.0, 965.0, 848.0, 1021.0, 845.0, 898.0, 923.0, 854.0, 852.9, 1001.9, 1047.4, 827.0, 819.2, 949.4, 867.2, 992.0, 1001.9, 916.0, 846.8, 878.2, 867.2, 1001.8, 801.1, 999.7, 895.2, 897.7, 1074.5, 931.3, 953.4, 967.4, 935.7, 916.6, 970.4, 985.8, 979.5, 1069.3, 814.1, 811.0, 1047.4, 877.2, 961.0, 909.7, 869.1, 999.7, 985.8, 941.5, 838.9, 946.5, 953.2, 1001.9, 879.6, 924.1, 1000.0, 824.0, 999.7, 922.6, 877.2, 919.0, 904.0, 838.1, 923.2, 860.0, 944.0, 913.9, 942.7, 895.5, 1013.2, 953.3, 1001.8, 914.3, 959.4, 991.2, 882.6, 878.4, 870.0, 824.3, 825.1, 835.5, 1023.3, 1022.0, 828.7, 879.0, 860.5, 904.4, 881.6, 801.4, 866.9, 951.0, 849.3, 925.3, 870.1, 868.6, 907.9, 879.6, 832.6, 1049.3, 858.8, 870.1, 817.9, 892.4, 989.6, 864.5]}, {\"label\": \"aggregate\", \"values\": [676.0, 676.0, 594.0, 594.0, 825.5, 670.0, 594.0, 594.0, 670.0, 594.0, 825.5, 825.5, 594.0, 670.0, 670.0, 670.0, 806.9, 670.0, 594.0, 594.0, 594.0, 806.9, 806.9, 806.9, 670.0, 670.0, 594.0, 670.0, 594.0, 594.0, 670.0, 670.0, 825.5, 594.0, 670.0, 594.0, 594.0, 594.0, 594.0, 594.0, 670.0, 594.0, 594.0, 670.0, 594.0, 594.0, 806.9, 594.0, 594.0, 594.0, 594.0, 670.0, 594.0, 670.0, 806.9, 825.5, 594.0, 825.5, 670.0, 594.0, 670.0, 670.0, 850.6, 670.0, 670.0, 670.0, 806.9, 594.0, 670.0, 800.0, 756.7, 611.8, 887.1, 803.7, 992.6, 781.5, 840.5, 887.1, 925.7, 893.7, 887.1, 880.4, 852.1, 755.8, 659.9, 605.0, 755.8, 803.7, 755.8, 707.9, 755.8, 755.8, 755.8, 756.7, 611.8, 887.1, 803.7, 992.6, 781.5, 840.5, 887.1, 925.7, 893.7, 887.1, 880.4, 852.1, 755.8, 659.9, 605.0, 755.8, 803.7, 755.8, 707.9, 755.8, 755.8, 755.8, 756.7, 611.8, 887.1, 803.7, 992.6, 781.5, 840.5, 887.1, 925.7, 893.7, 887.1, 880.4, 852.1, 755.8, 659.9, 605.0, 755.8, 803.7, 755.8, 707.9, 755.8, 755.8, 755.8, 756.7, 611.8, 887.1, 803.7, 992.6, 781.5, 840.5, 887.1, 925.7, 893.7, 887.1, 880.4, 852.1, 755.8, 659.9, 605.0, 755.8, 803.7, 755.8, 707.9, 755.8, 755.8, 755.8, 756.7, 611.8, 887.1, 803.7, 992.6, 781.5, 840.5, 887.1, 925.7, 893.7, 887.1, 880.4, 852.1, 755.8, 605.0, 755.8, 803.7, 755.8, 707.9, 755.8, 755.8, 755.8, 870.32, 870.32, 870.32, 870.32, 870.32, 852.16, 852.16, 852.16, 852.16, 852.16, 905.9, 905.9, 905.9, 905.9, 905.9, 804.01, 804.01, 804.01, 804.01, 804.01, 779.32, 779.32, 779.32, 779.32, 779.32, 758.59, 758.59, 758.59, 758.59, 758.59, 802.59, 802.59, 802.59, 802.59, 802.59, 780.09, 780.09, 780.09, 780.09, 780.09, 780.11, 780.11, 780.11, 780.11, 780.11, 785.38, 785.38, 785.38, 785.38, 785.38, 785.52, 785.52, 785.52, 785.52, 785.52, 757.63, 757.63, 757.63, 757.63, 757.63, 847.01, 847.01, 847.01, 847.01, 847.01, 861.17, 861.17, 861.17, 861.17, 861.17, 903.59, 903.59, 903.59, 903.59, 903.59, 903.79, 903.79, 903.79, 903.79, 903.79, 799.54, 799.54, 799.54, 799.54, 799.54, 778.45, 778.45, 778.45, 778.45, 778.45, 757.73, 757.73, 757.73, 757.73, 757.73, 757.73, 757.73, 757.73, 757.73, 757.73, 777.8, 777.8, 777.8, 777.8, 777.8, 780.65, 780.65, 780.65, 780.65, 780.65, 796.15, 796.15, 796.15, 796.15, 796.15, 865.0, 865.0, 865.0, 865.0, 865.0, 875.61, 875.61, 875.61, 875.61, 875.61, 859.2, 859.2, 859.2, 859.2, 859.2, 899.76, 899.76, 899.76, 899.76, 899.76, 889.01, 889.01, 889.01, 889.01, 889.01, 889.01, 889.01, 889.01, 889.01, 889.01, 800.89, 800.89, 800.89, 800.89, 800.89, 777.5, 777.5, 777.5, 777.5, 777.5, 753.45, 753.45, 753.45, 753.45, 753.45, 776.35, 776.35, 776.35, 776.35, 776.35, 775.48, 775.48, 775.48, 775.48, 775.48, 782.46, 782.46, 782.46, 782.46, 782.46, 792.67, 792.67, 792.67, 792.67, 792.67, 780.58, 780.58, 780.58, 780.58, 780.58, 794.91, 794.91, 794.91, 794.91, 794.91, 762.36, 762.36, 762.36, 762.36, 762.36, 853.0, 641.0, 745.0, 630.0, 745.0, 802.0, 855.0, 720.0, 805.0, 768.0, 613.2, 613.2, 633.0, 652.0, 633.0, 695.0, 660.0, 802.0, 880.0, 879.0, 760.0, 800.0, 662.0, 685.0, 657.0, 765.0, 655.0, 900.9, 746.6, 746.8, 746.6, 856.4, 793.5, 770.1, 746.6, 798.9, 857.2, 771.9, 901.8, 754.3, 900.9, 746.6, 746.8, 746.6, 856.4, 793.5, 770.1, 746.6, 798.9, 857.2, 771.9, 901.8, 754.3, 900.9, 746.6, 746.8, 746.6, 856.4, 793.5, 770.1, 746.6, 798.9, 857.2, 771.9, 901.8, 754.3, 900.9, 746.6, 746.8, 746.6, 856.4, 793.5, 770.1, 746.6, 798.9, 857.2, 771.9, 901.8, 754.3, 900.9, 746.6, 746.8, 746.6, 856.4, 793.5, 770.1, 746.6, 798.9, 857.2, 771.9, 901.8, 754.3, 712.0, 712.0, 712.0, 712.0, 712.0, 712.0, 712.0, 712.0, 712.0, 712.0, 712.0, 712.0, 712.0, 712.0, 845.0, 845.0, 845.0, 845.0, 845.0, 845.0, 845.0, 845.0, 845.0, 845.0, 845.0, 845.0, 871.0, 871.0, 699.0, 699.0, 699.0, 699.0, 699.0, 699.0, 699.0, 699.0, 750.0, 750.0, 750.0, 750.0, 750.0, 750.0, 750.0, 750.0, 801.0, 801.0, 801.0, 801.0, 801.0, 801.0, 801.0, 801.0, 801.0, 801.0, 801.0, 801.0, 801.0, 801.0, 801.0, 801.0, 719.7, 895.3, 895.3, 785.6, 785.6, 785.6, 712.2, 712.2, 712.2, 712.2, 842.6, 945.0, 945.0, 895.3, 945.0, 842.6, 842.6, 895.3, 842.6, 785.6, 945.0, 734.3, 664.3, 734.3, 714.3, 704.3, 724.3, 714.3, 664.3, 744.3, 734.3, 739.3, 689.3, 734.3, 769.3, 724.3, 759.3, 734.3, 784.3, 769.3, 674.3, 744.3, 689.3, 759.3, 789.3, 754.3, 759.3, 704.3, 759.3, 704.3, 714.3, 724.3, 689.3, 674.3, 704.3, 784.3, 734.3, 764.3, 754.3, 789.3, 784.3, 739.3, 784.3, 689.3, 764.3, 724.3, 714.3, 781.0, 781.0, 781.0, 781.0, 781.0, 781.0, 781.0, 885.0, 885.0, 885.0, 885.0, 885.0, 885.0, 856.0, 856.0, 856.0, 856.0, 856.0, 856.0, 863.0, 863.0, 863.0, 863.0, 812.0, 812.0, 812.0, 812.0, 812.0, 885.0, 845.0, 845.0, 833.0, 833.0, 783.0, 783.0, 808.0, 808.0, 795.0, 795.0, 758.0, 758.0, 745.0, 745.0, 820.0, 820.0, 770.0, 770.0, 630.0, 694.1, 781.2, 748.5, 692.6, 800.1, 800.0, 942.0, 942.0, 800.1, 692.6, 806.2, 849.0, 631.0, 849.0, 891.9, 748.5, 781.2, 839.2, 694.1, 856.8, 716.1, 716.1, 943.1, 717.8, 631.0, 749.1, 856.8, 750.0, 749.1, 800.0, 692.6, 942.0, 717.8, 750.0, 942.0, 856.8, 800.0, 839.2, 716.1, 839.2, 631.0, 749.1, 849.0, 781.2, 717.8, 750.0, 750.0, 943.1, 749.1, 891.9, 800.0, 849.0, 630.0, 630.0, 839.2, 717.8, 806.2, 806.2, 694.1, 800.1, 943.1, 806.2, 891.9, 856.8, 694.1, 631.0, 716.1, 781.2, 943.1, 748.5, 891.9, 748.5, 800.1, 692.6, 630.0, 830.0, 830.0, 830.0, 830.0, 830.0, 821.0, 821.0, 821.0, 821.0, 821.0, 809.0, 809.0, 809.0, 809.0, 809.0, 789.0, 789.0, 769.0, 769.0, 734.0, 721.0, 721.0, 734.0, 774.0, 774.0, 613.0, 613.0, 613.0, 613.0, 613.0, 613.0, 613.0, 613.0, 613.0, 613.0, 613.0, 775.0, 775.0, 775.0, 775.0, 775.0, 775.0, 763.0, 763.0, 763.0, 763.0, 763.0, 825.0, 825.0, 806.0, 825.0, 739.0, 739.0, 784.0, 774.0, 754.0, 754.0, 769.0, 769.0, 789.0, 765.0, 765.0, 765.0, 825.0, 825.0, 825.0, 825.0, 806.0, 806.0, 806.0, 806.0, 806.0, 817.0, 817.0, 613.0, 613.0, 613.0, 613.0, 613.0, 784.0, 784.0, 754.0, 758.0, 758.0, 758.0, 739.0, 739.0, 784.0, 784.0, 850.0, 850.0, 850.0, 850.0, 850.0, 613.0, 613.0, 613.0, 613.0, 613.0, 613.0, 800.0, 800.0, 800.0, 817.0, 734.0, 721.0, 896.0, 896.0, 680.0, 741.0, 658.0, 829.0, 695.0, 651.0, 844.0, 722.0, 730.0, 720.0, 684.0, 804.0, 705.0, 772.0, 785.0, 655.0, 774.0, 757.0, 805.0, 821.0, 729.0, 698.0, 710.0, 815.0, 737.0, 696.0, 790.0, 778.0, 736.0, 709.0, 846.0, 783.0, 780.0, 656.0, 829.0, 744.0, 790.0, 688.0, 827.0, 768.0, 813.0, 780.0, 789.0, 761.0, 695.0, 689.0, 697.0, 872.0, 778.0, 795.0, 824.0, 816.0, 689.0, 753.0, 893.0, 728.0, 824.0, 830.0, 792.0, 822.0, 733.0, 713.0, 678.0, 762.0, 780.0, 643.0, 763.0, 759.0, 794.0, 817.0, 812.0, 675.0, 805.0, 802.0, 697.0, 868.0, 805.0, 745.0, 690.0, 822.0, 817.0, 774.0, 884.0, 666.0, 784.0, 689.0, 699.0, 760.0, 828.0, 869.0, 822.0, 764.0, 868.0, 749.0, 638.0, 783.0, 641.0, 680.0, 704.0, 623.0, 643.0, 669.0, 709.0, 612.0, 636.0, 623.0, 614.0, 695.4, 688.7, 696.7, 871.8, 778.4, 795.3, 824.0, 815.9, 688.7, 753.4, 892.7, 727.6, 824.0, 830.1, 792.5, 822.2, 732.6, 712.9, 678.0, 762.2, 780.3, 643.5, 762.9, 759.5, 794.2, 816.8, 811.5, 674.8, 805.3, 802.3, 696.7, 867.7, 804.9, 744.5, 690.2, 822.2, 816.8, 774.3, 884.3, 665.6, 784.0, 688.7, 698.5, 760.1, 828.5, 868.7, 822.2, 764.4, 867.7, 749.3, 679.7, 741.4, 657.9, 829.5, 694.6, 651.2, 844.5, 722.5, 730.4, 719.7, 683.9, 804.0, 705.2, 772.2, 785.3, 655.3, 774.0, 756.9, 804.9, 821.4, 728.9, 697.7, 709.7, 815.2, 736.6, 695.9, 790.0, 778.4, 735.6, 709.5, 846.0, 782.9, 779.7, 655.6, 829.5, 744.2, 790.4, 688.2, 826.8, 768.3, 813.4, 780.0, 788.9, 761.5]}, {\"label\": \"age\", \"values\": [28, 28, 270, 365, 360, 90, 365, 28, 28, 28, 90, 28, 270, 90, 28, 90, 90, 365, 90, 180, 180, 28, 3, 180, 365, 270, 270, 180, 28, 7, 365, 365, 180, 270, 365, 270, 28, 90, 90, 180, 90, 365, 365, 180, 90, 7, 3, 180, 7, 7, 180, 180, 90, 90, 7, 7, 365, 3, 180, 28, 270, 270, 3, 270, 180, 270, 360, 7, 28, 28, 3, 3, 3, 3, 3, 3, 3, 3, 3, 3, 3, 3, 3, 3, 3, 3, 3, 3, 3, 3, 3, 3, 3, 7, 7, 7, 7, 7, 7, 7, 7, 7, 7, 7, 7, 7, 7, 7, 7, 7, 7, 7, 7, 7, 7, 7, 28, 28, 28, 28, 28, 28, 28, 28, 28, 28, 28, 28, 28, 28, 28, 28, 28, 28, 28, 28, 28, 28, 28, 56, 56, 56, 56, 56, 56, 56, 56, 56, 56, 56, 56, 56, 56, 56, 56, 56, 56, 56, 56, 56, 56, 56, 91, 91, 91, 91, 91, 91, 91, 91, 91, 91, 91, 91, 91, 91, 91, 91, 91, 91, 91, 91, 91, 91, 3, 14, 28, 56, 100, 3, 14, 28, 56, 100, 3, 14, 28, 56, 100, 3, 14, 28, 56, 100, 3, 14, 28, 56, 100, 3, 14, 28, 56, 100, 3, 14, 28, 56, 100, 3, 14, 28, 56, 100, 3, 14, 28, 56, 100, 3, 14, 28, 56, 100, 3, 14, 28, 56, 100, 3, 14, 28, 56, 100, 3, 14, 28, 56, 100, 3, 14, 28, 56, 100, 3, 14, 28, 56, 100, 3, 14, 28, 56, 100, 3, 14, 28, 56, 100, 3, 14, 28, 56, 100, 3, 14, 28, 56, 100, 3, 14, 28, 56, 100, 3, 14, 28, 56, 100, 3, 14, 28, 56, 100, 3, 14, 28, 56, 100, 3, 14, 28, 56, 100, 3, 14, 28, 56, 100, 3, 14, 28, 56, 100, 3, 14, 28, 56, 100, 3, 14, 28, 56, 100, 3, 14, 28, 56, 100, 3, 14, 28, 56, 100, 3, 14, 28, 56, 100, 3, 14, 28, 56, 100, 3, 14, 28, 56, 100, 3, 14, 28, 56, 100, 3, 14, 28, 56, 100, 3, 14, 28, 56, 100, 3, 14, 28, 56, 100, 3, 14, 28, 56, 100, 3, 14, 28, 56, 100, 28, 28, 28, 28, 28, 28, 28, 28, 28, 28, 28, 28, 28, 28, 28, 28, 28, 28, 28, 28, 28, 28, 28, 28, 28, 28, 28, 3, 3, 3, 3, 3, 3, 3, 3, 3, 3, 3, 3, 3, 14, 14, 14, 14, 14, 14, 14, 14, 14, 14, 14, 14, 14, 28, 28, 28, 28, 28, 28, 28, 28, 28, 28, 28, 28, 28, 56, 56, 56, 56, 56, 56, 56, 56, 56, 56, 56, 56, 56, 100, 100, 100, 100, 100, 100, 100, 100, 100, 100, 100, 100, 100, 28, 28, 28, 28, 3, 3, 3, 7, 7, 7, 56, 56, 56, 56, 28, 28, 28, 3, 3, 3, 7, 7, 7, 56, 56, 56, 28, 28, 28, 28, 3, 7, 56, 3, 7, 56, 28, 3, 28, 7, 56, 3, 7, 56, 28, 3, 7, 56, 28, 3, 7, 56, 28, 28, 3, 3, 7, 7, 56, 56, 28, 90, 3, 3, 90, 28, 28, 7, 90, 3, 3, 90, 7, 7, 28, 28, 7, 28, 90, 7, 3, 7, 7, 7, 28, 28, 7, 7, 28, 28, 28, 7, 7, 28, 7, 28, 7, 7, 28, 28, 28, 7, 28, 7, 28, 7, 28, 7, 28, 7, 7, 28, 28, 7, 28, 7, 28, 7, 28, 7, 28, 28, 7, 7, 28, 7, 28, 3, 7, 14, 28, 90, 180, 365, 3, 14, 28, 90, 180, 365, 14, 28, 3, 90, 180, 360, 3, 90, 180, 365, 180, 365, 3, 28, 90, 7, 7, 28, 7, 28, 7, 28, 7, 28, 7, 28, 7, 28, 28, 7, 7, 28, 7, 28, 7, 90, 90, 28, 3, 90, 3, 3, 90, 28, 28, 3, 28, 7, 90, 90, 7, 28, 28, 7, 7, 3, 28, 3, 3, 28, 7, 3, 7, 3, 90, 7, 7, 28, 28, 28, 28, 28, 90, 90, 7, 3, 90, 3, 7, 7, 3, 90, 28, 28, 28, 7, 7, 28, 3, 3, 90, 7, 28, 3, 3, 90, 90, 3, 90, 28, 90, 7, 3, 7, 90, 7, 3, 7, 90, 90, 3, 7, 28, 90, 120, 3, 7, 28, 90, 120, 3, 7, 28, 90, 120, 7, 28, 7, 28, 7, 28, 90, 28, 7, 28, 1, 3, 7, 14, 28, 7, 14, 28, 90, 180, 270, 7, 14, 28, 56, 90, 180, 1, 3, 7, 14, 28, 180, 360, 3, 3, 7, 28, 7, 28, 7, 28, 7, 28, 28, 7, 28, 90, 3, 7, 28, 90, 7, 28, 90, 180, 360, 14, 180, 180, 90, 180, 270, 3, 7, 28, 28, 3, 28, 90, 7, 28, 7, 28, 7, 28, 90, 180, 360, 3, 7, 14, 28, 90, 270, 14, 28, 180, 28, 28, 3, 7, 28, 28, 28, 28, 28, 28, 28, 28, 28, 28, 28, 28, 28, 28, 28, 28, 28, 28, 28, 28, 28, 28, 28, 28, 28, 28, 28, 28, 28, 28, 28, 28, 28, 28, 28, 28, 28, 28, 28, 28, 28, 28, 28, 28, 28, 28, 28, 28, 28, 28, 28, 28, 28, 28, 28, 28, 28, 28, 28, 28, 28, 28, 28, 28, 28, 28, 28, 28, 28, 28, 28, 28, 28, 28, 28, 28, 28, 28, 28, 28, 28, 28, 28, 28, 28, 28, 28, 28, 28, 28, 28, 28, 28, 28, 28, 28, 28, 28, 28, 28, 28, 28, 28, 28, 28, 28, 28, 28, 28, 28, 28, 28, 28, 28, 28, 28, 28, 28, 28, 28, 28, 28, 28, 28, 28, 28, 28, 28, 28, 28, 28, 28, 28, 28, 28, 28, 28, 28, 28, 28, 28, 28, 28, 28, 28, 28, 28, 28, 28, 28, 28, 28, 28, 28, 28, 28, 28, 28, 28, 28, 28, 28, 28, 28, 28, 28, 28, 28, 28, 28, 28, 28, 28, 28, 28, 28, 28, 28, 28, 28, 28, 28, 28, 28, 28, 28, 28, 28, 28, 28, 28, 28, 28, 28, 28, 28, 28, 28, 28, 28, 28, 28]}], \"showupperhalf\": false, \"type\": \"splom\"}],\n",
              "                        {\"template\": {\"data\": {\"bar\": [{\"error_x\": {\"color\": \"#2a3f5f\"}, \"error_y\": {\"color\": \"#2a3f5f\"}, \"marker\": {\"line\": {\"color\": \"#E5ECF6\", \"width\": 0.5}}, \"type\": \"bar\"}], \"barpolar\": [{\"marker\": {\"line\": {\"color\": \"#E5ECF6\", \"width\": 0.5}}, \"type\": \"barpolar\"}], \"carpet\": [{\"aaxis\": {\"endlinecolor\": \"#2a3f5f\", \"gridcolor\": \"white\", \"linecolor\": \"white\", \"minorgridcolor\": \"white\", \"startlinecolor\": \"#2a3f5f\"}, \"baxis\": {\"endlinecolor\": \"#2a3f5f\", \"gridcolor\": \"white\", \"linecolor\": \"white\", \"minorgridcolor\": \"white\", \"startlinecolor\": \"#2a3f5f\"}, \"type\": \"carpet\"}], \"choropleth\": [{\"colorbar\": {\"outlinewidth\": 0, \"ticks\": \"\"}, \"type\": \"choropleth\"}], \"contour\": [{\"colorbar\": {\"outlinewidth\": 0, \"ticks\": \"\"}, \"colorscale\": [[0.0, \"#0d0887\"], [0.1111111111111111, \"#46039f\"], [0.2222222222222222, \"#7201a8\"], [0.3333333333333333, \"#9c179e\"], [0.4444444444444444, \"#bd3786\"], [0.5555555555555556, \"#d8576b\"], [0.6666666666666666, \"#ed7953\"], [0.7777777777777778, \"#fb9f3a\"], [0.8888888888888888, \"#fdca26\"], [1.0, \"#f0f921\"]], \"type\": \"contour\"}], \"contourcarpet\": [{\"colorbar\": {\"outlinewidth\": 0, \"ticks\": \"\"}, \"type\": \"contourcarpet\"}], \"heatmap\": [{\"colorbar\": {\"outlinewidth\": 0, \"ticks\": \"\"}, \"colorscale\": [[0.0, \"#0d0887\"], [0.1111111111111111, \"#46039f\"], [0.2222222222222222, \"#7201a8\"], [0.3333333333333333, \"#9c179e\"], [0.4444444444444444, \"#bd3786\"], [0.5555555555555556, \"#d8576b\"], [0.6666666666666666, \"#ed7953\"], [0.7777777777777778, \"#fb9f3a\"], [0.8888888888888888, \"#fdca26\"], [1.0, \"#f0f921\"]], \"type\": \"heatmap\"}], \"heatmapgl\": [{\"colorbar\": {\"outlinewidth\": 0, \"ticks\": \"\"}, \"colorscale\": [[0.0, \"#0d0887\"], [0.1111111111111111, \"#46039f\"], [0.2222222222222222, \"#7201a8\"], [0.3333333333333333, \"#9c179e\"], [0.4444444444444444, \"#bd3786\"], [0.5555555555555556, \"#d8576b\"], [0.6666666666666666, \"#ed7953\"], [0.7777777777777778, \"#fb9f3a\"], [0.8888888888888888, \"#fdca26\"], [1.0, \"#f0f921\"]], \"type\": \"heatmapgl\"}], \"histogram\": [{\"marker\": {\"colorbar\": {\"outlinewidth\": 0, \"ticks\": \"\"}}, \"type\": \"histogram\"}], \"histogram2d\": [{\"colorbar\": {\"outlinewidth\": 0, \"ticks\": \"\"}, \"colorscale\": [[0.0, \"#0d0887\"], [0.1111111111111111, \"#46039f\"], [0.2222222222222222, \"#7201a8\"], [0.3333333333333333, \"#9c179e\"], [0.4444444444444444, \"#bd3786\"], [0.5555555555555556, \"#d8576b\"], [0.6666666666666666, \"#ed7953\"], [0.7777777777777778, \"#fb9f3a\"], [0.8888888888888888, \"#fdca26\"], [1.0, \"#f0f921\"]], \"type\": \"histogram2d\"}], \"histogram2dcontour\": [{\"colorbar\": {\"outlinewidth\": 0, \"ticks\": \"\"}, \"colorscale\": [[0.0, \"#0d0887\"], [0.1111111111111111, \"#46039f\"], [0.2222222222222222, \"#7201a8\"], [0.3333333333333333, \"#9c179e\"], [0.4444444444444444, \"#bd3786\"], [0.5555555555555556, \"#d8576b\"], [0.6666666666666666, \"#ed7953\"], [0.7777777777777778, \"#fb9f3a\"], [0.8888888888888888, \"#fdca26\"], [1.0, \"#f0f921\"]], \"type\": \"histogram2dcontour\"}], \"mesh3d\": [{\"colorbar\": {\"outlinewidth\": 0, \"ticks\": \"\"}, \"type\": \"mesh3d\"}], \"parcoords\": [{\"line\": {\"colorbar\": {\"outlinewidth\": 0, \"ticks\": \"\"}}, \"type\": \"parcoords\"}], \"scatter\": [{\"marker\": {\"colorbar\": {\"outlinewidth\": 0, \"ticks\": \"\"}}, \"type\": \"scatter\"}], \"scatter3d\": [{\"line\": {\"colorbar\": {\"outlinewidth\": 0, \"ticks\": \"\"}}, \"marker\": {\"colorbar\": {\"outlinewidth\": 0, \"ticks\": \"\"}}, \"type\": \"scatter3d\"}], \"scattercarpet\": [{\"marker\": {\"colorbar\": {\"outlinewidth\": 0, \"ticks\": \"\"}}, \"type\": \"scattercarpet\"}], \"scattergeo\": [{\"marker\": {\"colorbar\": {\"outlinewidth\": 0, \"ticks\": \"\"}}, \"type\": \"scattergeo\"}], \"scattergl\": [{\"marker\": {\"colorbar\": {\"outlinewidth\": 0, \"ticks\": \"\"}}, \"type\": \"scattergl\"}], \"scattermapbox\": [{\"marker\": {\"colorbar\": {\"outlinewidth\": 0, \"ticks\": \"\"}}, \"type\": \"scattermapbox\"}], \"scatterpolar\": [{\"marker\": {\"colorbar\": {\"outlinewidth\": 0, \"ticks\": \"\"}}, \"type\": \"scatterpolar\"}], \"scatterpolargl\": [{\"marker\": {\"colorbar\": {\"outlinewidth\": 0, \"ticks\": \"\"}}, \"type\": \"scatterpolargl\"}], \"scatterternary\": [{\"marker\": {\"colorbar\": {\"outlinewidth\": 0, \"ticks\": \"\"}}, \"type\": \"scatterternary\"}], \"surface\": [{\"colorbar\": {\"outlinewidth\": 0, \"ticks\": \"\"}, \"colorscale\": [[0.0, \"#0d0887\"], [0.1111111111111111, \"#46039f\"], [0.2222222222222222, \"#7201a8\"], [0.3333333333333333, \"#9c179e\"], [0.4444444444444444, \"#bd3786\"], [0.5555555555555556, \"#d8576b\"], [0.6666666666666666, \"#ed7953\"], [0.7777777777777778, \"#fb9f3a\"], [0.8888888888888888, \"#fdca26\"], [1.0, \"#f0f921\"]], \"type\": \"surface\"}], \"table\": [{\"cells\": {\"fill\": {\"color\": \"#EBF0F8\"}, \"line\": {\"color\": \"white\"}}, \"header\": {\"fill\": {\"color\": \"#C8D4E3\"}, \"line\": {\"color\": \"white\"}}, \"type\": \"table\"}]}, \"layout\": {\"annotationdefaults\": {\"arrowcolor\": \"#2a3f5f\", \"arrowhead\": 0, \"arrowwidth\": 1}, \"colorscale\": {\"diverging\": [[0, \"#8e0152\"], [0.1, \"#c51b7d\"], [0.2, \"#de77ae\"], [0.3, \"#f1b6da\"], [0.4, \"#fde0ef\"], [0.5, \"#f7f7f7\"], [0.6, \"#e6f5d0\"], [0.7, \"#b8e186\"], [0.8, \"#7fbc41\"], [0.9, \"#4d9221\"], [1, \"#276419\"]], \"sequential\": [[0.0, \"#0d0887\"], [0.1111111111111111, \"#46039f\"], [0.2222222222222222, \"#7201a8\"], [0.3333333333333333, \"#9c179e\"], [0.4444444444444444, \"#bd3786\"], [0.5555555555555556, \"#d8576b\"], [0.6666666666666666, \"#ed7953\"], [0.7777777777777778, \"#fb9f3a\"], [0.8888888888888888, \"#fdca26\"], [1.0, \"#f0f921\"]], \"sequentialminus\": [[0.0, \"#0d0887\"], [0.1111111111111111, \"#46039f\"], [0.2222222222222222, \"#7201a8\"], [0.3333333333333333, \"#9c179e\"], [0.4444444444444444, \"#bd3786\"], [0.5555555555555556, \"#d8576b\"], [0.6666666666666666, \"#ed7953\"], [0.7777777777777778, \"#fb9f3a\"], [0.8888888888888888, \"#fdca26\"], [1.0, \"#f0f921\"]]}, \"colorway\": [\"#636efa\", \"#EF553B\", \"#00cc96\", \"#ab63fa\", \"#FFA15A\", \"#19d3f3\", \"#FF6692\", \"#B6E880\", \"#FF97FF\", \"#FECB52\"], \"font\": {\"color\": \"#2a3f5f\"}, \"geo\": {\"bgcolor\": \"white\", \"lakecolor\": \"white\", \"landcolor\": \"#E5ECF6\", \"showlakes\": true, \"showland\": true, \"subunitcolor\": \"white\"}, \"hoverlabel\": {\"align\": \"left\"}, \"hovermode\": \"closest\", \"mapbox\": {\"style\": \"light\"}, \"paper_bgcolor\": \"white\", \"plot_bgcolor\": \"#E5ECF6\", \"polar\": {\"angularaxis\": {\"gridcolor\": \"white\", \"linecolor\": \"white\", \"ticks\": \"\"}, \"bgcolor\": \"#E5ECF6\", \"radialaxis\": {\"gridcolor\": \"white\", \"linecolor\": \"white\", \"ticks\": \"\"}}, \"scene\": {\"xaxis\": {\"backgroundcolor\": \"#E5ECF6\", \"gridcolor\": \"white\", \"gridwidth\": 2, \"linecolor\": \"white\", \"showbackground\": true, \"ticks\": \"\", \"zerolinecolor\": \"white\"}, \"yaxis\": {\"backgroundcolor\": \"#E5ECF6\", \"gridcolor\": \"white\", \"gridwidth\": 2, \"linecolor\": \"white\", \"showbackground\": true, \"ticks\": \"\", \"zerolinecolor\": \"white\"}, \"zaxis\": {\"backgroundcolor\": \"#E5ECF6\", \"gridcolor\": \"white\", \"gridwidth\": 2, \"linecolor\": \"white\", \"showbackground\": true, \"ticks\": \"\", \"zerolinecolor\": \"white\"}}, \"shapedefaults\": {\"line\": {\"color\": \"#2a3f5f\"}}, \"ternary\": {\"aaxis\": {\"gridcolor\": \"white\", \"linecolor\": \"white\", \"ticks\": \"\"}, \"baxis\": {\"gridcolor\": \"white\", \"linecolor\": \"white\", \"ticks\": \"\"}, \"bgcolor\": \"#E5ECF6\", \"caxis\": {\"gridcolor\": \"white\", \"linecolor\": \"white\", \"ticks\": \"\"}}, \"title\": {\"x\": 0.05}, \"xaxis\": {\"automargin\": true, \"gridcolor\": \"white\", \"linecolor\": \"white\", \"ticks\": \"\", \"zerolinecolor\": \"white\", \"zerolinewidth\": 2}, \"yaxis\": {\"automargin\": true, \"gridcolor\": \"white\", \"linecolor\": \"white\", \"ticks\": \"\", \"zerolinecolor\": \"white\", \"zerolinewidth\": 2}}}},\n",
              "                        {\"responsive\": true}\n",
              "                    ).then(function(){\n",
              "                            \n",
              "var gd = document.getElementById('ef94f10d-04b4-4738-a73b-e4165bc4e157');\n",
              "var x = new MutationObserver(function (mutations, observer) {{\n",
              "        var display = window.getComputedStyle(gd).display;\n",
              "        if (!display || display === 'none') {{\n",
              "            console.log([gd, 'removed!']);\n",
              "            Plotly.purge(gd);\n",
              "            observer.disconnect();\n",
              "        }}\n",
              "}});\n",
              "\n",
              "// Listen for the removal of the full notebook cells\n",
              "var notebookContainer = gd.closest('#notebook-container');\n",
              "if (notebookContainer) {{\n",
              "    x.observe(notebookContainer, {childList: true});\n",
              "}}\n",
              "\n",
              "// Listen for the clearing of the current output cell\n",
              "var outputEl = gd.closest('.output');\n",
              "if (outputEl) {{\n",
              "    x.observe(outputEl, {childList: true});\n",
              "}}\n",
              "\n",
              "                        })\n",
              "                };\n",
              "                \n",
              "            </script>\n",
              "        </div>\n",
              "</body>\n",
              "</html>"
            ]
          },
          "metadata": {
            "tags": []
          }
        }
      ]
    },
    {
      "cell_type": "markdown",
      "metadata": {
        "id": "gGh1wLIjl59D",
        "colab_type": "text"
      },
      "source": [
        "### Sélection du paramètre $\\alpha$\n",
        "\n",
        "* Le choix de $\\alpha$ est très important.\n",
        "\n",
        "* On choisit $\\alpha$ qui minimise l'erreur de cross validation parmi plusieurs\n",
        " valeurs définies dans une grille.  "
      ]
    },
    {
      "cell_type": "code",
      "metadata": {
        "id": "3VWF--Yip3K9",
        "colab_type": "code",
        "colab": {}
      },
      "source": [
        "# todo plot lines when alpha changes"
      ],
      "execution_count": 0,
      "outputs": []
    },
    {
      "cell_type": "markdown",
      "metadata": {
        "id": "GpUHTVqHnJqI",
        "colab_type": "text"
      },
      "source": [
        "# Jeu de données Boston"
      ]
    },
    {
      "cell_type": "code",
      "metadata": {
        "id": "7cJ29xFqojA7",
        "colab_type": "code",
        "colab": {}
      },
      "source": [
        "boston = load_boston()\n",
        "X, Y = boston.data, boston.target"
      ],
      "execution_count": 0,
      "outputs": []
    },
    {
      "cell_type": "code",
      "metadata": {
        "id": "jih3477Yn-aP",
        "colab_type": "code",
        "colab": {}
      },
      "source": [
        "# split into train/test\n",
        "ratio, seed = 0.2, 42\n",
        "X_train, X_test, Y_train, Y_test = train_test_split(X, Y,\n",
        "                                                    test_size=ratio,\n",
        "                                                    random_state=seed)"
      ],
      "execution_count": 0,
      "outputs": []
    },
    {
      "cell_type": "markdown",
      "metadata": {
        "id": "PQn4s6GZsDHi",
        "colab_type": "text"
      },
      "source": [
        "* Appliquer et comparer la régression Ridge et la régression Lasso sur le jeu\n",
        " de données boston. "
      ]
    },
    {
      "cell_type": "code",
      "metadata": {
        "pycharm": {
          "name": "#%%\n",
          "is_executing": false
        },
        "id": "GYGkMD0NRWIv",
        "colab_type": "code",
        "colab": {}
      },
      "source": [
        "alpha = 1\n",
        "l1_ratio = 0.5\n",
        "\n",
        "# initialize classifiers\n",
        "classifiers = {\n",
        "    f'Ridge_alpha={alpha}': Ridge(alpha=alpha),\n",
        "    f'Lasso_alpha={alpha}': Lasso(alpha=alpha),\n",
        "    f'ElasticNet_alpha={alpha} & l1_ratio={l1_ratio}': ElasticNet(alpha=alpha, l1_ratio=l1_ratio),\n",
        "    'LinearRegression': LinearRegression()\n",
        "}\n",
        "\n",
        "results = []\n",
        "\n",
        "# train classifiers while saving coefficients and scores\n",
        "for clf_name, clf in classifiers.items():\n",
        "    clf.fit(X_train, Y_train)\n",
        "    results.append({\n",
        "        'name': clf_name,\n",
        "        'coefficients': clf.coef_,\n",
        "        'train_score': clf.score(X_train, Y_train),\n",
        "        'test_score': clf.score(X_test, Y_test)\n",
        "    })"
      ],
      "execution_count": 0,
      "outputs": []
    },
    {
      "cell_type": "markdown",
      "metadata": {
        "id": "sRmRhpREsY_G",
        "colab_type": "text"
      },
      "source": [
        "* Afficher les coefficients des régressions."
      ]
    },
    {
      "cell_type": "code",
      "metadata": {
        "id": "YKWcID8NsOHq",
        "colab_type": "code",
        "outputId": "137cf6e1-087d-4f3b-be65-2029873006cf",
        "colab": {
          "base_uri": "https://localhost:8080/",
          "height": 542
        }
      },
      "source": [
        "# ploting coefficients\n",
        "traces = []\n",
        "\n",
        "for result in results:\n",
        "    traces.append(\n",
        "        go.Bar(\n",
        "            x=boston.feature_names,\n",
        "            y=result['coefficients'],\n",
        "            name=f\"Coefficients {result['name']}\",\n",
        "            text=result['coefficients'].round(3),\n",
        "            textposition='auto'\n",
        "        )\n",
        "    )\n",
        "\n",
        "fig = go.Figure(\n",
        "    data=traces,\n",
        "    layout={\n",
        "        'legend': {\n",
        "            'orientation': 'h'\n",
        "        }\n",
        "    }\n",
        ")\n",
        "fig.show()"
      ],
      "execution_count": 0,
      "outputs": [
        {
          "output_type": "display_data",
          "data": {
            "text/html": [
              "<html>\n",
              "<head><meta charset=\"utf-8\" /></head>\n",
              "<body>\n",
              "    <div>\n",
              "            <script src=\"https://cdnjs.cloudflare.com/ajax/libs/mathjax/2.7.5/MathJax.js?config=TeX-AMS-MML_SVG\"></script><script type=\"text/javascript\">if (window.MathJax) {MathJax.Hub.Config({SVG: {font: \"STIX-Web\"}});}</script>\n",
              "                <script type=\"text/javascript\">window.PlotlyConfig = {MathJaxConfig: 'local'};</script>\n",
              "        <script src=\"https://cdn.plot.ly/plotly-latest.min.js\"></script>    \n",
              "            <div id=\"a905283e-7d0c-47b0-91f9-d053e284c81c\" class=\"plotly-graph-div\" style=\"height:525px; width:100%;\"></div>\n",
              "            <script type=\"text/javascript\">\n",
              "                \n",
              "                    window.PLOTLYENV=window.PLOTLYENV || {};\n",
              "                    \n",
              "                if (document.getElementById(\"a905283e-7d0c-47b0-91f9-d053e284c81c\")) {\n",
              "                    Plotly.newPlot(\n",
              "                        'a905283e-7d0c-47b0-91f9-d053e284c81c',\n",
              "                        [{\"name\": \"Coefficients Ridge_alpha=1\", \"text\": [-0.109, 0.032, 0.007, 2.545, -9.538, 4.465, -0.012, -1.339, 0.249, -0.011, -0.829, 0.013, -0.524], \"textposition\": \"auto\", \"type\": \"bar\", \"x\": [\"CRIM\", \"ZN\", \"INDUS\", \"CHAS\", \"NOX\", \"RM\", \"AGE\", \"DIS\", \"RAD\", \"TAX\", \"PTRATIO\", \"B\", \"LSTAT\"], \"y\": [-0.10923406107683892, 0.03227068627331457, 0.007498059418200636, 2.5454699819723468, -9.537951588455728, 4.464505368775926, -0.012191017615920879, -1.338700395556102, 0.24888181622368394, -0.011474621094828923, -0.8286042836530523, 0.012642112364578838, -0.5238330160387954]}, {\"name\": \"Coefficients Lasso_alpha=1\", \"text\": [-0.077, 0.029, -0.0, 0.0, -0.0, 1.63, 0.016, -0.631, 0.22, -0.012, -0.709, 0.011, -0.747], \"textposition\": \"auto\", \"type\": \"bar\", \"x\": [\"CRIM\", \"ZN\", \"INDUS\", \"CHAS\", \"NOX\", \"RM\", \"AGE\", \"DIS\", \"RAD\", \"TAX\", \"PTRATIO\", \"B\", \"LSTAT\"], \"y\": [-0.07660926975110098, 0.02850063540200873, -0.0, 0.0, -0.0, 1.6304889213333733, 0.016394775352896185, -0.630857653109882, 0.21965363036622984, -0.01228557821359632, -0.708582332501208, 0.011181101933252426, -0.7471066114528753]}, {\"name\": \"Coefficients ElasticNet_alpha=1 & l1_ratio=0.5\", \"text\": [-0.093, 0.036, -0.02, 0.0, -0.0, 1.163, 0.019, -0.755, 0.276, -0.014, -0.753, 0.011, -0.776], \"textposition\": \"auto\", \"type\": \"bar\", \"x\": [\"CRIM\", \"ZN\", \"INDUS\", \"CHAS\", \"NOX\", \"RM\", \"AGE\", \"DIS\", \"RAD\", \"TAX\", \"PTRATIO\", \"B\", \"LSTAT\"], \"y\": [-0.09329917625764746, 0.03557051440990411, -0.02012983728969264, 0.0, -0.0, 1.1629964307736882, 0.018591346015058973, -0.7554233974722627, 0.27598037647498014, -0.014273145377970533, -0.7527046018140967, 0.011012745467891263, -0.7755756929928156]}, {\"name\": \"Coefficients LinearRegression\", \"text\": [-0.113, 0.03, 0.04, 2.784, -17.203, 4.439, -0.006, -1.448, 0.262, -0.011, -0.915, 0.012, -0.509], \"textposition\": \"auto\", \"type\": \"bar\", \"x\": [\"CRIM\", \"ZN\", \"INDUS\", \"CHAS\", \"NOX\", \"RM\", \"AGE\", \"DIS\", \"RAD\", \"TAX\", \"PTRATIO\", \"B\", \"LSTAT\"], \"y\": [-0.11305592398537859, 0.03011046414564685, 0.04038072041333951, 2.7844382035079094, -17.20263339178125, 4.438835199513036, -0.006296362210982198, -1.44786536853079, 0.26242973558508514, -0.010646786275308406, -0.9154562404680743, 0.012351334729968987, -0.5085714244487958]}],\n",
              "                        {\"legend\": {\"orientation\": \"h\"}, \"template\": {\"data\": {\"bar\": [{\"error_x\": {\"color\": \"#2a3f5f\"}, \"error_y\": {\"color\": \"#2a3f5f\"}, \"marker\": {\"line\": {\"color\": \"#E5ECF6\", \"width\": 0.5}}, \"type\": \"bar\"}], \"barpolar\": [{\"marker\": {\"line\": {\"color\": \"#E5ECF6\", \"width\": 0.5}}, \"type\": \"barpolar\"}], \"carpet\": [{\"aaxis\": {\"endlinecolor\": \"#2a3f5f\", \"gridcolor\": \"white\", \"linecolor\": \"white\", \"minorgridcolor\": \"white\", \"startlinecolor\": \"#2a3f5f\"}, \"baxis\": {\"endlinecolor\": \"#2a3f5f\", \"gridcolor\": \"white\", \"linecolor\": \"white\", \"minorgridcolor\": \"white\", \"startlinecolor\": \"#2a3f5f\"}, \"type\": \"carpet\"}], \"choropleth\": [{\"colorbar\": {\"outlinewidth\": 0, \"ticks\": \"\"}, \"type\": \"choropleth\"}], \"contour\": [{\"colorbar\": {\"outlinewidth\": 0, \"ticks\": \"\"}, \"colorscale\": [[0.0, \"#0d0887\"], [0.1111111111111111, \"#46039f\"], [0.2222222222222222, \"#7201a8\"], [0.3333333333333333, \"#9c179e\"], [0.4444444444444444, \"#bd3786\"], [0.5555555555555556, \"#d8576b\"], [0.6666666666666666, \"#ed7953\"], [0.7777777777777778, \"#fb9f3a\"], [0.8888888888888888, \"#fdca26\"], [1.0, \"#f0f921\"]], \"type\": \"contour\"}], \"contourcarpet\": [{\"colorbar\": {\"outlinewidth\": 0, \"ticks\": \"\"}, \"type\": \"contourcarpet\"}], \"heatmap\": [{\"colorbar\": {\"outlinewidth\": 0, \"ticks\": \"\"}, \"colorscale\": [[0.0, \"#0d0887\"], [0.1111111111111111, \"#46039f\"], [0.2222222222222222, \"#7201a8\"], [0.3333333333333333, \"#9c179e\"], [0.4444444444444444, \"#bd3786\"], [0.5555555555555556, \"#d8576b\"], [0.6666666666666666, \"#ed7953\"], [0.7777777777777778, \"#fb9f3a\"], [0.8888888888888888, \"#fdca26\"], [1.0, \"#f0f921\"]], \"type\": \"heatmap\"}], \"heatmapgl\": [{\"colorbar\": {\"outlinewidth\": 0, \"ticks\": \"\"}, \"colorscale\": [[0.0, \"#0d0887\"], [0.1111111111111111, \"#46039f\"], [0.2222222222222222, \"#7201a8\"], [0.3333333333333333, \"#9c179e\"], [0.4444444444444444, \"#bd3786\"], [0.5555555555555556, \"#d8576b\"], [0.6666666666666666, \"#ed7953\"], [0.7777777777777778, \"#fb9f3a\"], [0.8888888888888888, \"#fdca26\"], [1.0, \"#f0f921\"]], \"type\": \"heatmapgl\"}], \"histogram\": [{\"marker\": {\"colorbar\": {\"outlinewidth\": 0, \"ticks\": \"\"}}, \"type\": \"histogram\"}], \"histogram2d\": [{\"colorbar\": {\"outlinewidth\": 0, \"ticks\": \"\"}, \"colorscale\": [[0.0, \"#0d0887\"], [0.1111111111111111, \"#46039f\"], [0.2222222222222222, \"#7201a8\"], [0.3333333333333333, \"#9c179e\"], [0.4444444444444444, \"#bd3786\"], [0.5555555555555556, \"#d8576b\"], [0.6666666666666666, \"#ed7953\"], [0.7777777777777778, \"#fb9f3a\"], [0.8888888888888888, \"#fdca26\"], [1.0, \"#f0f921\"]], \"type\": \"histogram2d\"}], \"histogram2dcontour\": [{\"colorbar\": {\"outlinewidth\": 0, \"ticks\": \"\"}, \"colorscale\": [[0.0, \"#0d0887\"], [0.1111111111111111, \"#46039f\"], [0.2222222222222222, \"#7201a8\"], [0.3333333333333333, \"#9c179e\"], [0.4444444444444444, \"#bd3786\"], [0.5555555555555556, \"#d8576b\"], [0.6666666666666666, \"#ed7953\"], [0.7777777777777778, \"#fb9f3a\"], [0.8888888888888888, \"#fdca26\"], [1.0, \"#f0f921\"]], \"type\": \"histogram2dcontour\"}], \"mesh3d\": [{\"colorbar\": {\"outlinewidth\": 0, \"ticks\": \"\"}, \"type\": \"mesh3d\"}], \"parcoords\": [{\"line\": {\"colorbar\": {\"outlinewidth\": 0, \"ticks\": \"\"}}, \"type\": \"parcoords\"}], \"scatter\": [{\"marker\": {\"colorbar\": {\"outlinewidth\": 0, \"ticks\": \"\"}}, \"type\": \"scatter\"}], \"scatter3d\": [{\"line\": {\"colorbar\": {\"outlinewidth\": 0, \"ticks\": \"\"}}, \"marker\": {\"colorbar\": {\"outlinewidth\": 0, \"ticks\": \"\"}}, \"type\": \"scatter3d\"}], \"scattercarpet\": [{\"marker\": {\"colorbar\": {\"outlinewidth\": 0, \"ticks\": \"\"}}, \"type\": \"scattercarpet\"}], \"scattergeo\": [{\"marker\": {\"colorbar\": {\"outlinewidth\": 0, \"ticks\": \"\"}}, \"type\": \"scattergeo\"}], \"scattergl\": [{\"marker\": {\"colorbar\": {\"outlinewidth\": 0, \"ticks\": \"\"}}, \"type\": \"scattergl\"}], \"scattermapbox\": [{\"marker\": {\"colorbar\": {\"outlinewidth\": 0, \"ticks\": \"\"}}, \"type\": \"scattermapbox\"}], \"scatterpolar\": [{\"marker\": {\"colorbar\": {\"outlinewidth\": 0, \"ticks\": \"\"}}, \"type\": \"scatterpolar\"}], \"scatterpolargl\": [{\"marker\": {\"colorbar\": {\"outlinewidth\": 0, \"ticks\": \"\"}}, \"type\": \"scatterpolargl\"}], \"scatterternary\": [{\"marker\": {\"colorbar\": {\"outlinewidth\": 0, \"ticks\": \"\"}}, \"type\": \"scatterternary\"}], \"surface\": [{\"colorbar\": {\"outlinewidth\": 0, \"ticks\": \"\"}, \"colorscale\": [[0.0, \"#0d0887\"], [0.1111111111111111, \"#46039f\"], [0.2222222222222222, \"#7201a8\"], [0.3333333333333333, \"#9c179e\"], [0.4444444444444444, \"#bd3786\"], [0.5555555555555556, \"#d8576b\"], [0.6666666666666666, \"#ed7953\"], [0.7777777777777778, \"#fb9f3a\"], [0.8888888888888888, \"#fdca26\"], [1.0, \"#f0f921\"]], \"type\": \"surface\"}], \"table\": [{\"cells\": {\"fill\": {\"color\": \"#EBF0F8\"}, \"line\": {\"color\": \"white\"}}, \"header\": {\"fill\": {\"color\": \"#C8D4E3\"}, \"line\": {\"color\": \"white\"}}, \"type\": \"table\"}]}, \"layout\": {\"annotationdefaults\": {\"arrowcolor\": \"#2a3f5f\", \"arrowhead\": 0, \"arrowwidth\": 1}, \"colorscale\": {\"diverging\": [[0, \"#8e0152\"], [0.1, \"#c51b7d\"], [0.2, \"#de77ae\"], [0.3, \"#f1b6da\"], [0.4, \"#fde0ef\"], [0.5, \"#f7f7f7\"], [0.6, \"#e6f5d0\"], [0.7, \"#b8e186\"], [0.8, \"#7fbc41\"], [0.9, \"#4d9221\"], [1, \"#276419\"]], \"sequential\": [[0.0, \"#0d0887\"], [0.1111111111111111, \"#46039f\"], [0.2222222222222222, \"#7201a8\"], [0.3333333333333333, \"#9c179e\"], [0.4444444444444444, \"#bd3786\"], [0.5555555555555556, \"#d8576b\"], [0.6666666666666666, \"#ed7953\"], [0.7777777777777778, \"#fb9f3a\"], [0.8888888888888888, \"#fdca26\"], [1.0, \"#f0f921\"]], \"sequentialminus\": [[0.0, \"#0d0887\"], [0.1111111111111111, \"#46039f\"], [0.2222222222222222, \"#7201a8\"], [0.3333333333333333, \"#9c179e\"], [0.4444444444444444, \"#bd3786\"], [0.5555555555555556, \"#d8576b\"], [0.6666666666666666, \"#ed7953\"], [0.7777777777777778, \"#fb9f3a\"], [0.8888888888888888, \"#fdca26\"], [1.0, \"#f0f921\"]]}, \"colorway\": [\"#636efa\", \"#EF553B\", \"#00cc96\", \"#ab63fa\", \"#FFA15A\", \"#19d3f3\", \"#FF6692\", \"#B6E880\", \"#FF97FF\", \"#FECB52\"], \"font\": {\"color\": \"#2a3f5f\"}, \"geo\": {\"bgcolor\": \"white\", \"lakecolor\": \"white\", \"landcolor\": \"#E5ECF6\", \"showlakes\": true, \"showland\": true, \"subunitcolor\": \"white\"}, \"hoverlabel\": {\"align\": \"left\"}, \"hovermode\": \"closest\", \"mapbox\": {\"style\": \"light\"}, \"paper_bgcolor\": \"white\", \"plot_bgcolor\": \"#E5ECF6\", \"polar\": {\"angularaxis\": {\"gridcolor\": \"white\", \"linecolor\": \"white\", \"ticks\": \"\"}, \"bgcolor\": \"#E5ECF6\", \"radialaxis\": {\"gridcolor\": \"white\", \"linecolor\": \"white\", \"ticks\": \"\"}}, \"scene\": {\"xaxis\": {\"backgroundcolor\": \"#E5ECF6\", \"gridcolor\": \"white\", \"gridwidth\": 2, \"linecolor\": \"white\", \"showbackground\": true, \"ticks\": \"\", \"zerolinecolor\": \"white\"}, \"yaxis\": {\"backgroundcolor\": \"#E5ECF6\", \"gridcolor\": \"white\", \"gridwidth\": 2, \"linecolor\": \"white\", \"showbackground\": true, \"ticks\": \"\", \"zerolinecolor\": \"white\"}, \"zaxis\": {\"backgroundcolor\": \"#E5ECF6\", \"gridcolor\": \"white\", \"gridwidth\": 2, \"linecolor\": \"white\", \"showbackground\": true, \"ticks\": \"\", \"zerolinecolor\": \"white\"}}, \"shapedefaults\": {\"line\": {\"color\": \"#2a3f5f\"}}, \"ternary\": {\"aaxis\": {\"gridcolor\": \"white\", \"linecolor\": \"white\", \"ticks\": \"\"}, \"baxis\": {\"gridcolor\": \"white\", \"linecolor\": \"white\", \"ticks\": \"\"}, \"bgcolor\": \"#E5ECF6\", \"caxis\": {\"gridcolor\": \"white\", \"linecolor\": \"white\", \"ticks\": \"\"}}, \"title\": {\"x\": 0.05}, \"xaxis\": {\"automargin\": true, \"gridcolor\": \"white\", \"linecolor\": \"white\", \"ticks\": \"\", \"zerolinecolor\": \"white\", \"zerolinewidth\": 2}, \"yaxis\": {\"automargin\": true, \"gridcolor\": \"white\", \"linecolor\": \"white\", \"ticks\": \"\", \"zerolinecolor\": \"white\", \"zerolinewidth\": 2}}}},\n",
              "                        {\"responsive\": true}\n",
              "                    ).then(function(){\n",
              "                            \n",
              "var gd = document.getElementById('a905283e-7d0c-47b0-91f9-d053e284c81c');\n",
              "var x = new MutationObserver(function (mutations, observer) {{\n",
              "        var display = window.getComputedStyle(gd).display;\n",
              "        if (!display || display === 'none') {{\n",
              "            console.log([gd, 'removed!']);\n",
              "            Plotly.purge(gd);\n",
              "            observer.disconnect();\n",
              "        }}\n",
              "}});\n",
              "\n",
              "// Listen for the removal of the full notebook cells\n",
              "var notebookContainer = gd.closest('#notebook-container');\n",
              "if (notebookContainer) {{\n",
              "    x.observe(notebookContainer, {childList: true});\n",
              "}}\n",
              "\n",
              "// Listen for the clearing of the current output cell\n",
              "var outputEl = gd.closest('.output');\n",
              "if (outputEl) {{\n",
              "    x.observe(outputEl, {childList: true});\n",
              "}}\n",
              "\n",
              "                        })\n",
              "                };\n",
              "                \n",
              "            </script>\n",
              "        </div>\n",
              "</body>\n",
              "</html>"
            ]
          },
          "metadata": {
            "tags": []
          }
        }
      ]
    },
    {
      "cell_type": "markdown",
      "metadata": {
        "id": "IBpEHCLHsT-j",
        "colab_type": "text"
      },
      "source": [
        "* Afficher l'erreur de prédiction sur les données de test et les données \n",
        "d'apprentissage en fonction du paramètre de régularisation."
      ]
    },
    {
      "cell_type": "code",
      "metadata": {
        "id": "DYmahXgWsMF7",
        "colab_type": "code",
        "outputId": "194dde85-1239-4b14-84a7-c733f9433c9e",
        "colab": {
          "base_uri": "https://localhost:8080/",
          "height": 542
        }
      },
      "source": [
        "# ploting train/test scores\n",
        "results = pd.DataFrame(results)\n",
        "\n",
        "fig = go.Figure(\n",
        "    data=[\n",
        "        go.Bar(\n",
        "            x=results['name'],\n",
        "            y=results['train_score'],\n",
        "            name=\"Train scores\",\n",
        "            text=results['train_score'].round(5),\n",
        "            textposition='auto'\n",
        "        ),\n",
        "        go.Bar(\n",
        "            x=results['name'],\n",
        "            y=results['test_score'],\n",
        "            name=\"Test scores\",\n",
        "            text=results['test_score'].round(5),\n",
        "            textposition='auto'\n",
        "        ),\n",
        "    ],\n",
        "    layout={\n",
        "        'legend': {\n",
        "            'orientation': 'h'\n",
        "        }\n",
        "    }\n",
        ")\n",
        "fig.show()"
      ],
      "execution_count": 0,
      "outputs": [
        {
          "output_type": "display_data",
          "data": {
            "text/html": [
              "<html>\n",
              "<head><meta charset=\"utf-8\" /></head>\n",
              "<body>\n",
              "    <div>\n",
              "            <script src=\"https://cdnjs.cloudflare.com/ajax/libs/mathjax/2.7.5/MathJax.js?config=TeX-AMS-MML_SVG\"></script><script type=\"text/javascript\">if (window.MathJax) {MathJax.Hub.Config({SVG: {font: \"STIX-Web\"}});}</script>\n",
              "                <script type=\"text/javascript\">window.PlotlyConfig = {MathJaxConfig: 'local'};</script>\n",
              "        <script src=\"https://cdn.plot.ly/plotly-latest.min.js\"></script>    \n",
              "            <div id=\"a98cd897-c61f-412a-89a0-222502ad34ff\" class=\"plotly-graph-div\" style=\"height:525px; width:100%;\"></div>\n",
              "            <script type=\"text/javascript\">\n",
              "                \n",
              "                    window.PLOTLYENV=window.PLOTLYENV || {};\n",
              "                    \n",
              "                if (document.getElementById(\"a98cd897-c61f-412a-89a0-222502ad34ff\")) {\n",
              "                    Plotly.newPlot(\n",
              "                        'a98cd897-c61f-412a-89a0-222502ad34ff',\n",
              "                        [{\"name\": \"Train scores\", \"text\": [0.74878, 0.69592, 0.69081, 0.75089], \"textposition\": \"auto\", \"type\": \"bar\", \"x\": [\"Ridge_alpha=1\", \"Lasso_alpha=1\", \"ElasticNet_alpha=1 & l1_ratio=0.5\", \"LinearRegression\"], \"y\": [0.7487825119234438, 0.6959153721670908, 0.6908083499815865, 0.7508856358979672]}, {\"name\": \"Test scores\", \"text\": [0.66622, 0.66715, 0.67316, 0.66876], \"textposition\": \"auto\", \"type\": \"bar\", \"x\": [\"Ridge_alpha=1\", \"Lasso_alpha=1\", \"ElasticNet_alpha=1 & l1_ratio=0.5\", \"LinearRegression\"], \"y\": [0.666222167016852, 0.6671453631686304, 0.6731556429073877, 0.6687594935356307]}],\n",
              "                        {\"legend\": {\"orientation\": \"h\"}, \"template\": {\"data\": {\"bar\": [{\"error_x\": {\"color\": \"#2a3f5f\"}, \"error_y\": {\"color\": \"#2a3f5f\"}, \"marker\": {\"line\": {\"color\": \"#E5ECF6\", \"width\": 0.5}}, \"type\": \"bar\"}], \"barpolar\": [{\"marker\": {\"line\": {\"color\": \"#E5ECF6\", \"width\": 0.5}}, \"type\": \"barpolar\"}], \"carpet\": [{\"aaxis\": {\"endlinecolor\": \"#2a3f5f\", \"gridcolor\": \"white\", \"linecolor\": \"white\", \"minorgridcolor\": \"white\", \"startlinecolor\": \"#2a3f5f\"}, \"baxis\": {\"endlinecolor\": \"#2a3f5f\", \"gridcolor\": \"white\", \"linecolor\": \"white\", \"minorgridcolor\": \"white\", \"startlinecolor\": \"#2a3f5f\"}, \"type\": \"carpet\"}], \"choropleth\": [{\"colorbar\": {\"outlinewidth\": 0, \"ticks\": \"\"}, \"type\": \"choropleth\"}], \"contour\": [{\"colorbar\": {\"outlinewidth\": 0, \"ticks\": \"\"}, \"colorscale\": [[0.0, \"#0d0887\"], [0.1111111111111111, \"#46039f\"], [0.2222222222222222, \"#7201a8\"], [0.3333333333333333, \"#9c179e\"], [0.4444444444444444, \"#bd3786\"], [0.5555555555555556, \"#d8576b\"], [0.6666666666666666, \"#ed7953\"], [0.7777777777777778, \"#fb9f3a\"], [0.8888888888888888, \"#fdca26\"], [1.0, \"#f0f921\"]], \"type\": \"contour\"}], \"contourcarpet\": [{\"colorbar\": {\"outlinewidth\": 0, \"ticks\": \"\"}, \"type\": \"contourcarpet\"}], \"heatmap\": [{\"colorbar\": {\"outlinewidth\": 0, \"ticks\": \"\"}, \"colorscale\": [[0.0, \"#0d0887\"], [0.1111111111111111, \"#46039f\"], [0.2222222222222222, \"#7201a8\"], [0.3333333333333333, \"#9c179e\"], [0.4444444444444444, \"#bd3786\"], [0.5555555555555556, \"#d8576b\"], [0.6666666666666666, \"#ed7953\"], [0.7777777777777778, \"#fb9f3a\"], [0.8888888888888888, \"#fdca26\"], [1.0, \"#f0f921\"]], \"type\": \"heatmap\"}], \"heatmapgl\": [{\"colorbar\": {\"outlinewidth\": 0, \"ticks\": \"\"}, \"colorscale\": [[0.0, \"#0d0887\"], [0.1111111111111111, \"#46039f\"], [0.2222222222222222, \"#7201a8\"], [0.3333333333333333, \"#9c179e\"], [0.4444444444444444, \"#bd3786\"], [0.5555555555555556, \"#d8576b\"], [0.6666666666666666, \"#ed7953\"], [0.7777777777777778, \"#fb9f3a\"], [0.8888888888888888, \"#fdca26\"], [1.0, \"#f0f921\"]], \"type\": \"heatmapgl\"}], \"histogram\": [{\"marker\": {\"colorbar\": {\"outlinewidth\": 0, \"ticks\": \"\"}}, \"type\": \"histogram\"}], \"histogram2d\": [{\"colorbar\": {\"outlinewidth\": 0, \"ticks\": \"\"}, \"colorscale\": [[0.0, \"#0d0887\"], [0.1111111111111111, \"#46039f\"], [0.2222222222222222, \"#7201a8\"], [0.3333333333333333, \"#9c179e\"], [0.4444444444444444, \"#bd3786\"], [0.5555555555555556, \"#d8576b\"], [0.6666666666666666, \"#ed7953\"], [0.7777777777777778, \"#fb9f3a\"], [0.8888888888888888, \"#fdca26\"], [1.0, \"#f0f921\"]], \"type\": \"histogram2d\"}], \"histogram2dcontour\": [{\"colorbar\": {\"outlinewidth\": 0, \"ticks\": \"\"}, \"colorscale\": [[0.0, \"#0d0887\"], [0.1111111111111111, \"#46039f\"], [0.2222222222222222, \"#7201a8\"], [0.3333333333333333, \"#9c179e\"], [0.4444444444444444, \"#bd3786\"], [0.5555555555555556, \"#d8576b\"], [0.6666666666666666, \"#ed7953\"], [0.7777777777777778, \"#fb9f3a\"], [0.8888888888888888, \"#fdca26\"], [1.0, \"#f0f921\"]], \"type\": \"histogram2dcontour\"}], \"mesh3d\": [{\"colorbar\": {\"outlinewidth\": 0, \"ticks\": \"\"}, \"type\": \"mesh3d\"}], \"parcoords\": [{\"line\": {\"colorbar\": {\"outlinewidth\": 0, \"ticks\": \"\"}}, \"type\": \"parcoords\"}], \"scatter\": [{\"marker\": {\"colorbar\": {\"outlinewidth\": 0, \"ticks\": \"\"}}, \"type\": \"scatter\"}], \"scatter3d\": [{\"line\": {\"colorbar\": {\"outlinewidth\": 0, \"ticks\": \"\"}}, \"marker\": {\"colorbar\": {\"outlinewidth\": 0, \"ticks\": \"\"}}, \"type\": \"scatter3d\"}], \"scattercarpet\": [{\"marker\": {\"colorbar\": {\"outlinewidth\": 0, \"ticks\": \"\"}}, \"type\": \"scattercarpet\"}], \"scattergeo\": [{\"marker\": {\"colorbar\": {\"outlinewidth\": 0, \"ticks\": \"\"}}, \"type\": \"scattergeo\"}], \"scattergl\": [{\"marker\": {\"colorbar\": {\"outlinewidth\": 0, \"ticks\": \"\"}}, \"type\": \"scattergl\"}], \"scattermapbox\": [{\"marker\": {\"colorbar\": {\"outlinewidth\": 0, \"ticks\": \"\"}}, \"type\": \"scattermapbox\"}], \"scatterpolar\": [{\"marker\": {\"colorbar\": {\"outlinewidth\": 0, \"ticks\": \"\"}}, \"type\": \"scatterpolar\"}], \"scatterpolargl\": [{\"marker\": {\"colorbar\": {\"outlinewidth\": 0, \"ticks\": \"\"}}, \"type\": \"scatterpolargl\"}], \"scatterternary\": [{\"marker\": {\"colorbar\": {\"outlinewidth\": 0, \"ticks\": \"\"}}, \"type\": \"scatterternary\"}], \"surface\": [{\"colorbar\": {\"outlinewidth\": 0, \"ticks\": \"\"}, \"colorscale\": [[0.0, \"#0d0887\"], [0.1111111111111111, \"#46039f\"], [0.2222222222222222, \"#7201a8\"], [0.3333333333333333, \"#9c179e\"], [0.4444444444444444, \"#bd3786\"], [0.5555555555555556, \"#d8576b\"], [0.6666666666666666, \"#ed7953\"], [0.7777777777777778, \"#fb9f3a\"], [0.8888888888888888, \"#fdca26\"], [1.0, \"#f0f921\"]], \"type\": \"surface\"}], \"table\": [{\"cells\": {\"fill\": {\"color\": \"#EBF0F8\"}, \"line\": {\"color\": \"white\"}}, \"header\": {\"fill\": {\"color\": \"#C8D4E3\"}, \"line\": {\"color\": \"white\"}}, \"type\": \"table\"}]}, \"layout\": {\"annotationdefaults\": {\"arrowcolor\": \"#2a3f5f\", \"arrowhead\": 0, \"arrowwidth\": 1}, \"colorscale\": {\"diverging\": [[0, \"#8e0152\"], [0.1, \"#c51b7d\"], [0.2, \"#de77ae\"], [0.3, \"#f1b6da\"], [0.4, \"#fde0ef\"], [0.5, \"#f7f7f7\"], [0.6, \"#e6f5d0\"], [0.7, \"#b8e186\"], [0.8, \"#7fbc41\"], [0.9, \"#4d9221\"], [1, \"#276419\"]], \"sequential\": [[0.0, \"#0d0887\"], [0.1111111111111111, \"#46039f\"], [0.2222222222222222, \"#7201a8\"], [0.3333333333333333, \"#9c179e\"], [0.4444444444444444, \"#bd3786\"], [0.5555555555555556, \"#d8576b\"], [0.6666666666666666, \"#ed7953\"], [0.7777777777777778, \"#fb9f3a\"], [0.8888888888888888, \"#fdca26\"], [1.0, \"#f0f921\"]], \"sequentialminus\": [[0.0, \"#0d0887\"], [0.1111111111111111, \"#46039f\"], [0.2222222222222222, \"#7201a8\"], [0.3333333333333333, \"#9c179e\"], [0.4444444444444444, \"#bd3786\"], [0.5555555555555556, \"#d8576b\"], [0.6666666666666666, \"#ed7953\"], [0.7777777777777778, \"#fb9f3a\"], [0.8888888888888888, \"#fdca26\"], [1.0, \"#f0f921\"]]}, \"colorway\": [\"#636efa\", \"#EF553B\", \"#00cc96\", \"#ab63fa\", \"#FFA15A\", \"#19d3f3\", \"#FF6692\", \"#B6E880\", \"#FF97FF\", \"#FECB52\"], \"font\": {\"color\": \"#2a3f5f\"}, \"geo\": {\"bgcolor\": \"white\", \"lakecolor\": \"white\", \"landcolor\": \"#E5ECF6\", \"showlakes\": true, \"showland\": true, \"subunitcolor\": \"white\"}, \"hoverlabel\": {\"align\": \"left\"}, \"hovermode\": \"closest\", \"mapbox\": {\"style\": \"light\"}, \"paper_bgcolor\": \"white\", \"plot_bgcolor\": \"#E5ECF6\", \"polar\": {\"angularaxis\": {\"gridcolor\": \"white\", \"linecolor\": \"white\", \"ticks\": \"\"}, \"bgcolor\": \"#E5ECF6\", \"radialaxis\": {\"gridcolor\": \"white\", \"linecolor\": \"white\", \"ticks\": \"\"}}, \"scene\": {\"xaxis\": {\"backgroundcolor\": \"#E5ECF6\", \"gridcolor\": \"white\", \"gridwidth\": 2, \"linecolor\": \"white\", \"showbackground\": true, \"ticks\": \"\", \"zerolinecolor\": \"white\"}, \"yaxis\": {\"backgroundcolor\": \"#E5ECF6\", \"gridcolor\": \"white\", \"gridwidth\": 2, \"linecolor\": \"white\", \"showbackground\": true, \"ticks\": \"\", \"zerolinecolor\": \"white\"}, \"zaxis\": {\"backgroundcolor\": \"#E5ECF6\", \"gridcolor\": \"white\", \"gridwidth\": 2, \"linecolor\": \"white\", \"showbackground\": true, \"ticks\": \"\", \"zerolinecolor\": \"white\"}}, \"shapedefaults\": {\"line\": {\"color\": \"#2a3f5f\"}}, \"ternary\": {\"aaxis\": {\"gridcolor\": \"white\", \"linecolor\": \"white\", \"ticks\": \"\"}, \"baxis\": {\"gridcolor\": \"white\", \"linecolor\": \"white\", \"ticks\": \"\"}, \"bgcolor\": \"#E5ECF6\", \"caxis\": {\"gridcolor\": \"white\", \"linecolor\": \"white\", \"ticks\": \"\"}}, \"title\": {\"x\": 0.05}, \"xaxis\": {\"automargin\": true, \"gridcolor\": \"white\", \"linecolor\": \"white\", \"ticks\": \"\", \"zerolinecolor\": \"white\", \"zerolinewidth\": 2}, \"yaxis\": {\"automargin\": true, \"gridcolor\": \"white\", \"linecolor\": \"white\", \"ticks\": \"\", \"zerolinecolor\": \"white\", \"zerolinewidth\": 2}}}},\n",
              "                        {\"responsive\": true}\n",
              "                    ).then(function(){\n",
              "                            \n",
              "var gd = document.getElementById('a98cd897-c61f-412a-89a0-222502ad34ff');\n",
              "var x = new MutationObserver(function (mutations, observer) {{\n",
              "        var display = window.getComputedStyle(gd).display;\n",
              "        if (!display || display === 'none') {{\n",
              "            console.log([gd, 'removed!']);\n",
              "            Plotly.purge(gd);\n",
              "            observer.disconnect();\n",
              "        }}\n",
              "}});\n",
              "\n",
              "// Listen for the removal of the full notebook cells\n",
              "var notebookContainer = gd.closest('#notebook-container');\n",
              "if (notebookContainer) {{\n",
              "    x.observe(notebookContainer, {childList: true});\n",
              "}}\n",
              "\n",
              "// Listen for the clearing of the current output cell\n",
              "var outputEl = gd.closest('.output');\n",
              "if (outputEl) {{\n",
              "    x.observe(outputEl, {childList: true});\n",
              "}}\n",
              "\n",
              "                        })\n",
              "                };\n",
              "                \n",
              "            </script>\n",
              "        </div>\n",
              "</body>\n",
              "</html>"
            ]
          },
          "metadata": {
            "tags": []
          }
        }
      ]
    },
    {
      "cell_type": "markdown",
      "metadata": {
        "id": "fZGMyLzhr-l9",
        "colab_type": "text"
      },
      "source": [
        "* Afficher l'erreur de prédiction sur les données de test et les données \n",
        "d'apprentissage en fonction du nombre de données d'apprentissage dans les \n",
        "deux cas : $\\alpha =0$ et $\\alpha$ optimal choisi par cross-validation.\n",
        "\n",
        "* Lire les sections 3.1 et 3.2 du chapitre 3 du livre \"Pattern Recognition and\n",
        " Machine Learning\" (Bishop, 2006)."
      ]
    },
    {
      "cell_type": "code",
      "metadata": {
        "id": "Jzw7-R2mtTc-",
        "colab_type": "code",
        "outputId": "3bd384a8-cc55-4df1-c9d9-cb2de838bcd7",
        "colab": {
          "base_uri": "https://localhost:8080/",
          "height": 442
        }
      },
      "source": [
        "models = {\n",
        "    'Ridge': Ridge(),\n",
        "    'Lasso': Lasso(),\n",
        "    'ElasticNet': ElasticNet(),\n",
        "    # 'LinearRegression': LinearRegression()\n",
        "}\n",
        "\n",
        "alphas = np.linspace(0, 10, 100)\n",
        "l1_ratios = np.linspace(0, 1, 10)\n",
        "\n",
        "params = {\n",
        "    'Lasso': {\n",
        "        'alpha': alphas,\n",
        "    },\n",
        "    'Ridge': {\n",
        "        'alpha': alphas,\n",
        "    },\n",
        "    'ElasticNet': {\n",
        "        'alpha': alphas,\n",
        "        'l1_ratio': l1_ratios\n",
        "    }\n",
        "}\n",
        "\n",
        "grid = EstimatorSelectionHelper(models, params)\n",
        "grid.fit(X_train, Y_train, n_jobs=-1)\n",
        "\n",
        "gs = grid.score_summary(sort_by='mean_score',\n",
        "                        num_rows_per_estimator=5)"
      ],
      "execution_count": 0,
      "outputs": [
        {
          "output_type": "stream",
          "text": [
            "Running GridSearchCV for Ridge\n",
            "Fitting 3 folds for each of 100 candidates, totalling 300 fits\n"
          ],
          "name": "stdout"
        },
        {
          "output_type": "stream",
          "text": [
            "[Parallel(n_jobs=-1)]: Using backend LokyBackend with 2 concurrent workers.\n",
            "[Parallel(n_jobs=-1)]: Done 243 tasks      | elapsed:    2.0s\n",
            "[Parallel(n_jobs=-1)]: Done 300 out of 300 | elapsed:    2.1s finished\n"
          ],
          "name": "stderr"
        },
        {
          "output_type": "stream",
          "text": [
            "Running GridSearchCV for Lasso\n",
            "Fitting 3 folds for each of 100 candidates, totalling 300 fits\n"
          ],
          "name": "stdout"
        },
        {
          "output_type": "stream",
          "text": [
            "[Parallel(n_jobs=-1)]: Using backend LokyBackend with 2 concurrent workers.\n",
            "[Parallel(n_jobs=-1)]: Done 274 tasks      | elapsed:    1.7s\n",
            "[Parallel(n_jobs=-1)]: Done 300 out of 300 | elapsed:    1.8s finished\n"
          ],
          "name": "stderr"
        },
        {
          "output_type": "stream",
          "text": [
            "Running GridSearchCV for ElasticNet\n",
            "Fitting 3 folds for each of 1000 candidates, totalling 3000 fits\n"
          ],
          "name": "stdout"
        },
        {
          "output_type": "stream",
          "text": [
            "[Parallel(n_jobs=-1)]: Using backend LokyBackend with 2 concurrent workers.\n",
            "[Parallel(n_jobs=-1)]: Done 904 tasks      | elapsed:    3.2s\n",
            "[Parallel(n_jobs=-1)]: Done 3000 out of 3000 | elapsed:    7.3s finished\n",
            "/usr/local/lib/python3.6/dist-packages/ipykernel_launcher.py:50: FutureWarning:\n",
            "\n",
            "Sorting because non-concatenation axis is not aligned. A future version\n",
            "of pandas will change to not sort by default.\n",
            "\n",
            "To accept the future behavior, pass 'sort=False'.\n",
            "\n",
            "To retain the current behavior and silence the warning, pass 'sort=True'.\n",
            "\n",
            "\n"
          ],
          "name": "stderr"
        }
      ]
    },
    {
      "cell_type": "code",
      "metadata": {
        "id": "izl9G-YZutEL",
        "colab_type": "code",
        "outputId": "93b15f4b-9aad-4fe0-e363-ad14a71f1f51",
        "colab": {
          "base_uri": "https://localhost:8080/",
          "height": 542
        }
      },
      "source": [
        "# ploting power !\n",
        "fig = go.Figure(\n",
        "    data=[\n",
        "        go.Table(\n",
        "            header=dict(\n",
        "                values=list(\n",
        "                    gs.columns\n",
        "                )\n",
        "            ),\n",
        "            cells=dict(\n",
        "                values=[\n",
        "                    gs.estimator,\n",
        "                    gs.mean_score,\n",
        "                    gs.std_score,\n",
        "                    gs.min_score,\n",
        "                    gs.max_score,\n",
        "                    gs.alpha,\n",
        "                    gs.l1_ratio\n",
        "                ]\n",
        "            )\n",
        "        )\n",
        "    ]\n",
        ")\n",
        "fig.show()"
      ],
      "execution_count": 0,
      "outputs": [
        {
          "output_type": "display_data",
          "data": {
            "text/html": [
              "<html>\n",
              "<head><meta charset=\"utf-8\" /></head>\n",
              "<body>\n",
              "    <div>\n",
              "            <script src=\"https://cdnjs.cloudflare.com/ajax/libs/mathjax/2.7.5/MathJax.js?config=TeX-AMS-MML_SVG\"></script><script type=\"text/javascript\">if (window.MathJax) {MathJax.Hub.Config({SVG: {font: \"STIX-Web\"}});}</script>\n",
              "                <script type=\"text/javascript\">window.PlotlyConfig = {MathJaxConfig: 'local'};</script>\n",
              "        <script src=\"https://cdn.plot.ly/plotly-latest.min.js\"></script>    \n",
              "            <div id=\"607f8415-ef8e-4568-b493-7dd5c062d46a\" class=\"plotly-graph-div\" style=\"height:525px; width:100%;\"></div>\n",
              "            <script type=\"text/javascript\">\n",
              "                \n",
              "                    window.PLOTLYENV=window.PLOTLYENV || {};\n",
              "                    \n",
              "                if (document.getElementById(\"607f8415-ef8e-4568-b493-7dd5c062d46a\")) {\n",
              "                    Plotly.newPlot(\n",
              "                        '607f8415-ef8e-4568-b493-7dd5c062d46a',\n",
              "                        [{\"cells\": {\"values\": [[\"Ridge\", \"Lasso\", \"ElasticNet\", \"ElasticNet\", \"ElasticNet\", \"ElasticNet\", \"ElasticNet\", \"Ridge\", \"Ridge\", \"Ridge\", \"Ridge\", \"Lasso\", \"Lasso\", \"Lasso\", \"Lasso\"], [0.72868, 0.72868, 0.72868, 0.72868, 0.72868, 0.72868, 0.72868, 0.72822, 0.72764, 0.72704, 0.72646, 0.71263, 0.71183, 0.71034, 0.70786], [0.01944, 0.01944, 0.01944, 0.01944, 0.01944, 0.01944, 0.01944, 0.02033, 0.02102, 0.02157, 0.02202, 0.03029, 0.0303, 0.03092, 0.03133], [0.70369, 0.70369, 0.70369, 0.70369, 0.70369, 0.70369, 0.70369, 0.70238, 0.70116, 0.70003, 0.699, 0.67383, 0.67356, 0.67273, 0.67111], [0.75109, 0.75109, 0.75109, 0.75109, 0.75109, 0.75109, 0.75109, 0.75207, 0.75257, 0.75282, 0.75292, 0.74776, 0.74767, 0.74847, 0.74768], [0.0, 0.0, 0.0, 0.0, 0.0, 0.0, 0.0, 0.10101010101010101, 0.20202020202020202, 0.30303030303030304, 0.40404040404040403, 0.10101010101010101, 0.20202020202020202, 0.30303030303030304, 0.40404040404040403], [null, null, 1.0, 0.8888888888888888, 0.7777777777777777, 0.6666666666666666, 0.5555555555555556, null, null, null, null, null, null, null, null]]}, \"header\": {\"values\": [\"estimator\", \"mean_score\", \"std_score\", \"min_score\", \"max_score\", \"alpha\", \"l1_ratio\"]}, \"type\": \"table\"}],\n",
              "                        {\"template\": {\"data\": {\"bar\": [{\"error_x\": {\"color\": \"#2a3f5f\"}, \"error_y\": {\"color\": \"#2a3f5f\"}, \"marker\": {\"line\": {\"color\": \"#E5ECF6\", \"width\": 0.5}}, \"type\": \"bar\"}], \"barpolar\": [{\"marker\": {\"line\": {\"color\": \"#E5ECF6\", \"width\": 0.5}}, \"type\": \"barpolar\"}], \"carpet\": [{\"aaxis\": {\"endlinecolor\": \"#2a3f5f\", \"gridcolor\": \"white\", \"linecolor\": \"white\", \"minorgridcolor\": \"white\", \"startlinecolor\": \"#2a3f5f\"}, \"baxis\": {\"endlinecolor\": \"#2a3f5f\", \"gridcolor\": \"white\", \"linecolor\": \"white\", \"minorgridcolor\": \"white\", \"startlinecolor\": \"#2a3f5f\"}, \"type\": \"carpet\"}], \"choropleth\": [{\"colorbar\": {\"outlinewidth\": 0, \"ticks\": \"\"}, \"type\": \"choropleth\"}], \"contour\": [{\"colorbar\": {\"outlinewidth\": 0, \"ticks\": \"\"}, \"colorscale\": [[0.0, \"#0d0887\"], [0.1111111111111111, \"#46039f\"], [0.2222222222222222, \"#7201a8\"], [0.3333333333333333, \"#9c179e\"], [0.4444444444444444, \"#bd3786\"], [0.5555555555555556, \"#d8576b\"], [0.6666666666666666, \"#ed7953\"], [0.7777777777777778, \"#fb9f3a\"], [0.8888888888888888, \"#fdca26\"], [1.0, \"#f0f921\"]], \"type\": \"contour\"}], \"contourcarpet\": [{\"colorbar\": {\"outlinewidth\": 0, \"ticks\": \"\"}, \"type\": \"contourcarpet\"}], \"heatmap\": [{\"colorbar\": {\"outlinewidth\": 0, \"ticks\": \"\"}, \"colorscale\": [[0.0, \"#0d0887\"], [0.1111111111111111, \"#46039f\"], [0.2222222222222222, \"#7201a8\"], [0.3333333333333333, \"#9c179e\"], [0.4444444444444444, \"#bd3786\"], [0.5555555555555556, \"#d8576b\"], [0.6666666666666666, \"#ed7953\"], [0.7777777777777778, \"#fb9f3a\"], [0.8888888888888888, \"#fdca26\"], [1.0, \"#f0f921\"]], \"type\": \"heatmap\"}], \"heatmapgl\": [{\"colorbar\": {\"outlinewidth\": 0, \"ticks\": \"\"}, \"colorscale\": [[0.0, \"#0d0887\"], [0.1111111111111111, \"#46039f\"], [0.2222222222222222, \"#7201a8\"], [0.3333333333333333, \"#9c179e\"], [0.4444444444444444, \"#bd3786\"], [0.5555555555555556, \"#d8576b\"], [0.6666666666666666, \"#ed7953\"], [0.7777777777777778, \"#fb9f3a\"], [0.8888888888888888, \"#fdca26\"], [1.0, \"#f0f921\"]], \"type\": \"heatmapgl\"}], \"histogram\": [{\"marker\": {\"colorbar\": {\"outlinewidth\": 0, \"ticks\": \"\"}}, \"type\": \"histogram\"}], \"histogram2d\": [{\"colorbar\": {\"outlinewidth\": 0, \"ticks\": \"\"}, \"colorscale\": [[0.0, \"#0d0887\"], [0.1111111111111111, \"#46039f\"], [0.2222222222222222, \"#7201a8\"], [0.3333333333333333, \"#9c179e\"], [0.4444444444444444, \"#bd3786\"], [0.5555555555555556, \"#d8576b\"], [0.6666666666666666, \"#ed7953\"], [0.7777777777777778, \"#fb9f3a\"], [0.8888888888888888, \"#fdca26\"], [1.0, \"#f0f921\"]], \"type\": \"histogram2d\"}], \"histogram2dcontour\": [{\"colorbar\": {\"outlinewidth\": 0, \"ticks\": \"\"}, \"colorscale\": [[0.0, \"#0d0887\"], [0.1111111111111111, \"#46039f\"], [0.2222222222222222, \"#7201a8\"], [0.3333333333333333, \"#9c179e\"], [0.4444444444444444, \"#bd3786\"], [0.5555555555555556, \"#d8576b\"], [0.6666666666666666, \"#ed7953\"], [0.7777777777777778, \"#fb9f3a\"], [0.8888888888888888, \"#fdca26\"], [1.0, \"#f0f921\"]], \"type\": \"histogram2dcontour\"}], \"mesh3d\": [{\"colorbar\": {\"outlinewidth\": 0, \"ticks\": \"\"}, \"type\": \"mesh3d\"}], \"parcoords\": [{\"line\": {\"colorbar\": {\"outlinewidth\": 0, \"ticks\": \"\"}}, \"type\": \"parcoords\"}], \"scatter\": [{\"marker\": {\"colorbar\": {\"outlinewidth\": 0, \"ticks\": \"\"}}, \"type\": \"scatter\"}], \"scatter3d\": [{\"line\": {\"colorbar\": {\"outlinewidth\": 0, \"ticks\": \"\"}}, \"marker\": {\"colorbar\": {\"outlinewidth\": 0, \"ticks\": \"\"}}, \"type\": \"scatter3d\"}], \"scattercarpet\": [{\"marker\": {\"colorbar\": {\"outlinewidth\": 0, \"ticks\": \"\"}}, \"type\": \"scattercarpet\"}], \"scattergeo\": [{\"marker\": {\"colorbar\": {\"outlinewidth\": 0, \"ticks\": \"\"}}, \"type\": \"scattergeo\"}], \"scattergl\": [{\"marker\": {\"colorbar\": {\"outlinewidth\": 0, \"ticks\": \"\"}}, \"type\": \"scattergl\"}], \"scattermapbox\": [{\"marker\": {\"colorbar\": {\"outlinewidth\": 0, \"ticks\": \"\"}}, \"type\": \"scattermapbox\"}], \"scatterpolar\": [{\"marker\": {\"colorbar\": {\"outlinewidth\": 0, \"ticks\": \"\"}}, \"type\": \"scatterpolar\"}], \"scatterpolargl\": [{\"marker\": {\"colorbar\": {\"outlinewidth\": 0, \"ticks\": \"\"}}, \"type\": \"scatterpolargl\"}], \"scatterternary\": [{\"marker\": {\"colorbar\": {\"outlinewidth\": 0, \"ticks\": \"\"}}, \"type\": \"scatterternary\"}], \"surface\": [{\"colorbar\": {\"outlinewidth\": 0, \"ticks\": \"\"}, \"colorscale\": [[0.0, \"#0d0887\"], [0.1111111111111111, \"#46039f\"], [0.2222222222222222, \"#7201a8\"], [0.3333333333333333, \"#9c179e\"], [0.4444444444444444, \"#bd3786\"], [0.5555555555555556, \"#d8576b\"], [0.6666666666666666, \"#ed7953\"], [0.7777777777777778, \"#fb9f3a\"], [0.8888888888888888, \"#fdca26\"], [1.0, \"#f0f921\"]], \"type\": \"surface\"}], \"table\": [{\"cells\": {\"fill\": {\"color\": \"#EBF0F8\"}, \"line\": {\"color\": \"white\"}}, \"header\": {\"fill\": {\"color\": \"#C8D4E3\"}, \"line\": {\"color\": \"white\"}}, \"type\": \"table\"}]}, \"layout\": {\"annotationdefaults\": {\"arrowcolor\": \"#2a3f5f\", \"arrowhead\": 0, \"arrowwidth\": 1}, \"colorscale\": {\"diverging\": [[0, \"#8e0152\"], [0.1, \"#c51b7d\"], [0.2, \"#de77ae\"], [0.3, \"#f1b6da\"], [0.4, \"#fde0ef\"], [0.5, \"#f7f7f7\"], [0.6, \"#e6f5d0\"], [0.7, \"#b8e186\"], [0.8, \"#7fbc41\"], [0.9, \"#4d9221\"], [1, \"#276419\"]], \"sequential\": [[0.0, \"#0d0887\"], [0.1111111111111111, \"#46039f\"], [0.2222222222222222, \"#7201a8\"], [0.3333333333333333, \"#9c179e\"], [0.4444444444444444, \"#bd3786\"], [0.5555555555555556, \"#d8576b\"], [0.6666666666666666, \"#ed7953\"], [0.7777777777777778, \"#fb9f3a\"], [0.8888888888888888, \"#fdca26\"], [1.0, \"#f0f921\"]], \"sequentialminus\": [[0.0, \"#0d0887\"], [0.1111111111111111, \"#46039f\"], [0.2222222222222222, \"#7201a8\"], [0.3333333333333333, \"#9c179e\"], [0.4444444444444444, \"#bd3786\"], [0.5555555555555556, \"#d8576b\"], [0.6666666666666666, \"#ed7953\"], [0.7777777777777778, \"#fb9f3a\"], [0.8888888888888888, \"#fdca26\"], [1.0, \"#f0f921\"]]}, \"colorway\": [\"#636efa\", \"#EF553B\", \"#00cc96\", \"#ab63fa\", \"#FFA15A\", \"#19d3f3\", \"#FF6692\", \"#B6E880\", \"#FF97FF\", \"#FECB52\"], \"font\": {\"color\": \"#2a3f5f\"}, \"geo\": {\"bgcolor\": \"white\", \"lakecolor\": \"white\", \"landcolor\": \"#E5ECF6\", \"showlakes\": true, \"showland\": true, \"subunitcolor\": \"white\"}, \"hoverlabel\": {\"align\": \"left\"}, \"hovermode\": \"closest\", \"mapbox\": {\"style\": \"light\"}, \"paper_bgcolor\": \"white\", \"plot_bgcolor\": \"#E5ECF6\", \"polar\": {\"angularaxis\": {\"gridcolor\": \"white\", \"linecolor\": \"white\", \"ticks\": \"\"}, \"bgcolor\": \"#E5ECF6\", \"radialaxis\": {\"gridcolor\": \"white\", \"linecolor\": \"white\", \"ticks\": \"\"}}, \"scene\": {\"xaxis\": {\"backgroundcolor\": \"#E5ECF6\", \"gridcolor\": \"white\", \"gridwidth\": 2, \"linecolor\": \"white\", \"showbackground\": true, \"ticks\": \"\", \"zerolinecolor\": \"white\"}, \"yaxis\": {\"backgroundcolor\": \"#E5ECF6\", \"gridcolor\": \"white\", \"gridwidth\": 2, \"linecolor\": \"white\", \"showbackground\": true, \"ticks\": \"\", \"zerolinecolor\": \"white\"}, \"zaxis\": {\"backgroundcolor\": \"#E5ECF6\", \"gridcolor\": \"white\", \"gridwidth\": 2, \"linecolor\": \"white\", \"showbackground\": true, \"ticks\": \"\", \"zerolinecolor\": \"white\"}}, \"shapedefaults\": {\"line\": {\"color\": \"#2a3f5f\"}}, \"ternary\": {\"aaxis\": {\"gridcolor\": \"white\", \"linecolor\": \"white\", \"ticks\": \"\"}, \"baxis\": {\"gridcolor\": \"white\", \"linecolor\": \"white\", \"ticks\": \"\"}, \"bgcolor\": \"#E5ECF6\", \"caxis\": {\"gridcolor\": \"white\", \"linecolor\": \"white\", \"ticks\": \"\"}}, \"title\": {\"x\": 0.05}, \"xaxis\": {\"automargin\": true, \"gridcolor\": \"white\", \"linecolor\": \"white\", \"ticks\": \"\", \"zerolinecolor\": \"white\", \"zerolinewidth\": 2}, \"yaxis\": {\"automargin\": true, \"gridcolor\": \"white\", \"linecolor\": \"white\", \"ticks\": \"\", \"zerolinecolor\": \"white\", \"zerolinewidth\": 2}}}},\n",
              "                        {\"responsive\": true}\n",
              "                    ).then(function(){\n",
              "                            \n",
              "var gd = document.getElementById('607f8415-ef8e-4568-b493-7dd5c062d46a');\n",
              "var x = new MutationObserver(function (mutations, observer) {{\n",
              "        var display = window.getComputedStyle(gd).display;\n",
              "        if (!display || display === 'none') {{\n",
              "            console.log([gd, 'removed!']);\n",
              "            Plotly.purge(gd);\n",
              "            observer.disconnect();\n",
              "        }}\n",
              "}});\n",
              "\n",
              "// Listen for the removal of the full notebook cells\n",
              "var notebookContainer = gd.closest('#notebook-container');\n",
              "if (notebookContainer) {{\n",
              "    x.observe(notebookContainer, {childList: true});\n",
              "}}\n",
              "\n",
              "// Listen for the clearing of the current output cell\n",
              "var outputEl = gd.closest('.output');\n",
              "if (outputEl) {{\n",
              "    x.observe(outputEl, {childList: true});\n",
              "}}\n",
              "\n",
              "                        })\n",
              "                };\n",
              "                \n",
              "            </script>\n",
              "        </div>\n",
              "</body>\n",
              "</html>"
            ]
          },
          "metadata": {
            "tags": []
          }
        }
      ]
    },
    {
      "cell_type": "markdown",
      "metadata": {
        "id": "hF8hMIkFwXY8",
        "colab_type": "text"
      },
      "source": [
        "# **Conclusions**\n",
        "\n",
        "* On voit bien que Lasso \"ramène\" rapidement certains coefficients à 0 sans que ce mécanisme ne soit lié à la variance de chaque feature que la regression cherche à retrouver : le Lasso permet une sélection des variables prédictives.\n",
        "\n",
        "* Un feature qui a une forte variance ne sera pas systématiquement priorisé ou délaissé par les régressions, ce qui nous empêche de prévoir à l'avance quels features seront principalement considérés par notre régression.\n",
        "\n",
        "* Ridge, Lasso et ElasticNet permettent de contrôler les poids d'une régression linéaire tout en offrant une souplesse au niveau de cette régularisation grâce au paramètre $ \\alpha $.\n",
        "\n",
        "* Les régularisations permettent de résoudre le problème (ou du moins de réduire son importance) du sur-apprentissage : la différence entre le score train et celui du test se réduit plus $ \\alpha $ croît.\n",
        "\n",
        "* Le paramètre $ \\alpha $ optimal est trouvé par cross-validation sur chaque jeu de données."
      ]
    },
    {
      "cell_type": "code",
      "metadata": {
        "id": "9HAXNv6owjpi",
        "colab_type": "code",
        "colab": {}
      },
      "source": [
        ""
      ],
      "execution_count": 0,
      "outputs": []
    }
  ]
}